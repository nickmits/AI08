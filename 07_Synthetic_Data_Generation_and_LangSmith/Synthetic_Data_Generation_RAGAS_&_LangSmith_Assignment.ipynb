{
  "cells": [
    {
      "cell_type": "markdown",
      "metadata": {
        "id": "sCk2Rx4cjlYF"
      },
      "source": [
        "# Synthetic Data Generation Using RAGAS - RAG Evaluation with LangSmith\n",
        "\n",
        "In the following notebook we'll explore a use-case for RAGAS' synthetic testset generation workflow!\n",
        "\n",
        "\n",
        "\n",
        "- 🤝 BREAKOUT ROOM #1\n",
        "  1. Use RAGAS to Generate Synthetic Data\n",
        "\n",
        "- 🤝 BREAKOUT ROOM #2\n",
        "  1. Load them into a LangSmith Dataset\n",
        "  2. Evaluate our RAG chain against the synthetic test data\n",
        "  3. Make changes to our pipeline\n",
        "  4. Evaluate the modified pipeline\n",
        "\n",
        "SDG is a critical piece of the puzzle, especially for early iteration! Without it, it would not be nearly as easy to get high quality early signal for our application's performance.\n",
        "\n",
        "Let's dive in!"
      ]
    },
    {
      "cell_type": "markdown",
      "metadata": {
        "id": "5bG2ta-B478G"
      },
      "source": [
        "# 🤝 BREAKOUT ROOM #1"
      ]
    },
    {
      "cell_type": "markdown",
      "metadata": {
        "id": "7VUI7vF_kbv9"
      },
      "source": [
        "## Task 1: Dependencies and API Keys\n",
        "\n",
        "We'll need to install a number of API keys and dependencies, since we'll be leveraging a number of great technologies for this pipeline!\n",
        "\n",
        "1. OpenAI's endpoints to handle the Synthetic Data Generation\n",
        "2. OpenAI's Endpoints for our RAG pipeline and LangSmith evaluation\n",
        "3. QDrant as our vectorstore\n",
        "4. LangSmith for our evaluation coordinator!\n",
        "\n",
        "Let's install and provide all the required information below!"
      ]
    },
    {
      "cell_type": "markdown",
      "metadata": {},
      "source": [
        "## Dependencies and API Keys:"
      ]
    },
    {
      "cell_type": "markdown",
      "metadata": {},
      "source": [
        "### NLTK Import\n",
        "\n",
        "To prevent errors that may occur based on OS - we'll import NLTK and download the needed packages to ensure correct handling of data."
      ]
    },
    {
      "cell_type": "code",
      "execution_count": 8,
      "metadata": {},
      "outputs": [
        {
          "name": "stderr",
          "output_type": "stream",
          "text": [
            "[nltk_data] Downloading package punkt to\n",
            "[nltk_data]     C:\\Users\\nickm\\AppData\\Roaming\\nltk_data...\n",
            "[nltk_data]   Package punkt is already up-to-date!\n",
            "[nltk_data] Downloading package averaged_perceptron_tagger to\n",
            "[nltk_data]     C:\\Users\\nickm\\AppData\\Roaming\\nltk_data...\n",
            "[nltk_data]   Package averaged_perceptron_tagger is already up-to-\n",
            "[nltk_data]       date!\n"
          ]
        },
        {
          "data": {
            "text/plain": [
              "True"
            ]
          },
          "execution_count": 8,
          "metadata": {},
          "output_type": "execute_result"
        }
      ],
      "source": [
        "import nltk\n",
        "nltk.download('punkt')\n",
        "nltk.download('averaged_perceptron_tagger')"
      ]
    },
    {
      "cell_type": "code",
      "execution_count": 9,
      "metadata": {},
      "outputs": [],
      "source": [
        "import os\n",
        "import getpass\n",
        "\n",
        "os.environ[\"LANGCHAIN_TRACING_V2\"] = \"true\"\n",
        "os.environ[\"LANGCHAIN_API_KEY\"] = getpass.getpass(\"LangChain API Key:\")"
      ]
    },
    {
      "cell_type": "markdown",
      "metadata": {},
      "source": [
        "We'll also want to set a project name to make things easier for ourselves."
      ]
    },
    {
      "cell_type": "code",
      "execution_count": null,
      "metadata": {},
      "outputs": [],
      "source": [
        "from uuid import uuid4\n",
        "\n",
        "os.environ[\"LANGCHAIN_PROJECT\"] = f\"AIM - SDG - {uuid4().hex[0:8]}\""
      ]
    },
    {
      "cell_type": "markdown",
      "metadata": {},
      "source": [
        "OpenAI's API Key!"
      ]
    },
    {
      "cell_type": "code",
      "execution_count": 11,
      "metadata": {},
      "outputs": [],
      "source": [
        "os.environ[\"OPENAI_API_KEY\"] = getpass.getpass(\"OpenAI API Key:\")"
      ]
    },
    {
      "cell_type": "markdown",
      "metadata": {},
      "source": [
        "## Generating Synthetic Test Data\n",
        "\n",
        "We wil be using Ragas to build out a set of synthetic test questions, references, and reference contexts. This is useful because it will allow us to find out how our system is performing.\n",
        "\n",
        "> NOTE: Ragas is best suited for finding *directional* changes in your LLM-based systems. The absolute scores aren't comparable in a vacuum."
      ]
    },
    {
      "cell_type": "markdown",
      "metadata": {},
      "source": [
        "### Data Preparation\n",
        "\n",
        "We'll prepare our data - which should hopefull be familiar at this point since it's our Use-Case Data!"
      ]
    },
    {
      "cell_type": "markdown",
      "metadata": {},
      "source": [
        "Next, let's load our data into a familiar LangChain format using the `DirectoryLoader`."
      ]
    },
    {
      "cell_type": "code",
      "execution_count": 16,
      "metadata": {},
      "outputs": [],
      "source": [
        "from langchain_community.document_loaders import DirectoryLoader\n",
        "from langchain_community.document_loaders import PyMuPDFLoader\n",
        "\n",
        "\n",
        "path = \"data/\"\n",
        "loader = DirectoryLoader(path, glob=\"*.pdf\", loader_cls=PyMuPDFLoader)\n",
        "docs = loader.load()"
      ]
    },
    {
      "cell_type": "markdown",
      "metadata": {},
      "source": [
        "### Knowledge Graph Based Synthetic Generation\n",
        "\n",
        "Ragas uses a knowledge graph based approach to create data. This is extremely useful as it allows us to create complex queries rather simply. The additional testset complexity allows us to evaluate larger problems more effectively, as systems tend to be very strong on simple evaluation tasks.\n",
        "\n",
        "Let's start by defining our `generator_llm` (which will generate our questions, summaries, and more), and our `generator_embeddings` which will be useful in building our graph."
      ]
    },
    {
      "cell_type": "markdown",
      "metadata": {},
      "source": [
        "### Unrolled SDG"
      ]
    },
    {
      "cell_type": "code",
      "execution_count": 23,
      "metadata": {},
      "outputs": [],
      "source": [
        "from ragas.llms import LangchainLLMWrapper\n",
        "from ragas.embeddings import LangchainEmbeddingsWrapper\n",
        "from langchain_openai import ChatOpenAI\n",
        "from langchain_openai import OpenAIEmbeddings\n",
        "generator_llm = LangchainLLMWrapper(ChatOpenAI(model=\"gpt-4.1-nano\"))\n",
        "generator_embeddings = LangchainEmbeddingsWrapper(OpenAIEmbeddings())"
      ]
    },
    {
      "cell_type": "markdown",
      "metadata": {},
      "source": [
        "Next, we're going to instantiate our Knowledge Graph.\n",
        "\n",
        "This graph will contain N number of nodes that have M number of relationships. These nodes and relationships (AKA \"edges\") will define our knowledge graph and be used later to construct relevant questions and responses."
      ]
    },
    {
      "cell_type": "code",
      "execution_count": 7,
      "metadata": {},
      "outputs": [
        {
          "data": {
            "text/plain": [
              "KnowledgeGraph(nodes: 0, relationships: 0)"
            ]
          },
          "execution_count": 7,
          "metadata": {},
          "output_type": "execute_result"
        }
      ],
      "source": [
        "from ragas.testset.graph import KnowledgeGraph\n",
        "\n",
        "kg = KnowledgeGraph()\n",
        "kg"
      ]
    },
    {
      "cell_type": "markdown",
      "metadata": {},
      "source": [
        "The first step we're going to take is to simply insert each of our full documents into the graph. This will provide a base that we can apply transformations to."
      ]
    },
    {
      "cell_type": "code",
      "execution_count": 8,
      "metadata": {},
      "outputs": [
        {
          "data": {
            "text/plain": [
              "KnowledgeGraph(nodes: 64, relationships: 0)"
            ]
          },
          "execution_count": 8,
          "metadata": {},
          "output_type": "execute_result"
        }
      ],
      "source": [
        "from ragas.testset.graph import Node, NodeType\n",
        "\n",
        "### NOTICE: We're using a subset of the data for this example - this is to keep costs/time down.\n",
        "for doc in docs:\n",
        "    kg.nodes.append(\n",
        "        Node(\n",
        "            type=NodeType.DOCUMENT,\n",
        "            properties={\"page_content\": doc.page_content, \"document_metadata\": doc.metadata}\n",
        "        )\n",
        "    )\n",
        "kg"
      ]
    },
    {
      "cell_type": "markdown",
      "metadata": {},
      "source": [
        "Now, we'll apply the *default* transformations to our knowledge graph. This will take the nodes currently on the graph and transform them based on a set of [default transformations](https://docs.ragas.io/en/latest/references/transforms/#ragas.testset.transforms.default_transforms).\n",
        "\n",
        "These default transformations are dependent on the corpus length, in our case:\n",
        "\n",
        "- Producing Summaries -> produces summaries of the documents\n",
        "- Extracting Headlines -> finding the overall headline for the document\n",
        "- Theme Extractor -> extracts broad themes about the documents\n",
        "\n",
        "It then uses cosine-similarity and heuristics between the embeddings of the above transformations to construct relationships between the nodes."
      ]
    },
    {
      "cell_type": "code",
      "execution_count": 12,
      "metadata": {},
      "outputs": [
        {
          "data": {
            "application/vnd.jupyter.widget-view+json": {
              "model_id": "37309298c9844e77a07702ec1b8925a6",
              "version_major": 2,
              "version_minor": 0
            },
            "text/plain": [
              "Applying HeadlinesExtractor:   0%|          | 0/21 [00:00<?, ?it/s]"
            ]
          },
          "metadata": {},
          "output_type": "display_data"
        },
        {
          "data": {
            "application/vnd.jupyter.widget-view+json": {
              "model_id": "b65b776883b14ea9ab09e148d6048404",
              "version_major": 2,
              "version_minor": 0
            },
            "text/plain": [
              "Applying HeadlineSplitter:   0%|          | 0/64 [00:00<?, ?it/s]"
            ]
          },
          "metadata": {},
          "output_type": "display_data"
        },
        {
          "name": "stderr",
          "output_type": "stream",
          "text": [
            "unable to apply transformation: 'headlines' property not found in this node\n",
            "unable to apply transformation: 'headlines' property not found in this node\n",
            "unable to apply transformation: 'headlines' property not found in this node\n",
            "unable to apply transformation: 'headlines' property not found in this node\n",
            "unable to apply transformation: 'headlines' property not found in this node\n",
            "unable to apply transformation: 'headlines' property not found in this node\n",
            "unable to apply transformation: 'headlines' property not found in this node\n",
            "unable to apply transformation: 'headlines' property not found in this node\n",
            "unable to apply transformation: 'headlines' property not found in this node\n",
            "unable to apply transformation: 'headlines' property not found in this node\n",
            "unable to apply transformation: 'headlines' property not found in this node\n",
            "unable to apply transformation: 'headlines' property not found in this node\n",
            "unable to apply transformation: 'headlines' property not found in this node\n",
            "unable to apply transformation: 'headlines' property not found in this node\n",
            "unable to apply transformation: 'headlines' property not found in this node\n",
            "unable to apply transformation: 'headlines' property not found in this node\n",
            "unable to apply transformation: 'headlines' property not found in this node\n",
            "unable to apply transformation: 'headlines' property not found in this node\n",
            "unable to apply transformation: 'headlines' property not found in this node\n",
            "unable to apply transformation: 'headlines' property not found in this node\n",
            "unable to apply transformation: 'headlines' property not found in this node\n",
            "unable to apply transformation: 'headlines' property not found in this node\n",
            "unable to apply transformation: 'headlines' property not found in this node\n",
            "unable to apply transformation: 'headlines' property not found in this node\n",
            "unable to apply transformation: 'headlines' property not found in this node\n",
            "unable to apply transformation: 'headlines' property not found in this node\n",
            "unable to apply transformation: 'headlines' property not found in this node\n",
            "unable to apply transformation: 'headlines' property not found in this node\n",
            "unable to apply transformation: 'headlines' property not found in this node\n",
            "unable to apply transformation: 'headlines' property not found in this node\n",
            "unable to apply transformation: 'headlines' property not found in this node\n",
            "unable to apply transformation: 'headlines' property not found in this node\n",
            "unable to apply transformation: 'headlines' property not found in this node\n",
            "unable to apply transformation: 'headlines' property not found in this node\n",
            "unable to apply transformation: 'headlines' property not found in this node\n",
            "unable to apply transformation: 'headlines' property not found in this node\n",
            "unable to apply transformation: 'headlines' property not found in this node\n",
            "unable to apply transformation: 'headlines' property not found in this node\n",
            "unable to apply transformation: 'headlines' property not found in this node\n",
            "unable to apply transformation: 'headlines' property not found in this node\n",
            "unable to apply transformation: 'headlines' property not found in this node\n",
            "unable to apply transformation: 'headlines' property not found in this node\n",
            "unable to apply transformation: 'headlines' property not found in this node\n"
          ]
        },
        {
          "data": {
            "application/vnd.jupyter.widget-view+json": {
              "model_id": "4f53b24f3732403fae957190543c0854",
              "version_major": 2,
              "version_minor": 0
            },
            "text/plain": [
              "Applying SummaryExtractor:   0%|          | 0/38 [00:00<?, ?it/s]"
            ]
          },
          "metadata": {},
          "output_type": "display_data"
        },
        {
          "name": "stderr",
          "output_type": "stream",
          "text": [
            "Property 'summary' already exists in node '4f71d4'. Skipping!\n",
            "Property 'summary' already exists in node '005f7c'. Skipping!\n",
            "Property 'summary' already exists in node '5ea5d8'. Skipping!\n",
            "Property 'summary' already exists in node 'ac71c5'. Skipping!\n",
            "Property 'summary' already exists in node '9223a0'. Skipping!\n",
            "Property 'summary' already exists in node 'a1d427'. Skipping!\n",
            "Property 'summary' already exists in node '4b4c2c'. Skipping!\n",
            "Property 'summary' already exists in node '35801f'. Skipping!\n",
            "Property 'summary' already exists in node '9698cd'. Skipping!\n",
            "Property 'summary' already exists in node 'e5c4a3'. Skipping!\n",
            "Property 'summary' already exists in node 'adca2e'. Skipping!\n",
            "Property 'summary' already exists in node 'e23314'. Skipping!\n",
            "Property 'summary' already exists in node '586e3d'. Skipping!\n",
            "Property 'summary' already exists in node '7a8b89'. Skipping!\n",
            "Property 'summary' already exists in node '810c0e'. Skipping!\n",
            "Property 'summary' already exists in node '3fd5bb'. Skipping!\n",
            "Property 'summary' already exists in node '7349ad'. Skipping!\n"
          ]
        },
        {
          "data": {
            "application/vnd.jupyter.widget-view+json": {
              "model_id": "77dc47799bb64cd3b41643b139452324",
              "version_major": 2,
              "version_minor": 0
            },
            "text/plain": [
              "Applying CustomNodeFilter:   0%|          | 0/8 [00:00<?, ?it/s]"
            ]
          },
          "metadata": {},
          "output_type": "display_data"
        },
        {
          "data": {
            "application/vnd.jupyter.widget-view+json": {
              "model_id": "9a22b269794f4af1a73e3bd329555874",
              "version_major": 2,
              "version_minor": 0
            },
            "text/plain": [
              "Applying [EmbeddingExtractor, ThemesExtractor, NERExtractor]:   0%|          | 0/48 [00:00<?, ?it/s]"
            ]
          },
          "metadata": {},
          "output_type": "display_data"
        },
        {
          "name": "stderr",
          "output_type": "stream",
          "text": [
            "Property 'summary_embedding' already exists in node '4f71d4'. Skipping!\n",
            "Property 'summary_embedding' already exists in node '4b4c2c'. Skipping!\n",
            "Property 'summary_embedding' already exists in node '9223a0'. Skipping!\n",
            "Property 'summary_embedding' already exists in node 'a1d427'. Skipping!\n",
            "Property 'summary_embedding' already exists in node '005f7c'. Skipping!\n",
            "Property 'summary_embedding' already exists in node 'ac71c5'. Skipping!\n",
            "Property 'summary_embedding' already exists in node 'e5c4a3'. Skipping!\n",
            "Property 'summary_embedding' already exists in node '5ea5d8'. Skipping!\n",
            "Property 'summary_embedding' already exists in node '810c0e'. Skipping!\n",
            "Property 'summary_embedding' already exists in node 'e23314'. Skipping!\n",
            "Property 'summary_embedding' already exists in node '35801f'. Skipping!\n",
            "Property 'summary_embedding' already exists in node 'adca2e'. Skipping!\n",
            "Property 'summary_embedding' already exists in node '586e3d'. Skipping!\n",
            "Property 'summary_embedding' already exists in node '9698cd'. Skipping!\n",
            "Property 'summary_embedding' already exists in node '7349ad'. Skipping!\n",
            "Property 'summary_embedding' already exists in node '3fd5bb'. Skipping!\n",
            "Property 'summary_embedding' already exists in node '7a8b89'. Skipping!\n"
          ]
        },
        {
          "data": {
            "application/vnd.jupyter.widget-view+json": {
              "model_id": "2bf38cbc8df64b61860e104b5adf89dc",
              "version_major": 2,
              "version_minor": 0
            },
            "text/plain": [
              "Applying [CosineSimilarityBuilder, OverlapScoreBuilder]:   0%|          | 0/2 [00:00<?, ?it/s]"
            ]
          },
          "metadata": {},
          "output_type": "display_data"
        },
        {
          "data": {
            "text/plain": [
              "KnowledgeGraph(nodes: 86, relationships: 711)"
            ]
          },
          "execution_count": 12,
          "metadata": {},
          "output_type": "execute_result"
        }
      ],
      "source": [
        "from ragas.testset.transforms import default_transforms, apply_transforms\n",
        "\n",
        "transformer_llm = generator_llm\n",
        "embedding_model = generator_embeddings\n",
        "\n",
        "default_transforms = default_transforms(documents=docs, llm=transformer_llm, embedding_model=embedding_model)\n",
        "apply_transforms(kg, default_transforms)\n",
        "kg"
      ]
    },
    {
      "cell_type": "markdown",
      "metadata": {},
      "source": [
        "We can save and load our knowledge graphs as follows."
      ]
    },
    {
      "cell_type": "code",
      "execution_count": 17,
      "metadata": {},
      "outputs": [
        {
          "name": "stdout",
          "output_type": "stream",
          "text": [
            "[Relationship(Node(id: 9d80e4) -> Node(id: 23a427), type: child, properties: []), Relationship(Node(id: 18ae4c) -> Node(id: df233b), type: child, properties: []), Relationship(Node(id: 18ae4c) -> Node(id: 28e797), type: child, properties: []), Relationship(Node(id: df233b) -> Node(id: 28e797), type: next, properties: []), Relationship(Node(id: f28b90) -> Node(id: af1efb), type: child, properties: []), Relationship(Node(id: 58f476) -> Node(id: abd569), type: child, properties: []), Relationship(Node(id: 9d80e4) <-> Node(id: 18ae4c), type: cosine_similarity, properties: ['summary_similarity']), Relationship(Node(id: 9d80e4) <-> Node(id: 4f71d4), type: cosine_similarity, properties: ['summary_similarity']), Relationship(Node(id: 9d80e4) <-> Node(id: 4b4c2c), type: cosine_similarity, properties: ['summary_similarity']), Relationship(Node(id: 9d80e4) <-> Node(id: 9223a0), type: cosine_similarity, properties: ['summary_similarity']), Relationship(Node(id: 9d80e4) <-> Node(id: a1d427), type: cosine_similarity, properties: ['summary_similarity']), Relationship(Node(id: 9d80e4) <-> Node(id: 005f7c), type: cosine_similarity, properties: ['summary_similarity']), Relationship(Node(id: 9d80e4) <-> Node(id: ac71c5), type: cosine_similarity, properties: ['summary_similarity']), Relationship(Node(id: 9d80e4) <-> Node(id: e5c4a3), type: cosine_similarity, properties: ['summary_similarity']), Relationship(Node(id: 9d80e4) <-> Node(id: 5ea5d8), type: cosine_similarity, properties: ['summary_similarity']), Relationship(Node(id: 9d80e4) <-> Node(id: 810c0e), type: cosine_similarity, properties: ['summary_similarity']), Relationship(Node(id: 9d80e4) <-> Node(id: f28b90), type: cosine_similarity, properties: ['summary_similarity']), Relationship(Node(id: 9d80e4) <-> Node(id: e23314), type: cosine_similarity, properties: ['summary_similarity']), Relationship(Node(id: 9d80e4) <-> Node(id: 58f476), type: cosine_similarity, properties: ['summary_similarity']), Relationship(Node(id: 9d80e4) <-> Node(id: 35801f), type: cosine_similarity, properties: ['summary_similarity']), Relationship(Node(id: 9d80e4) <-> Node(id: adca2e), type: cosine_similarity, properties: ['summary_similarity']), Relationship(Node(id: 9d80e4) <-> Node(id: 586e3d), type: cosine_similarity, properties: ['summary_similarity']), Relationship(Node(id: 9d80e4) <-> Node(id: 9698cd), type: cosine_similarity, properties: ['summary_similarity']), Relationship(Node(id: 9d80e4) <-> Node(id: 7349ad), type: cosine_similarity, properties: ['summary_similarity']), Relationship(Node(id: 9d80e4) <-> Node(id: 3fd5bb), type: cosine_similarity, properties: ['summary_similarity']), Relationship(Node(id: 9d80e4) <-> Node(id: 7a8b89), type: cosine_similarity, properties: ['summary_similarity']), Relationship(Node(id: 9d80e4) <-> Node(id: 4f71d4), type: cosine_similarity, properties: ['summary_similarity']), Relationship(Node(id: 9d80e4) <-> Node(id: 4b4c2c), type: cosine_similarity, properties: ['summary_similarity']), Relationship(Node(id: 9d80e4) <-> Node(id: 9223a0), type: cosine_similarity, properties: ['summary_similarity']), Relationship(Node(id: 9d80e4) <-> Node(id: a1d427), type: cosine_similarity, properties: ['summary_similarity']), Relationship(Node(id: 9d80e4) <-> Node(id: 005f7c), type: cosine_similarity, properties: ['summary_similarity']), Relationship(Node(id: 9d80e4) <-> Node(id: ac71c5), type: cosine_similarity, properties: ['summary_similarity']), Relationship(Node(id: 9d80e4) <-> Node(id: e5c4a3), type: cosine_similarity, properties: ['summary_similarity']), Relationship(Node(id: 9d80e4) <-> Node(id: 5ea5d8), type: cosine_similarity, properties: ['summary_similarity']), Relationship(Node(id: 9d80e4) <-> Node(id: 810c0e), type: cosine_similarity, properties: ['summary_similarity']), Relationship(Node(id: 9d80e4) <-> Node(id: e23314), type: cosine_similarity, properties: ['summary_similarity']), Relationship(Node(id: 9d80e4) <-> Node(id: 35801f), type: cosine_similarity, properties: ['summary_similarity']), Relationship(Node(id: 9d80e4) <-> Node(id: adca2e), type: cosine_similarity, properties: ['summary_similarity']), Relationship(Node(id: 9d80e4) <-> Node(id: 586e3d), type: cosine_similarity, properties: ['summary_similarity']), Relationship(Node(id: 9d80e4) <-> Node(id: 9698cd), type: cosine_similarity, properties: ['summary_similarity']), Relationship(Node(id: 9d80e4) <-> Node(id: 7349ad), type: cosine_similarity, properties: ['summary_similarity']), Relationship(Node(id: 9d80e4) <-> Node(id: 3fd5bb), type: cosine_similarity, properties: ['summary_similarity']), Relationship(Node(id: 9d80e4) <-> Node(id: 7a8b89), type: cosine_similarity, properties: ['summary_similarity']), Relationship(Node(id: 18ae4c) <-> Node(id: 4f71d4), type: cosine_similarity, properties: ['summary_similarity']), Relationship(Node(id: 18ae4c) <-> Node(id: 4b4c2c), type: cosine_similarity, properties: ['summary_similarity']), Relationship(Node(id: 18ae4c) <-> Node(id: 9223a0), type: cosine_similarity, properties: ['summary_similarity']), Relationship(Node(id: 18ae4c) <-> Node(id: a1d427), type: cosine_similarity, properties: ['summary_similarity']), Relationship(Node(id: 18ae4c) <-> Node(id: 005f7c), type: cosine_similarity, properties: ['summary_similarity']), Relationship(Node(id: 18ae4c) <-> Node(id: ac71c5), type: cosine_similarity, properties: ['summary_similarity']), Relationship(Node(id: 18ae4c) <-> Node(id: e5c4a3), type: cosine_similarity, properties: ['summary_similarity']), Relationship(Node(id: 18ae4c) <-> Node(id: 5ea5d8), type: cosine_similarity, properties: ['summary_similarity']), Relationship(Node(id: 18ae4c) <-> Node(id: 810c0e), type: cosine_similarity, properties: ['summary_similarity']), Relationship(Node(id: 18ae4c) <-> Node(id: f28b90), type: cosine_similarity, properties: ['summary_similarity']), Relationship(Node(id: 18ae4c) <-> Node(id: e23314), type: cosine_similarity, properties: ['summary_similarity']), Relationship(Node(id: 18ae4c) <-> Node(id: 58f476), type: cosine_similarity, properties: ['summary_similarity']), Relationship(Node(id: 18ae4c) <-> Node(id: 35801f), type: cosine_similarity, properties: ['summary_similarity']), Relationship(Node(id: 18ae4c) <-> Node(id: adca2e), type: cosine_similarity, properties: ['summary_similarity']), Relationship(Node(id: 18ae4c) <-> Node(id: 586e3d), type: cosine_similarity, properties: ['summary_similarity']), Relationship(Node(id: 18ae4c) <-> Node(id: 9698cd), type: cosine_similarity, properties: ['summary_similarity']), Relationship(Node(id: 18ae4c) <-> Node(id: 7349ad), type: cosine_similarity, properties: ['summary_similarity']), Relationship(Node(id: 18ae4c) <-> Node(id: 3fd5bb), type: cosine_similarity, properties: ['summary_similarity']), Relationship(Node(id: 18ae4c) <-> Node(id: 7a8b89), type: cosine_similarity, properties: ['summary_similarity']), Relationship(Node(id: 18ae4c) <-> Node(id: 4f71d4), type: cosine_similarity, properties: ['summary_similarity']), Relationship(Node(id: 18ae4c) <-> Node(id: 4b4c2c), type: cosine_similarity, properties: ['summary_similarity']), Relationship(Node(id: 18ae4c) <-> Node(id: 9223a0), type: cosine_similarity, properties: ['summary_similarity']), Relationship(Node(id: 18ae4c) <-> Node(id: a1d427), type: cosine_similarity, properties: ['summary_similarity']), Relationship(Node(id: 18ae4c) <-> Node(id: 005f7c), type: cosine_similarity, properties: ['summary_similarity']), Relationship(Node(id: 18ae4c) <-> Node(id: ac71c5), type: cosine_similarity, properties: ['summary_similarity']), Relationship(Node(id: 18ae4c) <-> Node(id: e5c4a3), type: cosine_similarity, properties: ['summary_similarity']), Relationship(Node(id: 18ae4c) <-> Node(id: 5ea5d8), type: cosine_similarity, properties: ['summary_similarity']), Relationship(Node(id: 18ae4c) <-> Node(id: 810c0e), type: cosine_similarity, properties: ['summary_similarity']), Relationship(Node(id: 18ae4c) <-> Node(id: e23314), type: cosine_similarity, properties: ['summary_similarity']), Relationship(Node(id: 18ae4c) <-> Node(id: 35801f), type: cosine_similarity, properties: ['summary_similarity']), Relationship(Node(id: 18ae4c) <-> Node(id: adca2e), type: cosine_similarity, properties: ['summary_similarity']), Relationship(Node(id: 18ae4c) <-> Node(id: 586e3d), type: cosine_similarity, properties: ['summary_similarity']), Relationship(Node(id: 18ae4c) <-> Node(id: 9698cd), type: cosine_similarity, properties: ['summary_similarity']), Relationship(Node(id: 18ae4c) <-> Node(id: 7349ad), type: cosine_similarity, properties: ['summary_similarity']), Relationship(Node(id: 18ae4c) <-> Node(id: 3fd5bb), type: cosine_similarity, properties: ['summary_similarity']), Relationship(Node(id: 18ae4c) <-> Node(id: 7a8b89), type: cosine_similarity, properties: ['summary_similarity']), Relationship(Node(id: 4f71d4) <-> Node(id: 4b4c2c), type: cosine_similarity, properties: ['summary_similarity']), Relationship(Node(id: 4f71d4) <-> Node(id: 9223a0), type: cosine_similarity, properties: ['summary_similarity']), Relationship(Node(id: 4f71d4) <-> Node(id: a1d427), type: cosine_similarity, properties: ['summary_similarity']), Relationship(Node(id: 4f71d4) <-> Node(id: 005f7c), type: cosine_similarity, properties: ['summary_similarity']), Relationship(Node(id: 4f71d4) <-> Node(id: ac71c5), type: cosine_similarity, properties: ['summary_similarity']), Relationship(Node(id: 4f71d4) <-> Node(id: e5c4a3), type: cosine_similarity, properties: ['summary_similarity']), Relationship(Node(id: 4f71d4) <-> Node(id: 5ea5d8), type: cosine_similarity, properties: ['summary_similarity']), Relationship(Node(id: 4f71d4) <-> Node(id: 810c0e), type: cosine_similarity, properties: ['summary_similarity']), Relationship(Node(id: 4f71d4) <-> Node(id: f28b90), type: cosine_similarity, properties: ['summary_similarity']), Relationship(Node(id: 4f71d4) <-> Node(id: e23314), type: cosine_similarity, properties: ['summary_similarity']), Relationship(Node(id: 4f71d4) <-> Node(id: 58f476), type: cosine_similarity, properties: ['summary_similarity']), Relationship(Node(id: 4f71d4) <-> Node(id: 35801f), type: cosine_similarity, properties: ['summary_similarity']), Relationship(Node(id: 4f71d4) <-> Node(id: adca2e), type: cosine_similarity, properties: ['summary_similarity']), Relationship(Node(id: 4f71d4) <-> Node(id: 586e3d), type: cosine_similarity, properties: ['summary_similarity']), Relationship(Node(id: 4f71d4) <-> Node(id: 9698cd), type: cosine_similarity, properties: ['summary_similarity']), Relationship(Node(id: 4f71d4) <-> Node(id: 7349ad), type: cosine_similarity, properties: ['summary_similarity']), Relationship(Node(id: 4f71d4) <-> Node(id: 3fd5bb), type: cosine_similarity, properties: ['summary_similarity']), Relationship(Node(id: 4f71d4) <-> Node(id: 7a8b89), type: cosine_similarity, properties: ['summary_similarity']), Relationship(Node(id: 4f71d4) <-> Node(id: 4f71d4), type: cosine_similarity, properties: ['summary_similarity']), Relationship(Node(id: 4f71d4) <-> Node(id: 4b4c2c), type: cosine_similarity, properties: ['summary_similarity']), Relationship(Node(id: 4f71d4) <-> Node(id: 9223a0), type: cosine_similarity, properties: ['summary_similarity']), Relationship(Node(id: 4f71d4) <-> Node(id: a1d427), type: cosine_similarity, properties: ['summary_similarity']), Relationship(Node(id: 4f71d4) <-> Node(id: 005f7c), type: cosine_similarity, properties: ['summary_similarity']), Relationship(Node(id: 4f71d4) <-> Node(id: ac71c5), type: cosine_similarity, properties: ['summary_similarity']), Relationship(Node(id: 4f71d4) <-> Node(id: e5c4a3), type: cosine_similarity, properties: ['summary_similarity']), Relationship(Node(id: 4f71d4) <-> Node(id: 5ea5d8), type: cosine_similarity, properties: ['summary_similarity']), Relationship(Node(id: 4f71d4) <-> Node(id: 810c0e), type: cosine_similarity, properties: ['summary_similarity']), Relationship(Node(id: 4f71d4) <-> Node(id: e23314), type: cosine_similarity, properties: ['summary_similarity']), Relationship(Node(id: 4f71d4) <-> Node(id: 35801f), type: cosine_similarity, properties: ['summary_similarity']), Relationship(Node(id: 4f71d4) <-> Node(id: adca2e), type: cosine_similarity, properties: ['summary_similarity']), Relationship(Node(id: 4f71d4) <-> Node(id: 586e3d), type: cosine_similarity, properties: ['summary_similarity']), Relationship(Node(id: 4f71d4) <-> Node(id: 9698cd), type: cosine_similarity, properties: ['summary_similarity']), Relationship(Node(id: 4f71d4) <-> Node(id: 7349ad), type: cosine_similarity, properties: ['summary_similarity']), Relationship(Node(id: 4f71d4) <-> Node(id: 3fd5bb), type: cosine_similarity, properties: ['summary_similarity']), Relationship(Node(id: 4f71d4) <-> Node(id: 7a8b89), type: cosine_similarity, properties: ['summary_similarity']), Relationship(Node(id: 4b4c2c) <-> Node(id: 9223a0), type: cosine_similarity, properties: ['summary_similarity']), Relationship(Node(id: 4b4c2c) <-> Node(id: a1d427), type: cosine_similarity, properties: ['summary_similarity']), Relationship(Node(id: 4b4c2c) <-> Node(id: 005f7c), type: cosine_similarity, properties: ['summary_similarity']), Relationship(Node(id: 4b4c2c) <-> Node(id: ac71c5), type: cosine_similarity, properties: ['summary_similarity']), Relationship(Node(id: 4b4c2c) <-> Node(id: e5c4a3), type: cosine_similarity, properties: ['summary_similarity']), Relationship(Node(id: 4b4c2c) <-> Node(id: 5ea5d8), type: cosine_similarity, properties: ['summary_similarity']), Relationship(Node(id: 4b4c2c) <-> Node(id: 810c0e), type: cosine_similarity, properties: ['summary_similarity']), Relationship(Node(id: 4b4c2c) <-> Node(id: f28b90), type: cosine_similarity, properties: ['summary_similarity']), Relationship(Node(id: 4b4c2c) <-> Node(id: e23314), type: cosine_similarity, properties: ['summary_similarity']), Relationship(Node(id: 4b4c2c) <-> Node(id: 58f476), type: cosine_similarity, properties: ['summary_similarity']), Relationship(Node(id: 4b4c2c) <-> Node(id: 35801f), type: cosine_similarity, properties: ['summary_similarity']), Relationship(Node(id: 4b4c2c) <-> Node(id: adca2e), type: cosine_similarity, properties: ['summary_similarity']), Relationship(Node(id: 4b4c2c) <-> Node(id: 586e3d), type: cosine_similarity, properties: ['summary_similarity']), Relationship(Node(id: 4b4c2c) <-> Node(id: 9698cd), type: cosine_similarity, properties: ['summary_similarity']), Relationship(Node(id: 4b4c2c) <-> Node(id: 7349ad), type: cosine_similarity, properties: ['summary_similarity']), Relationship(Node(id: 4b4c2c) <-> Node(id: 3fd5bb), type: cosine_similarity, properties: ['summary_similarity']), Relationship(Node(id: 4b4c2c) <-> Node(id: 7a8b89), type: cosine_similarity, properties: ['summary_similarity']), Relationship(Node(id: 4b4c2c) <-> Node(id: 4f71d4), type: cosine_similarity, properties: ['summary_similarity']), Relationship(Node(id: 4b4c2c) <-> Node(id: 4b4c2c), type: cosine_similarity, properties: ['summary_similarity']), Relationship(Node(id: 4b4c2c) <-> Node(id: 9223a0), type: cosine_similarity, properties: ['summary_similarity']), Relationship(Node(id: 4b4c2c) <-> Node(id: a1d427), type: cosine_similarity, properties: ['summary_similarity']), Relationship(Node(id: 4b4c2c) <-> Node(id: 005f7c), type: cosine_similarity, properties: ['summary_similarity']), Relationship(Node(id: 4b4c2c) <-> Node(id: ac71c5), type: cosine_similarity, properties: ['summary_similarity']), Relationship(Node(id: 4b4c2c) <-> Node(id: e5c4a3), type: cosine_similarity, properties: ['summary_similarity']), Relationship(Node(id: 4b4c2c) <-> Node(id: 5ea5d8), type: cosine_similarity, properties: ['summary_similarity']), Relationship(Node(id: 4b4c2c) <-> Node(id: 810c0e), type: cosine_similarity, properties: ['summary_similarity']), Relationship(Node(id: 4b4c2c) <-> Node(id: e23314), type: cosine_similarity, properties: ['summary_similarity']), Relationship(Node(id: 4b4c2c) <-> Node(id: 35801f), type: cosine_similarity, properties: ['summary_similarity']), Relationship(Node(id: 4b4c2c) <-> Node(id: adca2e), type: cosine_similarity, properties: ['summary_similarity']), Relationship(Node(id: 4b4c2c) <-> Node(id: 586e3d), type: cosine_similarity, properties: ['summary_similarity']), Relationship(Node(id: 4b4c2c) <-> Node(id: 9698cd), type: cosine_similarity, properties: ['summary_similarity']), Relationship(Node(id: 4b4c2c) <-> Node(id: 7349ad), type: cosine_similarity, properties: ['summary_similarity']), Relationship(Node(id: 4b4c2c) <-> Node(id: 3fd5bb), type: cosine_similarity, properties: ['summary_similarity']), Relationship(Node(id: 4b4c2c) <-> Node(id: 7a8b89), type: cosine_similarity, properties: ['summary_similarity']), Relationship(Node(id: 9223a0) <-> Node(id: a1d427), type: cosine_similarity, properties: ['summary_similarity']), Relationship(Node(id: 9223a0) <-> Node(id: 005f7c), type: cosine_similarity, properties: ['summary_similarity']), Relationship(Node(id: 9223a0) <-> Node(id: ac71c5), type: cosine_similarity, properties: ['summary_similarity']), Relationship(Node(id: 9223a0) <-> Node(id: e5c4a3), type: cosine_similarity, properties: ['summary_similarity']), Relationship(Node(id: 9223a0) <-> Node(id: 5ea5d8), type: cosine_similarity, properties: ['summary_similarity']), Relationship(Node(id: 9223a0) <-> Node(id: 810c0e), type: cosine_similarity, properties: ['summary_similarity']), Relationship(Node(id: 9223a0) <-> Node(id: f28b90), type: cosine_similarity, properties: ['summary_similarity']), Relationship(Node(id: 9223a0) <-> Node(id: e23314), type: cosine_similarity, properties: ['summary_similarity']), Relationship(Node(id: 9223a0) <-> Node(id: 58f476), type: cosine_similarity, properties: ['summary_similarity']), Relationship(Node(id: 9223a0) <-> Node(id: 35801f), type: cosine_similarity, properties: ['summary_similarity']), Relationship(Node(id: 9223a0) <-> Node(id: adca2e), type: cosine_similarity, properties: ['summary_similarity']), Relationship(Node(id: 9223a0) <-> Node(id: 586e3d), type: cosine_similarity, properties: ['summary_similarity']), Relationship(Node(id: 9223a0) <-> Node(id: 9698cd), type: cosine_similarity, properties: ['summary_similarity']), Relationship(Node(id: 9223a0) <-> Node(id: 7349ad), type: cosine_similarity, properties: ['summary_similarity']), Relationship(Node(id: 9223a0) <-> Node(id: 3fd5bb), type: cosine_similarity, properties: ['summary_similarity']), Relationship(Node(id: 9223a0) <-> Node(id: 7a8b89), type: cosine_similarity, properties: ['summary_similarity']), Relationship(Node(id: 9223a0) <-> Node(id: 4f71d4), type: cosine_similarity, properties: ['summary_similarity']), Relationship(Node(id: 9223a0) <-> Node(id: 4b4c2c), type: cosine_similarity, properties: ['summary_similarity']), Relationship(Node(id: 9223a0) <-> Node(id: 9223a0), type: cosine_similarity, properties: ['summary_similarity']), Relationship(Node(id: 9223a0) <-> Node(id: a1d427), type: cosine_similarity, properties: ['summary_similarity']), Relationship(Node(id: 9223a0) <-> Node(id: 005f7c), type: cosine_similarity, properties: ['summary_similarity']), Relationship(Node(id: 9223a0) <-> Node(id: ac71c5), type: cosine_similarity, properties: ['summary_similarity']), Relationship(Node(id: 9223a0) <-> Node(id: e5c4a3), type: cosine_similarity, properties: ['summary_similarity']), Relationship(Node(id: 9223a0) <-> Node(id: 5ea5d8), type: cosine_similarity, properties: ['summary_similarity']), Relationship(Node(id: 9223a0) <-> Node(id: 810c0e), type: cosine_similarity, properties: ['summary_similarity']), Relationship(Node(id: 9223a0) <-> Node(id: e23314), type: cosine_similarity, properties: ['summary_similarity']), Relationship(Node(id: 9223a0) <-> Node(id: 35801f), type: cosine_similarity, properties: ['summary_similarity']), Relationship(Node(id: 9223a0) <-> Node(id: adca2e), type: cosine_similarity, properties: ['summary_similarity']), Relationship(Node(id: 9223a0) <-> Node(id: 586e3d), type: cosine_similarity, properties: ['summary_similarity']), Relationship(Node(id: 9223a0) <-> Node(id: 9698cd), type: cosine_similarity, properties: ['summary_similarity']), Relationship(Node(id: 9223a0) <-> Node(id: 7349ad), type: cosine_similarity, properties: ['summary_similarity']), Relationship(Node(id: 9223a0) <-> Node(id: 3fd5bb), type: cosine_similarity, properties: ['summary_similarity']), Relationship(Node(id: 9223a0) <-> Node(id: 7a8b89), type: cosine_similarity, properties: ['summary_similarity']), Relationship(Node(id: a1d427) <-> Node(id: 005f7c), type: cosine_similarity, properties: ['summary_similarity']), Relationship(Node(id: a1d427) <-> Node(id: ac71c5), type: cosine_similarity, properties: ['summary_similarity']), Relationship(Node(id: a1d427) <-> Node(id: e5c4a3), type: cosine_similarity, properties: ['summary_similarity']), Relationship(Node(id: a1d427) <-> Node(id: 5ea5d8), type: cosine_similarity, properties: ['summary_similarity']), Relationship(Node(id: a1d427) <-> Node(id: 810c0e), type: cosine_similarity, properties: ['summary_similarity']), Relationship(Node(id: a1d427) <-> Node(id: f28b90), type: cosine_similarity, properties: ['summary_similarity']), Relationship(Node(id: a1d427) <-> Node(id: e23314), type: cosine_similarity, properties: ['summary_similarity']), Relationship(Node(id: a1d427) <-> Node(id: 58f476), type: cosine_similarity, properties: ['summary_similarity']), Relationship(Node(id: a1d427) <-> Node(id: 35801f), type: cosine_similarity, properties: ['summary_similarity']), Relationship(Node(id: a1d427) <-> Node(id: adca2e), type: cosine_similarity, properties: ['summary_similarity']), Relationship(Node(id: a1d427) <-> Node(id: 586e3d), type: cosine_similarity, properties: ['summary_similarity']), Relationship(Node(id: a1d427) <-> Node(id: 9698cd), type: cosine_similarity, properties: ['summary_similarity']), Relationship(Node(id: a1d427) <-> Node(id: 7349ad), type: cosine_similarity, properties: ['summary_similarity']), Relationship(Node(id: a1d427) <-> Node(id: 3fd5bb), type: cosine_similarity, properties: ['summary_similarity']), Relationship(Node(id: a1d427) <-> Node(id: 7a8b89), type: cosine_similarity, properties: ['summary_similarity']), Relationship(Node(id: a1d427) <-> Node(id: 4f71d4), type: cosine_similarity, properties: ['summary_similarity']), Relationship(Node(id: a1d427) <-> Node(id: 4b4c2c), type: cosine_similarity, properties: ['summary_similarity']), Relationship(Node(id: a1d427) <-> Node(id: 9223a0), type: cosine_similarity, properties: ['summary_similarity']), Relationship(Node(id: a1d427) <-> Node(id: a1d427), type: cosine_similarity, properties: ['summary_similarity']), Relationship(Node(id: a1d427) <-> Node(id: 005f7c), type: cosine_similarity, properties: ['summary_similarity']), Relationship(Node(id: a1d427) <-> Node(id: ac71c5), type: cosine_similarity, properties: ['summary_similarity']), Relationship(Node(id: a1d427) <-> Node(id: e5c4a3), type: cosine_similarity, properties: ['summary_similarity']), Relationship(Node(id: a1d427) <-> Node(id: 5ea5d8), type: cosine_similarity, properties: ['summary_similarity']), Relationship(Node(id: a1d427) <-> Node(id: 810c0e), type: cosine_similarity, properties: ['summary_similarity']), Relationship(Node(id: a1d427) <-> Node(id: e23314), type: cosine_similarity, properties: ['summary_similarity']), Relationship(Node(id: a1d427) <-> Node(id: 35801f), type: cosine_similarity, properties: ['summary_similarity']), Relationship(Node(id: a1d427) <-> Node(id: adca2e), type: cosine_similarity, properties: ['summary_similarity']), Relationship(Node(id: a1d427) <-> Node(id: 586e3d), type: cosine_similarity, properties: ['summary_similarity']), Relationship(Node(id: a1d427) <-> Node(id: 9698cd), type: cosine_similarity, properties: ['summary_similarity']), Relationship(Node(id: a1d427) <-> Node(id: 7349ad), type: cosine_similarity, properties: ['summary_similarity']), Relationship(Node(id: a1d427) <-> Node(id: 3fd5bb), type: cosine_similarity, properties: ['summary_similarity']), Relationship(Node(id: a1d427) <-> Node(id: 7a8b89), type: cosine_similarity, properties: ['summary_similarity']), Relationship(Node(id: 005f7c) <-> Node(id: ac71c5), type: cosine_similarity, properties: ['summary_similarity']), Relationship(Node(id: 005f7c) <-> Node(id: e5c4a3), type: cosine_similarity, properties: ['summary_similarity']), Relationship(Node(id: 005f7c) <-> Node(id: 5ea5d8), type: cosine_similarity, properties: ['summary_similarity']), Relationship(Node(id: 005f7c) <-> Node(id: 810c0e), type: cosine_similarity, properties: ['summary_similarity']), Relationship(Node(id: 005f7c) <-> Node(id: f28b90), type: cosine_similarity, properties: ['summary_similarity']), Relationship(Node(id: 005f7c) <-> Node(id: e23314), type: cosine_similarity, properties: ['summary_similarity']), Relationship(Node(id: 005f7c) <-> Node(id: 58f476), type: cosine_similarity, properties: ['summary_similarity']), Relationship(Node(id: 005f7c) <-> Node(id: 35801f), type: cosine_similarity, properties: ['summary_similarity']), Relationship(Node(id: 005f7c) <-> Node(id: adca2e), type: cosine_similarity, properties: ['summary_similarity']), Relationship(Node(id: 005f7c) <-> Node(id: 586e3d), type: cosine_similarity, properties: ['summary_similarity']), Relationship(Node(id: 005f7c) <-> Node(id: 9698cd), type: cosine_similarity, properties: ['summary_similarity']), Relationship(Node(id: 005f7c) <-> Node(id: 7349ad), type: cosine_similarity, properties: ['summary_similarity']), Relationship(Node(id: 005f7c) <-> Node(id: 3fd5bb), type: cosine_similarity, properties: ['summary_similarity']), Relationship(Node(id: 005f7c) <-> Node(id: 7a8b89), type: cosine_similarity, properties: ['summary_similarity']), Relationship(Node(id: 005f7c) <-> Node(id: 4f71d4), type: cosine_similarity, properties: ['summary_similarity']), Relationship(Node(id: 005f7c) <-> Node(id: 4b4c2c), type: cosine_similarity, properties: ['summary_similarity']), Relationship(Node(id: 005f7c) <-> Node(id: 9223a0), type: cosine_similarity, properties: ['summary_similarity']), Relationship(Node(id: 005f7c) <-> Node(id: a1d427), type: cosine_similarity, properties: ['summary_similarity']), Relationship(Node(id: 005f7c) <-> Node(id: 005f7c), type: cosine_similarity, properties: ['summary_similarity']), Relationship(Node(id: 005f7c) <-> Node(id: ac71c5), type: cosine_similarity, properties: ['summary_similarity']), Relationship(Node(id: 005f7c) <-> Node(id: e5c4a3), type: cosine_similarity, properties: ['summary_similarity']), Relationship(Node(id: 005f7c) <-> Node(id: 5ea5d8), type: cosine_similarity, properties: ['summary_similarity']), Relationship(Node(id: 005f7c) <-> Node(id: 810c0e), type: cosine_similarity, properties: ['summary_similarity']), Relationship(Node(id: 005f7c) <-> Node(id: e23314), type: cosine_similarity, properties: ['summary_similarity']), Relationship(Node(id: 005f7c) <-> Node(id: 35801f), type: cosine_similarity, properties: ['summary_similarity']), Relationship(Node(id: 005f7c) <-> Node(id: adca2e), type: cosine_similarity, properties: ['summary_similarity']), Relationship(Node(id: 005f7c) <-> Node(id: 586e3d), type: cosine_similarity, properties: ['summary_similarity']), Relationship(Node(id: 005f7c) <-> Node(id: 9698cd), type: cosine_similarity, properties: ['summary_similarity']), Relationship(Node(id: 005f7c) <-> Node(id: 7349ad), type: cosine_similarity, properties: ['summary_similarity']), Relationship(Node(id: 005f7c) <-> Node(id: 3fd5bb), type: cosine_similarity, properties: ['summary_similarity']), Relationship(Node(id: 005f7c) <-> Node(id: 7a8b89), type: cosine_similarity, properties: ['summary_similarity']), Relationship(Node(id: ac71c5) <-> Node(id: e5c4a3), type: cosine_similarity, properties: ['summary_similarity']), Relationship(Node(id: ac71c5) <-> Node(id: 5ea5d8), type: cosine_similarity, properties: ['summary_similarity']), Relationship(Node(id: ac71c5) <-> Node(id: 810c0e), type: cosine_similarity, properties: ['summary_similarity']), Relationship(Node(id: ac71c5) <-> Node(id: f28b90), type: cosine_similarity, properties: ['summary_similarity']), Relationship(Node(id: ac71c5) <-> Node(id: e23314), type: cosine_similarity, properties: ['summary_similarity']), Relationship(Node(id: ac71c5) <-> Node(id: 58f476), type: cosine_similarity, properties: ['summary_similarity']), Relationship(Node(id: ac71c5) <-> Node(id: 35801f), type: cosine_similarity, properties: ['summary_similarity']), Relationship(Node(id: ac71c5) <-> Node(id: adca2e), type: cosine_similarity, properties: ['summary_similarity']), Relationship(Node(id: ac71c5) <-> Node(id: 586e3d), type: cosine_similarity, properties: ['summary_similarity']), Relationship(Node(id: ac71c5) <-> Node(id: 9698cd), type: cosine_similarity, properties: ['summary_similarity']), Relationship(Node(id: ac71c5) <-> Node(id: 7349ad), type: cosine_similarity, properties: ['summary_similarity']), Relationship(Node(id: ac71c5) <-> Node(id: 3fd5bb), type: cosine_similarity, properties: ['summary_similarity']), Relationship(Node(id: ac71c5) <-> Node(id: 7a8b89), type: cosine_similarity, properties: ['summary_similarity']), Relationship(Node(id: ac71c5) <-> Node(id: 4f71d4), type: cosine_similarity, properties: ['summary_similarity']), Relationship(Node(id: ac71c5) <-> Node(id: 4b4c2c), type: cosine_similarity, properties: ['summary_similarity']), Relationship(Node(id: ac71c5) <-> Node(id: 9223a0), type: cosine_similarity, properties: ['summary_similarity']), Relationship(Node(id: ac71c5) <-> Node(id: a1d427), type: cosine_similarity, properties: ['summary_similarity']), Relationship(Node(id: ac71c5) <-> Node(id: 005f7c), type: cosine_similarity, properties: ['summary_similarity']), Relationship(Node(id: ac71c5) <-> Node(id: ac71c5), type: cosine_similarity, properties: ['summary_similarity']), Relationship(Node(id: ac71c5) <-> Node(id: e5c4a3), type: cosine_similarity, properties: ['summary_similarity']), Relationship(Node(id: ac71c5) <-> Node(id: 5ea5d8), type: cosine_similarity, properties: ['summary_similarity']), Relationship(Node(id: ac71c5) <-> Node(id: 810c0e), type: cosine_similarity, properties: ['summary_similarity']), Relationship(Node(id: ac71c5) <-> Node(id: e23314), type: cosine_similarity, properties: ['summary_similarity']), Relationship(Node(id: ac71c5) <-> Node(id: 35801f), type: cosine_similarity, properties: ['summary_similarity']), Relationship(Node(id: ac71c5) <-> Node(id: adca2e), type: cosine_similarity, properties: ['summary_similarity']), Relationship(Node(id: ac71c5) <-> Node(id: 586e3d), type: cosine_similarity, properties: ['summary_similarity']), Relationship(Node(id: ac71c5) <-> Node(id: 9698cd), type: cosine_similarity, properties: ['summary_similarity']), Relationship(Node(id: ac71c5) <-> Node(id: 7349ad), type: cosine_similarity, properties: ['summary_similarity']), Relationship(Node(id: ac71c5) <-> Node(id: 3fd5bb), type: cosine_similarity, properties: ['summary_similarity']), Relationship(Node(id: ac71c5) <-> Node(id: 7a8b89), type: cosine_similarity, properties: ['summary_similarity']), Relationship(Node(id: e5c4a3) <-> Node(id: 5ea5d8), type: cosine_similarity, properties: ['summary_similarity']), Relationship(Node(id: e5c4a3) <-> Node(id: 810c0e), type: cosine_similarity, properties: ['summary_similarity']), Relationship(Node(id: e5c4a3) <-> Node(id: f28b90), type: cosine_similarity, properties: ['summary_similarity']), Relationship(Node(id: e5c4a3) <-> Node(id: e23314), type: cosine_similarity, properties: ['summary_similarity']), Relationship(Node(id: e5c4a3) <-> Node(id: 58f476), type: cosine_similarity, properties: ['summary_similarity']), Relationship(Node(id: e5c4a3) <-> Node(id: 35801f), type: cosine_similarity, properties: ['summary_similarity']), Relationship(Node(id: e5c4a3) <-> Node(id: adca2e), type: cosine_similarity, properties: ['summary_similarity']), Relationship(Node(id: e5c4a3) <-> Node(id: 586e3d), type: cosine_similarity, properties: ['summary_similarity']), Relationship(Node(id: e5c4a3) <-> Node(id: 9698cd), type: cosine_similarity, properties: ['summary_similarity']), Relationship(Node(id: e5c4a3) <-> Node(id: 7349ad), type: cosine_similarity, properties: ['summary_similarity']), Relationship(Node(id: e5c4a3) <-> Node(id: 3fd5bb), type: cosine_similarity, properties: ['summary_similarity']), Relationship(Node(id: e5c4a3) <-> Node(id: 7a8b89), type: cosine_similarity, properties: ['summary_similarity']), Relationship(Node(id: e5c4a3) <-> Node(id: 4f71d4), type: cosine_similarity, properties: ['summary_similarity']), Relationship(Node(id: e5c4a3) <-> Node(id: 4b4c2c), type: cosine_similarity, properties: ['summary_similarity']), Relationship(Node(id: e5c4a3) <-> Node(id: 9223a0), type: cosine_similarity, properties: ['summary_similarity']), Relationship(Node(id: e5c4a3) <-> Node(id: a1d427), type: cosine_similarity, properties: ['summary_similarity']), Relationship(Node(id: e5c4a3) <-> Node(id: 005f7c), type: cosine_similarity, properties: ['summary_similarity']), Relationship(Node(id: e5c4a3) <-> Node(id: ac71c5), type: cosine_similarity, properties: ['summary_similarity']), Relationship(Node(id: e5c4a3) <-> Node(id: e5c4a3), type: cosine_similarity, properties: ['summary_similarity']), Relationship(Node(id: e5c4a3) <-> Node(id: 5ea5d8), type: cosine_similarity, properties: ['summary_similarity']), Relationship(Node(id: e5c4a3) <-> Node(id: 810c0e), type: cosine_similarity, properties: ['summary_similarity']), Relationship(Node(id: e5c4a3) <-> Node(id: e23314), type: cosine_similarity, properties: ['summary_similarity']), Relationship(Node(id: e5c4a3) <-> Node(id: 35801f), type: cosine_similarity, properties: ['summary_similarity']), Relationship(Node(id: e5c4a3) <-> Node(id: adca2e), type: cosine_similarity, properties: ['summary_similarity']), Relationship(Node(id: e5c4a3) <-> Node(id: 586e3d), type: cosine_similarity, properties: ['summary_similarity']), Relationship(Node(id: e5c4a3) <-> Node(id: 9698cd), type: cosine_similarity, properties: ['summary_similarity']), Relationship(Node(id: e5c4a3) <-> Node(id: 7349ad), type: cosine_similarity, properties: ['summary_similarity']), Relationship(Node(id: e5c4a3) <-> Node(id: 3fd5bb), type: cosine_similarity, properties: ['summary_similarity']), Relationship(Node(id: e5c4a3) <-> Node(id: 7a8b89), type: cosine_similarity, properties: ['summary_similarity']), Relationship(Node(id: 5ea5d8) <-> Node(id: 810c0e), type: cosine_similarity, properties: ['summary_similarity']), Relationship(Node(id: 5ea5d8) <-> Node(id: f28b90), type: cosine_similarity, properties: ['summary_similarity']), Relationship(Node(id: 5ea5d8) <-> Node(id: e23314), type: cosine_similarity, properties: ['summary_similarity']), Relationship(Node(id: 5ea5d8) <-> Node(id: 58f476), type: cosine_similarity, properties: ['summary_similarity']), Relationship(Node(id: 5ea5d8) <-> Node(id: 35801f), type: cosine_similarity, properties: ['summary_similarity']), Relationship(Node(id: 5ea5d8) <-> Node(id: adca2e), type: cosine_similarity, properties: ['summary_similarity']), Relationship(Node(id: 5ea5d8) <-> Node(id: 586e3d), type: cosine_similarity, properties: ['summary_similarity']), Relationship(Node(id: 5ea5d8) <-> Node(id: 9698cd), type: cosine_similarity, properties: ['summary_similarity']), Relationship(Node(id: 5ea5d8) <-> Node(id: 7349ad), type: cosine_similarity, properties: ['summary_similarity']), Relationship(Node(id: 5ea5d8) <-> Node(id: 3fd5bb), type: cosine_similarity, properties: ['summary_similarity']), Relationship(Node(id: 5ea5d8) <-> Node(id: 7a8b89), type: cosine_similarity, properties: ['summary_similarity']), Relationship(Node(id: 5ea5d8) <-> Node(id: 4f71d4), type: cosine_similarity, properties: ['summary_similarity']), Relationship(Node(id: 5ea5d8) <-> Node(id: 4b4c2c), type: cosine_similarity, properties: ['summary_similarity']), Relationship(Node(id: 5ea5d8) <-> Node(id: 9223a0), type: cosine_similarity, properties: ['summary_similarity']), Relationship(Node(id: 5ea5d8) <-> Node(id: a1d427), type: cosine_similarity, properties: ['summary_similarity']), Relationship(Node(id: 5ea5d8) <-> Node(id: 005f7c), type: cosine_similarity, properties: ['summary_similarity']), Relationship(Node(id: 5ea5d8) <-> Node(id: ac71c5), type: cosine_similarity, properties: ['summary_similarity']), Relationship(Node(id: 5ea5d8) <-> Node(id: e5c4a3), type: cosine_similarity, properties: ['summary_similarity']), Relationship(Node(id: 5ea5d8) <-> Node(id: 5ea5d8), type: cosine_similarity, properties: ['summary_similarity']), Relationship(Node(id: 5ea5d8) <-> Node(id: 810c0e), type: cosine_similarity, properties: ['summary_similarity']), Relationship(Node(id: 5ea5d8) <-> Node(id: e23314), type: cosine_similarity, properties: ['summary_similarity']), Relationship(Node(id: 5ea5d8) <-> Node(id: 35801f), type: cosine_similarity, properties: ['summary_similarity']), Relationship(Node(id: 5ea5d8) <-> Node(id: adca2e), type: cosine_similarity, properties: ['summary_similarity']), Relationship(Node(id: 5ea5d8) <-> Node(id: 586e3d), type: cosine_similarity, properties: ['summary_similarity']), Relationship(Node(id: 5ea5d8) <-> Node(id: 9698cd), type: cosine_similarity, properties: ['summary_similarity']), Relationship(Node(id: 5ea5d8) <-> Node(id: 7349ad), type: cosine_similarity, properties: ['summary_similarity']), Relationship(Node(id: 5ea5d8) <-> Node(id: 3fd5bb), type: cosine_similarity, properties: ['summary_similarity']), Relationship(Node(id: 5ea5d8) <-> Node(id: 7a8b89), type: cosine_similarity, properties: ['summary_similarity']), Relationship(Node(id: 810c0e) <-> Node(id: f28b90), type: cosine_similarity, properties: ['summary_similarity']), Relationship(Node(id: 810c0e) <-> Node(id: e23314), type: cosine_similarity, properties: ['summary_similarity']), Relationship(Node(id: 810c0e) <-> Node(id: 58f476), type: cosine_similarity, properties: ['summary_similarity']), Relationship(Node(id: 810c0e) <-> Node(id: 35801f), type: cosine_similarity, properties: ['summary_similarity']), Relationship(Node(id: 810c0e) <-> Node(id: adca2e), type: cosine_similarity, properties: ['summary_similarity']), Relationship(Node(id: 810c0e) <-> Node(id: 586e3d), type: cosine_similarity, properties: ['summary_similarity']), Relationship(Node(id: 810c0e) <-> Node(id: 9698cd), type: cosine_similarity, properties: ['summary_similarity']), Relationship(Node(id: 810c0e) <-> Node(id: 7349ad), type: cosine_similarity, properties: ['summary_similarity']), Relationship(Node(id: 810c0e) <-> Node(id: 3fd5bb), type: cosine_similarity, properties: ['summary_similarity']), Relationship(Node(id: 810c0e) <-> Node(id: 7a8b89), type: cosine_similarity, properties: ['summary_similarity']), Relationship(Node(id: 810c0e) <-> Node(id: 4f71d4), type: cosine_similarity, properties: ['summary_similarity']), Relationship(Node(id: 810c0e) <-> Node(id: 4b4c2c), type: cosine_similarity, properties: ['summary_similarity']), Relationship(Node(id: 810c0e) <-> Node(id: 9223a0), type: cosine_similarity, properties: ['summary_similarity']), Relationship(Node(id: 810c0e) <-> Node(id: a1d427), type: cosine_similarity, properties: ['summary_similarity']), Relationship(Node(id: 810c0e) <-> Node(id: 005f7c), type: cosine_similarity, properties: ['summary_similarity']), Relationship(Node(id: 810c0e) <-> Node(id: ac71c5), type: cosine_similarity, properties: ['summary_similarity']), Relationship(Node(id: 810c0e) <-> Node(id: e5c4a3), type: cosine_similarity, properties: ['summary_similarity']), Relationship(Node(id: 810c0e) <-> Node(id: 5ea5d8), type: cosine_similarity, properties: ['summary_similarity']), Relationship(Node(id: 810c0e) <-> Node(id: 810c0e), type: cosine_similarity, properties: ['summary_similarity']), Relationship(Node(id: 810c0e) <-> Node(id: e23314), type: cosine_similarity, properties: ['summary_similarity']), Relationship(Node(id: 810c0e) <-> Node(id: 35801f), type: cosine_similarity, properties: ['summary_similarity']), Relationship(Node(id: 810c0e) <-> Node(id: adca2e), type: cosine_similarity, properties: ['summary_similarity']), Relationship(Node(id: 810c0e) <-> Node(id: 586e3d), type: cosine_similarity, properties: ['summary_similarity']), Relationship(Node(id: 810c0e) <-> Node(id: 9698cd), type: cosine_similarity, properties: ['summary_similarity']), Relationship(Node(id: 810c0e) <-> Node(id: 7349ad), type: cosine_similarity, properties: ['summary_similarity']), Relationship(Node(id: 810c0e) <-> Node(id: 3fd5bb), type: cosine_similarity, properties: ['summary_similarity']), Relationship(Node(id: 810c0e) <-> Node(id: 7a8b89), type: cosine_similarity, properties: ['summary_similarity']), Relationship(Node(id: f28b90) <-> Node(id: e23314), type: cosine_similarity, properties: ['summary_similarity']), Relationship(Node(id: f28b90) <-> Node(id: 58f476), type: cosine_similarity, properties: ['summary_similarity']), Relationship(Node(id: f28b90) <-> Node(id: 35801f), type: cosine_similarity, properties: ['summary_similarity']), Relationship(Node(id: f28b90) <-> Node(id: adca2e), type: cosine_similarity, properties: ['summary_similarity']), Relationship(Node(id: f28b90) <-> Node(id: 586e3d), type: cosine_similarity, properties: ['summary_similarity']), Relationship(Node(id: f28b90) <-> Node(id: 9698cd), type: cosine_similarity, properties: ['summary_similarity']), Relationship(Node(id: f28b90) <-> Node(id: 7349ad), type: cosine_similarity, properties: ['summary_similarity']), Relationship(Node(id: f28b90) <-> Node(id: 3fd5bb), type: cosine_similarity, properties: ['summary_similarity']), Relationship(Node(id: f28b90) <-> Node(id: 7a8b89), type: cosine_similarity, properties: ['summary_similarity']), Relationship(Node(id: f28b90) <-> Node(id: 4f71d4), type: cosine_similarity, properties: ['summary_similarity']), Relationship(Node(id: f28b90) <-> Node(id: 4b4c2c), type: cosine_similarity, properties: ['summary_similarity']), Relationship(Node(id: f28b90) <-> Node(id: 9223a0), type: cosine_similarity, properties: ['summary_similarity']), Relationship(Node(id: f28b90) <-> Node(id: a1d427), type: cosine_similarity, properties: ['summary_similarity']), Relationship(Node(id: f28b90) <-> Node(id: 005f7c), type: cosine_similarity, properties: ['summary_similarity']), Relationship(Node(id: f28b90) <-> Node(id: ac71c5), type: cosine_similarity, properties: ['summary_similarity']), Relationship(Node(id: f28b90) <-> Node(id: e5c4a3), type: cosine_similarity, properties: ['summary_similarity']), Relationship(Node(id: f28b90) <-> Node(id: 5ea5d8), type: cosine_similarity, properties: ['summary_similarity']), Relationship(Node(id: f28b90) <-> Node(id: 810c0e), type: cosine_similarity, properties: ['summary_similarity']), Relationship(Node(id: f28b90) <-> Node(id: e23314), type: cosine_similarity, properties: ['summary_similarity']), Relationship(Node(id: f28b90) <-> Node(id: 35801f), type: cosine_similarity, properties: ['summary_similarity']), Relationship(Node(id: f28b90) <-> Node(id: adca2e), type: cosine_similarity, properties: ['summary_similarity']), Relationship(Node(id: f28b90) <-> Node(id: 586e3d), type: cosine_similarity, properties: ['summary_similarity']), Relationship(Node(id: f28b90) <-> Node(id: 9698cd), type: cosine_similarity, properties: ['summary_similarity']), Relationship(Node(id: f28b90) <-> Node(id: 7349ad), type: cosine_similarity, properties: ['summary_similarity']), Relationship(Node(id: f28b90) <-> Node(id: 3fd5bb), type: cosine_similarity, properties: ['summary_similarity']), Relationship(Node(id: f28b90) <-> Node(id: 7a8b89), type: cosine_similarity, properties: ['summary_similarity']), Relationship(Node(id: e23314) <-> Node(id: 58f476), type: cosine_similarity, properties: ['summary_similarity']), Relationship(Node(id: e23314) <-> Node(id: 35801f), type: cosine_similarity, properties: ['summary_similarity']), Relationship(Node(id: e23314) <-> Node(id: adca2e), type: cosine_similarity, properties: ['summary_similarity']), Relationship(Node(id: e23314) <-> Node(id: 586e3d), type: cosine_similarity, properties: ['summary_similarity']), Relationship(Node(id: e23314) <-> Node(id: 9698cd), type: cosine_similarity, properties: ['summary_similarity']), Relationship(Node(id: e23314) <-> Node(id: 7349ad), type: cosine_similarity, properties: ['summary_similarity']), Relationship(Node(id: e23314) <-> Node(id: 3fd5bb), type: cosine_similarity, properties: ['summary_similarity']), Relationship(Node(id: e23314) <-> Node(id: 7a8b89), type: cosine_similarity, properties: ['summary_similarity']), Relationship(Node(id: e23314) <-> Node(id: 4f71d4), type: cosine_similarity, properties: ['summary_similarity']), Relationship(Node(id: e23314) <-> Node(id: 4b4c2c), type: cosine_similarity, properties: ['summary_similarity']), Relationship(Node(id: e23314) <-> Node(id: 9223a0), type: cosine_similarity, properties: ['summary_similarity']), Relationship(Node(id: e23314) <-> Node(id: a1d427), type: cosine_similarity, properties: ['summary_similarity']), Relationship(Node(id: e23314) <-> Node(id: 005f7c), type: cosine_similarity, properties: ['summary_similarity']), Relationship(Node(id: e23314) <-> Node(id: ac71c5), type: cosine_similarity, properties: ['summary_similarity']), Relationship(Node(id: e23314) <-> Node(id: e5c4a3), type: cosine_similarity, properties: ['summary_similarity']), Relationship(Node(id: e23314) <-> Node(id: 5ea5d8), type: cosine_similarity, properties: ['summary_similarity']), Relationship(Node(id: e23314) <-> Node(id: 810c0e), type: cosine_similarity, properties: ['summary_similarity']), Relationship(Node(id: e23314) <-> Node(id: e23314), type: cosine_similarity, properties: ['summary_similarity']), Relationship(Node(id: e23314) <-> Node(id: 35801f), type: cosine_similarity, properties: ['summary_similarity']), Relationship(Node(id: e23314) <-> Node(id: adca2e), type: cosine_similarity, properties: ['summary_similarity']), Relationship(Node(id: e23314) <-> Node(id: 586e3d), type: cosine_similarity, properties: ['summary_similarity']), Relationship(Node(id: e23314) <-> Node(id: 9698cd), type: cosine_similarity, properties: ['summary_similarity']), Relationship(Node(id: e23314) <-> Node(id: 7349ad), type: cosine_similarity, properties: ['summary_similarity']), Relationship(Node(id: e23314) <-> Node(id: 3fd5bb), type: cosine_similarity, properties: ['summary_similarity']), Relationship(Node(id: e23314) <-> Node(id: 7a8b89), type: cosine_similarity, properties: ['summary_similarity']), Relationship(Node(id: 58f476) <-> Node(id: 35801f), type: cosine_similarity, properties: ['summary_similarity']), Relationship(Node(id: 58f476) <-> Node(id: adca2e), type: cosine_similarity, properties: ['summary_similarity']), Relationship(Node(id: 58f476) <-> Node(id: 586e3d), type: cosine_similarity, properties: ['summary_similarity']), Relationship(Node(id: 58f476) <-> Node(id: 9698cd), type: cosine_similarity, properties: ['summary_similarity']), Relationship(Node(id: 58f476) <-> Node(id: 7349ad), type: cosine_similarity, properties: ['summary_similarity']), Relationship(Node(id: 58f476) <-> Node(id: 3fd5bb), type: cosine_similarity, properties: ['summary_similarity']), Relationship(Node(id: 58f476) <-> Node(id: 7a8b89), type: cosine_similarity, properties: ['summary_similarity']), Relationship(Node(id: 58f476) <-> Node(id: 4f71d4), type: cosine_similarity, properties: ['summary_similarity']), Relationship(Node(id: 58f476) <-> Node(id: 4b4c2c), type: cosine_similarity, properties: ['summary_similarity']), Relationship(Node(id: 58f476) <-> Node(id: 9223a0), type: cosine_similarity, properties: ['summary_similarity']), Relationship(Node(id: 58f476) <-> Node(id: a1d427), type: cosine_similarity, properties: ['summary_similarity']), Relationship(Node(id: 58f476) <-> Node(id: 005f7c), type: cosine_similarity, properties: ['summary_similarity']), Relationship(Node(id: 58f476) <-> Node(id: ac71c5), type: cosine_similarity, properties: ['summary_similarity']), Relationship(Node(id: 58f476) <-> Node(id: e5c4a3), type: cosine_similarity, properties: ['summary_similarity']), Relationship(Node(id: 58f476) <-> Node(id: 5ea5d8), type: cosine_similarity, properties: ['summary_similarity']), Relationship(Node(id: 58f476) <-> Node(id: 810c0e), type: cosine_similarity, properties: ['summary_similarity']), Relationship(Node(id: 58f476) <-> Node(id: e23314), type: cosine_similarity, properties: ['summary_similarity']), Relationship(Node(id: 58f476) <-> Node(id: 35801f), type: cosine_similarity, properties: ['summary_similarity']), Relationship(Node(id: 58f476) <-> Node(id: adca2e), type: cosine_similarity, properties: ['summary_similarity']), Relationship(Node(id: 58f476) <-> Node(id: 586e3d), type: cosine_similarity, properties: ['summary_similarity']), Relationship(Node(id: 58f476) <-> Node(id: 9698cd), type: cosine_similarity, properties: ['summary_similarity']), Relationship(Node(id: 58f476) <-> Node(id: 7349ad), type: cosine_similarity, properties: ['summary_similarity']), Relationship(Node(id: 58f476) <-> Node(id: 3fd5bb), type: cosine_similarity, properties: ['summary_similarity']), Relationship(Node(id: 58f476) <-> Node(id: 7a8b89), type: cosine_similarity, properties: ['summary_similarity']), Relationship(Node(id: 35801f) <-> Node(id: adca2e), type: cosine_similarity, properties: ['summary_similarity']), Relationship(Node(id: 35801f) <-> Node(id: 586e3d), type: cosine_similarity, properties: ['summary_similarity']), Relationship(Node(id: 35801f) <-> Node(id: 9698cd), type: cosine_similarity, properties: ['summary_similarity']), Relationship(Node(id: 35801f) <-> Node(id: 7349ad), type: cosine_similarity, properties: ['summary_similarity']), Relationship(Node(id: 35801f) <-> Node(id: 3fd5bb), type: cosine_similarity, properties: ['summary_similarity']), Relationship(Node(id: 35801f) <-> Node(id: 7a8b89), type: cosine_similarity, properties: ['summary_similarity']), Relationship(Node(id: 35801f) <-> Node(id: 4f71d4), type: cosine_similarity, properties: ['summary_similarity']), Relationship(Node(id: 35801f) <-> Node(id: 4b4c2c), type: cosine_similarity, properties: ['summary_similarity']), Relationship(Node(id: 35801f) <-> Node(id: 9223a0), type: cosine_similarity, properties: ['summary_similarity']), Relationship(Node(id: 35801f) <-> Node(id: a1d427), type: cosine_similarity, properties: ['summary_similarity']), Relationship(Node(id: 35801f) <-> Node(id: 005f7c), type: cosine_similarity, properties: ['summary_similarity']), Relationship(Node(id: 35801f) <-> Node(id: ac71c5), type: cosine_similarity, properties: ['summary_similarity']), Relationship(Node(id: 35801f) <-> Node(id: e5c4a3), type: cosine_similarity, properties: ['summary_similarity']), Relationship(Node(id: 35801f) <-> Node(id: 5ea5d8), type: cosine_similarity, properties: ['summary_similarity']), Relationship(Node(id: 35801f) <-> Node(id: 810c0e), type: cosine_similarity, properties: ['summary_similarity']), Relationship(Node(id: 35801f) <-> Node(id: e23314), type: cosine_similarity, properties: ['summary_similarity']), Relationship(Node(id: 35801f) <-> Node(id: 35801f), type: cosine_similarity, properties: ['summary_similarity']), Relationship(Node(id: 35801f) <-> Node(id: adca2e), type: cosine_similarity, properties: ['summary_similarity']), Relationship(Node(id: 35801f) <-> Node(id: 586e3d), type: cosine_similarity, properties: ['summary_similarity']), Relationship(Node(id: 35801f) <-> Node(id: 9698cd), type: cosine_similarity, properties: ['summary_similarity']), Relationship(Node(id: 35801f) <-> Node(id: 7349ad), type: cosine_similarity, properties: ['summary_similarity']), Relationship(Node(id: 35801f) <-> Node(id: 3fd5bb), type: cosine_similarity, properties: ['summary_similarity']), Relationship(Node(id: 35801f) <-> Node(id: 7a8b89), type: cosine_similarity, properties: ['summary_similarity']), Relationship(Node(id: adca2e) <-> Node(id: 586e3d), type: cosine_similarity, properties: ['summary_similarity']), Relationship(Node(id: adca2e) <-> Node(id: 9698cd), type: cosine_similarity, properties: ['summary_similarity']), Relationship(Node(id: adca2e) <-> Node(id: 7349ad), type: cosine_similarity, properties: ['summary_similarity']), Relationship(Node(id: adca2e) <-> Node(id: 3fd5bb), type: cosine_similarity, properties: ['summary_similarity']), Relationship(Node(id: adca2e) <-> Node(id: 7a8b89), type: cosine_similarity, properties: ['summary_similarity']), Relationship(Node(id: adca2e) <-> Node(id: 4f71d4), type: cosine_similarity, properties: ['summary_similarity']), Relationship(Node(id: adca2e) <-> Node(id: 4b4c2c), type: cosine_similarity, properties: ['summary_similarity']), Relationship(Node(id: adca2e) <-> Node(id: 9223a0), type: cosine_similarity, properties: ['summary_similarity']), Relationship(Node(id: adca2e) <-> Node(id: a1d427), type: cosine_similarity, properties: ['summary_similarity']), Relationship(Node(id: adca2e) <-> Node(id: 005f7c), type: cosine_similarity, properties: ['summary_similarity']), Relationship(Node(id: adca2e) <-> Node(id: ac71c5), type: cosine_similarity, properties: ['summary_similarity']), Relationship(Node(id: adca2e) <-> Node(id: e5c4a3), type: cosine_similarity, properties: ['summary_similarity']), Relationship(Node(id: adca2e) <-> Node(id: 5ea5d8), type: cosine_similarity, properties: ['summary_similarity']), Relationship(Node(id: adca2e) <-> Node(id: 810c0e), type: cosine_similarity, properties: ['summary_similarity']), Relationship(Node(id: adca2e) <-> Node(id: e23314), type: cosine_similarity, properties: ['summary_similarity']), Relationship(Node(id: adca2e) <-> Node(id: 35801f), type: cosine_similarity, properties: ['summary_similarity']), Relationship(Node(id: adca2e) <-> Node(id: adca2e), type: cosine_similarity, properties: ['summary_similarity']), Relationship(Node(id: adca2e) <-> Node(id: 586e3d), type: cosine_similarity, properties: ['summary_similarity']), Relationship(Node(id: adca2e) <-> Node(id: 9698cd), type: cosine_similarity, properties: ['summary_similarity']), Relationship(Node(id: adca2e) <-> Node(id: 7349ad), type: cosine_similarity, properties: ['summary_similarity']), Relationship(Node(id: adca2e) <-> Node(id: 3fd5bb), type: cosine_similarity, properties: ['summary_similarity']), Relationship(Node(id: adca2e) <-> Node(id: 7a8b89), type: cosine_similarity, properties: ['summary_similarity']), Relationship(Node(id: 586e3d) <-> Node(id: 9698cd), type: cosine_similarity, properties: ['summary_similarity']), Relationship(Node(id: 586e3d) <-> Node(id: 7349ad), type: cosine_similarity, properties: ['summary_similarity']), Relationship(Node(id: 586e3d) <-> Node(id: 3fd5bb), type: cosine_similarity, properties: ['summary_similarity']), Relationship(Node(id: 586e3d) <-> Node(id: 7a8b89), type: cosine_similarity, properties: ['summary_similarity']), Relationship(Node(id: 586e3d) <-> Node(id: 4f71d4), type: cosine_similarity, properties: ['summary_similarity']), Relationship(Node(id: 586e3d) <-> Node(id: 4b4c2c), type: cosine_similarity, properties: ['summary_similarity']), Relationship(Node(id: 586e3d) <-> Node(id: 9223a0), type: cosine_similarity, properties: ['summary_similarity']), Relationship(Node(id: 586e3d) <-> Node(id: a1d427), type: cosine_similarity, properties: ['summary_similarity']), Relationship(Node(id: 586e3d) <-> Node(id: 005f7c), type: cosine_similarity, properties: ['summary_similarity']), Relationship(Node(id: 586e3d) <-> Node(id: ac71c5), type: cosine_similarity, properties: ['summary_similarity']), Relationship(Node(id: 586e3d) <-> Node(id: e5c4a3), type: cosine_similarity, properties: ['summary_similarity']), Relationship(Node(id: 586e3d) <-> Node(id: 5ea5d8), type: cosine_similarity, properties: ['summary_similarity']), Relationship(Node(id: 586e3d) <-> Node(id: 810c0e), type: cosine_similarity, properties: ['summary_similarity']), Relationship(Node(id: 586e3d) <-> Node(id: e23314), type: cosine_similarity, properties: ['summary_similarity']), Relationship(Node(id: 586e3d) <-> Node(id: 35801f), type: cosine_similarity, properties: ['summary_similarity']), Relationship(Node(id: 586e3d) <-> Node(id: adca2e), type: cosine_similarity, properties: ['summary_similarity']), Relationship(Node(id: 586e3d) <-> Node(id: 586e3d), type: cosine_similarity, properties: ['summary_similarity']), Relationship(Node(id: 586e3d) <-> Node(id: 9698cd), type: cosine_similarity, properties: ['summary_similarity']), Relationship(Node(id: 586e3d) <-> Node(id: 7349ad), type: cosine_similarity, properties: ['summary_similarity']), Relationship(Node(id: 586e3d) <-> Node(id: 3fd5bb), type: cosine_similarity, properties: ['summary_similarity']), Relationship(Node(id: 586e3d) <-> Node(id: 7a8b89), type: cosine_similarity, properties: ['summary_similarity']), Relationship(Node(id: 9698cd) <-> Node(id: 7349ad), type: cosine_similarity, properties: ['summary_similarity']), Relationship(Node(id: 9698cd) <-> Node(id: 3fd5bb), type: cosine_similarity, properties: ['summary_similarity']), Relationship(Node(id: 9698cd) <-> Node(id: 7a8b89), type: cosine_similarity, properties: ['summary_similarity']), Relationship(Node(id: 9698cd) <-> Node(id: 4f71d4), type: cosine_similarity, properties: ['summary_similarity']), Relationship(Node(id: 9698cd) <-> Node(id: 4b4c2c), type: cosine_similarity, properties: ['summary_similarity']), Relationship(Node(id: 9698cd) <-> Node(id: 9223a0), type: cosine_similarity, properties: ['summary_similarity']), Relationship(Node(id: 9698cd) <-> Node(id: a1d427), type: cosine_similarity, properties: ['summary_similarity']), Relationship(Node(id: 9698cd) <-> Node(id: 005f7c), type: cosine_similarity, properties: ['summary_similarity']), Relationship(Node(id: 9698cd) <-> Node(id: ac71c5), type: cosine_similarity, properties: ['summary_similarity']), Relationship(Node(id: 9698cd) <-> Node(id: e5c4a3), type: cosine_similarity, properties: ['summary_similarity']), Relationship(Node(id: 9698cd) <-> Node(id: 5ea5d8), type: cosine_similarity, properties: ['summary_similarity']), Relationship(Node(id: 9698cd) <-> Node(id: 810c0e), type: cosine_similarity, properties: ['summary_similarity']), Relationship(Node(id: 9698cd) <-> Node(id: e23314), type: cosine_similarity, properties: ['summary_similarity']), Relationship(Node(id: 9698cd) <-> Node(id: 35801f), type: cosine_similarity, properties: ['summary_similarity']), Relationship(Node(id: 9698cd) <-> Node(id: adca2e), type: cosine_similarity, properties: ['summary_similarity']), Relationship(Node(id: 9698cd) <-> Node(id: 586e3d), type: cosine_similarity, properties: ['summary_similarity']), Relationship(Node(id: 9698cd) <-> Node(id: 9698cd), type: cosine_similarity, properties: ['summary_similarity']), Relationship(Node(id: 9698cd) <-> Node(id: 7349ad), type: cosine_similarity, properties: ['summary_similarity']), Relationship(Node(id: 9698cd) <-> Node(id: 3fd5bb), type: cosine_similarity, properties: ['summary_similarity']), Relationship(Node(id: 9698cd) <-> Node(id: 7a8b89), type: cosine_similarity, properties: ['summary_similarity']), Relationship(Node(id: 7349ad) <-> Node(id: 3fd5bb), type: cosine_similarity, properties: ['summary_similarity']), Relationship(Node(id: 7349ad) <-> Node(id: 7a8b89), type: cosine_similarity, properties: ['summary_similarity']), Relationship(Node(id: 7349ad) <-> Node(id: 4f71d4), type: cosine_similarity, properties: ['summary_similarity']), Relationship(Node(id: 7349ad) <-> Node(id: 4b4c2c), type: cosine_similarity, properties: ['summary_similarity']), Relationship(Node(id: 7349ad) <-> Node(id: 9223a0), type: cosine_similarity, properties: ['summary_similarity']), Relationship(Node(id: 7349ad) <-> Node(id: a1d427), type: cosine_similarity, properties: ['summary_similarity']), Relationship(Node(id: 7349ad) <-> Node(id: 005f7c), type: cosine_similarity, properties: ['summary_similarity']), Relationship(Node(id: 7349ad) <-> Node(id: ac71c5), type: cosine_similarity, properties: ['summary_similarity']), Relationship(Node(id: 7349ad) <-> Node(id: e5c4a3), type: cosine_similarity, properties: ['summary_similarity']), Relationship(Node(id: 7349ad) <-> Node(id: 5ea5d8), type: cosine_similarity, properties: ['summary_similarity']), Relationship(Node(id: 7349ad) <-> Node(id: 810c0e), type: cosine_similarity, properties: ['summary_similarity']), Relationship(Node(id: 7349ad) <-> Node(id: e23314), type: cosine_similarity, properties: ['summary_similarity']), Relationship(Node(id: 7349ad) <-> Node(id: 35801f), type: cosine_similarity, properties: ['summary_similarity']), Relationship(Node(id: 7349ad) <-> Node(id: adca2e), type: cosine_similarity, properties: ['summary_similarity']), Relationship(Node(id: 7349ad) <-> Node(id: 586e3d), type: cosine_similarity, properties: ['summary_similarity']), Relationship(Node(id: 7349ad) <-> Node(id: 9698cd), type: cosine_similarity, properties: ['summary_similarity']), Relationship(Node(id: 7349ad) <-> Node(id: 7349ad), type: cosine_similarity, properties: ['summary_similarity']), Relationship(Node(id: 7349ad) <-> Node(id: 3fd5bb), type: cosine_similarity, properties: ['summary_similarity']), Relationship(Node(id: 7349ad) <-> Node(id: 7a8b89), type: cosine_similarity, properties: ['summary_similarity']), Relationship(Node(id: 3fd5bb) <-> Node(id: 7a8b89), type: cosine_similarity, properties: ['summary_similarity']), Relationship(Node(id: 3fd5bb) <-> Node(id: 4f71d4), type: cosine_similarity, properties: ['summary_similarity']), Relationship(Node(id: 3fd5bb) <-> Node(id: 4b4c2c), type: cosine_similarity, properties: ['summary_similarity']), Relationship(Node(id: 3fd5bb) <-> Node(id: 9223a0), type: cosine_similarity, properties: ['summary_similarity']), Relationship(Node(id: 3fd5bb) <-> Node(id: a1d427), type: cosine_similarity, properties: ['summary_similarity']), Relationship(Node(id: 3fd5bb) <-> Node(id: 005f7c), type: cosine_similarity, properties: ['summary_similarity']), Relationship(Node(id: 3fd5bb) <-> Node(id: ac71c5), type: cosine_similarity, properties: ['summary_similarity']), Relationship(Node(id: 3fd5bb) <-> Node(id: e5c4a3), type: cosine_similarity, properties: ['summary_similarity']), Relationship(Node(id: 3fd5bb) <-> Node(id: 5ea5d8), type: cosine_similarity, properties: ['summary_similarity']), Relationship(Node(id: 3fd5bb) <-> Node(id: 810c0e), type: cosine_similarity, properties: ['summary_similarity']), Relationship(Node(id: 3fd5bb) <-> Node(id: e23314), type: cosine_similarity, properties: ['summary_similarity']), Relationship(Node(id: 3fd5bb) <-> Node(id: 35801f), type: cosine_similarity, properties: ['summary_similarity']), Relationship(Node(id: 3fd5bb) <-> Node(id: adca2e), type: cosine_similarity, properties: ['summary_similarity']), Relationship(Node(id: 3fd5bb) <-> Node(id: 586e3d), type: cosine_similarity, properties: ['summary_similarity']), Relationship(Node(id: 3fd5bb) <-> Node(id: 9698cd), type: cosine_similarity, properties: ['summary_similarity']), Relationship(Node(id: 3fd5bb) <-> Node(id: 7349ad), type: cosine_similarity, properties: ['summary_similarity']), Relationship(Node(id: 3fd5bb) <-> Node(id: 3fd5bb), type: cosine_similarity, properties: ['summary_similarity']), Relationship(Node(id: 3fd5bb) <-> Node(id: 7a8b89), type: cosine_similarity, properties: ['summary_similarity']), Relationship(Node(id: 7a8b89) <-> Node(id: 4f71d4), type: cosine_similarity, properties: ['summary_similarity']), Relationship(Node(id: 7a8b89) <-> Node(id: 4b4c2c), type: cosine_similarity, properties: ['summary_similarity']), Relationship(Node(id: 7a8b89) <-> Node(id: 9223a0), type: cosine_similarity, properties: ['summary_similarity']), Relationship(Node(id: 7a8b89) <-> Node(id: a1d427), type: cosine_similarity, properties: ['summary_similarity']), Relationship(Node(id: 7a8b89) <-> Node(id: 005f7c), type: cosine_similarity, properties: ['summary_similarity']), Relationship(Node(id: 7a8b89) <-> Node(id: ac71c5), type: cosine_similarity, properties: ['summary_similarity']), Relationship(Node(id: 7a8b89) <-> Node(id: e5c4a3), type: cosine_similarity, properties: ['summary_similarity']), Relationship(Node(id: 7a8b89) <-> Node(id: 5ea5d8), type: cosine_similarity, properties: ['summary_similarity']), Relationship(Node(id: 7a8b89) <-> Node(id: 810c0e), type: cosine_similarity, properties: ['summary_similarity']), Relationship(Node(id: 7a8b89) <-> Node(id: e23314), type: cosine_similarity, properties: ['summary_similarity']), Relationship(Node(id: 7a8b89) <-> Node(id: 35801f), type: cosine_similarity, properties: ['summary_similarity']), Relationship(Node(id: 7a8b89) <-> Node(id: adca2e), type: cosine_similarity, properties: ['summary_similarity']), Relationship(Node(id: 7a8b89) <-> Node(id: 586e3d), type: cosine_similarity, properties: ['summary_similarity']), Relationship(Node(id: 7a8b89) <-> Node(id: 9698cd), type: cosine_similarity, properties: ['summary_similarity']), Relationship(Node(id: 7a8b89) <-> Node(id: 7349ad), type: cosine_similarity, properties: ['summary_similarity']), Relationship(Node(id: 7a8b89) <-> Node(id: 3fd5bb), type: cosine_similarity, properties: ['summary_similarity']), Relationship(Node(id: 7a8b89) <-> Node(id: 7a8b89), type: cosine_similarity, properties: ['summary_similarity']), Relationship(Node(id: 4f71d4) <-> Node(id: 4b4c2c), type: cosine_similarity, properties: ['summary_similarity']), Relationship(Node(id: 4f71d4) <-> Node(id: 9223a0), type: cosine_similarity, properties: ['summary_similarity']), Relationship(Node(id: 4f71d4) <-> Node(id: a1d427), type: cosine_similarity, properties: ['summary_similarity']), Relationship(Node(id: 4f71d4) <-> Node(id: 005f7c), type: cosine_similarity, properties: ['summary_similarity']), Relationship(Node(id: 4f71d4) <-> Node(id: ac71c5), type: cosine_similarity, properties: ['summary_similarity']), Relationship(Node(id: 4f71d4) <-> Node(id: e5c4a3), type: cosine_similarity, properties: ['summary_similarity']), Relationship(Node(id: 4f71d4) <-> Node(id: 5ea5d8), type: cosine_similarity, properties: ['summary_similarity']), Relationship(Node(id: 4f71d4) <-> Node(id: 810c0e), type: cosine_similarity, properties: ['summary_similarity']), Relationship(Node(id: 4f71d4) <-> Node(id: e23314), type: cosine_similarity, properties: ['summary_similarity']), Relationship(Node(id: 4f71d4) <-> Node(id: 35801f), type: cosine_similarity, properties: ['summary_similarity']), Relationship(Node(id: 4f71d4) <-> Node(id: adca2e), type: cosine_similarity, properties: ['summary_similarity']), Relationship(Node(id: 4f71d4) <-> Node(id: 586e3d), type: cosine_similarity, properties: ['summary_similarity']), Relationship(Node(id: 4f71d4) <-> Node(id: 9698cd), type: cosine_similarity, properties: ['summary_similarity']), Relationship(Node(id: 4f71d4) <-> Node(id: 7349ad), type: cosine_similarity, properties: ['summary_similarity']), Relationship(Node(id: 4f71d4) <-> Node(id: 3fd5bb), type: cosine_similarity, properties: ['summary_similarity']), Relationship(Node(id: 4f71d4) <-> Node(id: 7a8b89), type: cosine_similarity, properties: ['summary_similarity']), Relationship(Node(id: 4b4c2c) <-> Node(id: 9223a0), type: cosine_similarity, properties: ['summary_similarity']), Relationship(Node(id: 4b4c2c) <-> Node(id: a1d427), type: cosine_similarity, properties: ['summary_similarity']), Relationship(Node(id: 4b4c2c) <-> Node(id: 005f7c), type: cosine_similarity, properties: ['summary_similarity']), Relationship(Node(id: 4b4c2c) <-> Node(id: ac71c5), type: cosine_similarity, properties: ['summary_similarity']), Relationship(Node(id: 4b4c2c) <-> Node(id: e5c4a3), type: cosine_similarity, properties: ['summary_similarity']), Relationship(Node(id: 4b4c2c) <-> Node(id: 5ea5d8), type: cosine_similarity, properties: ['summary_similarity']), Relationship(Node(id: 4b4c2c) <-> Node(id: 810c0e), type: cosine_similarity, properties: ['summary_similarity']), Relationship(Node(id: 4b4c2c) <-> Node(id: e23314), type: cosine_similarity, properties: ['summary_similarity']), Relationship(Node(id: 4b4c2c) <-> Node(id: 35801f), type: cosine_similarity, properties: ['summary_similarity']), Relationship(Node(id: 4b4c2c) <-> Node(id: adca2e), type: cosine_similarity, properties: ['summary_similarity']), Relationship(Node(id: 4b4c2c) <-> Node(id: 586e3d), type: cosine_similarity, properties: ['summary_similarity']), Relationship(Node(id: 4b4c2c) <-> Node(id: 9698cd), type: cosine_similarity, properties: ['summary_similarity']), Relationship(Node(id: 4b4c2c) <-> Node(id: 7349ad), type: cosine_similarity, properties: ['summary_similarity']), Relationship(Node(id: 4b4c2c) <-> Node(id: 3fd5bb), type: cosine_similarity, properties: ['summary_similarity']), Relationship(Node(id: 4b4c2c) <-> Node(id: 7a8b89), type: cosine_similarity, properties: ['summary_similarity']), Relationship(Node(id: 9223a0) <-> Node(id: a1d427), type: cosine_similarity, properties: ['summary_similarity']), Relationship(Node(id: 9223a0) <-> Node(id: 005f7c), type: cosine_similarity, properties: ['summary_similarity']), Relationship(Node(id: 9223a0) <-> Node(id: ac71c5), type: cosine_similarity, properties: ['summary_similarity']), Relationship(Node(id: 9223a0) <-> Node(id: e5c4a3), type: cosine_similarity, properties: ['summary_similarity']), Relationship(Node(id: 9223a0) <-> Node(id: 5ea5d8), type: cosine_similarity, properties: ['summary_similarity']), Relationship(Node(id: 9223a0) <-> Node(id: 810c0e), type: cosine_similarity, properties: ['summary_similarity']), Relationship(Node(id: 9223a0) <-> Node(id: e23314), type: cosine_similarity, properties: ['summary_similarity']), Relationship(Node(id: 9223a0) <-> Node(id: 35801f), type: cosine_similarity, properties: ['summary_similarity']), Relationship(Node(id: 9223a0) <-> Node(id: adca2e), type: cosine_similarity, properties: ['summary_similarity']), Relationship(Node(id: 9223a0) <-> Node(id: 586e3d), type: cosine_similarity, properties: ['summary_similarity']), Relationship(Node(id: 9223a0) <-> Node(id: 9698cd), type: cosine_similarity, properties: ['summary_similarity']), Relationship(Node(id: 9223a0) <-> Node(id: 7349ad), type: cosine_similarity, properties: ['summary_similarity']), Relationship(Node(id: 9223a0) <-> Node(id: 3fd5bb), type: cosine_similarity, properties: ['summary_similarity']), Relationship(Node(id: 9223a0) <-> Node(id: 7a8b89), type: cosine_similarity, properties: ['summary_similarity']), Relationship(Node(id: a1d427) <-> Node(id: 005f7c), type: cosine_similarity, properties: ['summary_similarity']), Relationship(Node(id: a1d427) <-> Node(id: ac71c5), type: cosine_similarity, properties: ['summary_similarity']), Relationship(Node(id: a1d427) <-> Node(id: e5c4a3), type: cosine_similarity, properties: ['summary_similarity']), Relationship(Node(id: a1d427) <-> Node(id: 5ea5d8), type: cosine_similarity, properties: ['summary_similarity']), Relationship(Node(id: a1d427) <-> Node(id: 810c0e), type: cosine_similarity, properties: ['summary_similarity']), Relationship(Node(id: a1d427) <-> Node(id: e23314), type: cosine_similarity, properties: ['summary_similarity']), Relationship(Node(id: a1d427) <-> Node(id: 35801f), type: cosine_similarity, properties: ['summary_similarity']), Relationship(Node(id: a1d427) <-> Node(id: adca2e), type: cosine_similarity, properties: ['summary_similarity']), Relationship(Node(id: a1d427) <-> Node(id: 586e3d), type: cosine_similarity, properties: ['summary_similarity']), Relationship(Node(id: a1d427) <-> Node(id: 9698cd), type: cosine_similarity, properties: ['summary_similarity']), Relationship(Node(id: a1d427) <-> Node(id: 7349ad), type: cosine_similarity, properties: ['summary_similarity']), Relationship(Node(id: a1d427) <-> Node(id: 3fd5bb), type: cosine_similarity, properties: ['summary_similarity']), Relationship(Node(id: a1d427) <-> Node(id: 7a8b89), type: cosine_similarity, properties: ['summary_similarity']), Relationship(Node(id: 005f7c) <-> Node(id: ac71c5), type: cosine_similarity, properties: ['summary_similarity']), Relationship(Node(id: 005f7c) <-> Node(id: e5c4a3), type: cosine_similarity, properties: ['summary_similarity']), Relationship(Node(id: 005f7c) <-> Node(id: 5ea5d8), type: cosine_similarity, properties: ['summary_similarity']), Relationship(Node(id: 005f7c) <-> Node(id: 810c0e), type: cosine_similarity, properties: ['summary_similarity']), Relationship(Node(id: 005f7c) <-> Node(id: e23314), type: cosine_similarity, properties: ['summary_similarity']), Relationship(Node(id: 005f7c) <-> Node(id: 35801f), type: cosine_similarity, properties: ['summary_similarity']), Relationship(Node(id: 005f7c) <-> Node(id: adca2e), type: cosine_similarity, properties: ['summary_similarity']), Relationship(Node(id: 005f7c) <-> Node(id: 586e3d), type: cosine_similarity, properties: ['summary_similarity']), Relationship(Node(id: 005f7c) <-> Node(id: 9698cd), type: cosine_similarity, properties: ['summary_similarity']), Relationship(Node(id: 005f7c) <-> Node(id: 7349ad), type: cosine_similarity, properties: ['summary_similarity']), Relationship(Node(id: 005f7c) <-> Node(id: 3fd5bb), type: cosine_similarity, properties: ['summary_similarity']), Relationship(Node(id: 005f7c) <-> Node(id: 7a8b89), type: cosine_similarity, properties: ['summary_similarity']), Relationship(Node(id: ac71c5) <-> Node(id: e5c4a3), type: cosine_similarity, properties: ['summary_similarity']), Relationship(Node(id: ac71c5) <-> Node(id: 5ea5d8), type: cosine_similarity, properties: ['summary_similarity']), Relationship(Node(id: ac71c5) <-> Node(id: 810c0e), type: cosine_similarity, properties: ['summary_similarity']), Relationship(Node(id: ac71c5) <-> Node(id: e23314), type: cosine_similarity, properties: ['summary_similarity']), Relationship(Node(id: ac71c5) <-> Node(id: 35801f), type: cosine_similarity, properties: ['summary_similarity']), Relationship(Node(id: ac71c5) <-> Node(id: adca2e), type: cosine_similarity, properties: ['summary_similarity']), Relationship(Node(id: ac71c5) <-> Node(id: 586e3d), type: cosine_similarity, properties: ['summary_similarity']), Relationship(Node(id: ac71c5) <-> Node(id: 9698cd), type: cosine_similarity, properties: ['summary_similarity']), Relationship(Node(id: ac71c5) <-> Node(id: 7349ad), type: cosine_similarity, properties: ['summary_similarity']), Relationship(Node(id: ac71c5) <-> Node(id: 3fd5bb), type: cosine_similarity, properties: ['summary_similarity']), Relationship(Node(id: ac71c5) <-> Node(id: 7a8b89), type: cosine_similarity, properties: ['summary_similarity']), Relationship(Node(id: e5c4a3) <-> Node(id: 5ea5d8), type: cosine_similarity, properties: ['summary_similarity']), Relationship(Node(id: e5c4a3) <-> Node(id: 810c0e), type: cosine_similarity, properties: ['summary_similarity']), Relationship(Node(id: e5c4a3) <-> Node(id: e23314), type: cosine_similarity, properties: ['summary_similarity']), Relationship(Node(id: e5c4a3) <-> Node(id: 35801f), type: cosine_similarity, properties: ['summary_similarity']), Relationship(Node(id: e5c4a3) <-> Node(id: adca2e), type: cosine_similarity, properties: ['summary_similarity']), Relationship(Node(id: e5c4a3) <-> Node(id: 586e3d), type: cosine_similarity, properties: ['summary_similarity']), Relationship(Node(id: e5c4a3) <-> Node(id: 9698cd), type: cosine_similarity, properties: ['summary_similarity']), Relationship(Node(id: e5c4a3) <-> Node(id: 7349ad), type: cosine_similarity, properties: ['summary_similarity']), Relationship(Node(id: e5c4a3) <-> Node(id: 3fd5bb), type: cosine_similarity, properties: ['summary_similarity']), Relationship(Node(id: e5c4a3) <-> Node(id: 7a8b89), type: cosine_similarity, properties: ['summary_similarity']), Relationship(Node(id: 5ea5d8) <-> Node(id: 810c0e), type: cosine_similarity, properties: ['summary_similarity']), Relationship(Node(id: 5ea5d8) <-> Node(id: e23314), type: cosine_similarity, properties: ['summary_similarity']), Relationship(Node(id: 5ea5d8) <-> Node(id: 35801f), type: cosine_similarity, properties: ['summary_similarity']), Relationship(Node(id: 5ea5d8) <-> Node(id: adca2e), type: cosine_similarity, properties: ['summary_similarity']), Relationship(Node(id: 5ea5d8) <-> Node(id: 586e3d), type: cosine_similarity, properties: ['summary_similarity']), Relationship(Node(id: 5ea5d8) <-> Node(id: 9698cd), type: cosine_similarity, properties: ['summary_similarity']), Relationship(Node(id: 5ea5d8) <-> Node(id: 7349ad), type: cosine_similarity, properties: ['summary_similarity']), Relationship(Node(id: 5ea5d8) <-> Node(id: 3fd5bb), type: cosine_similarity, properties: ['summary_similarity']), Relationship(Node(id: 5ea5d8) <-> Node(id: 7a8b89), type: cosine_similarity, properties: ['summary_similarity']), Relationship(Node(id: 810c0e) <-> Node(id: e23314), type: cosine_similarity, properties: ['summary_similarity']), Relationship(Node(id: 810c0e) <-> Node(id: 35801f), type: cosine_similarity, properties: ['summary_similarity']), Relationship(Node(id: 810c0e) <-> Node(id: adca2e), type: cosine_similarity, properties: ['summary_similarity']), Relationship(Node(id: 810c0e) <-> Node(id: 586e3d), type: cosine_similarity, properties: ['summary_similarity']), Relationship(Node(id: 810c0e) <-> Node(id: 9698cd), type: cosine_similarity, properties: ['summary_similarity']), Relationship(Node(id: 810c0e) <-> Node(id: 7349ad), type: cosine_similarity, properties: ['summary_similarity']), Relationship(Node(id: 810c0e) <-> Node(id: 3fd5bb), type: cosine_similarity, properties: ['summary_similarity']), Relationship(Node(id: 810c0e) <-> Node(id: 7a8b89), type: cosine_similarity, properties: ['summary_similarity']), Relationship(Node(id: e23314) <-> Node(id: 35801f), type: cosine_similarity, properties: ['summary_similarity']), Relationship(Node(id: e23314) <-> Node(id: adca2e), type: cosine_similarity, properties: ['summary_similarity']), Relationship(Node(id: e23314) <-> Node(id: 586e3d), type: cosine_similarity, properties: ['summary_similarity']), Relationship(Node(id: e23314) <-> Node(id: 9698cd), type: cosine_similarity, properties: ['summary_similarity']), Relationship(Node(id: e23314) <-> Node(id: 7349ad), type: cosine_similarity, properties: ['summary_similarity']), Relationship(Node(id: e23314) <-> Node(id: 3fd5bb), type: cosine_similarity, properties: ['summary_similarity']), Relationship(Node(id: e23314) <-> Node(id: 7a8b89), type: cosine_similarity, properties: ['summary_similarity']), Relationship(Node(id: 35801f) <-> Node(id: adca2e), type: cosine_similarity, properties: ['summary_similarity']), Relationship(Node(id: 35801f) <-> Node(id: 586e3d), type: cosine_similarity, properties: ['summary_similarity']), Relationship(Node(id: 35801f) <-> Node(id: 9698cd), type: cosine_similarity, properties: ['summary_similarity']), Relationship(Node(id: 35801f) <-> Node(id: 7349ad), type: cosine_similarity, properties: ['summary_similarity']), Relationship(Node(id: 35801f) <-> Node(id: 3fd5bb), type: cosine_similarity, properties: ['summary_similarity']), Relationship(Node(id: 35801f) <-> Node(id: 7a8b89), type: cosine_similarity, properties: ['summary_similarity']), Relationship(Node(id: adca2e) <-> Node(id: 586e3d), type: cosine_similarity, properties: ['summary_similarity']), Relationship(Node(id: adca2e) <-> Node(id: 9698cd), type: cosine_similarity, properties: ['summary_similarity']), Relationship(Node(id: adca2e) <-> Node(id: 7349ad), type: cosine_similarity, properties: ['summary_similarity']), Relationship(Node(id: adca2e) <-> Node(id: 3fd5bb), type: cosine_similarity, properties: ['summary_similarity']), Relationship(Node(id: adca2e) <-> Node(id: 7a8b89), type: cosine_similarity, properties: ['summary_similarity']), Relationship(Node(id: 586e3d) <-> Node(id: 9698cd), type: cosine_similarity, properties: ['summary_similarity']), Relationship(Node(id: 586e3d) <-> Node(id: 7349ad), type: cosine_similarity, properties: ['summary_similarity']), Relationship(Node(id: 586e3d) <-> Node(id: 3fd5bb), type: cosine_similarity, properties: ['summary_similarity']), Relationship(Node(id: 586e3d) <-> Node(id: 7a8b89), type: cosine_similarity, properties: ['summary_similarity']), Relationship(Node(id: 9698cd) <-> Node(id: 7349ad), type: cosine_similarity, properties: ['summary_similarity']), Relationship(Node(id: 9698cd) <-> Node(id: 3fd5bb), type: cosine_similarity, properties: ['summary_similarity']), Relationship(Node(id: 9698cd) <-> Node(id: 7a8b89), type: cosine_similarity, properties: ['summary_similarity']), Relationship(Node(id: 7349ad) <-> Node(id: 3fd5bb), type: cosine_similarity, properties: ['summary_similarity']), Relationship(Node(id: 7349ad) <-> Node(id: 7a8b89), type: cosine_similarity, properties: ['summary_similarity']), Relationship(Node(id: 3fd5bb) <-> Node(id: 7a8b89), type: cosine_similarity, properties: ['summary_similarity']), Relationship(Node(id: 23a427) -> Node(id: abd569), type: entities_overlap, properties: ['entities_overlap_score', 'overlapped_items']), Relationship(Node(id: 28e797) -> Node(id: abd569), type: entities_overlap, properties: ['entities_overlap_score', 'overlapped_items'])]\n"
          ]
        }
      ],
      "source": [
        "print(kg.relationships)"
      ]
    },
    {
      "cell_type": "code",
      "execution_count": 20,
      "metadata": {},
      "outputs": [],
      "source": [
        "import json\n",
        "from ragas.testset.graph import KnowledgeGraph, UUIDEncoder\n",
        "\n",
        "# Save with UTF-8\n",
        "with open(\"usecase_data_kg.json\", \"w\", encoding=\"utf-8\") as f:\n",
        "    json.dump(\n",
        "        {\n",
        "            \"nodes\": [node.model_dump() for node in kg.nodes],\n",
        "            \"relationships\": [rel.model_dump() for rel in kg.relationships],\n",
        "        },\n",
        "        f,\n",
        "        cls=UUIDEncoder,\n",
        "        indent=2,\n",
        "        ensure_ascii=False,\n",
        "    )\n",
        "\n",
        "# Load with UTF-8\n",
        "with open(\"usecase_data_kg.json\", \"r\", encoding=\"utf-8\") as f:\n",
        "    data = json.load(f)\n",
        "\n",
        "nodes = [Node(**node_data) for node_data in data[\"nodes\"]]\n",
        "relationships = [Relationship(**rel_data) for rel_data in data[\"relationships\"]]\n",
        "usecase_data_kg = KnowledgeGraph(nodes=nodes, relationships=relationships)"
      ]
    },
    {
      "cell_type": "markdown",
      "metadata": {},
      "source": [
        "Using our knowledge graph, we can construct a \"test set generator\" - which will allow us to create queries."
      ]
    },
    {
      "cell_type": "code",
      "execution_count": 22,
      "metadata": {},
      "outputs": [],
      "source": [
        "from ragas.testset import TestsetGenerator\n",
        "\n",
        "generator = TestsetGenerator(llm=generator_llm, embedding_model=embedding_model, knowledge_graph=usecase_data_kg)"
      ]
    },
    {
      "cell_type": "markdown",
      "metadata": {},
      "source": [
        "However, we'd like to be able to define the kinds of queries we're generating - which is made simple by Ragas having pre-created a number of different \"QuerySynthesizer\"s.\n",
        "\n",
        "Each of these Synthetsizers is going to tackle a separate kind of query which will be generated from a scenario and a persona.\n",
        "\n",
        "In essence, Ragas will use an LLM to generate a persona of someone who would interact with the data - and then use a scenario to construct a question from that data and persona."
      ]
    },
    {
      "cell_type": "code",
      "execution_count": 23,
      "metadata": {},
      "outputs": [],
      "source": [
        "from ragas.testset.synthesizers import default_query_distribution, SingleHopSpecificQuerySynthesizer, MultiHopAbstractQuerySynthesizer, MultiHopSpecificQuerySynthesizer\n",
        "\n",
        "query_distribution = [\n",
        "        (SingleHopSpecificQuerySynthesizer(llm=generator_llm), 0.5),\n",
        "        (MultiHopAbstractQuerySynthesizer(llm=generator_llm), 0.25),\n",
        "        (MultiHopSpecificQuerySynthesizer(llm=generator_llm), 0.25),\n",
        "]"
      ]
    },
    {
      "cell_type": "markdown",
      "metadata": {},
      "source": [
        "#### ❓ Question #1:\n",
        "\n",
        "What are the three types of query synthesizers doing? Describe each one in simple terms.\n",
        "\n",
        "**SingleHopSpecificQuerySynthesizer**: Its job ends once it has turned the user’s question into a single, concrete query and sent it to the retriever. It's used insimple fact-based question like: 'Who developed the theory of relativity?'\n",
        "\n",
        "**MultiHopAbstractQuerySynthesizer**: An abstract query needs information from different places and times, combined together, to give a bigger-picture answer. Example:How have scientific theories on relativity evolved since Einstein’s original publication?\n",
        "\n",
        "**MultiHopSpecificQuerySynthesizer**:This requires the system to retrieve information about both the scientist who influenced Einstein and the specific theory, potentially from two different sources. Example:“Which scientist influenced Einstein’s work on relativity, and what theory did they propose?”\n",
        "\n"
      ]
    },
    {
      "cell_type": "markdown",
      "metadata": {},
      "source": [
        "Finally, we can use our `TestSetGenerator` to generate our testset!"
      ]
    },
    {
      "cell_type": "code",
      "execution_count": 24,
      "metadata": {},
      "outputs": [
        {
          "data": {
            "application/vnd.jupyter.widget-view+json": {
              "model_id": "2f91311352ca46139de03c43c4e5a151",
              "version_major": 2,
              "version_minor": 0
            },
            "text/plain": [
              "Generating personas:   0%|          | 0/3 [00:00<?, ?it/s]"
            ]
          },
          "metadata": {},
          "output_type": "display_data"
        },
        {
          "data": {
            "application/vnd.jupyter.widget-view+json": {
              "model_id": "940667d2318f4b07b16a120c189f4b5f",
              "version_major": 2,
              "version_minor": 0
            },
            "text/plain": [
              "Generating Scenarios:   0%|          | 0/3 [00:00<?, ?it/s]"
            ]
          },
          "metadata": {},
          "output_type": "display_data"
        },
        {
          "data": {
            "application/vnd.jupyter.widget-view+json": {
              "model_id": "50e9482528534076ac8c1c63b69ea612",
              "version_major": 2,
              "version_minor": 0
            },
            "text/plain": [
              "Generating Samples:   0%|          | 0/11 [00:00<?, ?it/s]"
            ]
          },
          "metadata": {},
          "output_type": "display_data"
        },
        {
          "data": {
            "text/html": [
              "<div>\n",
              "<style scoped>\n",
              "    .dataframe tbody tr th:only-of-type {\n",
              "        vertical-align: middle;\n",
              "    }\n",
              "\n",
              "    .dataframe tbody tr th {\n",
              "        vertical-align: top;\n",
              "    }\n",
              "\n",
              "    .dataframe thead th {\n",
              "        text-align: right;\n",
              "    }\n",
              "</style>\n",
              "<table border=\"1\" class=\"dataframe\">\n",
              "  <thead>\n",
              "    <tr style=\"text-align: right;\">\n",
              "      <th></th>\n",
              "      <th>user_input</th>\n",
              "      <th>reference_contexts</th>\n",
              "      <th>reference</th>\n",
              "      <th>synthesizer_name</th>\n",
              "    </tr>\n",
              "  </thead>\n",
              "  <tbody>\n",
              "    <tr>\n",
              "      <th>0</th>\n",
              "      <td>How many users are utilizing ChatGPT, reaching...</td>\n",
              "      <td>[Introduction ChatGPT launched in November 202...</td>\n",
              "      <td>By July 2025, 700 million users were sending a...</td>\n",
              "      <td>single_hop_specifc_query_synthesizer</td>\n",
              "    </tr>\n",
              "    <tr>\n",
              "      <th>1</th>\n",
              "      <td>What role does OpenAI play in AI development a...</td>\n",
              "      <td>[Table 1: ChatGPT daily message counts (millio...</td>\n",
              "      <td>OpenAI is referenced as the developer of ChatG...</td>\n",
              "      <td>single_hop_specifc_query_synthesizer</td>\n",
              "    </tr>\n",
              "    <tr>\n",
              "      <th>2</th>\n",
              "      <td>What are the SOC2 codes 17 in relation to SOC2...</td>\n",
              "      <td>[Variation by Occupation Figure 23 presents va...</td>\n",
              "      <td>The context does not provide any information a...</td>\n",
              "      <td>single_hop_specifc_query_synthesizer</td>\n",
              "    </tr>\n",
              "    <tr>\n",
              "      <th>3</th>\n",
              "      <td>Whaat is the total number of 700 million users...</td>\n",
              "      <td>[Conclusion This paper studies the rapid growt...</td>\n",
              "      <td>By July 2025, ChatGPT had been used weekly by ...</td>\n",
              "      <td>single_hop_specifc_query_synthesizer</td>\n",
              "    </tr>\n",
              "    <tr>\n",
              "      <th>4</th>\n",
              "      <td>how work-usage vs non-work-usage and user inte...</td>\n",
              "      <td>[&lt;1-hop&gt;\\n\\nConclusion This paper studies the ...</td>\n",
              "      <td>The context indicates that about 70% of ChatGP...</td>\n",
              "      <td>multi_hop_abstract_query_synthesizer</td>\n",
              "    </tr>\n",
              "    <tr>\n",
              "      <th>5</th>\n",
              "      <td>how much message volume in jun 2024 vs jun 202...</td>\n",
              "      <td>[&lt;1-hop&gt;\\n\\nMonth Non-Work (M) (%) Work (M) (%...</td>\n",
              "      <td>In June 2024, total messages were 451 million,...</td>\n",
              "      <td>multi_hop_abstract_query_synthesizer</td>\n",
              "    </tr>\n",
              "    <tr>\n",
              "      <th>6</th>\n",
              "      <td>H0w do work-related message sharing and usage ...</td>\n",
              "      <td>[&lt;1-hop&gt;\\n\\nVariation by Occupation Figure 23 ...</td>\n",
              "      <td>Based on the data, users in highly paid profes...</td>\n",
              "      <td>multi_hop_abstract_query_synthesizer</td>\n",
              "    </tr>\n",
              "    <tr>\n",
              "      <th>7</th>\n",
              "      <td>how many users use chatgpt like 700 million us...</td>\n",
              "      <td>[&lt;1-hop&gt;\\n\\nIntroduction ChatGPT launched in N...</td>\n",
              "      <td>As of July 2025, about 700 million users are u...</td>\n",
              "      <td>multi_hop_specific_query_synthesizer</td>\n",
              "    </tr>\n",
              "    <tr>\n",
              "      <th>8</th>\n",
              "      <td>How does the growth of ChatGPT usage by July 2...</td>\n",
              "      <td>[&lt;1-hop&gt;\\n\\nIntroduction ChatGPT launched in N...</td>\n",
              "      <td>By July 2025, ChatGPT had been used weekly by ...</td>\n",
              "      <td>multi_hop_specific_query_synthesizer</td>\n",
              "    </tr>\n",
              "    <tr>\n",
              "      <th>9</th>\n",
              "      <td>Based on the data about ChatGPT's usage in the...</td>\n",
              "      <td>[&lt;1-hop&gt;\\n\\nTable 1: ChatGPT daily message cou...</td>\n",
              "      <td>The data indicates that in the US, over 70% of...</td>\n",
              "      <td>multi_hop_specific_query_synthesizer</td>\n",
              "    </tr>\n",
              "    <tr>\n",
              "      <th>10</th>\n",
              "      <td>How does the usage of ChatGPT in the US reflec...</td>\n",
              "      <td>[&lt;1-hop&gt;\\n\\nTable 1: ChatGPT daily message cou...</td>\n",
              "      <td>In the US, ChatGPT usage demonstrates a signif...</td>\n",
              "      <td>multi_hop_specific_query_synthesizer</td>\n",
              "    </tr>\n",
              "  </tbody>\n",
              "</table>\n",
              "</div>"
            ],
            "text/plain": [
              "                                           user_input  \\\n",
              "0   How many users are utilizing ChatGPT, reaching...   \n",
              "1   What role does OpenAI play in AI development a...   \n",
              "2   What are the SOC2 codes 17 in relation to SOC2...   \n",
              "3   Whaat is the total number of 700 million users...   \n",
              "4   how work-usage vs non-work-usage and user inte...   \n",
              "5   how much message volume in jun 2024 vs jun 202...   \n",
              "6   H0w do work-related message sharing and usage ...   \n",
              "7   how many users use chatgpt like 700 million us...   \n",
              "8   How does the growth of ChatGPT usage by July 2...   \n",
              "9   Based on the data about ChatGPT's usage in the...   \n",
              "10  How does the usage of ChatGPT in the US reflec...   \n",
              "\n",
              "                                   reference_contexts  \\\n",
              "0   [Introduction ChatGPT launched in November 202...   \n",
              "1   [Table 1: ChatGPT daily message counts (millio...   \n",
              "2   [Variation by Occupation Figure 23 presents va...   \n",
              "3   [Conclusion This paper studies the rapid growt...   \n",
              "4   [<1-hop>\\n\\nConclusion This paper studies the ...   \n",
              "5   [<1-hop>\\n\\nMonth Non-Work (M) (%) Work (M) (%...   \n",
              "6   [<1-hop>\\n\\nVariation by Occupation Figure 23 ...   \n",
              "7   [<1-hop>\\n\\nIntroduction ChatGPT launched in N...   \n",
              "8   [<1-hop>\\n\\nIntroduction ChatGPT launched in N...   \n",
              "9   [<1-hop>\\n\\nTable 1: ChatGPT daily message cou...   \n",
              "10  [<1-hop>\\n\\nTable 1: ChatGPT daily message cou...   \n",
              "\n",
              "                                            reference  \\\n",
              "0   By July 2025, 700 million users were sending a...   \n",
              "1   OpenAI is referenced as the developer of ChatG...   \n",
              "2   The context does not provide any information a...   \n",
              "3   By July 2025, ChatGPT had been used weekly by ...   \n",
              "4   The context indicates that about 70% of ChatGP...   \n",
              "5   In June 2024, total messages were 451 million,...   \n",
              "6   Based on the data, users in highly paid profes...   \n",
              "7   As of July 2025, about 700 million users are u...   \n",
              "8   By July 2025, ChatGPT had been used weekly by ...   \n",
              "9   The data indicates that in the US, over 70% of...   \n",
              "10  In the US, ChatGPT usage demonstrates a signif...   \n",
              "\n",
              "                        synthesizer_name  \n",
              "0   single_hop_specifc_query_synthesizer  \n",
              "1   single_hop_specifc_query_synthesizer  \n",
              "2   single_hop_specifc_query_synthesizer  \n",
              "3   single_hop_specifc_query_synthesizer  \n",
              "4   multi_hop_abstract_query_synthesizer  \n",
              "5   multi_hop_abstract_query_synthesizer  \n",
              "6   multi_hop_abstract_query_synthesizer  \n",
              "7   multi_hop_specific_query_synthesizer  \n",
              "8   multi_hop_specific_query_synthesizer  \n",
              "9   multi_hop_specific_query_synthesizer  \n",
              "10  multi_hop_specific_query_synthesizer  "
            ]
          },
          "execution_count": 24,
          "metadata": {},
          "output_type": "execute_result"
        }
      ],
      "source": [
        "testset = generator.generate(testset_size=10, query_distribution=query_distribution)\n",
        "testset.to_pandas()"
      ]
    },
    {
      "cell_type": "markdown",
      "metadata": {},
      "source": [
        "### Abstracted SDG\n",
        "\n",
        "The above method is the full process - but we can shortcut that using the provided abstractions!\n",
        "\n",
        "This will generate our knowledge graph under the hood, and will - from there - generate our personas and scenarios to construct our queries.\n",
        "\n"
      ]
    },
    {
      "cell_type": "code",
      "execution_count": 25,
      "metadata": {},
      "outputs": [
        {
          "data": {
            "application/vnd.jupyter.widget-view+json": {
              "model_id": "652aaa1ab44b40c39f5872c908bfba40",
              "version_major": 2,
              "version_minor": 0
            },
            "text/plain": [
              "Applying HeadlinesExtractor:   0%|          | 0/21 [00:00<?, ?it/s]"
            ]
          },
          "metadata": {},
          "output_type": "display_data"
        },
        {
          "data": {
            "application/vnd.jupyter.widget-view+json": {
              "model_id": "f86802f9c80a445fb771b0ccf6a4c1a2",
              "version_major": 2,
              "version_minor": 0
            },
            "text/plain": [
              "Applying HeadlineSplitter:   0%|          | 0/64 [00:00<?, ?it/s]"
            ]
          },
          "metadata": {},
          "output_type": "display_data"
        },
        {
          "name": "stderr",
          "output_type": "stream",
          "text": [
            "unable to apply transformation: 'headlines' property not found in this node\n",
            "unable to apply transformation: 'headlines' property not found in this node\n",
            "unable to apply transformation: 'headlines' property not found in this node\n",
            "unable to apply transformation: 'headlines' property not found in this node\n",
            "unable to apply transformation: 'headlines' property not found in this node\n",
            "unable to apply transformation: 'headlines' property not found in this node\n",
            "unable to apply transformation: 'headlines' property not found in this node\n",
            "unable to apply transformation: 'headlines' property not found in this node\n",
            "unable to apply transformation: 'headlines' property not found in this node\n",
            "unable to apply transformation: 'headlines' property not found in this node\n",
            "unable to apply transformation: 'headlines' property not found in this node\n",
            "unable to apply transformation: 'headlines' property not found in this node\n",
            "unable to apply transformation: 'headlines' property not found in this node\n",
            "unable to apply transformation: 'headlines' property not found in this node\n",
            "unable to apply transformation: 'headlines' property not found in this node\n",
            "unable to apply transformation: 'headlines' property not found in this node\n",
            "unable to apply transformation: 'headlines' property not found in this node\n",
            "unable to apply transformation: 'headlines' property not found in this node\n",
            "unable to apply transformation: 'headlines' property not found in this node\n",
            "unable to apply transformation: 'headlines' property not found in this node\n",
            "unable to apply transformation: 'headlines' property not found in this node\n",
            "unable to apply transformation: 'headlines' property not found in this node\n",
            "unable to apply transformation: 'headlines' property not found in this node\n",
            "unable to apply transformation: 'headlines' property not found in this node\n",
            "unable to apply transformation: 'headlines' property not found in this node\n",
            "unable to apply transformation: 'headlines' property not found in this node\n",
            "unable to apply transformation: 'headlines' property not found in this node\n",
            "unable to apply transformation: 'headlines' property not found in this node\n",
            "unable to apply transformation: 'headlines' property not found in this node\n",
            "unable to apply transformation: 'headlines' property not found in this node\n",
            "unable to apply transformation: 'headlines' property not found in this node\n",
            "unable to apply transformation: 'headlines' property not found in this node\n",
            "unable to apply transformation: 'headlines' property not found in this node\n",
            "unable to apply transformation: 'headlines' property not found in this node\n",
            "unable to apply transformation: 'headlines' property not found in this node\n",
            "unable to apply transformation: 'headlines' property not found in this node\n",
            "unable to apply transformation: 'headlines' property not found in this node\n",
            "unable to apply transformation: 'headlines' property not found in this node\n",
            "unable to apply transformation: 'headlines' property not found in this node\n",
            "unable to apply transformation: 'headlines' property not found in this node\n",
            "unable to apply transformation: 'headlines' property not found in this node\n",
            "unable to apply transformation: 'headlines' property not found in this node\n",
            "unable to apply transformation: 'headlines' property not found in this node\n"
          ]
        },
        {
          "data": {
            "application/vnd.jupyter.widget-view+json": {
              "model_id": "dd595b73ef2543c78d8eaaf54381706f",
              "version_major": 2,
              "version_minor": 0
            },
            "text/plain": [
              "Applying SummaryExtractor:   0%|          | 0/38 [00:00<?, ?it/s]"
            ]
          },
          "metadata": {},
          "output_type": "display_data"
        },
        {
          "name": "stderr",
          "output_type": "stream",
          "text": [
            "Property 'summary' already exists in node '6e67fa'. Skipping!\n",
            "Property 'summary' already exists in node 'b4e647'. Skipping!\n",
            "Property 'summary' already exists in node 'b91d44'. Skipping!\n",
            "Property 'summary' already exists in node '31a7c3'. Skipping!\n",
            "Property 'summary' already exists in node '86a9dd'. Skipping!\n",
            "Property 'summary' already exists in node 'c21d3c'. Skipping!\n",
            "Property 'summary' already exists in node 'dc43cc'. Skipping!\n",
            "Property 'summary' already exists in node 'e16aba'. Skipping!\n",
            "Property 'summary' already exists in node 'ff47c2'. Skipping!\n",
            "Property 'summary' already exists in node '31db20'. Skipping!\n",
            "Property 'summary' already exists in node '49fd31'. Skipping!\n",
            "Property 'summary' already exists in node '580578'. Skipping!\n",
            "Property 'summary' already exists in node 'ef1db4'. Skipping!\n",
            "Property 'summary' already exists in node 'cc5dd5'. Skipping!\n",
            "Property 'summary' already exists in node '9f9fdd'. Skipping!\n",
            "Property 'summary' already exists in node '70faf7'. Skipping!\n",
            "Property 'summary' already exists in node '9a8555'. Skipping!\n"
          ]
        },
        {
          "data": {
            "application/vnd.jupyter.widget-view+json": {
              "model_id": "2f67ede294bc4402a4eebe959afa99d3",
              "version_major": 2,
              "version_minor": 0
            },
            "text/plain": [
              "Applying CustomNodeFilter:   0%|          | 0/8 [00:00<?, ?it/s]"
            ]
          },
          "metadata": {},
          "output_type": "display_data"
        },
        {
          "data": {
            "application/vnd.jupyter.widget-view+json": {
              "model_id": "fe51b81976ba42e4a36df0eae29b6d08",
              "version_major": 2,
              "version_minor": 0
            },
            "text/plain": [
              "Applying [EmbeddingExtractor, ThemesExtractor, NERExtractor]:   0%|          | 0/48 [00:00<?, ?it/s]"
            ]
          },
          "metadata": {},
          "output_type": "display_data"
        },
        {
          "name": "stderr",
          "output_type": "stream",
          "text": [
            "Property 'summary_embedding' already exists in node '31a7c3'. Skipping!\n",
            "Property 'summary_embedding' already exists in node 'c21d3c'. Skipping!\n",
            "Property 'summary_embedding' already exists in node '6e67fa'. Skipping!\n",
            "Property 'summary_embedding' already exists in node 'dc43cc'. Skipping!\n",
            "Property 'summary_embedding' already exists in node '86a9dd'. Skipping!\n",
            "Property 'summary_embedding' already exists in node 'b91d44'. Skipping!\n",
            "Property 'summary_embedding' already exists in node '31db20'. Skipping!\n",
            "Property 'summary_embedding' already exists in node 'ef1db4'. Skipping!\n",
            "Property 'summary_embedding' already exists in node 'ff47c2'. Skipping!\n",
            "Property 'summary_embedding' already exists in node 'e16aba'. Skipping!\n",
            "Property 'summary_embedding' already exists in node 'b4e647'. Skipping!\n",
            "Property 'summary_embedding' already exists in node '49fd31'. Skipping!\n",
            "Property 'summary_embedding' already exists in node '70faf7'. Skipping!\n",
            "Property 'summary_embedding' already exists in node 'cc5dd5'. Skipping!\n",
            "Property 'summary_embedding' already exists in node '580578'. Skipping!\n",
            "Property 'summary_embedding' already exists in node '9f9fdd'. Skipping!\n",
            "Property 'summary_embedding' already exists in node '9a8555'. Skipping!\n"
          ]
        },
        {
          "data": {
            "application/vnd.jupyter.widget-view+json": {
              "model_id": "3f5bd780b0414126bc64f1569128c9a4",
              "version_major": 2,
              "version_minor": 0
            },
            "text/plain": [
              "Applying [CosineSimilarityBuilder, OverlapScoreBuilder]:   0%|          | 0/2 [00:00<?, ?it/s]"
            ]
          },
          "metadata": {},
          "output_type": "display_data"
        },
        {
          "data": {
            "application/vnd.jupyter.widget-view+json": {
              "model_id": "76a1e165e61245f287e7c2aad7840c00",
              "version_major": 2,
              "version_minor": 0
            },
            "text/plain": [
              "Generating personas:   0%|          | 0/3 [00:00<?, ?it/s]"
            ]
          },
          "metadata": {},
          "output_type": "display_data"
        },
        {
          "data": {
            "application/vnd.jupyter.widget-view+json": {
              "model_id": "93a2b1351c024168adb0950190c2b44c",
              "version_major": 2,
              "version_minor": 0
            },
            "text/plain": [
              "Generating Scenarios:   0%|          | 0/3 [00:00<?, ?it/s]"
            ]
          },
          "metadata": {},
          "output_type": "display_data"
        },
        {
          "data": {
            "application/vnd.jupyter.widget-view+json": {
              "model_id": "e284e1f4e879493ab768f37a2f8c8c98",
              "version_major": 2,
              "version_minor": 0
            },
            "text/plain": [
              "Generating Samples:   0%|          | 0/12 [00:00<?, ?it/s]"
            ]
          },
          "metadata": {},
          "output_type": "display_data"
        }
      ],
      "source": [
        "from ragas.testset import TestsetGenerator\n",
        "\n",
        "generator = TestsetGenerator(llm=generator_llm, embedding_model=generator_embeddings)\n",
        "dataset = generator.generate_with_langchain_docs(docs, testset_size=10)"
      ]
    },
    {
      "cell_type": "code",
      "execution_count": 26,
      "metadata": {},
      "outputs": [
        {
          "data": {
            "text/html": [
              "<div>\n",
              "<style scoped>\n",
              "    .dataframe tbody tr th:only-of-type {\n",
              "        vertical-align: middle;\n",
              "    }\n",
              "\n",
              "    .dataframe tbody tr th {\n",
              "        vertical-align: top;\n",
              "    }\n",
              "\n",
              "    .dataframe thead th {\n",
              "        text-align: right;\n",
              "    }\n",
              "</style>\n",
              "<table border=\"1\" class=\"dataframe\">\n",
              "  <thead>\n",
              "    <tr style=\"text-align: right;\">\n",
              "      <th></th>\n",
              "      <th>user_input</th>\n",
              "      <th>reference_contexts</th>\n",
              "      <th>reference</th>\n",
              "      <th>synthesizer_name</th>\n",
              "    </tr>\n",
              "  </thead>\n",
              "  <tbody>\n",
              "    <tr>\n",
              "      <th>0</th>\n",
              "      <td>What Pew Research Center 2025 says about ChatG...</td>\n",
              "      <td>[Introduction ChatGPT launched in November 202...</td>\n",
              "      <td>The context mentions a Pew Research Center 202...</td>\n",
              "      <td>single_hop_specifc_query_synthesizer</td>\n",
              "    </tr>\n",
              "    <tr>\n",
              "      <th>1</th>\n",
              "      <td>According to the context, how does Collis rela...</td>\n",
              "      <td>[Total daily counts are exact measurements of ...</td>\n",
              "      <td>The context mentions Collis in relation to a s...</td>\n",
              "      <td>single_hop_specifc_query_synthesizer</td>\n",
              "    </tr>\n",
              "    <tr>\n",
              "      <th>2</th>\n",
              "      <td>How does the context describe ChatGPT usage am...</td>\n",
              "      <td>[Variation by Occupation Figure 23 presents va...</td>\n",
              "      <td>The context reports variation in ChatGPT usage...</td>\n",
              "      <td>single_hop_specifc_query_synthesizer</td>\n",
              "    </tr>\n",
              "    <tr>\n",
              "      <th>3</th>\n",
              "      <td>Whaat is the calue of Computer Programmng in t...</td>\n",
              "      <td>[Conclusion This paper studies the rapid growt...</td>\n",
              "      <td>According to the provided context, Computer Pr...</td>\n",
              "      <td>single_hop_specifc_query_synthesizer</td>\n",
              "    </tr>\n",
              "    <tr>\n",
              "      <th>4</th>\n",
              "      <td>How do the conversation topics, such as writin...</td>\n",
              "      <td>[&lt;1-hop&gt;\\n\\nVariation by Occupation Figure 23 ...</td>\n",
              "      <td>The context indicates that variation in ChatGP...</td>\n",
              "      <td>multi_hop_abstract_query_synthesizer</td>\n",
              "    </tr>\n",
              "    <tr>\n",
              "      <th>5</th>\n",
              "      <td>Based on the data smoothing of 7-day averages,...</td>\n",
              "      <td>[&lt;1-hop&gt;\\n\\nMonth Non-Work (M) (%) Work (M) (%...</td>\n",
              "      <td>The data shows that non-work-related messages ...</td>\n",
              "      <td>multi_hop_abstract_query_synthesizer</td>\n",
              "    </tr>\n",
              "    <tr>\n",
              "      <th>6</th>\n",
              "      <td>How do user demographics and usage patterns, s...</td>\n",
              "      <td>[&lt;1-hop&gt;\\n\\nConclusion This paper studies the ...</td>\n",
              "      <td>The data indicates that ChatGPT usage varies a...</td>\n",
              "      <td>multi_hop_abstract_query_synthesizer</td>\n",
              "    </tr>\n",
              "    <tr>\n",
              "      <th>7</th>\n",
              "      <td>how much non-work messages growed in chatgpt f...</td>\n",
              "      <td>[&lt;1-hop&gt;\\n\\nMonth Non-Work (M) (%) Work (M) (%...</td>\n",
              "      <td>In June 2024, non-work messages accounted for ...</td>\n",
              "      <td>multi_hop_abstract_query_synthesizer</td>\n",
              "    </tr>\n",
              "    <tr>\n",
              "      <th>8</th>\n",
              "      <td>How do the themes of Collis relate to the insi...</td>\n",
              "      <td>[&lt;1-hop&gt;\\n\\nConclusion This paper studies the ...</td>\n",
              "      <td>The themes of Collis are reflected in the cont...</td>\n",
              "      <td>multi_hop_specific_query_synthesizer</td>\n",
              "    </tr>\n",
              "    <tr>\n",
              "      <th>9</th>\n",
              "      <td>How do the findings by Brynjolfsson in the fir...</td>\n",
              "      <td>[&lt;1-hop&gt;\\n\\nConclusion This paper studies the ...</td>\n",
              "      <td>Brynjolfsson's findings in the first segment h...</td>\n",
              "      <td>multi_hop_specific_query_synthesizer</td>\n",
              "    </tr>\n",
              "    <tr>\n",
              "      <th>10</th>\n",
              "      <td>Considering the rapid growth of ChatGPT usage ...</td>\n",
              "      <td>[&lt;1-hop&gt;\\n\\nConclusion This paper studies the ...</td>\n",
              "      <td>The first segment highlights that ChatGPT has ...</td>\n",
              "      <td>multi_hop_specific_query_synthesizer</td>\n",
              "    </tr>\n",
              "    <tr>\n",
              "      <th>11</th>\n",
              "      <td>Considering the rapid growth of ChatGPT usage ...</td>\n",
              "      <td>[&lt;1-hop&gt;\\n\\nConclusion This paper studies the ...</td>\n",
              "      <td>The first context highlights that ChatGPT has ...</td>\n",
              "      <td>multi_hop_specific_query_synthesizer</td>\n",
              "    </tr>\n",
              "  </tbody>\n",
              "</table>\n",
              "</div>"
            ],
            "text/plain": [
              "                                           user_input  \\\n",
              "0   What Pew Research Center 2025 says about ChatG...   \n",
              "1   According to the context, how does Collis rela...   \n",
              "2   How does the context describe ChatGPT usage am...   \n",
              "3   Whaat is the calue of Computer Programmng in t...   \n",
              "4   How do the conversation topics, such as writin...   \n",
              "5   Based on the data smoothing of 7-day averages,...   \n",
              "6   How do user demographics and usage patterns, s...   \n",
              "7   how much non-work messages growed in chatgpt f...   \n",
              "8   How do the themes of Collis relate to the insi...   \n",
              "9   How do the findings by Brynjolfsson in the fir...   \n",
              "10  Considering the rapid growth of ChatGPT usage ...   \n",
              "11  Considering the rapid growth of ChatGPT usage ...   \n",
              "\n",
              "                                   reference_contexts  \\\n",
              "0   [Introduction ChatGPT launched in November 202...   \n",
              "1   [Total daily counts are exact measurements of ...   \n",
              "2   [Variation by Occupation Figure 23 presents va...   \n",
              "3   [Conclusion This paper studies the rapid growt...   \n",
              "4   [<1-hop>\\n\\nVariation by Occupation Figure 23 ...   \n",
              "5   [<1-hop>\\n\\nMonth Non-Work (M) (%) Work (M) (%...   \n",
              "6   [<1-hop>\\n\\nConclusion This paper studies the ...   \n",
              "7   [<1-hop>\\n\\nMonth Non-Work (M) (%) Work (M) (%...   \n",
              "8   [<1-hop>\\n\\nConclusion This paper studies the ...   \n",
              "9   [<1-hop>\\n\\nConclusion This paper studies the ...   \n",
              "10  [<1-hop>\\n\\nConclusion This paper studies the ...   \n",
              "11  [<1-hop>\\n\\nConclusion This paper studies the ...   \n",
              "\n",
              "                                            reference  \\\n",
              "0   The context mentions a Pew Research Center 202...   \n",
              "1   The context mentions Collis in relation to a s...   \n",
              "2   The context reports variation in ChatGPT usage...   \n",
              "3   According to the provided context, Computer Pr...   \n",
              "4   The context indicates that variation in ChatGP...   \n",
              "5   The data shows that non-work-related messages ...   \n",
              "6   The data indicates that ChatGPT usage varies a...   \n",
              "7   In June 2024, non-work messages accounted for ...   \n",
              "8   The themes of Collis are reflected in the cont...   \n",
              "9   Brynjolfsson's findings in the first segment h...   \n",
              "10  The first segment highlights that ChatGPT has ...   \n",
              "11  The first context highlights that ChatGPT has ...   \n",
              "\n",
              "                        synthesizer_name  \n",
              "0   single_hop_specifc_query_synthesizer  \n",
              "1   single_hop_specifc_query_synthesizer  \n",
              "2   single_hop_specifc_query_synthesizer  \n",
              "3   single_hop_specifc_query_synthesizer  \n",
              "4   multi_hop_abstract_query_synthesizer  \n",
              "5   multi_hop_abstract_query_synthesizer  \n",
              "6   multi_hop_abstract_query_synthesizer  \n",
              "7   multi_hop_abstract_query_synthesizer  \n",
              "8   multi_hop_specific_query_synthesizer  \n",
              "9   multi_hop_specific_query_synthesizer  \n",
              "10  multi_hop_specific_query_synthesizer  \n",
              "11  multi_hop_specific_query_synthesizer  "
            ]
          },
          "execution_count": 26,
          "metadata": {},
          "output_type": "execute_result"
        }
      ],
      "source": [
        "dataset.to_pandas()"
      ]
    },
    {
      "cell_type": "markdown",
      "metadata": {
        "id": "6vSRr2MXk0P_"
      },
      "source": [
        "We'll need to provide our LangSmith API key, and set tracing to \"true\"."
      ]
    },
    {
      "cell_type": "markdown",
      "metadata": {
        "id": "vLDUsLJg43k7"
      },
      "source": [
        "# 🤝 BREAKOUT ROOM #2"
      ]
    },
    {
      "cell_type": "markdown",
      "metadata": {
        "id": "8SLtk1GtnyoY"
      },
      "source": [
        "## Task 4: LangSmith Dataset\n",
        "\n",
        "Now we can move on to creating a dataset for LangSmith!\n",
        "\n",
        "First, we'll need to create a dataset on LangSmith using the `Client`!\n",
        "\n",
        "We'll name our Dataset to make it easy to work with later."
      ]
    },
    {
      "cell_type": "code",
      "execution_count": 27,
      "metadata": {
        "id": "TLgm6OjvYSsm"
      },
      "outputs": [],
      "source": [
        "from langsmith import Client\n",
        "\n",
        "client = Client()\n",
        "\n",
        "dataset_name = \"Use Case Synthetic Data - AIE8\"\n",
        "\n",
        "langsmith_dataset = client.create_dataset(\n",
        "    dataset_name=dataset_name,\n",
        "    description=\"Synthetic Data for Use Cases\"\n",
        ")"
      ]
    },
    {
      "cell_type": "markdown",
      "metadata": {
        "id": "64SmXMBnzXWm"
      },
      "source": [
        "We'll iterate through the RAGAS created dataframe - and add each example to our created dataset!\n",
        "\n",
        "> NOTE: We need to conform the outputs to the expected format - which in this case is: `question` and `answer`."
      ]
    },
    {
      "cell_type": "code",
      "execution_count": 28,
      "metadata": {
        "id": "8nFQ6di_XnY7"
      },
      "outputs": [],
      "source": [
        "for data_row in dataset.to_pandas().iterrows():\n",
        "  client.create_example(\n",
        "      inputs={\n",
        "          \"question\": data_row[1][\"user_input\"]\n",
        "      },\n",
        "      outputs={\n",
        "          \"answer\": data_row[1][\"reference\"]\n",
        "      },\n",
        "      metadata={\n",
        "          \"context\": data_row[1][\"reference_contexts\"]\n",
        "      },\n",
        "      dataset_id=langsmith_dataset.id\n",
        "  )"
      ]
    },
    {
      "cell_type": "markdown",
      "metadata": {
        "id": "o6EbQVyZq-2j"
      },
      "source": [
        "## Basic RAG Chain\n",
        "\n",
        "Time for some RAG!\n"
      ]
    },
    {
      "cell_type": "code",
      "execution_count": 29,
      "metadata": {
        "id": "4njbUAIsaYjB"
      },
      "outputs": [],
      "source": [
        "rag_documents = docs"
      ]
    },
    {
      "cell_type": "markdown",
      "metadata": {
        "id": "bQorBy8H1AZR"
      },
      "source": [
        "To keep things simple, we'll just use LangChain's recursive character text splitter!\n"
      ]
    },
    {
      "cell_type": "code",
      "execution_count": 30,
      "metadata": {
        "id": "qWo3Ajaragv1"
      },
      "outputs": [],
      "source": [
        "from langchain.text_splitter import RecursiveCharacterTextSplitter\n",
        "\n",
        "text_splitter = RecursiveCharacterTextSplitter(\n",
        "    chunk_size = 500,\n",
        "    chunk_overlap = 50\n",
        ")\n",
        "\n",
        "rag_documents = text_splitter.split_documents(rag_documents)"
      ]
    },
    {
      "cell_type": "markdown",
      "metadata": {
        "id": "kghuTb9R01oO"
      },
      "source": [
        "We'll create our vectorstore using OpenAI's [`text-embedding-3-small`](https://platform.openai.com/docs/guides/embeddings/embedding-models) embedding model."
      ]
    },
    {
      "cell_type": "code",
      "execution_count": 31,
      "metadata": {
        "id": "UwfJCzP3aqKI"
      },
      "outputs": [],
      "source": [
        "from langchain_openai import OpenAIEmbeddings\n",
        "\n",
        "embeddings = OpenAIEmbeddings(model=\"text-embedding-3-small\")"
      ]
    },
    {
      "cell_type": "markdown",
      "metadata": {
        "id": "QpCLS-a01Ft2"
      },
      "source": [
        "As usual, we will power our RAG application with Qdrant!"
      ]
    },
    {
      "cell_type": "code",
      "execution_count": 32,
      "metadata": {
        "id": "58Ypj_NgbEsi"
      },
      "outputs": [],
      "source": [
        "from langchain_community.vectorstores import Qdrant\n",
        "\n",
        "vectorstore = Qdrant.from_documents(\n",
        "    documents=rag_documents,\n",
        "    embedding=embeddings,\n",
        "    location=\":memory:\",\n",
        "    collection_name=\"Use Case RAG\"\n",
        ")"
      ]
    },
    {
      "cell_type": "code",
      "execution_count": 33,
      "metadata": {
        "id": "SbKSjfSkbTYo"
      },
      "outputs": [],
      "source": [
        "retriever = vectorstore.as_retriever(search_kwargs={\"k\": 10})"
      ]
    },
    {
      "cell_type": "markdown",
      "metadata": {
        "id": "WxUOMaQX1K2N"
      },
      "source": [
        "To get the \"A\" in RAG, we'll provide a prompt."
      ]
    },
    {
      "cell_type": "code",
      "execution_count": 34,
      "metadata": {
        "id": "1sLeY1oWbVqO"
      },
      "outputs": [],
      "source": [
        "from langchain.prompts import ChatPromptTemplate\n",
        "\n",
        "RAG_PROMPT = \"\"\"\\\n",
        "Given a provided context and question, you must answer the question based only on context.\n",
        "\n",
        "If you cannot answer the question based on the context - you must say \"I don't know\".\n",
        "\n",
        "Context: {context}\n",
        "Question: {question}\n",
        "\"\"\"\n",
        "\n",
        "rag_prompt = ChatPromptTemplate.from_template(RAG_PROMPT)"
      ]
    },
    {
      "cell_type": "markdown",
      "metadata": {
        "id": "PZnHDh4e1Ou5"
      },
      "source": [
        "As is usual: We'll be using `gpt-4.1-mini` for our RAG!"
      ]
    },
    {
      "cell_type": "code",
      "execution_count": 35,
      "metadata": {
        "id": "6nx-ue1XbciV"
      },
      "outputs": [],
      "source": [
        "from langchain_openai import ChatOpenAI\n",
        "\n",
        "llm = ChatOpenAI(model=\"gpt-4.1-mini\")"
      ]
    },
    {
      "cell_type": "markdown",
      "metadata": {
        "id": "jmTL6-pc1ZGz"
      },
      "source": [
        "Finally, we can set-up our RAG LCEL chain!"
      ]
    },
    {
      "cell_type": "code",
      "execution_count": 36,
      "metadata": {
        "id": "TjWj0OLIbbFc"
      },
      "outputs": [],
      "source": [
        "from operator import itemgetter\n",
        "from langchain_core.runnables import RunnablePassthrough, RunnableParallel\n",
        "from langchain.schema import StrOutputParser\n",
        "\n",
        "rag_chain = (\n",
        "    {\"context\": itemgetter(\"question\") | retriever, \"question\": itemgetter(\"question\")}\n",
        "    | rag_prompt | llm | StrOutputParser()\n",
        ")"
      ]
    },
    {
      "cell_type": "code",
      "execution_count": 37,
      "metadata": {
        "colab": {
          "base_uri": "https://localhost:8080/",
          "height": 35
        },
        "id": "WQ7bEweo4IIb",
        "outputId": "d161b269-f799-4920-d6ce-c202f6e783aa"
      },
      "outputs": [
        {
          "data": {
            "text/plain": [
              "'Based on the provided context, people are using AI, particularly generative AI like ChatGPT, in many different ways both at work and outside of work. AI is used to perform workplace tasks by either augmenting or automating human labor. It is applied for producing writing, software code, spreadsheets, and other digital products, which distinguishes generative AI from traditional technologies. People interact with AI with varying intents classified as Asking (seeking information or advice), Doing (producing output), or Expressing (self-expression). Users use AI as co-workers that produce output or as co-pilots that provide advice and improve human problem-solving productivity. Additionally, AI is flexibly used across diverse tasks such as data analysis, relationships, personal reflection, role play, and more. Overall, AI serves in productive, creative, and assistance roles across multiple economic and personal domains.'"
            ]
          },
          "execution_count": 37,
          "metadata": {},
          "output_type": "execute_result"
        }
      ],
      "source": [
        "rag_chain.invoke({\"question\" : \"What are people doing with AI these days?\"})"
      ]
    },
    {
      "cell_type": "markdown",
      "metadata": {
        "id": "D9hBh5YPrdGJ"
      },
      "source": [
        "## LangSmith Evaluation Set-up\n",
        "\n",
        "We'll use OpenAI's GPT-4.1 as our evaluation LLM for our base Evaluators."
      ]
    },
    {
      "cell_type": "code",
      "execution_count": 38,
      "metadata": {
        "id": "gfwPYdIkcvpF"
      },
      "outputs": [],
      "source": [
        "eval_llm = ChatOpenAI(model=\"gpt-4.1\")"
      ]
    },
    {
      "cell_type": "markdown",
      "metadata": {
        "id": "6b8pToKH2K28"
      },
      "source": [
        "We'll be using a number of evaluators - from LangSmith provided evaluators, to a few custom evaluators!"
      ]
    },
    {
      "cell_type": "code",
      "execution_count": 39,
      "metadata": {
        "id": "PXSG-_ajckp6"
      },
      "outputs": [],
      "source": [
        "from langsmith.evaluation import LangChainStringEvaluator, evaluate\n",
        "\n",
        "qa_evaluator = LangChainStringEvaluator(\"qa\", config={\"llm\" : eval_llm})\n",
        "\n",
        "labeled_helpfulness_evaluator = LangChainStringEvaluator(\n",
        "    \"labeled_criteria\",\n",
        "    config={\n",
        "        \"criteria\": {\n",
        "            \"helpfulness\": (\n",
        "                \"Is this submission helpful to the user,\"\n",
        "                \" taking into account the correct reference answer?\"\n",
        "            )\n",
        "        },\n",
        "        \"llm\" : eval_llm\n",
        "    },\n",
        "    prepare_data=lambda run, example: {\n",
        "        \"prediction\": run.outputs[\"output\"],\n",
        "        \"reference\": example.outputs[\"answer\"],\n",
        "        \"input\": example.inputs[\"question\"],\n",
        "    }\n",
        ")\n",
        "\n",
        "dopeness_evaluator = LangChainStringEvaluator(\n",
        "    \"criteria\",\n",
        "    config={\n",
        "        \"criteria\": {\n",
        "            \"dopeness\": \"Is this response dope, lit, cool, or is it just a generic response?\",\n",
        "        },\n",
        "        \"llm\" : eval_llm\n",
        "    }\n",
        ")"
      ]
    },
    {
      "cell_type": "markdown",
      "metadata": {
        "id": "z0SQP_FoCetP"
      },
      "source": [
        "#### 🏗️ Activity #2:\n",
        "\n",
        "Highlight what each evaluator is evaluating.\n",
        "\n",
        "- `qa_evaluator`: Judges answer correctness against the reference (does the prediction answer the question accurately and completely, without hallucinating).\n",
        "- `labeled_helpfulness_evaluator`:Rates how helpful the prediction is given the labeled reference (clarity, usefulness, actionable detail, adherence to the user’s need).\n",
        "- `dopeness_evaluator`:Scores “wow/engagement” factors (originality, insightfulness, readability/flow) beyond pure correctness—useful for qualitative/UX-focused evaluation."
      ]
    },
    {
      "cell_type": "markdown",
      "metadata": {
        "id": "R35sQMHVrnpl"
      },
      "source": [
        "## LangSmith Evaluation"
      ]
    },
    {
      "cell_type": "code",
      "execution_count": 40,
      "metadata": {
        "colab": {
          "base_uri": "https://localhost:8080/",
          "height": 136,
          "referenced_widgets": [
            "122b1bd1f0e9417a8dcb57d4eebe4d2e",
            "e0c233ad01604540a6c873f4a731982d",
            "e9a01115c75b499884f7e0ef32e9e599",
            "5faba4ad609448b2b49024add4ad3b8e",
            "ef25efa751304e4699910f1fbc14345f",
            "0b44cb0f8e34446c8dde668a75d3d8ad",
            "edaac6587b2d4bd5be52b89bb097f99f",
            "7cb241365f604419af454c1c28de197a",
            "9cf586576ff44dba86ba2eb389593c61",
            "849b5c95008541d49f1ceedf0a59ac60",
            "f3665a86662746c4ac7cb0796604781d"
          ]
        },
        "id": "t7t_Uz0tdumL",
        "outputId": "d684e218-294e-4dc3-c8de-a01d397f021c"
      },
      "outputs": [
        {
          "name": "stdout",
          "output_type": "stream",
          "text": [
            "View the evaluation results for experiment: 'respectful-stomach-63' at:\n",
            "https://smith.langchain.com/o/8b8098c0-2dae-45d0-b8d7-292915a4d198/datasets/7000b13a-bca0-4fc9-a07c-7e5a4664980c/compare?selectedSessions=f9ad050e-92b5-42de-a26c-681622ae2d65\n",
            "\n",
            "\n"
          ]
        },
        {
          "data": {
            "application/vnd.jupyter.widget-view+json": {
              "model_id": "dc1b0e46b9bd4ab89229d0e00285186c",
              "version_major": 2,
              "version_minor": 0
            },
            "text/plain": [
              "0it [00:00, ?it/s]"
            ]
          },
          "metadata": {},
          "output_type": "display_data"
        },
        {
          "data": {
            "text/html": [
              "<div>\n",
              "<style scoped>\n",
              "    .dataframe tbody tr th:only-of-type {\n",
              "        vertical-align: middle;\n",
              "    }\n",
              "\n",
              "    .dataframe tbody tr th {\n",
              "        vertical-align: top;\n",
              "    }\n",
              "\n",
              "    .dataframe thead th {\n",
              "        text-align: right;\n",
              "    }\n",
              "</style>\n",
              "<table border=\"1\" class=\"dataframe\">\n",
              "  <thead>\n",
              "    <tr style=\"text-align: right;\">\n",
              "      <th></th>\n",
              "      <th>inputs.question</th>\n",
              "      <th>outputs.output</th>\n",
              "      <th>error</th>\n",
              "      <th>reference.answer</th>\n",
              "      <th>feedback.correctness</th>\n",
              "      <th>feedback.helpfulness</th>\n",
              "      <th>feedback.dopeness</th>\n",
              "      <th>execution_time</th>\n",
              "      <th>example_id</th>\n",
              "      <th>id</th>\n",
              "    </tr>\n",
              "  </thead>\n",
              "  <tbody>\n",
              "    <tr>\n",
              "      <th>0</th>\n",
              "      <td>Considering the rapid growth of ChatGPT usage ...</td>\n",
              "      <td>Based on the provided context, the emphasis on...</td>\n",
              "      <td>None</td>\n",
              "      <td>The first context highlights that ChatGPT has ...</td>\n",
              "      <td>1</td>\n",
              "      <td>1</td>\n",
              "      <td>0</td>\n",
              "      <td>19.582901</td>\n",
              "      <td>6a91b7e4-14f2-4730-9826-3c7c8eef9365</td>\n",
              "      <td>4307d047-d8ed-42fe-9e2e-824358cbf2d9</td>\n",
              "    </tr>\n",
              "    <tr>\n",
              "      <th>1</th>\n",
              "      <td>Considering the rapid growth of ChatGPT usage ...</td>\n",
              "      <td>Based on the provided context, the emphasis on...</td>\n",
              "      <td>None</td>\n",
              "      <td>The first segment highlights that ChatGPT has ...</td>\n",
              "      <td>1</td>\n",
              "      <td>0</td>\n",
              "      <td>0</td>\n",
              "      <td>5.848665</td>\n",
              "      <td>3dc46ccc-e9a4-407a-97bd-2d1152386043</td>\n",
              "      <td>f0ed6893-ec19-4e52-a282-0a98fbdebc2d</td>\n",
              "    </tr>\n",
              "    <tr>\n",
              "      <th>2</th>\n",
              "      <td>How do the findings by Brynjolfsson in the fir...</td>\n",
              "      <td>The findings by Brynjolfsson indicate that Cha...</td>\n",
              "      <td>None</td>\n",
              "      <td>Brynjolfsson's findings in the first segment h...</td>\n",
              "      <td>1</td>\n",
              "      <td>1</td>\n",
              "      <td>0</td>\n",
              "      <td>5.219519</td>\n",
              "      <td>8358f5de-f636-4a6d-b7ee-f8ece280757c</td>\n",
              "      <td>7f6da6fd-30cb-4b87-9dfd-e5db0560f2e0</td>\n",
              "    </tr>\n",
              "    <tr>\n",
              "      <th>3</th>\n",
              "      <td>How do the themes of Collis relate to the insi...</td>\n",
              "      <td>The context states that Collis and Brynjolfsso...</td>\n",
              "      <td>None</td>\n",
              "      <td>The themes of Collis are reflected in the cont...</td>\n",
              "      <td>1</td>\n",
              "      <td>1</td>\n",
              "      <td>0</td>\n",
              "      <td>7.673538</td>\n",
              "      <td>176d79d6-4e4e-416d-b2b9-3550eddf61ae</td>\n",
              "      <td>0bd04b15-9a75-454b-a320-3cf37bb2506f</td>\n",
              "    </tr>\n",
              "    <tr>\n",
              "      <th>4</th>\n",
              "      <td>how much non-work messages growed in chatgpt f...</td>\n",
              "      <td>Non-work-related messages grew from 238 millio...</td>\n",
              "      <td>None</td>\n",
              "      <td>In June 2024, non-work messages accounted for ...</td>\n",
              "      <td>1</td>\n",
              "      <td>1</td>\n",
              "      <td>0</td>\n",
              "      <td>3.980609</td>\n",
              "      <td>5941b2b9-265a-4fe8-a797-973ae0c49d88</td>\n",
              "      <td>ca186997-d0f4-41cb-aeac-02e2d2ea2d50</td>\n",
              "    </tr>\n",
              "    <tr>\n",
              "      <th>5</th>\n",
              "      <td>How do user demographics and usage patterns, s...</td>\n",
              "      <td>Based on the provided context, user demographi...</td>\n",
              "      <td>None</td>\n",
              "      <td>The data indicates that ChatGPT usage varies a...</td>\n",
              "      <td>1</td>\n",
              "      <td>1</td>\n",
              "      <td>0</td>\n",
              "      <td>7.950710</td>\n",
              "      <td>fe93979a-7b96-4232-be12-d291a6b1f52a</td>\n",
              "      <td>8ac1bfe9-626c-4d15-b604-25bca0e09233</td>\n",
              "    </tr>\n",
              "    <tr>\n",
              "      <th>6</th>\n",
              "      <td>Based on the data smoothing of 7-day averages,...</td>\n",
              "      <td>Based on the context provided, the proportion ...</td>\n",
              "      <td>None</td>\n",
              "      <td>The data shows that non-work-related messages ...</td>\n",
              "      <td>1</td>\n",
              "      <td>1</td>\n",
              "      <td>0</td>\n",
              "      <td>5.215303</td>\n",
              "      <td>3aeaa879-68e6-4fa4-acca-9328b4d05288</td>\n",
              "      <td>e9ca8dfa-b1d3-4808-9348-c456632180c1</td>\n",
              "    </tr>\n",
              "    <tr>\n",
              "      <th>7</th>\n",
              "      <td>How do the conversation topics, such as writin...</td>\n",
              "      <td>Based on the provided context, the conversatio...</td>\n",
              "      <td>None</td>\n",
              "      <td>The context indicates that variation in ChatGP...</td>\n",
              "      <td>1</td>\n",
              "      <td>1</td>\n",
              "      <td>0</td>\n",
              "      <td>10.595175</td>\n",
              "      <td>fd1341d4-55eb-404c-8fd4-aee96c31707f</td>\n",
              "      <td>8817ba63-7c35-4270-8c86-5234424ba378</td>\n",
              "    </tr>\n",
              "    <tr>\n",
              "      <th>8</th>\n",
              "      <td>Whaat is the calue of Computer Programmng in t...</td>\n",
              "      <td>Based on the provided context, Computer Progra...</td>\n",
              "      <td>None</td>\n",
              "      <td>According to the provided context, Computer Pr...</td>\n",
              "      <td>1</td>\n",
              "      <td>1</td>\n",
              "      <td>0</td>\n",
              "      <td>1.570092</td>\n",
              "      <td>ee1b2869-9c2e-4778-8753-a9980b66ee15</td>\n",
              "      <td>27904231-9e26-4cf7-9177-484ec02e2be2</td>\n",
              "    </tr>\n",
              "    <tr>\n",
              "      <th>9</th>\n",
              "      <td>How does the context describe ChatGPT usage am...</td>\n",
              "      <td>The context describes ChatGPT usage across dif...</td>\n",
              "      <td>None</td>\n",
              "      <td>The context reports variation in ChatGPT usage...</td>\n",
              "      <td>1</td>\n",
              "      <td>1</td>\n",
              "      <td>0</td>\n",
              "      <td>3.126969</td>\n",
              "      <td>97141598-1a54-4e7c-9ea1-7d836283e551</td>\n",
              "      <td>97234228-58b0-45b7-aeb7-a92013518b3a</td>\n",
              "    </tr>\n",
              "    <tr>\n",
              "      <th>10</th>\n",
              "      <td>According to the context, how does Collis rela...</td>\n",
              "      <td>According to the context, Collis, along with B...</td>\n",
              "      <td>None</td>\n",
              "      <td>The context mentions Collis in relation to a s...</td>\n",
              "      <td>1</td>\n",
              "      <td>0</td>\n",
              "      <td>0</td>\n",
              "      <td>2.523242</td>\n",
              "      <td>09a8820f-1e14-46a5-88e2-2fa971b5c422</td>\n",
              "      <td>68483012-4ecf-4805-aaad-db6ba2a8c749</td>\n",
              "    </tr>\n",
              "    <tr>\n",
              "      <th>11</th>\n",
              "      <td>What Pew Research Center 2025 says about ChatG...</td>\n",
              "      <td>The context includes a reference to a Pew Rese...</td>\n",
              "      <td>None</td>\n",
              "      <td>The context mentions a Pew Research Center 202...</td>\n",
              "      <td>0</td>\n",
              "      <td>0</td>\n",
              "      <td>0</td>\n",
              "      <td>1.968222</td>\n",
              "      <td>ecb2b4c4-939f-441d-8149-4b768c02eef2</td>\n",
              "      <td>e57f9b16-5140-415f-bdc4-a75c1b2a58ae</td>\n",
              "    </tr>\n",
              "  </tbody>\n",
              "</table>\n",
              "</div>"
            ],
            "text/plain": [
              "<ExperimentResults respectful-stomach-63>"
            ]
          },
          "execution_count": 40,
          "metadata": {},
          "output_type": "execute_result"
        }
      ],
      "source": [
        "evaluate(\n",
        "    rag_chain.invoke,\n",
        "    data=dataset_name,\n",
        "    evaluators=[\n",
        "        qa_evaluator,\n",
        "        labeled_helpfulness_evaluator,\n",
        "        dopeness_evaluator\n",
        "    ],\n",
        "    metadata={\"revision_id\": \"default_chain_init\"},\n",
        ")"
      ]
    },
    {
      "cell_type": "markdown",
      "metadata": {
        "id": "Nq7fCVinrpI4"
      },
      "source": [
        "## Dope-ifying Our Application\n",
        "\n",
        "We'll be making a few changes to our RAG chain to increase its performance on our SDG evaluation test dataset!\n",
        "\n",
        "- Include a \"dope\" prompt augmentation\n",
        "- Use larger chunks\n",
        "- Improve the retriever model to: `text-embedding-3-large`\n",
        "\n",
        "Let's see how this changes our evaluation!"
      ]
    },
    {
      "cell_type": "code",
      "execution_count": 41,
      "metadata": {
        "id": "z56pXwyUgFUt"
      },
      "outputs": [],
      "source": [
        "DOPENESS_RAG_PROMPT = \"\"\"\\\n",
        "Given a provided context and question, you must answer the question based only on context.\n",
        "\n",
        "If you cannot answer the question based on the context - you must say \"I don't know\".\n",
        "\n",
        "Make your answer rad, ensure high levels of dopeness. Do not be generic, or give generic responses.\n",
        "\n",
        "Context: {context}\n",
        "Question: {question}\n",
        "\"\"\"\n",
        "\n",
        "dopeness_rag_prompt = ChatPromptTemplate.from_template(DOPENESS_RAG_PROMPT)"
      ]
    },
    {
      "cell_type": "code",
      "execution_count": 42,
      "metadata": {
        "id": "rZLcTstJgfv5"
      },
      "outputs": [],
      "source": [
        "rag_documents = docs"
      ]
    },
    {
      "cell_type": "code",
      "execution_count": 43,
      "metadata": {
        "id": "-LYsyirngj6n"
      },
      "outputs": [],
      "source": [
        "from langchain.text_splitter import RecursiveCharacterTextSplitter\n",
        "\n",
        "text_splitter = RecursiveCharacterTextSplitter(\n",
        "    chunk_size = 1000,\n",
        "    chunk_overlap = 50\n",
        ")\n",
        "\n",
        "rag_documents = text_splitter.split_documents(rag_documents)"
      ]
    },
    {
      "cell_type": "markdown",
      "metadata": {
        "id": "spldiPuTCzDO"
      },
      "source": [
        "#### ❓Question #2:\n",
        "\n",
        "Why would modifying our chunk size modify the performance of our application?\n",
        "Given that we want to manufacture different types of queries from the given set of documents, our major challenge is to identify the right set of chunks or documents to enable LLMs to create the queries."
      ]
    },
    {
      "cell_type": "code",
      "execution_count": 44,
      "metadata": {
        "id": "b9MI2Bm2go1r"
      },
      "outputs": [],
      "source": [
        "from langchain_openai import OpenAIEmbeddings\n",
        "\n",
        "embeddings = OpenAIEmbeddings(model=\"text-embedding-3-large\")"
      ]
    },
    {
      "cell_type": "markdown",
      "metadata": {
        "id": "UBbjG6cKC8BQ"
      },
      "source": [
        "#### ❓Question #3:\n",
        "\n",
        "Why would modifying our embedding model modify the performance of our application?\n",
        "Because embedding model turns text to numbers (vectors). So retriever uses these vectors to find which chunks of text are close to the user's query (semantic similarity is measured). "
      ]
    },
    {
      "cell_type": "code",
      "execution_count": 45,
      "metadata": {
        "id": "hVUY25FKgxXx"
      },
      "outputs": [],
      "source": [
        "vectorstore = Qdrant.from_documents(\n",
        "    documents=rag_documents,\n",
        "    embedding=embeddings,\n",
        "    location=\":memory:\",\n",
        "    collection_name=\"Use Case RAG Docs\"\n",
        ")"
      ]
    },
    {
      "cell_type": "code",
      "execution_count": 46,
      "metadata": {
        "id": "Q4TOZNYIg2v1"
      },
      "outputs": [],
      "source": [
        "retriever = vectorstore.as_retriever()"
      ]
    },
    {
      "cell_type": "markdown",
      "metadata": {
        "id": "SqYGFrnKDB91"
      },
      "source": [
        "Setting up our new and improved DOPE RAG CHAIN."
      ]
    },
    {
      "cell_type": "code",
      "execution_count": 47,
      "metadata": {
        "id": "HqnTqeXMhAdx"
      },
      "outputs": [],
      "source": [
        "dopeness_rag_chain = (\n",
        "    {\"context\": itemgetter(\"question\") | retriever, \"question\": itemgetter(\"question\")}\n",
        "    | dopeness_rag_prompt | llm | StrOutputParser()\n",
        ")"
      ]
    },
    {
      "cell_type": "markdown",
      "metadata": {
        "id": "21pTxoqJDI1Y"
      },
      "source": [
        "Let's test it on the same output that we saw before."
      ]
    },
    {
      "cell_type": "code",
      "execution_count": 48,
      "metadata": {
        "colab": {
          "base_uri": "https://localhost:8080/",
          "height": 70
        },
        "id": "OfZZ3MoN3fKv",
        "outputId": "d65722dd-92c2-4e4e-9cca-c42ee6f3f208"
      },
      "outputs": [
        {
          "data": {
            "text/plain": [
              "\"Alright, strap in for some AI-powered money moves straight from the data vault! People aren’t just using AI as a robot doing their jobs—they’re harnessing ChatGPT as a slick advisor and research sidekick that turbocharges their decision-making power. This ain’t your average task automation; it’s like having a genius co-pilot in knowledge-heavy gigs, where smarter decisions mean bigger bucks.\\n\\nAccording to the mindblowing estimates from Collis and Brynjolfsson (2025), U.S. users value AI so much they'd *literally* need to be paid around $98 just to chill without it for a month. That’s roughly a jaw-dropping $97 billion in annual surplus—meaning AI is a powerhouse boosting productivity and unlocking serious economic mojo. In essence, folks leverage AI for practical guidance, info-seeking, and crafting killer content, all translating to higher output and smarter work hustle, making that money rain with AI as their secret weapon.\\n\\nSo, the rad truth? People are making bank by rolling with AI as their strategic advisor, enhancing their brainpower, and leveling up job performance rather than just offloading tasks. Knowledge workers are out here riding the AI wave to seriously elevate their income game. Boom.\""
            ]
          },
          "execution_count": 48,
          "metadata": {},
          "output_type": "execute_result"
        }
      ],
      "source": [
        "dopeness_rag_chain.invoke({\"question\" : \"How are people using AI to make money?\"})"
      ]
    },
    {
      "cell_type": "markdown",
      "metadata": {
        "id": "lpj7v1inDLnQ"
      },
      "source": [
        "Finally, we can evaluate the new chain on the same test set!"
      ]
    },
    {
      "cell_type": "code",
      "execution_count": 49,
      "metadata": {
        "colab": {
          "base_uri": "https://localhost:8080/",
          "height": 136,
          "referenced_widgets": [
            "bf8dcc0895054529af356da401c513f6",
            "7dce19ac55264f2b88a0e4730e55867b",
            "2a0755d4476543feb4a64538e3e37213",
            "158212a630f04cbd884c937f2f60f5c8",
            "11c7f66acc1d45be9517d0addf49331e",
            "ddffd834e09940a4bd3874c3f39b4e21",
            "ef63c3b2d51e452da03cdae5d9b034be",
            "c20b539cd70b4ba99601ad1d69fd9cec",
            "a6d681eeafa44d18b933a4c5dec88382",
            "d1d54ccd56494c4d831f71b416a1f880",
            "530f696feefe499da08c6312047379b2"
          ]
        },
        "id": "Dx11S2b-hIM8",
        "outputId": "d3a3ea78-aa32-4bd2-8c2a-d0d0303695c1"
      },
      "outputs": [
        {
          "name": "stdout",
          "output_type": "stream",
          "text": [
            "View the evaluation results for experiment: 'fresh-health-72' at:\n",
            "https://smith.langchain.com/o/8b8098c0-2dae-45d0-b8d7-292915a4d198/datasets/7000b13a-bca0-4fc9-a07c-7e5a4664980c/compare?selectedSessions=3f4df39a-3269-4d45-8636-356865fed220\n",
            "\n",
            "\n"
          ]
        },
        {
          "data": {
            "application/vnd.jupyter.widget-view+json": {
              "model_id": "b8010c68d2bb448e914ea87bed341813",
              "version_major": 2,
              "version_minor": 0
            },
            "text/plain": [
              "0it [00:00, ?it/s]"
            ]
          },
          "metadata": {},
          "output_type": "display_data"
        },
        {
          "data": {
            "text/html": [
              "<div>\n",
              "<style scoped>\n",
              "    .dataframe tbody tr th:only-of-type {\n",
              "        vertical-align: middle;\n",
              "    }\n",
              "\n",
              "    .dataframe tbody tr th {\n",
              "        vertical-align: top;\n",
              "    }\n",
              "\n",
              "    .dataframe thead th {\n",
              "        text-align: right;\n",
              "    }\n",
              "</style>\n",
              "<table border=\"1\" class=\"dataframe\">\n",
              "  <thead>\n",
              "    <tr style=\"text-align: right;\">\n",
              "      <th></th>\n",
              "      <th>inputs.question</th>\n",
              "      <th>outputs.output</th>\n",
              "      <th>error</th>\n",
              "      <th>reference.answer</th>\n",
              "      <th>feedback.correctness</th>\n",
              "      <th>feedback.helpfulness</th>\n",
              "      <th>feedback.dopeness</th>\n",
              "      <th>execution_time</th>\n",
              "      <th>example_id</th>\n",
              "      <th>id</th>\n",
              "    </tr>\n",
              "  </thead>\n",
              "  <tbody>\n",
              "    <tr>\n",
              "      <th>0</th>\n",
              "      <td>Considering the rapid growth of ChatGPT usage ...</td>\n",
              "      <td>Yo, let's unpack this AI symphony—ChatGPT’s tu...</td>\n",
              "      <td>None</td>\n",
              "      <td>The first context highlights that ChatGPT has ...</td>\n",
              "      <td>1</td>\n",
              "      <td>1</td>\n",
              "      <td>1</td>\n",
              "      <td>11.382876</td>\n",
              "      <td>6a91b7e4-14f2-4730-9826-3c7c8eef9365</td>\n",
              "      <td>5403cf25-6586-40ff-907c-d907c145f1cc</td>\n",
              "    </tr>\n",
              "    <tr>\n",
              "      <th>1</th>\n",
              "      <td>Considering the rapid growth of ChatGPT usage ...</td>\n",
              "      <td>Yo, here’s the slick lowdown that connects the...</td>\n",
              "      <td>None</td>\n",
              "      <td>The first segment highlights that ChatGPT has ...</td>\n",
              "      <td>1</td>\n",
              "      <td>1</td>\n",
              "      <td>1</td>\n",
              "      <td>5.299464</td>\n",
              "      <td>3dc46ccc-e9a4-407a-97bd-2d1152386043</td>\n",
              "      <td>0745698a-83d2-4861-ade9-d0645c175ea4</td>\n",
              "    </tr>\n",
              "    <tr>\n",
              "      <th>2</th>\n",
              "      <td>How do the findings by Brynjolfsson in the fir...</td>\n",
              "      <td>Alright, let’s drop some serious knowledge bom...</td>\n",
              "      <td>None</td>\n",
              "      <td>Brynjolfsson's findings in the first segment h...</td>\n",
              "      <td>1</td>\n",
              "      <td>1</td>\n",
              "      <td>1</td>\n",
              "      <td>10.171684</td>\n",
              "      <td>8358f5de-f636-4a6d-b7ee-f8ece280757c</td>\n",
              "      <td>51a3ad87-5076-4199-a2e3-1d923a3d3ebb</td>\n",
              "    </tr>\n",
              "    <tr>\n",
              "      <th>3</th>\n",
              "      <td>How do the themes of Collis relate to the insi...</td>\n",
              "      <td>Yo, buckle up — here’s the lowdown dripping wi...</td>\n",
              "      <td>None</td>\n",
              "      <td>The themes of Collis are reflected in the cont...</td>\n",
              "      <td>1</td>\n",
              "      <td>1</td>\n",
              "      <td>1</td>\n",
              "      <td>6.934783</td>\n",
              "      <td>176d79d6-4e4e-416d-b2b9-3550eddf61ae</td>\n",
              "      <td>f35797da-d835-4ff8-a80d-7e69d538f573</td>\n",
              "    </tr>\n",
              "    <tr>\n",
              "      <th>4</th>\n",
              "      <td>how much non-work messages growed in chatgpt f...</td>\n",
              "      <td>Yo, strap in for some sizzling stats straight ...</td>\n",
              "      <td>None</td>\n",
              "      <td>In June 2024, non-work messages accounted for ...</td>\n",
              "      <td>1</td>\n",
              "      <td>1</td>\n",
              "      <td>1</td>\n",
              "      <td>3.888813</td>\n",
              "      <td>5941b2b9-265a-4fe8-a797-973ae0c49d88</td>\n",
              "      <td>969ea06e-0208-4103-9b2a-e685a9f3f1f9</td>\n",
              "    </tr>\n",
              "    <tr>\n",
              "      <th>5</th>\n",
              "      <td>How do user demographics and usage patterns, s...</td>\n",
              "      <td>Alright, buckle up for a turbocharged ride thr...</td>\n",
              "      <td>None</td>\n",
              "      <td>The data indicates that ChatGPT usage varies a...</td>\n",
              "      <td>1</td>\n",
              "      <td>1</td>\n",
              "      <td>1</td>\n",
              "      <td>8.988250</td>\n",
              "      <td>fe93979a-7b96-4232-be12-d291a6b1f52a</td>\n",
              "      <td>cd90b888-f755-432e-be49-5579ec5061b1</td>\n",
              "    </tr>\n",
              "    <tr>\n",
              "      <th>6</th>\n",
              "      <td>Based on the data smoothing of 7-day averages,...</td>\n",
              "      <td>Yo, here’s the scoop from the streets of AI us...</td>\n",
              "      <td>None</td>\n",
              "      <td>The data shows that non-work-related messages ...</td>\n",
              "      <td>1</td>\n",
              "      <td>1</td>\n",
              "      <td>1</td>\n",
              "      <td>9.750271</td>\n",
              "      <td>3aeaa879-68e6-4fa4-acca-9328b4d05288</td>\n",
              "      <td>6d673d3a-6f97-41b5-866e-0f216e1237eb</td>\n",
              "    </tr>\n",
              "    <tr>\n",
              "      <th>7</th>\n",
              "      <td>How do the conversation topics, such as writin...</td>\n",
              "      <td>Alright, buckle up for a turbocharged dive int...</td>\n",
              "      <td>None</td>\n",
              "      <td>The context indicates that variation in ChatGP...</td>\n",
              "      <td>1</td>\n",
              "      <td>1</td>\n",
              "      <td>1</td>\n",
              "      <td>9.259426</td>\n",
              "      <td>fd1341d4-55eb-404c-8fd4-aee96c31707f</td>\n",
              "      <td>5ee6c226-be4e-41d6-a7c5-4bf2b1445cf9</td>\n",
              "    </tr>\n",
              "    <tr>\n",
              "      <th>8</th>\n",
              "      <td>Whaat is the calue of Computer Programmng in t...</td>\n",
              "      <td>Yo, here’s the deal on computer programming’s ...</td>\n",
              "      <td>None</td>\n",
              "      <td>According to the provided context, Computer Pr...</td>\n",
              "      <td>1</td>\n",
              "      <td>1</td>\n",
              "      <td>1</td>\n",
              "      <td>3.791042</td>\n",
              "      <td>ee1b2869-9c2e-4778-8753-a9980b66ee15</td>\n",
              "      <td>eda99a97-6b7b-4f55-9712-6b925a47199a</td>\n",
              "    </tr>\n",
              "    <tr>\n",
              "      <th>9</th>\n",
              "      <td>How does the context describe ChatGPT usage am...</td>\n",
              "      <td>Alright, let’s crank this up to eleven on the ...</td>\n",
              "      <td>None</td>\n",
              "      <td>The context reports variation in ChatGPT usage...</td>\n",
              "      <td>1</td>\n",
              "      <td>0</td>\n",
              "      <td>1</td>\n",
              "      <td>5.171524</td>\n",
              "      <td>97141598-1a54-4e7c-9ea1-7d836283e551</td>\n",
              "      <td>9125b7b7-8aae-4026-a4b0-21fd034d48f8</td>\n",
              "    </tr>\n",
              "    <tr>\n",
              "      <th>10</th>\n",
              "      <td>According to the context, how does Collis rela...</td>\n",
              "      <td>Oh, you want the lowdown on how Collis vibes w...</td>\n",
              "      <td>None</td>\n",
              "      <td>The context mentions Collis in relation to a s...</td>\n",
              "      <td>1</td>\n",
              "      <td>1</td>\n",
              "      <td>1</td>\n",
              "      <td>12.607880</td>\n",
              "      <td>09a8820f-1e14-46a5-88e2-2fa971b5c422</td>\n",
              "      <td>d420005d-34a0-486a-a8e5-cb32694301d8</td>\n",
              "    </tr>\n",
              "    <tr>\n",
              "      <th>11</th>\n",
              "      <td>What Pew Research Center 2025 says about ChatG...</td>\n",
              "      <td>Yo, this is a banger—but hold up, based on the...</td>\n",
              "      <td>None</td>\n",
              "      <td>The context mentions a Pew Research Center 202...</td>\n",
              "      <td>0</td>\n",
              "      <td>0</td>\n",
              "      <td>1</td>\n",
              "      <td>3.319728</td>\n",
              "      <td>ecb2b4c4-939f-441d-8149-4b768c02eef2</td>\n",
              "      <td>35536308-3a5c-478c-83ce-7ea92d9134e9</td>\n",
              "    </tr>\n",
              "  </tbody>\n",
              "</table>\n",
              "</div>"
            ],
            "text/plain": [
              "<ExperimentResults fresh-health-72>"
            ]
          },
          "execution_count": 49,
          "metadata": {},
          "output_type": "execute_result"
        }
      ],
      "source": [
        "evaluate(\n",
        "    dopeness_rag_chain.invoke,\n",
        "    data=dataset_name,\n",
        "    evaluators=[\n",
        "        qa_evaluator,\n",
        "        labeled_helpfulness_evaluator,\n",
        "        dopeness_evaluator\n",
        "    ],\n",
        "    metadata={\"revision_id\": \"dopeness_rag_chain\"},\n",
        ")"
      ]
    },
    {
      "cell_type": "markdown",
      "metadata": {
        "id": "3C7migvlDPZT"
      },
      "source": [
        "#### 🏗️ Activity #3:\n",
        "\n",
        "Provide a screenshot of the difference between the two chains, and explain why you believe certain metrics changed in certain ways."
      ]
    },
    {
      "cell_type": "markdown",
      "metadata": {},
      "source": [
        "   ![Comparison Screenshot](comparison.png)"
      ]
    },
    {
      "cell_type": "markdown",
      "metadata": {},
      "source": [
        "### Analysis of Metric Changes Between Experiments\n",
        "\n",
        "When comparing the two experiments (`fresh-health-72` vs `respectful-story`), we observe clear differences in the evaluation metrics:\n",
        "\n",
        "1. **Helpfulness and Correctness**  \n",
        "   - The `respectful-story` model consistently scores higher in both helpfulness and correctness.  \n",
        "   - This is because its responses are more formal, factual, and closely aligned with the reference outputs (e.g., starting with \"Based on the provided context…\").  \n",
        "   - In contrast, the `fresh-health-72` model often uses casual or slang-like phrasing (“Yo, buckle up…”, “let’s crank this up…”), which makes the answers feel less precise and therefore less correct/helpful.\n",
        "\n",
        "2. **Completeness**  \n",
        "   - Both models usually mark completions as \"COMPLETED,\" but the quality of the completion differs.  \n",
        "   - `respectful-story` tends to cover the necessary information more directly, while `fresh-health-72` sometimes adds stylistic filler that doesn’t add real value.\n",
        "\n",
        "3. **Depthness**  \n",
        "   - In some cases, `fresh-health-72` is flagged as “deep,” but this is often due to extra descriptive or exaggerated language rather than meaningful depth.  \n",
        "   - `respectful-story` stays concise and factual, which may not be marked as “deep” but results in higher correctness.\n",
        "\n",
        "4. **Token Usage and Cost**  \n",
        "   - Responses from `respectful-story` are longer (3,400–3,800 tokens) compared to `fresh-health-72` (around 2,000–2,600 tokens).  \n",
        "   - This increase in token count directly raises the cost of completions, though both remain inexpensive in absolute terms.  \n",
        "   - The higher length reflects its tendency to restate context fully, which contributes to better alignment with the reference outputs.\n",
        "\n",
        "---\n",
        "\n",
        "### Summary\n",
        "Overall, the `respectful-story` model produces more helpful and correct answers because it avoids casual phrasing and sticks closer to the references. The tradeoff is longer responses and slightly higher cost. The `fresh-health-72` model is more conversational and stylized, but this reduces its correctness and perceived helpfulness in the evaluation."
      ]
    },
    {
      "cell_type": "markdown",
      "metadata": {},
      "source": [
        "## Evol Instruct Agent Implementation\n",
        "\n",
        "Now let's implement the Evol Instruct method using a LangGraph Agent instead of the Knowledge Graph approach. This will provide more sophisticated question evolution capabilities.\n"
      ]
    },
    {
      "cell_type": "code",
      "execution_count": null,
      "metadata": {},
      "outputs": [
        {
          "name": "stdout",
          "output_type": "stream",
          "text": [
            "Loaded 22 pages from EvolMethod.pdf\n",
            "First page content preview: Published as a conference paper at ICLR 2024\n",
            "WizardLM: EMPOWERING LARGE PRE-TRAINED LAN-\n",
            "GUAGE MODELS TO FOLLOW COMPLEX INSTRUCTIONS\n",
            "Can Xu1∗\n",
            "Qingfeng Sun1∗\n",
            "Kai Zheng1∗\n",
            "Xiubo Geng1\n",
            "Pu Zhao1\n",
            "Jiazhan Fe...\n"
          ]
        }
      ],
      "source": [
        "from langchain_community.document_loaders import PyMuPDFLoader\n",
        "\n",
        "evol_method_loader = PyMuPDFLoader(\"data/EvolMethod.pdf\")\n",
        "evol_method_docs = evol_method_loader.load()\n",
        "\n",
        "print(f\"Loaded {len(evol_method_docs)} pages from EvolMethod.pdf\")\n",
        "print(f\"First page content preview: {evol_method_docs[0].page_content[:200]}...\")\n"
      ]
    },
    {
      "cell_type": "code",
      "execution_count": null,
      "metadata": {},
      "outputs": [],
      "source": [
        "from typing import List, Dict, Literal, Optional\n",
        "\n",
        "\n",
        "from langgraph.prebuilt import ToolNode\n",
        "from langgraph.graph import StateGraph, END, START\n",
        "from typing_extensions import TypedDict, Annotated\n",
        "from langgraph.graph.message import add_messages\n",
        "\n",
        "from langchain_core.messages import BaseMessage, SystemMessage, HumanMessage, ToolMessage\n",
        "from langchain_core.documents import Document\n",
        "\n",
        "\n",
        "\n",
        "from langchain_openai import OpenAIEmbeddings, ChatOpenAI\n",
        "from langchain_core.tools import tool\n",
        "\n",
        "\n",
        "loader = PyMuPDFLoader(\"data/EvolMethod.pdf\")\n",
        "docs: List[Document] = loader.load()\n",
        "\n",
        "\n",
        "for d in docs:\n",
        "    pg = d.metadata.get(\"page\", None)\n",
        "    src = d.metadata.get(\"source\", \"\")\n",
        "    d.page_content = f\"[Source: {src} | Page: {pg}] \" + d.page_content\n",
        "\n",
        "\n",
        "text_splitter = RecursiveCharacterTextSplitter(chunk_size=500, chunk_overlap=50)\n",
        "rag_documents = text_splitter.split_documents(docs)\n",
        "\n",
        "embeddings = OpenAIEmbeddings(model=\"text-embedding-3-small\")\n",
        "\n",
        "vectorstore = Qdrant.from_documents(\n",
        "    documents=rag_documents,\n",
        "    embedding=embeddings,\n",
        "    location=\":memory:\",            \n",
        "    collection_name=\"Use Case RAG\"\n",
        ")\n",
        "\n",
        "retriever = vectorstore.as_retriever(search_kwargs={\"k\": 10})\n",
        "\n",
        "\n",
        "@tool(\"evolve_question\")\n",
        "def evolve_question(seed_question: str, mode: Literal[\"simple\",\"multi_context\",\"reasoning\"]) -> str:\n",
        "    \"\"\"Evolve a seed question.\n",
        "    - simple: clearer/more precise\n",
        "    - multi_context: requires synthesizing multiple passages\n",
        "    - reasoning: requires step-by-step reasoning/comparison\n",
        "    Returns ONLY the evolved question.\"\"\"\n",
        "    if mode == \"simple\":\n",
        "        prompt = f\"\"\"Rewrite the question to be clearer and slightly more specific,\n",
        "without changing its core meaning. Return ONLY the improved question.\n",
        "Question: {seed_question}\"\"\"\n",
        "    elif mode == \"multi_context\":\n",
        "        prompt = f\"\"\"Rewrite the question so that answering it requires synthesizing\n",
        "information from multiple relevant passages. Return ONLY the evolved question.\n",
        "Question: {seed_question}\"\"\"\n",
        "    else:\n",
        "        prompt = f\"\"\"Rewrite the question so it requires step-by-step reasoning or comparison,\n",
        "while remaining answerable from the same document collection. Return ONLY the evolved question.\n",
        "Question: {seed_question}\"\"\"\n",
        "    return generator_llm.invoke(prompt).content.strip()\n",
        "\n",
        "@tool(\"retrieve_context\")\n",
        "def retrieve_context(question: str, k: int = 10) -> List[str]:\n",
        "    \"\"\"Retrieve up to k relevant text chunks for the given question from Qdrant.\"\"\"\n",
        "    rel = retriever.get_relevant_documents(question)\n",
        "    return [d.page_content for d in rel[:k]]\n",
        "\n",
        "\n",
        "\n",
        "\n",
        "generator_llm = ChatOpenAI(model=\"gpt-4.1-mini\", temperature=0.2)\n",
        "tool_node = ToolNode([evolve_question, retrieve_context])\n",
        "llm_with_tools = generator_llm.bind_tools([evolve_question, retrieve_context])\n",
        "\n",
        "\n",
        "class State(TypedDict):\n",
        "    question: str           \n",
        "    context: List[Document]\n",
        "    response: str\n",
        "    messages: Annotated[List[BaseMessage], add_messages]\n",
        "\n",
        "\n",
        "HUMAN_TEMPLATE = \"\"\"You are an agent that must follow this exact workflow:\n",
        "\n",
        "1) Call the tool evolve_question with the provided seed question and the evolution_type.\n",
        "2) Take the evolved question returned by the tool and call retrieve_context(question=evolved_question, k=10).\n",
        "3) After you receive the contexts, produce a FINAL ANSWER that is STRICTLY based on those contexts.\n",
        "   - If the answer is not in the contexts, reply exactly: \"Not in context.\"\n",
        "\n",
        "Your final message must be a single helpful answer in plain text (no JSON).\"\"\"\n",
        "\n",
        "def call_model(agent_state: State):\n",
        "    resp = llm_with_tools.invoke([SystemMessage(content=HUMAN_TEMPLATE)] + agent_state[\"messages\"])\n",
        "    return {\"messages\": [resp]}\n",
        "\n",
        "def should_continue(agent_state: State):\n",
        "    last = agent_state[\"messages\"][-1]\n",
        "    return \"tools\" if getattr(last, \"tool_calls\", None) else \"end\"\n",
        "\n",
        "conditional_graph = StateGraph(State)\n",
        "conditional_graph.add_node(\"assistant\", call_model)\n",
        "conditional_graph.add_node(\"tools\", tool_node)\n",
        "conditional_graph.add_conditional_edges(\"assistant\", should_continue, {\"tools\": \"tools\", \"end\": END})\n",
        "conditional_graph.add_edge(\"tools\", \"assistant\")\n",
        "conditional_graph.set_entry_point(\"assistant\")\n",
        "compiled_graph = conditional_graph.compile()"
      ]
    },
    {
      "cell_type": "code",
      "execution_count": 30,
      "metadata": {},
      "outputs": [
        {
          "data": {
            "image/png": "[encoded data removed]",
            "text/plain": [
              "<langgraph.graph.state.CompiledStateGraph object at 0x000002527021A450>"
            ]
          },
          "execution_count": 30,
          "metadata": {},
          "output_type": "execute_result"
        }
      ],
      "source": [
        "compiled_graph"
      ]
    },
    {
      "cell_type": "code",
      "execution_count": null,
      "metadata": {},
      "outputs": [
        {
          "name": "stdout",
          "output_type": "stream",
          "text": [
            "Seed questions: ['What methods does WizardLM use to enable large pre-trained language models to follow complex instructions?', \"How does the difficulty statistics of ShareGPT impact human annotators' performance according to the text?\", 'What role does the OpenAI ChatGPT API play in the data collection process described in the excerpts?', 'Why is it important to compare the 250k instructions obtained with Vicuna’s 70k real instructions?', 'How do the challenges faced by human annotators influence the evaluation of language model instruction-following capabilities?']\n"
          ]
        },
        {
          "name": "stderr",
          "output_type": "stream",
          "text": [
            "C:\\Users\\nickm\\AppData\\Local\\Temp\\ipykernel_34528\\3500635684.py:67: LangChainDeprecationWarning: The method `BaseRetriever.get_relevant_documents` was deprecated in langchain-core 0.1.46 and will be removed in 1.0. Use :meth:`~invoke` instead.\n",
            "  rel = retriever.get_relevant_documents(question)\n"
          ]
        },
        {
          "name": "stdout",
          "output_type": "stream",
          "text": [
            "\n",
            "== EVOLVED QUESTIONS ==\n",
            "{'id': 'd3a7207b-3dc0-4a2a-abae-95ec373da688', 'seed_id': 'seed-1', 'evolution_type': 'simple', 'question': 'What techniques does WizardLM employ to help large pre-trained language models effectively follow complex instructions?'}\n",
            "{'id': 'e07a3990-74dc-45d8-bf3b-9f8dfbc651d9', 'seed_id': 'seed-1', 'evolution_type': 'multi_context', 'question': 'How does WizardLM integrate various techniques from recent advancements in large pre-trained language models to enhance their ability to follow complex instructions effectively?'}\n",
            "{'id': '73b2799a-a372-4adb-9f20-ad1789f5a03e', 'seed_id': 'seed-1', 'evolution_type': 'reasoning', 'question': 'What are the specific methods employed by WizardLM to enable large pre-trained language models to follow complex instructions, and how do these methods compare or build upon each other to achieve this capability?'}\n",
            "\n",
            "== ANSWERS ==\n",
            "{'question_id': 'd3a7207b-3dc0-4a2a-abae-95ec373da688', 'answer': 'Seed question: What methods does WizardLM use to enable large pre-trained language models to follow complex instructions?\\nEvolution type: simple'}\n",
            "{'question_id': 'e07a3990-74dc-45d8-bf3b-9f8dfbc651d9', 'answer': 'Seed question: What methods does WizardLM use to enable large pre-trained language models to follow complex instructions?\\nEvolution type: multi_context'}\n",
            "{'question_id': '73b2799a-a372-4adb-9f20-ad1789f5a03e', 'answer': 'Seed question: What methods does WizardLM use to enable large pre-trained language models to follow complex instructions?\\nEvolution type: reasoning'}\n",
            "\n",
            "== CONTEXTS ==\n",
            "{'question_id': 'd3a7207b-3dc0-4a2a-abae-95ec373da688', 'contexts': ['[\"[Source: data/EvolMethod.pdf | Page: 0] Published as a conference paper at ICLR 2024\\\\nWizardLM: EMPOWERING LARGE PRE-TRAINED LAN-\\\\nGUAGE MODELS TO FOLLOW COMPLEX INSTRUCTIONS\\\\nCan Xu1∗\\\\nQingfeng Sun1∗\\\\nKai Zheng1∗\\\\nXiubo Geng1\\\\nPu Zhao1\\\\nJiazhan Feng2†\\\\nChongyang Tao1\\\\nQingwei Lin1\\\\nDaxin Jiang1‡\\\\n1Microsoft\\\\n2Peking University\\\\n{caxu,qins,zhengkai,xigeng,puzhao,chongyang.tao,qlin,djiang}@microsoft.com\\\\n{fengjiazhan}@pku.edu.cn\\\\nABSTRACT\", \"source LLMs by a large margin via automatically mass-producing open-domain instructions\\\\nof various topics and difficulty levels.\\\\n• We develop WizardLM model, which significantly surpasses typical open-source LLMs such\\\\nas Alpaca and Vicuna in a series of benchmarks. Notably, WizardLM outperforms baselines\\\\nby a substantial margin in terms of code, math, GPT-4 and human evaluations.\\\\n• We have undertaken a preliminary investigation that underscores the importance of in-\", \"LLM instead of humans. Starting with an initial set of instructions, we use our\\\\nproposed Evol-Instruct to rewrite them step by step into more complex instructions.\\\\nThen, we mix all generated instruction data to fine-tune LLaMA. We call the\\\\nresulting model WizardLM. Both automatic and human evaluations consistently\\\\nindicate that WizardLM outperforms baselines such as Alpaca (trained from Self-\\\\nInstruct) and Vicuna (trained from human-created instructions). The experimental\", \"fluent text in response to various inputs. However, these models often struggle to follow instructions\\\\nor goals specified by users, which limits their usefulness and applicability in real-world scenarios.\\\\nThe NLP community has recently witnessed many endeavors to train LLMs to follow instructions\\\\nbetter and be more helpful (Zhao et al., 2023; He et al., 2023; Guo et al., 2023; Li et al., 2023b).\\\\nInitial attempts (Aribandi et al., 2022; Wei et al., 2021; Xu et al., 2022; Sanh et al., 2022; Chung\", \"{fengjiazhan}@pku.edu.cn\\\\nABSTRACT\\\\nTraining large language models (LLMs) with open-domain instruction following\\\\ndata brings colossal success. However, manually creating such instruction data\\\\nis very time-consuming and labor-intensive. Moreover, humans may struggle\\\\nto produce high-complexity instructions. In this paper, we show an avenue for\\\\ncreating large amounts of instruction data with varying levels of complexity using\", \"et al., 2022) to train instruction-following language models are based on a collection of various NLP\\\\ntasks, with a small amount of hand-written instructions. These closed-domain instructions suffer from\\\\ntwo main drawbacks: first, all the samples in an NLP dataset share only a few common instructions,\\\\nseverely limiting their diversity; second, the instructions usually only ask for one task. But in real life,\", \"as our baseline. Due to the low proportion of difficult instructions in the previous instruction-following\\\\ntest dataset, we manually created a new difficulty-balanced test dataset, named WizardEval. We\\\\nevaluate Alpaca, Vicuna, ChatGPT, and WizardLM on a wide range of LLM benchmarks (covering\\\\nreasoning, code, mathematics, general conversation, etc.). Our main findings are as follows:\\\\n• We introduce Evol-Instruct, a novel approach that enhances the performance of the open-\", \"(2023); Huang et al. (2023); Yue et al. (2023). Furthermore, works such as ZeroPrompt Xu et al.\\\\n(2022) and FLAN-T5 Chung et al. (2022) raised the number of tasks to the thousands. These studies\\\\nconsistently show that fine-tuning LMs with diverse NLP task instructions enhances their performance\\\\non new tasks. However, LLMs trained with these closed-form instructions (i.e., instructions are often\", \"struction complexity in attaining outstanding performance in supervised fine-tuning large\\\\npre-trained language models.\\\\n2\\\\nRELATED WORK\\\\nClosed domain instruction tuning\\\\nEarly instruction-following training work (Wei et al., 2021;\\\\nLongpre et al., 2023) concerns cross task generalization in LMs, where LMs are fine-tuned on a\\\\nbroad range of public NLP datasets and evaluated on a different set of NLP tasks. T5 Raffel et al.\", \"results demonstrate that the quality of instruction-following dataset crafted by\\\\nEvol-Instruct can significantly improve the performance of LLMs.\\\\n1\\\\nINTRODUCTION\\\\nLarge-scale language models (LLMs) have become the go-to approach for numerous natural language\\\\nprocessing tasks (Brown et al., 2020; Ouyang et al., 2022; Touvron et al., 2023). LLMs are trained on\\\\nlarge volumes of text data to predict the subsequent tokens, enabling them to generate coherent and\"]']}\n"
          ]
        }
      ],
      "source": [
        "SEED_PROMPT = \"\"\"Generate 5 diverse questions that can be answered from the following text excerpts.\n",
        "Avoid yes/no questions. Prefer 'what', 'how', 'why', 'compare'.\n",
        "Return one question per line.\n",
        "\n",
        "Excerpts:\n",
        "{sample}\n",
        "\"\"\"\n",
        "\n",
        "sample = \"\\n\".join(d.page_content[:200].replace(\"\\n\", \" \") for d in docs[:3])\n",
        "resp = generator_llm.invoke(SEED_PROMPT.format(sample=sample))\n",
        "seed_questions = [q.strip(\" -•\") for q in resp.content.splitlines() if q.strip()]\n",
        "\n",
        "print(\"Seed questions:\", seed_questions)\n",
        "\n",
        "\n",
        "evolution_order = [\"simple\", \"multi_context\", \"reasoning\"]\n",
        "\n",
        "evolved_questions, answers, contexts = [], [], []\n",
        "\n",
        "for i, seed_q in enumerate(seed_questions):\n",
        "    seed_id = f\"seed-{i+1}\"\n",
        "    for evo in evolution_order:\n",
        "        init_state = {\n",
        "            \"question\": seed_q,\n",
        "            \"context\": [],\n",
        "            \"response\": \"\",\n",
        "            \"messages\": [HumanMessage(content=f\"Seed question: {seed_q}\\nEvolution type: {evo}\")]\n",
        "        }\n",
        "        final_state = compiled_graph.invoke(init_state)\n",
        "\n",
        "        evolved_q, retrieved_ctx, final_answer = None, [], None\n",
        "        for m in final_state[\"messages\"]:\n",
        "            if isinstance(m, ToolMessage):\n",
        "                if m.name == \"evolve_question\":\n",
        "                    evolved_q = m.content.strip()\n",
        "                elif m.name == \"retrieve_context\":\n",
        "                    retrieved_ctx = m.content if isinstance(m.content, list) else [str(m.content)]\n",
        "            else:\n",
        "                if getattr(m, \"tool_calls\", None) is None and hasattr(m, \"content\"):\n",
        "                    final_answer = m.content\n",
        "\n",
        "        qid = str(uuid.uuid4())\n",
        "        evolved_questions.append({\"id\": qid, \"seed_id\": seed_id, \"evolution_type\": evo, \"question\": evolved_q or seed_q})\n",
        "        answers.append({\"question_id\": qid, \"answer\": final_answer or \"\"})\n",
        "        contexts.append({\"question_id\": qid, \"contexts\": retrieved_ctx})\n",
        "\n",
        "\n",
        "print(\"\\n== EVOLVED QUESTIONS ==\")\n",
        "for q in evolved_questions[:3]:\n",
        "    print(q)\n",
        "\n",
        "print(\"\\n== ANSWERS ==\")\n",
        "for a in answers[:3]:\n",
        "    print(a)\n",
        "\n",
        "print(\"\\n== CONTEXTS ==\")\n",
        "for c in contexts[:1]:\n",
        "    print(c)"
      ]
    },
    {
      "cell_type": "markdown",
      "metadata": {},
      "source": [
        "### Langsmith evaluation"
      ]
    },
    {
      "cell_type": "code",
      "execution_count": null,
      "metadata": {},
      "outputs": [],
      "source": [
        "os.environ[\"LANGCHAIN_PROJECT\"] = f\"AIM - SDG - {uuid4().hex[0:8]}\"\n"
      ]
    },
    {
      "cell_type": "code",
      "execution_count": null,
      "metadata": {},
      "outputs": [
        {
          "name": "stdout",
          "output_type": "stream",
          "text": [
            "✅ Created enhanced evaluation function with context support\n"
          ]
        }
      ],
      "source": [
        "from langsmith.evaluation import LangChainStringEvaluator, evaluate\n",
        "\n",
        "def evaluate_conditional_graph_with_context(inputs: dict) -> dict:\n",
        "    \"\"\"\n",
        "    Enhanced evaluation function that returns both answer and contexts\n",
        "    \"\"\"\n",
        "    try:\n",
        "        question = inputs.get(\"question\", \"\")\n",
        "        evolution_type = inputs.get(\"evolution_type\", \"simple\")\n",
        "        \n",
        "        result = compiled_graph.invoke({\n",
        "            \"question\": question,\n",
        "            \"context\": [],\n",
        "            \"response\": \"\",\n",
        "            \"messages\": [HumanMessage(content=f\"Question: {question}, Evolution Type: {evolution_type}\")]\n",
        "        })\n",
        "        \n",
        "        if result[\"messages\"]:\n",
        "            last_message = result[\"messages\"][-1]\n",
        "            answer = last_message.content if hasattr(last_message, 'content') else str(last_message)\n",
        "        else:\n",
        "            answer = \"No response generated\"\n",
        "        \n",
        "        evolved = evolve_question.invoke({\"seed_question\": question, \"mode\": evolution_type})\n",
        "        evolved_question = evolved if isinstance(evolved, str) else str(evolved)\n",
        "        ctx_docs = retriever.get_relevant_documents(evolved_question)\n",
        "        contexts = [d.page_content for d in ctx_docs[:10]]\n",
        "        \n",
        "        return {\n",
        "            \"output\": answer,\n",
        "            \"contexts\": contexts,\n",
        "            \"evolved_question\": evolved_question\n",
        "        }\n",
        "        \n",
        "    except Exception as e:\n",
        "        return {\n",
        "            \"output\": f\"Error: {str(e)}\",\n",
        "            \"contexts\": [],\n",
        "            \"evolved_question\": \"\"\n",
        "        }\n",
        "\n",
        "print(\"✅ Created enhanced evaluation function with context support\")\n"
      ]
    },
    {
      "cell_type": "code",
      "execution_count": null,
      "metadata": {},
      "outputs": [
        {
          "name": "stdout",
          "output_type": "stream",
          "text": [
            "Adding test cases with proper reference answers...\n",
            "✅ Added 3 test cases with proper reference answers\n"
          ]
        }
      ],
      "source": [
        "from langsmith import Client\n",
        "\n",
        "client = Client()\n",
        "\n",
        "proper_dataset_name = \"Conditional Graph Proper Evaluation - AIE8\"\n",
        "\n",
        "proper_dataset = client.create_dataset(\n",
        "    dataset_name=proper_dataset_name,\n",
        "    description=\"Dataset with proper reference answers for conditional graph evaluation\"\n",
        ")\n",
        "\n",
        "test_cases = [\n",
        "    {\n",
        "        \"question\": \"What is artificial intelligence?\",\n",
        "        \"evolution_type\": \"simple\",\n",
        "        \"reference_answer\": \"Artificial Intelligence (AI) refers to the simulation of human intelligence in machines that are programmed to think and learn like humans. It encompasses various technologies including machine learning, natural language processing, and computer vision.\"\n",
        "    },\n",
        "    {\n",
        "        \"question\": \"How do machine learning algorithms work?\",\n",
        "        \"evolution_type\": \"multi_context\", \n",
        "        \"reference_answer\": \"Machine learning algorithms work by learning patterns from data through training processes. They use statistical techniques to identify relationships in data and make predictions or decisions without being explicitly programmed for each task.\"\n",
        "    },\n",
        "    {\n",
        "        \"question\": \"What are the benefits of AI?\",\n",
        "        \"evolution_type\": \"reasoning\",\n",
        "        \"reference_answer\": \"AI provides numerous benefits including automation of repetitive tasks, improved decision-making through data analysis, enhanced efficiency in various industries, and the ability to process large amounts of information quickly and accurately.\"\n",
        "    }\n",
        "]\n",
        "\n",
        "print(\"Adding test cases with proper reference answers...\")\n",
        "\n",
        "for i, case in enumerate(test_cases):\n",
        "    client.create_example(\n",
        "        inputs={\n",
        "            \"question\": case[\"question\"],\n",
        "            \"evolution_type\": case[\"evolution_type\"]\n",
        "        },\n",
        "        outputs={\n",
        "            \"answer\": case[\"reference_answer\"]\n",
        "        },\n",
        "        metadata={\n",
        "            \"test_case_id\": i,\n",
        "            \"evolution_mode\": case[\"evolution_type\"],\n",
        "            \"graph_type\": \"conditional_graph\"\n",
        "        },\n",
        "        dataset_id=proper_dataset.id\n",
        "    )\n",
        "\n",
        "print(f\"✅ Added {len(test_cases)} test cases with proper reference answers\")\n"
      ]
    },
    {
      "cell_type": "code",
      "execution_count": null,
      "metadata": {},
      "outputs": [
        {
          "name": "stdout",
          "output_type": "stream",
          "text": [
            "🧪 Testing your conditional graph manually...\n",
            "Testing question: What is artificial intelligence?\n",
            "Evolution type: simple\n",
            "\n",
            "📝 Evolved Question: What is artificial intelligence, and how is it defined?\n",
            "\n",
            "📚 Retrieved Contexts (10):\n",
            "  1. understood, and responded to by humans”. We require the LLM to create challenging instructions that\n",
            "...\n",
            "  2. In-Depth Evolving enhances instructions by making them more complex and difficult through\n",
            "five types...\n",
            "  3. generated from a limited (e.g., 175 samples) seed set of manually-written instructions. Our work is\n",
            "...\n",
            "\n",
            "💬 Final Answer: Not in context.\n",
            "\n",
            "✅ Your conditional graph is working!\n"
          ]
        }
      ],
      "source": [
        "\n",
        "test_input = {\n",
        "    \"question\": \"What is artificial intelligence?\",\n",
        "    \"evolution_type\": \"simple\"\n",
        "}\n",
        "\n",
        "print(f\"Testing question: {test_input['question']}\")\n",
        "print(f\"Evolution type: {test_input['evolution_type']}\")\n",
        "\n",
        "result = evaluate_conditional_graph_with_context(test_input)\n",
        "\n",
        "for i, ctx in enumerate(result['contexts'][:3], 1):  # Show first 3 contexts\n",
        "    print(f\"  {i}. {ctx[:100]}...\")\n",
        "    \n",
        "print(f\"\\n💬 Final Answer: {result['output']}\")\n",
        "print(\"\\n✅ Your conditional graph is working!\")\n",
        "    \n",
        "\n"
      ]
    },
    {
      "cell_type": "code",
      "execution_count": null,
      "metadata": {},
      "outputs": [
        {
          "name": "stdout",
          "output_type": "stream",
          "text": [
            "✅ Created criteria-based evaluators (no reference required)\n"
          ]
        }
      ],
      "source": [
        "from langsmith.evaluation import LangChainStringEvaluator, evaluate\n",
        "\n",
        "context_relevance_evaluator = LangChainStringEvaluator(\n",
        "    \"criteria\",\n",
        "    config={\n",
        "        \"criteria\": {\n",
        "            \"context_relevance\": \"Are the retrieved contexts relevant to answering the question?\"\n",
        "        },\n",
        "        \"llm\": eval_llm\n",
        "    },\n",
        "    prepare_data=lambda run, example: {\n",
        "        \"input\": f\"Question: {example.inputs['question']}\\nContexts: {run.outputs.get('contexts', [])}\",\n",
        "        \"prediction\": \"Context relevance assessment\",\n",
        "    }\n",
        ")\n",
        "\n",
        "helpfulness_evaluator = LangChainStringEvaluator(\n",
        "    \"criteria\",\n",
        "    config={\n",
        "        \"criteria\": {\n",
        "            \"helpfulness\": \"Is this answer helpful and informative for the user's question?\"\n",
        "        },\n",
        "        \"llm\": eval_llm\n",
        "    },\n",
        "    prepare_data=lambda run, example: {\n",
        "        \"input\": example.inputs[\"question\"],\n",
        "        \"prediction\": run.outputs[\"output\"],\n",
        "    }\n",
        ")\n",
        "\n",
        "answer_quality_evaluator = LangChainStringEvaluator(\n",
        "    \"criteria\",\n",
        "    config={\n",
        "        \"criteria\": {\n",
        "            \"answer_quality\": \"Is this answer well-structured, clear, and comprehensive?\"\n",
        "        },\n",
        "        \"llm\": eval_llm\n",
        "    },\n",
        "    prepare_data=lambda run, example: {\n",
        "        \"input\": example.inputs[\"question\"],\n",
        "        \"prediction\": run.outputs[\"output\"],\n",
        "    }\n",
        ")\n",
        "\n",
        "context_grounding_evaluator = LangChainStringEvaluator(\n",
        "    \"criteria\",\n",
        "    config={\n",
        "        \"criteria\": {\n",
        "            \"context_grounding\": \"Is this answer grounded in the provided contexts?\"\n",
        "        },\n",
        "        \"llm\": eval_llm\n",
        "    },\n",
        "    prepare_data=lambda run, example: {\n",
        "        \"input\": f\"Question: {example.inputs['question']}\\nContexts: {run.outputs.get('contexts', [])}\\nAnswer: {run.outputs['output']}\",\n",
        "        \"prediction\": \"Context grounding assessment\",\n",
        "    }\n",
        ")\n",
        "\n",
        "print(\"✅ Created criteria-based evaluators (no reference required)\")\n"
      ]
    },
    {
      "cell_type": "code",
      "execution_count": null,
      "metadata": {},
      "outputs": [
        {
          "name": "stdout",
          "output_type": "stream",
          "text": [
            "🚀 Starting fixed conditional graph evaluation...\n",
            "View the evaluation results for experiment: 'diligent-weather-79' at:\n",
            "https://smith.langchain.com/o/8b8098c0-2dae-45d0-b8d7-292915a4d198/datasets/d5aac176-493a-41e9-ac6b-285bb89a55f7/compare?selectedSessions=edf146eb-d4ee-4ff1-bf43-ef9d458cb455\n",
            "\n",
            "\n"
          ]
        },
        {
          "data": {
            "application/vnd.jupyter.widget-view+json": {
              "model_id": "bc8d3f1f8eb842f69e2e56512b8d13d5",
              "version_major": 2,
              "version_minor": 0
            },
            "text/plain": [
              "0it [00:00, ?it/s]"
            ]
          },
          "metadata": {},
          "output_type": "display_data"
        },
        {
          "name": "stdout",
          "output_type": "stream",
          "text": [
            "✅ Fixed conditional graph evaluation completed!\n",
            "Your graph was evaluated on:\n",
            "- Context relevance: Are retrieved contexts relevant?\n",
            "- Answer helpfulness: How helpful are the answers?\n",
            "- Answer quality: How well-structured are the answers?\n",
            "- Context grounding: Are answers based on contexts?\n",
            "Check your LangSmith dashboard for detailed results\n"
          ]
        }
      ],
      "source": [
        "print(\"🚀 Starting fixed conditional graph evaluation...\")\n",
        "\n",
        "\n",
        "evaluate(\n",
        "        evaluate_conditional_graph_with_context, \n",
        "        data=proper_dataset_name,  \n",
        "        evaluators=[\n",
        "            context_relevance_evaluator,   \n",
        "            helpfulness_evaluator,          \n",
        "            answer_quality_evaluator,       \n",
        "            context_grounding_evaluator,   \n",
        "        ],\n",
        "        metadata={\n",
        "            \"revision_id\": \"conditional_graph_fixed_v1\",\n",
        "            \"graph_type\": \"conditional_graph\",\n",
        "            \"tools\": [\"evolve_question\", \"retrieve_context\"],\n",
        "            \"evaluation_type\": \"criteria_based_evaluation\"\n",
        "        },\n",
        "    )\n",
        "    \n",
        "print(\"✅ Fixed conditional graph evaluation completed!\")  \n",
        "\n"
      ]
    }
  ],
  "metadata": {
    "colab": {
      "provenance": [],
      "toc_visible": true
    },
    "kernelspec": {
      "display_name": ".venv",
      "language": "python",
      "name": "python3"
    },
    "language_info": {
      "codemirror_mode": {
        "name": "ipython",
        "version": 3
      },
      "file_extension": ".py",
      "mimetype": "text/x-python",
      "name": "python",
      "nbconvert_exporter": "python",
      "pygments_lexer": "ipython3",
      "version": "3.13.7"
    },
    "widgets": {
      "application/vnd.jupyter.widget-state+json": {
        "07ab3dc0790241bbb85a7f488a42ef8c": {
          "model_module": "@jupyter-widgets/controls",
          "model_module_version": "1.5.0",
          "model_name": "HBoxModel",
          "state": {
            "_dom_classes": [],
            "_model_module": "@jupyter-widgets/controls",
            "_model_module_version": "1.5.0",
            "_model_name": "HBoxModel",
            "_view_count": null,
            "_view_module": "@jupyter-widgets/controls",
            "_view_module_version": "1.5.0",
            "_view_name": "HBoxView",
            "box_style": "",
            "children": [
              "IPY_MODEL_7710c7377cbc4c30b55b28b4bc99e88f",
              "IPY_MODEL_41bdd49fab5f4826959d0d50663ff539",
              "IPY_MODEL_60168d85131d4afc99d55d61ab954ee6"
            ],
            "layout": "IPY_MODEL_9edf898aeeab40dda9b9475395776521"
          }
        },
        "095f680d37a3430fb82d223615662db5": {
          "model_module": "@jupyter-widgets/controls",
          "model_module_version": "1.5.0",
          "model_name": "ProgressStyleModel",
          "state": {
            "_model_module": "@jupyter-widgets/controls",
            "_model_module_version": "1.5.0",
            "_model_name": "ProgressStyleModel",
            "_view_count": null,
            "_view_module": "@jupyter-widgets/base",
            "_view_module_version": "1.2.0",
            "_view_name": "StyleView",
            "bar_color": null,
            "description_width": ""
          }
        },
        "0b44cb0f8e34446c8dde668a75d3d8ad": {
          "model_module": "@jupyter-widgets/base",
          "model_module_version": "1.2.0",
          "model_name": "LayoutModel",
          "state": {
            "_model_module": "@jupyter-widgets/base",
            "_model_module_version": "1.2.0",
            "_model_name": "LayoutModel",
            "_view_count": null,
            "_view_module": "@jupyter-widgets/base",
            "_view_module_version": "1.2.0",
            "_view_name": "LayoutView",
            "align_content": null,
            "align_items": null,
            "align_self": null,
            "border": null,
            "bottom": null,
            "display": null,
            "flex": null,
            "flex_flow": null,
            "grid_area": null,
            "grid_auto_columns": null,
            "grid_auto_flow": null,
            "grid_auto_rows": null,
            "grid_column": null,
            "grid_gap": null,
            "grid_row": null,
            "grid_template_areas": null,
            "grid_template_columns": null,
            "grid_template_rows": null,
            "height": null,
            "justify_content": null,
            "justify_items": null,
            "left": null,
            "margin": null,
            "max_height": null,
            "max_width": null,
            "min_height": null,
            "min_width": null,
            "object_fit": null,
            "object_position": null,
            "order": null,
            "overflow": null,
            "overflow_x": null,
            "overflow_y": null,
            "padding": null,
            "right": null,
            "top": null,
            "visibility": null,
            "width": null
          }
        },
        "10df31709059484c99f102453d780473": {
          "model_module": "@jupyter-widgets/base",
          "model_module_version": "1.2.0",
          "model_name": "LayoutModel",
          "state": {
            "_model_module": "@jupyter-widgets/base",
            "_model_module_version": "1.2.0",
            "_model_name": "LayoutModel",
            "_view_count": null,
            "_view_module": "@jupyter-widgets/base",
            "_view_module_version": "1.2.0",
            "_view_name": "LayoutView",
            "align_content": null,
            "align_items": null,
            "align_self": null,
            "border": null,
            "bottom": null,
            "display": null,
            "flex": null,
            "flex_flow": null,
            "grid_area": null,
            "grid_auto_columns": null,
            "grid_auto_flow": null,
            "grid_auto_rows": null,
            "grid_column": null,
            "grid_gap": null,
            "grid_row": null,
            "grid_template_areas": null,
            "grid_template_columns": null,
            "grid_template_rows": null,
            "height": null,
            "justify_content": null,
            "justify_items": null,
            "left": null,
            "margin": null,
            "max_height": null,
            "max_width": null,
            "min_height": null,
            "min_width": null,
            "object_fit": null,
            "object_position": null,
            "order": null,
            "overflow": null,
            "overflow_x": null,
            "overflow_y": null,
            "padding": null,
            "right": null,
            "top": null,
            "visibility": null,
            "width": null
          }
        },
        "1160a44dc18e47b0890f70c40eaa7eb0": {
          "model_module": "@jupyter-widgets/controls",
          "model_module_version": "1.5.0",
          "model_name": "DescriptionStyleModel",
          "state": {
            "_model_module": "@jupyter-widgets/controls",
            "_model_module_version": "1.5.0",
            "_model_name": "DescriptionStyleModel",
            "_view_count": null,
            "_view_module": "@jupyter-widgets/base",
            "_view_module_version": "1.2.0",
            "_view_name": "StyleView",
            "description_width": ""
          }
        },
        "11c7f66acc1d45be9517d0addf49331e": {
          "model_module": "@jupyter-widgets/base",
          "model_module_version": "1.2.0",
          "model_name": "LayoutModel",
          "state": {
            "_model_module": "@jupyter-widgets/base",
            "_model_module_version": "1.2.0",
            "_model_name": "LayoutModel",
            "_view_count": null,
            "_view_module": "@jupyter-widgets/base",
            "_view_module_version": "1.2.0",
            "_view_name": "LayoutView",
            "align_content": null,
            "align_items": null,
            "align_self": null,
            "border": null,
            "bottom": null,
            "display": null,
            "flex": null,
            "flex_flow": null,
            "grid_area": null,
            "grid_auto_columns": null,
            "grid_auto_flow": null,
            "grid_auto_rows": null,
            "grid_column": null,
            "grid_gap": null,
            "grid_row": null,
            "grid_template_areas": null,
            "grid_template_columns": null,
            "grid_template_rows": null,
            "height": null,
            "justify_content": null,
            "justify_items": null,
            "left": null,
            "margin": null,
            "max_height": null,
            "max_width": null,
            "min_height": null,
            "min_width": null,
            "object_fit": null,
            "object_position": null,
            "order": null,
            "overflow": null,
            "overflow_x": null,
            "overflow_y": null,
            "padding": null,
            "right": null,
            "top": null,
            "visibility": null,
            "width": null
          }
        },
        "122b1bd1f0e9417a8dcb57d4eebe4d2e": {
          "model_module": "@jupyter-widgets/controls",
          "model_module_version": "1.5.0",
          "model_name": "HBoxModel",
          "state": {
            "_dom_classes": [],
            "_model_module": "@jupyter-widgets/controls",
            "_model_module_version": "1.5.0",
            "_model_name": "HBoxModel",
            "_view_count": null,
            "_view_module": "@jupyter-widgets/controls",
            "_view_module_version": "1.5.0",
            "_view_name": "HBoxView",
            "box_style": "",
            "children": [
              "IPY_MODEL_e0c233ad01604540a6c873f4a731982d",
              "IPY_MODEL_e9a01115c75b499884f7e0ef32e9e599",
              "IPY_MODEL_5faba4ad609448b2b49024add4ad3b8e"
            ],
            "layout": "IPY_MODEL_ef25efa751304e4699910f1fbc14345f"
          }
        },
        "158212a630f04cbd884c937f2f60f5c8": {
          "model_module": "@jupyter-widgets/controls",
          "model_module_version": "1.5.0",
          "model_name": "HTMLModel",
          "state": {
            "_dom_classes": [],
            "_model_module": "@jupyter-widgets/controls",
            "_model_module_version": "1.5.0",
            "_model_name": "HTMLModel",
            "_view_count": null,
            "_view_module": "@jupyter-widgets/controls",
            "_view_module_version": "1.5.0",
            "_view_name": "HTMLView",
            "description": "",
            "description_tooltip": null,
            "layout": "IPY_MODEL_d1d54ccd56494c4d831f71b416a1f880",
            "placeholder": "​",
            "style": "IPY_MODEL_530f696feefe499da08c6312047379b2",
            "value": " 20/? [01:43&lt;00:00,  5.25s/it]"
          }
        },
        "23863bc37a8645029934b8c106622c51": {
          "model_module": "@jupyter-widgets/base",
          "model_module_version": "1.2.0",
          "model_name": "LayoutModel",
          "state": {
            "_model_module": "@jupyter-widgets/base",
            "_model_module_version": "1.2.0",
            "_model_name": "LayoutModel",
            "_view_count": null,
            "_view_module": "@jupyter-widgets/base",
            "_view_module_version": "1.2.0",
            "_view_name": "LayoutView",
            "align_content": null,
            "align_items": null,
            "align_self": null,
            "border": null,
            "bottom": null,
            "display": null,
            "flex": null,
            "flex_flow": null,
            "grid_area": null,
            "grid_auto_columns": null,
            "grid_auto_flow": null,
            "grid_auto_rows": null,
            "grid_column": null,
            "grid_gap": null,
            "grid_row": null,
            "grid_template_areas": null,
            "grid_template_columns": null,
            "grid_template_rows": null,
            "height": null,
            "justify_content": null,
            "justify_items": null,
            "left": null,
            "margin": null,
            "max_height": null,
            "max_width": null,
            "min_height": null,
            "min_width": null,
            "object_fit": null,
            "object_position": null,
            "order": null,
            "overflow": null,
            "overflow_x": null,
            "overflow_y": null,
            "padding": null,
            "right": null,
            "top": null,
            "visibility": null,
            "width": null
          }
        },
        "2508d229935744cbb5fc340222e2d660": {
          "model_module": "@jupyter-widgets/controls",
          "model_module_version": "1.5.0",
          "model_name": "DescriptionStyleModel",
          "state": {
            "_model_module": "@jupyter-widgets/controls",
            "_model_module_version": "1.5.0",
            "_model_name": "DescriptionStyleModel",
            "_view_count": null,
            "_view_module": "@jupyter-widgets/base",
            "_view_module_version": "1.2.0",
            "_view_name": "StyleView",
            "description_width": ""
          }
        },
        "2a0755d4476543feb4a64538e3e37213": {
          "model_module": "@jupyter-widgets/controls",
          "model_module_version": "1.5.0",
          "model_name": "FloatProgressModel",
          "state": {
            "_dom_classes": [],
            "_model_module": "@jupyter-widgets/controls",
            "_model_module_version": "1.5.0",
            "_model_name": "FloatProgressModel",
            "_view_count": null,
            "_view_module": "@jupyter-widgets/controls",
            "_view_module_version": "1.5.0",
            "_view_name": "ProgressView",
            "bar_style": "success",
            "description": "",
            "description_tooltip": null,
            "layout": "IPY_MODEL_c20b539cd70b4ba99601ad1d69fd9cec",
            "max": 1,
            "min": 0,
            "orientation": "horizontal",
            "style": "IPY_MODEL_a6d681eeafa44d18b933a4c5dec88382",
            "value": 1
          }
        },
        "33f063017b7c4c7fa8cbafc89674350b": {
          "model_module": "@jupyter-widgets/controls",
          "model_module_version": "1.5.0",
          "model_name": "HBoxModel",
          "state": {
            "_dom_classes": [],
            "_model_module": "@jupyter-widgets/controls",
            "_model_module_version": "1.5.0",
            "_model_name": "HBoxModel",
            "_view_count": null,
            "_view_module": "@jupyter-widgets/controls",
            "_view_module_version": "1.5.0",
            "_view_name": "HBoxView",
            "box_style": "",
            "children": [
              "IPY_MODEL_6864c81e2bcf459bbaf5acbb36bdfcbe",
              "IPY_MODEL_59d6e269eadf429a924f6f79bc8ba4ba",
              "IPY_MODEL_ca791fc471e34b9da2f9070fc1053c0f"
            ],
            "layout": "IPY_MODEL_8baf0ed3d0f743f294e07f2b5407e820"
          }
        },
        "3a8537e37fc14fd9b16ca0ceee4fede6": {
          "model_module": "@jupyter-widgets/base",
          "model_module_version": "1.2.0",
          "model_name": "LayoutModel",
          "state": {
            "_model_module": "@jupyter-widgets/base",
            "_model_module_version": "1.2.0",
            "_model_name": "LayoutModel",
            "_view_count": null,
            "_view_module": "@jupyter-widgets/base",
            "_view_module_version": "1.2.0",
            "_view_name": "LayoutView",
            "align_content": null,
            "align_items": null,
            "align_self": null,
            "border": null,
            "bottom": null,
            "display": null,
            "flex": null,
            "flex_flow": null,
            "grid_area": null,
            "grid_auto_columns": null,
            "grid_auto_flow": null,
            "grid_auto_rows": null,
            "grid_column": null,
            "grid_gap": null,
            "grid_row": null,
            "grid_template_areas": null,
            "grid_template_columns": null,
            "grid_template_rows": null,
            "height": null,
            "justify_content": null,
            "justify_items": null,
            "left": null,
            "margin": null,
            "max_height": null,
            "max_width": null,
            "min_height": null,
            "min_width": null,
            "object_fit": null,
            "object_position": null,
            "order": null,
            "overflow": null,
            "overflow_x": null,
            "overflow_y": null,
            "padding": null,
            "right": null,
            "top": null,
            "visibility": null,
            "width": null
          }
        },
        "41bdd49fab5f4826959d0d50663ff539": {
          "model_module": "@jupyter-widgets/controls",
          "model_module_version": "1.5.0",
          "model_name": "FloatProgressModel",
          "state": {
            "_dom_classes": [],
            "_model_module": "@jupyter-widgets/controls",
            "_model_module_version": "1.5.0",
            "_model_name": "FloatProgressModel",
            "_view_count": null,
            "_view_module": "@jupyter-widgets/controls",
            "_view_module_version": "1.5.0",
            "_view_name": "ProgressView",
            "bar_style": "",
            "description": "",
            "description_tooltip": null,
            "layout": "IPY_MODEL_6eb8b2e3262c45248708a2082c366f0a",
            "max": 64,
            "min": 0,
            "orientation": "horizontal",
            "style": "IPY_MODEL_095f680d37a3430fb82d223615662db5",
            "value": 64
          }
        },
        "530f696feefe499da08c6312047379b2": {
          "model_module": "@jupyter-widgets/controls",
          "model_module_version": "1.5.0",
          "model_name": "DescriptionStyleModel",
          "state": {
            "_model_module": "@jupyter-widgets/controls",
            "_model_module_version": "1.5.0",
            "_model_name": "DescriptionStyleModel",
            "_view_count": null,
            "_view_module": "@jupyter-widgets/base",
            "_view_module_version": "1.2.0",
            "_view_name": "StyleView",
            "description_width": ""
          }
        },
        "59d6e269eadf429a924f6f79bc8ba4ba": {
          "model_module": "@jupyter-widgets/controls",
          "model_module_version": "1.5.0",
          "model_name": "FloatProgressModel",
          "state": {
            "_dom_classes": [],
            "_model_module": "@jupyter-widgets/controls",
            "_model_module_version": "1.5.0",
            "_model_name": "FloatProgressModel",
            "_view_count": null,
            "_view_module": "@jupyter-widgets/controls",
            "_view_module_version": "1.5.0",
            "_view_name": "ProgressView",
            "bar_style": "success",
            "description": "",
            "description_tooltip": null,
            "layout": "IPY_MODEL_890e0dd7fa524ceca1e805cb6253ee71",
            "max": 20,
            "min": 0,
            "orientation": "horizontal",
            "style": "IPY_MODEL_61b52ff459214129b8f7e6d67b192b78",
            "value": 20
          }
        },
        "5ab5f08afa5841709aedb2f78a52a11c": {
          "model_module": "@jupyter-widgets/controls",
          "model_module_version": "1.5.0",
          "model_name": "DescriptionStyleModel",
          "state": {
            "_model_module": "@jupyter-widgets/controls",
            "_model_module_version": "1.5.0",
            "_model_name": "DescriptionStyleModel",
            "_view_count": null,
            "_view_module": "@jupyter-widgets/base",
            "_view_module_version": "1.2.0",
            "_view_name": "StyleView",
            "description_width": ""
          }
        },
        "5c2fda99d4204d85b1bf7ad354fd58d4": {
          "model_module": "@jupyter-widgets/base",
          "model_module_version": "1.2.0",
          "model_name": "LayoutModel",
          "state": {
            "_model_module": "@jupyter-widgets/base",
            "_model_module_version": "1.2.0",
            "_model_name": "LayoutModel",
            "_view_count": null,
            "_view_module": "@jupyter-widgets/base",
            "_view_module_version": "1.2.0",
            "_view_name": "LayoutView",
            "align_content": null,
            "align_items": null,
            "align_self": null,
            "border": null,
            "bottom": null,
            "display": null,
            "flex": null,
            "flex_flow": null,
            "grid_area": null,
            "grid_auto_columns": null,
            "grid_auto_flow": null,
            "grid_auto_rows": null,
            "grid_column": null,
            "grid_gap": null,
            "grid_row": null,
            "grid_template_areas": null,
            "grid_template_columns": null,
            "grid_template_rows": null,
            "height": null,
            "justify_content": null,
            "justify_items": null,
            "left": null,
            "margin": null,
            "max_height": null,
            "max_width": null,
            "min_height": null,
            "min_width": null,
            "object_fit": null,
            "object_position": null,
            "order": null,
            "overflow": null,
            "overflow_x": null,
            "overflow_y": null,
            "padding": null,
            "right": null,
            "top": null,
            "visibility": null,
            "width": null
          }
        },
        "5faba4ad609448b2b49024add4ad3b8e": {
          "model_module": "@jupyter-widgets/controls",
          "model_module_version": "1.5.0",
          "model_name": "HTMLModel",
          "state": {
            "_dom_classes": [],
            "_model_module": "@jupyter-widgets/controls",
            "_model_module_version": "1.5.0",
            "_model_name": "HTMLModel",
            "_view_count": null,
            "_view_module": "@jupyter-widgets/controls",
            "_view_module_version": "1.5.0",
            "_view_name": "HTMLView",
            "description": "",
            "description_tooltip": null,
            "layout": "IPY_MODEL_849b5c95008541d49f1ceedf0a59ac60",
            "placeholder": "​",
            "style": "IPY_MODEL_f3665a86662746c4ac7cb0796604781d",
            "value": " 20/? [01:27&lt;00:00,  6.45s/it]"
          }
        },
        "60168d85131d4afc99d55d61ab954ee6": {
          "model_module": "@jupyter-widgets/controls",
          "model_module_version": "1.5.0",
          "model_name": "HTMLModel",
          "state": {
            "_dom_classes": [],
            "_model_module": "@jupyter-widgets/controls",
            "_model_module_version": "1.5.0",
            "_model_name": "HTMLModel",
            "_view_count": null,
            "_view_module": "@jupyter-widgets/controls",
            "_view_module_version": "1.5.0",
            "_view_name": "HTMLView",
            "description": "",
            "description_tooltip": null,
            "layout": "IPY_MODEL_3a8537e37fc14fd9b16ca0ceee4fede6",
            "placeholder": "​",
            "style": "IPY_MODEL_1160a44dc18e47b0890f70c40eaa7eb0",
            "value": " 61/64 [00:02&lt;00:00, 23.36it/s]"
          }
        },
        "61b52ff459214129b8f7e6d67b192b78": {
          "model_module": "@jupyter-widgets/controls",
          "model_module_version": "1.5.0",
          "model_name": "ProgressStyleModel",
          "state": {
            "_model_module": "@jupyter-widgets/controls",
            "_model_module_version": "1.5.0",
            "_model_name": "ProgressStyleModel",
            "_view_count": null,
            "_view_module": "@jupyter-widgets/base",
            "_view_module_version": "1.2.0",
            "_view_name": "StyleView",
            "bar_color": null,
            "description_width": ""
          }
        },
        "6864c81e2bcf459bbaf5acbb36bdfcbe": {
          "model_module": "@jupyter-widgets/controls",
          "model_module_version": "1.5.0",
          "model_name": "HTMLModel",
          "state": {
            "_dom_classes": [],
            "_model_module": "@jupyter-widgets/controls",
            "_model_module_version": "1.5.0",
            "_model_name": "HTMLModel",
            "_view_count": null,
            "_view_module": "@jupyter-widgets/controls",
            "_view_module_version": "1.5.0",
            "_view_name": "HTMLView",
            "description": "",
            "description_tooltip": null,
            "layout": "IPY_MODEL_10df31709059484c99f102453d780473",
            "placeholder": "​",
            "style": "IPY_MODEL_2508d229935744cbb5fc340222e2d660",
            "value": "Generating: 100%"
          }
        },
        "6eb8b2e3262c45248708a2082c366f0a": {
          "model_module": "@jupyter-widgets/base",
          "model_module_version": "1.2.0",
          "model_name": "LayoutModel",
          "state": {
            "_model_module": "@jupyter-widgets/base",
            "_model_module_version": "1.2.0",
            "_model_name": "LayoutModel",
            "_view_count": null,
            "_view_module": "@jupyter-widgets/base",
            "_view_module_version": "1.2.0",
            "_view_name": "LayoutView",
            "align_content": null,
            "align_items": null,
            "align_self": null,
            "border": null,
            "bottom": null,
            "display": null,
            "flex": null,
            "flex_flow": null,
            "grid_area": null,
            "grid_auto_columns": null,
            "grid_auto_flow": null,
            "grid_auto_rows": null,
            "grid_column": null,
            "grid_gap": null,
            "grid_row": null,
            "grid_template_areas": null,
            "grid_template_columns": null,
            "grid_template_rows": null,
            "height": null,
            "justify_content": null,
            "justify_items": null,
            "left": null,
            "margin": null,
            "max_height": null,
            "max_width": null,
            "min_height": null,
            "min_width": null,
            "object_fit": null,
            "object_position": null,
            "order": null,
            "overflow": null,
            "overflow_x": null,
            "overflow_y": null,
            "padding": null,
            "right": null,
            "top": null,
            "visibility": null,
            "width": null
          }
        },
        "7710c7377cbc4c30b55b28b4bc99e88f": {
          "model_module": "@jupyter-widgets/controls",
          "model_module_version": "1.5.0",
          "model_name": "HTMLModel",
          "state": {
            "_dom_classes": [],
            "_model_module": "@jupyter-widgets/controls",
            "_model_module_version": "1.5.0",
            "_model_name": "HTMLModel",
            "_view_count": null,
            "_view_module": "@jupyter-widgets/controls",
            "_view_module_version": "1.5.0",
            "_view_name": "HTMLView",
            "description": "",
            "description_tooltip": null,
            "layout": "IPY_MODEL_5c2fda99d4204d85b1bf7ad354fd58d4",
            "placeholder": "​",
            "style": "IPY_MODEL_93cd4d35c5fd41f5904ca1d52d1f52a8",
            "value": "embedding nodes:  95%"
          }
        },
        "7cb241365f604419af454c1c28de197a": {
          "model_module": "@jupyter-widgets/base",
          "model_module_version": "1.2.0",
          "model_name": "LayoutModel",
          "state": {
            "_model_module": "@jupyter-widgets/base",
            "_model_module_version": "1.2.0",
            "_model_name": "LayoutModel",
            "_view_count": null,
            "_view_module": "@jupyter-widgets/base",
            "_view_module_version": "1.2.0",
            "_view_name": "LayoutView",
            "align_content": null,
            "align_items": null,
            "align_self": null,
            "border": null,
            "bottom": null,
            "display": null,
            "flex": null,
            "flex_flow": null,
            "grid_area": null,
            "grid_auto_columns": null,
            "grid_auto_flow": null,
            "grid_auto_rows": null,
            "grid_column": null,
            "grid_gap": null,
            "grid_row": null,
            "grid_template_areas": null,
            "grid_template_columns": null,
            "grid_template_rows": null,
            "height": null,
            "justify_content": null,
            "justify_items": null,
            "left": null,
            "margin": null,
            "max_height": null,
            "max_width": null,
            "min_height": null,
            "min_width": null,
            "object_fit": null,
            "object_position": null,
            "order": null,
            "overflow": null,
            "overflow_x": null,
            "overflow_y": null,
            "padding": null,
            "right": null,
            "top": null,
            "visibility": null,
            "width": "20px"
          }
        },
        "7dce19ac55264f2b88a0e4730e55867b": {
          "model_module": "@jupyter-widgets/controls",
          "model_module_version": "1.5.0",
          "model_name": "HTMLModel",
          "state": {
            "_dom_classes": [],
            "_model_module": "@jupyter-widgets/controls",
            "_model_module_version": "1.5.0",
            "_model_name": "HTMLModel",
            "_view_count": null,
            "_view_module": "@jupyter-widgets/controls",
            "_view_module_version": "1.5.0",
            "_view_name": "HTMLView",
            "description": "",
            "description_tooltip": null,
            "layout": "IPY_MODEL_ddffd834e09940a4bd3874c3f39b4e21",
            "placeholder": "​",
            "style": "IPY_MODEL_ef63c3b2d51e452da03cdae5d9b034be",
            "value": ""
          }
        },
        "849b5c95008541d49f1ceedf0a59ac60": {
          "model_module": "@jupyter-widgets/base",
          "model_module_version": "1.2.0",
          "model_name": "LayoutModel",
          "state": {
            "_model_module": "@jupyter-widgets/base",
            "_model_module_version": "1.2.0",
            "_model_name": "LayoutModel",
            "_view_count": null,
            "_view_module": "@jupyter-widgets/base",
            "_view_module_version": "1.2.0",
            "_view_name": "LayoutView",
            "align_content": null,
            "align_items": null,
            "align_self": null,
            "border": null,
            "bottom": null,
            "display": null,
            "flex": null,
            "flex_flow": null,
            "grid_area": null,
            "grid_auto_columns": null,
            "grid_auto_flow": null,
            "grid_auto_rows": null,
            "grid_column": null,
            "grid_gap": null,
            "grid_row": null,
            "grid_template_areas": null,
            "grid_template_columns": null,
            "grid_template_rows": null,
            "height": null,
            "justify_content": null,
            "justify_items": null,
            "left": null,
            "margin": null,
            "max_height": null,
            "max_width": null,
            "min_height": null,
            "min_width": null,
            "object_fit": null,
            "object_position": null,
            "order": null,
            "overflow": null,
            "overflow_x": null,
            "overflow_y": null,
            "padding": null,
            "right": null,
            "top": null,
            "visibility": null,
            "width": null
          }
        },
        "890e0dd7fa524ceca1e805cb6253ee71": {
          "model_module": "@jupyter-widgets/base",
          "model_module_version": "1.2.0",
          "model_name": "LayoutModel",
          "state": {
            "_model_module": "@jupyter-widgets/base",
            "_model_module_version": "1.2.0",
            "_model_name": "LayoutModel",
            "_view_count": null,
            "_view_module": "@jupyter-widgets/base",
            "_view_module_version": "1.2.0",
            "_view_name": "LayoutView",
            "align_content": null,
            "align_items": null,
            "align_self": null,
            "border": null,
            "bottom": null,
            "display": null,
            "flex": null,
            "flex_flow": null,
            "grid_area": null,
            "grid_auto_columns": null,
            "grid_auto_flow": null,
            "grid_auto_rows": null,
            "grid_column": null,
            "grid_gap": null,
            "grid_row": null,
            "grid_template_areas": null,
            "grid_template_columns": null,
            "grid_template_rows": null,
            "height": null,
            "justify_content": null,
            "justify_items": null,
            "left": null,
            "margin": null,
            "max_height": null,
            "max_width": null,
            "min_height": null,
            "min_width": null,
            "object_fit": null,
            "object_position": null,
            "order": null,
            "overflow": null,
            "overflow_x": null,
            "overflow_y": null,
            "padding": null,
            "right": null,
            "top": null,
            "visibility": null,
            "width": null
          }
        },
        "8baf0ed3d0f743f294e07f2b5407e820": {
          "model_module": "@jupyter-widgets/base",
          "model_module_version": "1.2.0",
          "model_name": "LayoutModel",
          "state": {
            "_model_module": "@jupyter-widgets/base",
            "_model_module_version": "1.2.0",
            "_model_name": "LayoutModel",
            "_view_count": null,
            "_view_module": "@jupyter-widgets/base",
            "_view_module_version": "1.2.0",
            "_view_name": "LayoutView",
            "align_content": null,
            "align_items": null,
            "align_self": null,
            "border": null,
            "bottom": null,
            "display": null,
            "flex": null,
            "flex_flow": null,
            "grid_area": null,
            "grid_auto_columns": null,
            "grid_auto_flow": null,
            "grid_auto_rows": null,
            "grid_column": null,
            "grid_gap": null,
            "grid_row": null,
            "grid_template_areas": null,
            "grid_template_columns": null,
            "grid_template_rows": null,
            "height": null,
            "justify_content": null,
            "justify_items": null,
            "left": null,
            "margin": null,
            "max_height": null,
            "max_width": null,
            "min_height": null,
            "min_width": null,
            "object_fit": null,
            "object_position": null,
            "order": null,
            "overflow": null,
            "overflow_x": null,
            "overflow_y": null,
            "padding": null,
            "right": null,
            "top": null,
            "visibility": null,
            "width": null
          }
        },
        "93cd4d35c5fd41f5904ca1d52d1f52a8": {
          "model_module": "@jupyter-widgets/controls",
          "model_module_version": "1.5.0",
          "model_name": "DescriptionStyleModel",
          "state": {
            "_model_module": "@jupyter-widgets/controls",
            "_model_module_version": "1.5.0",
            "_model_name": "DescriptionStyleModel",
            "_view_count": null,
            "_view_module": "@jupyter-widgets/base",
            "_view_module_version": "1.2.0",
            "_view_name": "StyleView",
            "description_width": ""
          }
        },
        "9cf586576ff44dba86ba2eb389593c61": {
          "model_module": "@jupyter-widgets/controls",
          "model_module_version": "1.5.0",
          "model_name": "ProgressStyleModel",
          "state": {
            "_model_module": "@jupyter-widgets/controls",
            "_model_module_version": "1.5.0",
            "_model_name": "ProgressStyleModel",
            "_view_count": null,
            "_view_module": "@jupyter-widgets/base",
            "_view_module_version": "1.2.0",
            "_view_name": "StyleView",
            "bar_color": null,
            "description_width": ""
          }
        },
        "9edf898aeeab40dda9b9475395776521": {
          "model_module": "@jupyter-widgets/base",
          "model_module_version": "1.2.0",
          "model_name": "LayoutModel",
          "state": {
            "_model_module": "@jupyter-widgets/base",
            "_model_module_version": "1.2.0",
            "_model_name": "LayoutModel",
            "_view_count": null,
            "_view_module": "@jupyter-widgets/base",
            "_view_module_version": "1.2.0",
            "_view_name": "LayoutView",
            "align_content": null,
            "align_items": null,
            "align_self": null,
            "border": null,
            "bottom": null,
            "display": null,
            "flex": null,
            "flex_flow": null,
            "grid_area": null,
            "grid_auto_columns": null,
            "grid_auto_flow": null,
            "grid_auto_rows": null,
            "grid_column": null,
            "grid_gap": null,
            "grid_row": null,
            "grid_template_areas": null,
            "grid_template_columns": null,
            "grid_template_rows": null,
            "height": null,
            "justify_content": null,
            "justify_items": null,
            "left": null,
            "margin": null,
            "max_height": null,
            "max_width": null,
            "min_height": null,
            "min_width": null,
            "object_fit": null,
            "object_position": null,
            "order": null,
            "overflow": null,
            "overflow_x": null,
            "overflow_y": null,
            "padding": null,
            "right": null,
            "top": null,
            "visibility": "hidden",
            "width": null
          }
        },
        "a6d681eeafa44d18b933a4c5dec88382": {
          "model_module": "@jupyter-widgets/controls",
          "model_module_version": "1.5.0",
          "model_name": "ProgressStyleModel",
          "state": {
            "_model_module": "@jupyter-widgets/controls",
            "_model_module_version": "1.5.0",
            "_model_name": "ProgressStyleModel",
            "_view_count": null,
            "_view_module": "@jupyter-widgets/base",
            "_view_module_version": "1.2.0",
            "_view_name": "StyleView",
            "bar_color": null,
            "description_width": ""
          }
        },
        "bf8dcc0895054529af356da401c513f6": {
          "model_module": "@jupyter-widgets/controls",
          "model_module_version": "1.5.0",
          "model_name": "HBoxModel",
          "state": {
            "_dom_classes": [],
            "_model_module": "@jupyter-widgets/controls",
            "_model_module_version": "1.5.0",
            "_model_name": "HBoxModel",
            "_view_count": null,
            "_view_module": "@jupyter-widgets/controls",
            "_view_module_version": "1.5.0",
            "_view_name": "HBoxView",
            "box_style": "",
            "children": [
              "IPY_MODEL_7dce19ac55264f2b88a0e4730e55867b",
              "IPY_MODEL_2a0755d4476543feb4a64538e3e37213",
              "IPY_MODEL_158212a630f04cbd884c937f2f60f5c8"
            ],
            "layout": "IPY_MODEL_11c7f66acc1d45be9517d0addf49331e"
          }
        },
        "c20b539cd70b4ba99601ad1d69fd9cec": {
          "model_module": "@jupyter-widgets/base",
          "model_module_version": "1.2.0",
          "model_name": "LayoutModel",
          "state": {
            "_model_module": "@jupyter-widgets/base",
            "_model_module_version": "1.2.0",
            "_model_name": "LayoutModel",
            "_view_count": null,
            "_view_module": "@jupyter-widgets/base",
            "_view_module_version": "1.2.0",
            "_view_name": "LayoutView",
            "align_content": null,
            "align_items": null,
            "align_self": null,
            "border": null,
            "bottom": null,
            "display": null,
            "flex": null,
            "flex_flow": null,
            "grid_area": null,
            "grid_auto_columns": null,
            "grid_auto_flow": null,
            "grid_auto_rows": null,
            "grid_column": null,
            "grid_gap": null,
            "grid_row": null,
            "grid_template_areas": null,
            "grid_template_columns": null,
            "grid_template_rows": null,
            "height": null,
            "justify_content": null,
            "justify_items": null,
            "left": null,
            "margin": null,
            "max_height": null,
            "max_width": null,
            "min_height": null,
            "min_width": null,
            "object_fit": null,
            "object_position": null,
            "order": null,
            "overflow": null,
            "overflow_x": null,
            "overflow_y": null,
            "padding": null,
            "right": null,
            "top": null,
            "visibility": null,
            "width": "20px"
          }
        },
        "ca791fc471e34b9da2f9070fc1053c0f": {
          "model_module": "@jupyter-widgets/controls",
          "model_module_version": "1.5.0",
          "model_name": "HTMLModel",
          "state": {
            "_dom_classes": [],
            "_model_module": "@jupyter-widgets/controls",
            "_model_module_version": "1.5.0",
            "_model_name": "HTMLModel",
            "_view_count": null,
            "_view_module": "@jupyter-widgets/controls",
            "_view_module_version": "1.5.0",
            "_view_name": "HTMLView",
            "description": "",
            "description_tooltip": null,
            "layout": "IPY_MODEL_23863bc37a8645029934b8c106622c51",
            "placeholder": "​",
            "style": "IPY_MODEL_5ab5f08afa5841709aedb2f78a52a11c",
            "value": " 20/20 [00:52&lt;00:00,  4.50s/it]"
          }
        },
        "d1d54ccd56494c4d831f71b416a1f880": {
          "model_module": "@jupyter-widgets/base",
          "model_module_version": "1.2.0",
          "model_name": "LayoutModel",
          "state": {
            "_model_module": "@jupyter-widgets/base",
            "_model_module_version": "1.2.0",
            "_model_name": "LayoutModel",
            "_view_count": null,
            "_view_module": "@jupyter-widgets/base",
            "_view_module_version": "1.2.0",
            "_view_name": "LayoutView",
            "align_content": null,
            "align_items": null,
            "align_self": null,
            "border": null,
            "bottom": null,
            "display": null,
            "flex": null,
            "flex_flow": null,
            "grid_area": null,
            "grid_auto_columns": null,
            "grid_auto_flow": null,
            "grid_auto_rows": null,
            "grid_column": null,
            "grid_gap": null,
            "grid_row": null,
            "grid_template_areas": null,
            "grid_template_columns": null,
            "grid_template_rows": null,
            "height": null,
            "justify_content": null,
            "justify_items": null,
            "left": null,
            "margin": null,
            "max_height": null,
            "max_width": null,
            "min_height": null,
            "min_width": null,
            "object_fit": null,
            "object_position": null,
            "order": null,
            "overflow": null,
            "overflow_x": null,
            "overflow_y": null,
            "padding": null,
            "right": null,
            "top": null,
            "visibility": null,
            "width": null
          }
        },
        "ddffd834e09940a4bd3874c3f39b4e21": {
          "model_module": "@jupyter-widgets/base",
          "model_module_version": "1.2.0",
          "model_name": "LayoutModel",
          "state": {
            "_model_module": "@jupyter-widgets/base",
            "_model_module_version": "1.2.0",
            "_model_name": "LayoutModel",
            "_view_count": null,
            "_view_module": "@jupyter-widgets/base",
            "_view_module_version": "1.2.0",
            "_view_name": "LayoutView",
            "align_content": null,
            "align_items": null,
            "align_self": null,
            "border": null,
            "bottom": null,
            "display": null,
            "flex": null,
            "flex_flow": null,
            "grid_area": null,
            "grid_auto_columns": null,
            "grid_auto_flow": null,
            "grid_auto_rows": null,
            "grid_column": null,
            "grid_gap": null,
            "grid_row": null,
            "grid_template_areas": null,
            "grid_template_columns": null,
            "grid_template_rows": null,
            "height": null,
            "justify_content": null,
            "justify_items": null,
            "left": null,
            "margin": null,
            "max_height": null,
            "max_width": null,
            "min_height": null,
            "min_width": null,
            "object_fit": null,
            "object_position": null,
            "order": null,
            "overflow": null,
            "overflow_x": null,
            "overflow_y": null,
            "padding": null,
            "right": null,
            "top": null,
            "visibility": null,
            "width": null
          }
        },
        "e0c233ad01604540a6c873f4a731982d": {
          "model_module": "@jupyter-widgets/controls",
          "model_module_version": "1.5.0",
          "model_name": "HTMLModel",
          "state": {
            "_dom_classes": [],
            "_model_module": "@jupyter-widgets/controls",
            "_model_module_version": "1.5.0",
            "_model_name": "HTMLModel",
            "_view_count": null,
            "_view_module": "@jupyter-widgets/controls",
            "_view_module_version": "1.5.0",
            "_view_name": "HTMLView",
            "description": "",
            "description_tooltip": null,
            "layout": "IPY_MODEL_0b44cb0f8e34446c8dde668a75d3d8ad",
            "placeholder": "​",
            "style": "IPY_MODEL_edaac6587b2d4bd5be52b89bb097f99f",
            "value": ""
          }
        },
        "e9a01115c75b499884f7e0ef32e9e599": {
          "model_module": "@jupyter-widgets/controls",
          "model_module_version": "1.5.0",
          "model_name": "FloatProgressModel",
          "state": {
            "_dom_classes": [],
            "_model_module": "@jupyter-widgets/controls",
            "_model_module_version": "1.5.0",
            "_model_name": "FloatProgressModel",
            "_view_count": null,
            "_view_module": "@jupyter-widgets/controls",
            "_view_module_version": "1.5.0",
            "_view_name": "ProgressView",
            "bar_style": "success",
            "description": "",
            "description_tooltip": null,
            "layout": "IPY_MODEL_7cb241365f604419af454c1c28de197a",
            "max": 1,
            "min": 0,
            "orientation": "horizontal",
            "style": "IPY_MODEL_9cf586576ff44dba86ba2eb389593c61",
            "value": 1
          }
        },
        "edaac6587b2d4bd5be52b89bb097f99f": {
          "model_module": "@jupyter-widgets/controls",
          "model_module_version": "1.5.0",
          "model_name": "DescriptionStyleModel",
          "state": {
            "_model_module": "@jupyter-widgets/controls",
            "_model_module_version": "1.5.0",
            "_model_name": "DescriptionStyleModel",
            "_view_count": null,
            "_view_module": "@jupyter-widgets/base",
            "_view_module_version": "1.2.0",
            "_view_name": "StyleView",
            "description_width": ""
          }
        },
        "ef25efa751304e4699910f1fbc14345f": {
          "model_module": "@jupyter-widgets/base",
          "model_module_version": "1.2.0",
          "model_name": "LayoutModel",
          "state": {
            "_model_module": "@jupyter-widgets/base",
            "_model_module_version": "1.2.0",
            "_model_name": "LayoutModel",
            "_view_count": null,
            "_view_module": "@jupyter-widgets/base",
            "_view_module_version": "1.2.0",
            "_view_name": "LayoutView",
            "align_content": null,
            "align_items": null,
            "align_self": null,
            "border": null,
            "bottom": null,
            "display": null,
            "flex": null,
            "flex_flow": null,
            "grid_area": null,
            "grid_auto_columns": null,
            "grid_auto_flow": null,
            "grid_auto_rows": null,
            "grid_column": null,
            "grid_gap": null,
            "grid_row": null,
            "grid_template_areas": null,
            "grid_template_columns": null,
            "grid_template_rows": null,
            "height": null,
            "justify_content": null,
            "justify_items": null,
            "left": null,
            "margin": null,
            "max_height": null,
            "max_width": null,
            "min_height": null,
            "min_width": null,
            "object_fit": null,
            "object_position": null,
            "order": null,
            "overflow": null,
            "overflow_x": null,
            "overflow_y": null,
            "padding": null,
            "right": null,
            "top": null,
            "visibility": null,
            "width": null
          }
        },
        "ef63c3b2d51e452da03cdae5d9b034be": {
          "model_module": "@jupyter-widgets/controls",
          "model_module_version": "1.5.0",
          "model_name": "DescriptionStyleModel",
          "state": {
            "_model_module": "@jupyter-widgets/controls",
            "_model_module_version": "1.5.0",
            "_model_name": "DescriptionStyleModel",
            "_view_count": null,
            "_view_module": "@jupyter-widgets/base",
            "_view_module_version": "1.2.0",
            "_view_name": "StyleView",
            "description_width": ""
          }
        },
        "f3665a86662746c4ac7cb0796604781d": {
          "model_module": "@jupyter-widgets/controls",
          "model_module_version": "1.5.0",
          "model_name": "DescriptionStyleModel",
          "state": {
            "_model_module": "@jupyter-widgets/controls",
            "_model_module_version": "1.5.0",
            "_model_name": "DescriptionStyleModel",
            "_view_count": null,
            "_view_module": "@jupyter-widgets/base",
            "_view_module_version": "1.2.0",
            "_view_name": "StyleView",
            "description_width": ""
          }
        },
        "state": {}
      }
    }
  },
  "nbformat": 4,
  "nbformat_minor": 0
}
