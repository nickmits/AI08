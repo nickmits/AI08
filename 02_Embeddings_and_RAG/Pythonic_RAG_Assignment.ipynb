{
  "cells": [
    {
      "cell_type": "markdown",
      "metadata": {
        "id": "lElF3o5PR6ys"
      },
      "source": [
        "# Your First RAG Application\n",
        "\n",
        "In this notebook, we'll walk you through each of the components that are involved in a simple RAG application.\n",
        "\n",
        "We won't be leveraging any fancy tools, just the OpenAI Python SDK, Numpy, and some classic Python.\n",
        "\n",
        "> NOTE: This was done with Python 3.12.3.\n",
        "\n",
        "> NOTE: There might be [compatibility issues](https://github.com/wandb/wandb/issues/7683) if you're on NVIDIA driver >552.44 As an interim solution - you can rollback your drivers to the 552.44."
      ]
    },
    {
      "cell_type": "markdown",
      "metadata": {
        "id": "5CtcL8P8R6yt"
      },
      "source": [
        "## Table of Contents:\n",
        "\n",
        "- Task 1: Imports and Utilities\n",
        "- Task 2: Documents\n",
        "- Task 3: Embeddings and Vectors\n",
        "- Task 4: Prompts\n",
        "- Task 5: Retrieval Augmented Generation\n",
        "  - 🚧 Activity #1: Augment RAG"
      ]
    },
    {
      "cell_type": "markdown",
      "metadata": {
        "id": "1Dz6GYilR6yt"
      },
      "source": [
        "Let's look at a rather complicated looking visual representation of a basic RAG application.\n",
        "\n",
        "<img src=\"https://i.imgur.com/vD8b016.png\" />"
      ]
    },
    {
      "cell_type": "markdown",
      "metadata": {
        "id": "PjmC0KFtR6yt"
      },
      "source": [
        "## Task 1: Imports and Utility\n",
        "\n",
        "We're just doing some imports and enabling `async` to work within the Jupyter environment here, nothing too crazy!"
      ]
    },
    {
      "cell_type": "code",
      "execution_count": 5,
      "metadata": {
        "id": "Z1dyrG4hR6yt"
      },
      "outputs": [],
      "source": [
        "from aimakerspace.text_utils import TextFileLoader, CharacterTextSplitter,EnhancedTextFileLoader\n",
        "from aimakerspace.vectordatabase import VectorDatabase, SimpleEnhancedVectorDatabase\n",
        "import asyncio"
      ]
    },
    {
      "cell_type": "code",
      "execution_count": 6,
      "metadata": {
        "id": "9OrFZRnER6yt"
      },
      "outputs": [],
      "source": [
        "import nest_asyncio\n",
        "nest_asyncio.apply()"
      ]
    },
    {
      "cell_type": "markdown",
      "metadata": {
        "id": "M0jGnpQsR6yu"
      },
      "source": [
        "## Task 2: Documents\n",
        "\n",
        "We'll be concerning ourselves with this part of the flow in the following section:\n",
        "\n",
        "<img src=\"https://i.imgur.com/jTm9gjk.png\" />"
      ]
    },
    {
      "cell_type": "markdown",
      "metadata": {
        "id": "-SFPWvRUR6yu"
      },
      "source": [
        "### Loading Source Documents\n",
        "\n",
        "So, first things first, we need some documents to work with.\n",
        "\n",
        "While we could work directly with the `.txt` files (or whatever file-types you wanted to extend this to) we can instead do some batch processing of those documents at the beginning in order to store them in a more machine compatible format.\n",
        "\n",
        "In this case, we're going to parse our text file into a single document in memory.\n",
        "\n",
        "Let's look at the relevant bits of the `TextFileLoader` class:\n",
        "\n",
        "```python\n",
        "def load_file(self):\n",
        "        with open(self.path, \"r\", encoding=self.encoding) as f:\n",
        "            self.documents.append(f.read())\n",
        "```\n",
        "\n",
        "We're simply loading the document using the built in `open` method, and storing that output in our `self.documents` list.\n",
        "\n",
        "> NOTE: We're using blogs from PMarca (Marc Andreessen) as our sample data. This data is largely irrelevant as we want to focus on the mechanisms of RAG, which includes out data's shape and quality - but not specifically what the contents of the data are. \n"
      ]
    },
    {
      "cell_type": "code",
      "execution_count": 7,
      "metadata": {
        "colab": {
          "base_uri": "https://localhost:8080/"
        },
        "id": "Ia2sUEuGR6yu",
        "outputId": "84937ecc-c35f-4c4a-a4ab-9da72625954c"
      },
      "outputs": [
        {
          "data": {
            "text/plain": [
              "1"
            ]
          },
          "execution_count": 7,
          "metadata": {},
          "output_type": "execute_result"
        }
      ],
      "source": [
        "text_loader = TextFileLoader(\"data/PMarcaBlogs.txt\")\n",
        "documents = text_loader.load_documents()\n",
        "len(documents)"
      ]
    },
    {
      "cell_type": "code",
      "execution_count": 8,
      "metadata": {
        "colab": {
          "base_uri": "https://localhost:8080/"
        },
        "id": "bV-tj5WFR6yu",
        "outputId": "674eb315-1ff3-4597-bcf5-38ece0a812ac"
      },
      "outputs": [
        {
          "name": "stdout",
          "output_type": "stream",
          "text": [
            "\n",
            "The Pmarca Blog Archives\n",
            "(select posts from 2007-2009)\n",
            "Marc Andreessen\n",
            "copyright: Andreessen Horow\n"
          ]
        }
      ],
      "source": [
        "print(documents[0][:100])"
      ]
    },
    {
      "cell_type": "markdown",
      "metadata": {
        "id": "nHlTvCzYR6yu"
      },
      "source": [
        "### Splitting Text Into Chunks\n",
        "\n",
        "As we can see, there is one massive document.\n",
        "\n",
        "We'll want to chunk the document into smaller parts so it's easier to pass the most relevant snippets to the LLM.\n",
        "\n",
        "There is no fixed way to split/chunk documents - and you'll need to rely on some intuition as well as knowing your data *very* well in order to build the most robust system.\n",
        "\n",
        "For this toy example, we'll just split blindly on length.\n",
        "\n",
        ">There's an opportunity to clear up some terminology here, for this course we will be stick to the following:\n",
        ">\n",
        ">- \"source documents\" : The `.txt`, `.pdf`, `.html`, ..., files that make up the files and information we start with in its raw format\n",
        ">- \"document(s)\" : single (or more) text object(s)\n",
        ">- \"corpus\" : the combination of all of our documents"
      ]
    },
    {
      "cell_type": "markdown",
      "metadata": {
        "id": "2G6Voc0jR6yv"
      },
      "source": [
        "As you can imagine (though it's not specifically true in this toy example) the idea of splitting documents is to break them into managable sized chunks that retain the most relevant local context."
      ]
    },
    {
      "cell_type": "code",
      "execution_count": 9,
      "metadata": {
        "colab": {
          "base_uri": "https://localhost:8080/"
        },
        "id": "UMC4tsEmR6yv",
        "outputId": "08689c0b-57cd-4040-942a-8193e997f5cb"
      },
      "outputs": [
        {
          "data": {
            "text/plain": [
              "373"
            ]
          },
          "execution_count": 9,
          "metadata": {},
          "output_type": "execute_result"
        }
      ],
      "source": [
        "text_splitter = CharacterTextSplitter()\n",
        "split_documents = text_splitter.split_texts(documents)\n",
        "len(split_documents)"
      ]
    },
    {
      "cell_type": "markdown",
      "metadata": {
        "id": "W2wKT0WLR6yv"
      },
      "source": [
        "Let's take a look at some of the documents we've managed to split."
      ]
    },
    {
      "cell_type": "code",
      "execution_count": 10,
      "metadata": {
        "colab": {
          "base_uri": "https://localhost:8080/"
        },
        "id": "vcYMwWJoR6yv",
        "outputId": "20d69876-feca-4826-b4be-32915276987a"
      },
      "outputs": [
        {
          "data": {
            "text/plain": [
              "['\\ufeff\\nThe Pmarca Blog Archives\\n(select posts from 2007-2009)\\nMarc Andreessen\\ncopyright: Andreessen Horowitz\\ncover design: Jessica Hagy\\nproduced using: Pressbooks\\nContents\\nTHE PMARCA GUIDE TO STARTUPS\\nPart 1: Why not to do a startup 2\\nPart 2: When the VCs say \"no\" 10\\nPart 3: \"But I don\\'t know any VCs!\" 18\\nPart 4: The only thing that matters 25\\nPart 5: The Moby Dick theory of big companies 33\\nPart 6: How much funding is too little? Too much? 41\\nPart 7: Why a startup\\'s initial business plan doesn\\'t\\nmatter that much\\n49\\nTHE PMARCA GUIDE TO HIRING\\nPart 8: Hiring, managing, promoting, and Dring\\nexecutives\\n54\\nPart 9: How to hire a professional CEO 68\\nHow to hire the best people you\\'ve ever worked\\nwith\\n69\\nTHE PMARCA GUIDE TO BIG COMPANIES\\nPart 1: Turnaround! 82\\nPart 2: Retaining great people 86\\nTHE PMARCA GUIDE TO CAREER, PRODUCTIVITY,\\nAND SOME OTHER THINGS\\nIntroduction 97\\nPart 1: Opportunity 99\\nPart 2: Skills and education 107\\nPart 3: Where to go and why 120\\nThe Pmarca Guide to Personal Productivi']"
            ]
          },
          "execution_count": 10,
          "metadata": {},
          "output_type": "execute_result"
        }
      ],
      "source": [
        "split_documents[0:1]"
      ]
    },
    {
      "cell_type": "markdown",
      "metadata": {
        "id": "HOU-RFP_R6yv"
      },
      "source": [
        "## Task 3: Embeddings and Vectors\n",
        "\n",
        "Next, we have to convert our corpus into a \"machine readable\" format as we explored in the Embedding Primer notebook.\n",
        "\n",
        "Today, we're going to talk about the actual process of creating, and then storing, these embeddings, and how we can leverage that to intelligently add context to our queries."
      ]
    },
    {
      "cell_type": "markdown",
      "metadata": {},
      "source": [
        "### OpenAI API Key\n",
        "\n",
        "In order to access OpenAI's APIs, we'll need to provide our OpenAI API Key!\n",
        "\n",
        "You can work through the folder \"OpenAI API Key Setup\" for more information on this process if you don't already have an API Key!"
      ]
    },
    {
      "cell_type": "code",
      "execution_count": 11,
      "metadata": {},
      "outputs": [],
      "source": [
        "import os\n",
        "import openai\n",
        "from getpass import getpass\n",
        "\n",
        "openai.api_key = getpass(\"OpenAI API Key: \")\n",
        "os.environ[\"OPENAI_API_KEY\"] = openai.api_key\n",
        "\n"
      ]
    },
    {
      "cell_type": "markdown",
      "metadata": {},
      "source": [
        "### Vector Database\n",
        "\n",
        "Let's set up our vector database to hold all our documents and their embeddings!"
      ]
    },
    {
      "cell_type": "markdown",
      "metadata": {
        "id": "kDQrfAR1R6yv"
      },
      "source": [
        "While this is all baked into 1 call - we can look at some of the code that powers this process to get a better understanding:\n",
        "\n",
        "Let's look at our `VectorDatabase().__init__()`:\n",
        "\n",
        "```python\n",
        "def __init__(self, embedding_model: EmbeddingModel = None):\n",
        "        self.vectors = defaultdict(np.array)\n",
        "        self.embedding_model = embedding_model or EmbeddingModel()\n",
        "```\n",
        "\n",
        "As you can see - our vectors are merely stored as a dictionary of `np.array` objects.\n",
        "\n",
        "Secondly, our `VectorDatabase()` has a default `EmbeddingModel()` which is a wrapper for OpenAI's `text-embedding-3-small` model.\n",
        "\n",
        "> **Quick Info About `text-embedding-3-small`**:\n",
        "> - It has a context window of **8191** tokens\n",
        "> - It returns vectors with dimension **1536**"
      ]
    },
    {
      "cell_type": "markdown",
      "metadata": {
        "id": "L273pRdeR6yv"
      },
      "source": [
        "#### ❓Question #1:\n",
        "\n",
        "The default embedding dimension of `text-embedding-3-small` is 1536, as noted above. \n",
        "\n",
        "1. Is there any way to modify this dimension?\n",
        "2. What technique does OpenAI use to achieve this?\n",
        "\n",
        "> NOTE: Check out this [API documentation](https://platform.openai.com/docs/api-reference/embeddings/create) for the answer to question #1.1, and [this documentation](https://platform.openai.com/docs/guides/embeddings/use-cases) for an answer to question #1.2!\n"
      ]
    },
    {
      "cell_type": "markdown",
      "metadata": {},
      "source": [
        "##### ✅ Answer:\n",
        "1.We can modify the dimension of the embedding ( without the embedding losing its concept-representing properties) by passing `dimensions` parameter (only supported in text-embedding-3 and later models). for example:\n",
        "\n",
        "client.embeddings.create(\n",
        "  model=\"text-embedding-ada-002\",\n",
        "  input=\"The food was delicious and the waiter...\",\n",
        "  encoding_format=\"float\"\n",
        "  dimensions=1024 \n",
        "). \n",
        "\n",
        "Also we can change the dimension after generating the embedding like:\n",
        "\n",
        "def normalize_l2(x):\n",
        "    x = np.array(x)\n",
        "    if x.ndim == 1:\n",
        "        norm = np.linalg.norm(x)\n",
        "        if norm == 0:\n",
        "            return x\n",
        "        return x / norm\n",
        "    else:\n",
        "        norm = np.linalg.norm(x, 2, axis=1, keepdims=True)\n",
        "        return np.where(norm == 0, x, x / norm)\n",
        "\n",
        "\n",
        "response = client.embeddings.create(\n",
        "    model=\"text-embedding-3-small\", input=\"Testing 123\", encoding_format=\"float\"\n",
        ")\n",
        "\n",
        "cut_dim = response.data[0].embedding[:256]\n",
        "norm_dim = normalize_l2(cut_dim)\n",
        "\n",
        "2.The technique that OpenAI use to achive this is:Matryoshka Representation Learning, which encodes information at\n",
        "different granularities and allows a single embedding to adapt to the computational constraints of downstream tasks."
      ]
    },
    {
      "cell_type": "markdown",
      "metadata": {
        "id": "w5FZY7K3R6yv"
      },
      "source": [
        "We can call the `async_get_embeddings` method of our `EmbeddingModel()` on a list of `str` and receive a list of `float` back!\n",
        "\n",
        "```python\n",
        "async def async_get_embeddings(self, list_of_text: List[str]) -> List[List[float]]:\n",
        "        return await aget_embeddings(\n",
        "            list_of_text=list_of_text, engine=self.embeddings_model_name\n",
        "        )\n",
        "```"
      ]
    },
    {
      "cell_type": "markdown",
      "metadata": {
        "id": "cSct6X0aR6yv"
      },
      "source": [
        "We cast those to `np.array` when we build our `VectorDatabase()`:\n",
        "\n",
        "```python\n",
        "async def abuild_from_list(self, list_of_text: List[str]) -> \"VectorDatabase\":\n",
        "        embeddings = await self.embedding_model.async_get_embeddings(list_of_text)\n",
        "        for text, embedding in zip(list_of_text, embeddings):\n",
        "            self.insert(text, np.array(embedding))\n",
        "        return self\n",
        "```\n",
        "\n",
        "And that's all we need to do!"
      ]
    },
    {
      "cell_type": "code",
      "execution_count": 24,
      "metadata": {
        "id": "O4KoLbVDR6yv"
      },
      "outputs": [],
      "source": [
        "vector_db = VectorDatabase()\n",
        "vector_db = asyncio.run(vector_db.abuild_from_list(split_documents))"
      ]
    },
    {
      "cell_type": "markdown",
      "metadata": {
        "id": "SSZwaGvpR6yv"
      },
      "source": [
        "#### ❓Question #2:\n",
        "\n",
        "What are the benefits of using an `async` approach to collecting our embeddings?\n",
        "\n",
        "> NOTE: Determining the core difference between `async` and `sync` will be useful! If you get stuck - ask ChatGPT!"
      ]
    },
    {
      "cell_type": "markdown",
      "metadata": {},
      "source": [
        "##### ✅ Answer:\n",
        "Each request to generate an embedding is executed one after another. Your code waits for the current request to finish before moving to the next one.When collecting embeddings, synchronous (sync) execution processes requests one by one, causing delays, while asynchronous (async) execution handles multiple requests concurrently, significantly improving speed and throughput, especially for I/O-bound tasks like fetching data or communicating with embedding models. Async is the optimal choice for embedding large datasets because it utilizes idle time and keeps tasks moving without blocking, whereas sync processing would lead to long wait times."
      ]
    },
    {
      "cell_type": "markdown",
      "metadata": {
        "id": "nRBdIt-xR6yw"
      },
      "source": [
        "So, to review what we've done so far in natural language:\n",
        "\n",
        "1. We load source documents\n",
        "2. We split those source documents into smaller chunks (documents)\n",
        "3. We send each of those documents to the `text-embedding-3-small` OpenAI API endpoint\n",
        "4. We store each of the text representations with the vector representations as keys/values in a dictionary"
      ]
    },
    {
      "cell_type": "markdown",
      "metadata": {
        "id": "4-vWANZyR6yw"
      },
      "source": [
        "### Semantic Similarity\n",
        "\n",
        "The next step is to be able to query our `VectorDatabase()` with a `str` and have it return to us vectors and text that is most relevant from our corpus.\n",
        "\n",
        "We're going to use the following process to achieve this in our toy example:\n",
        "\n",
        "1. We need to embed our query with the same `EmbeddingModel()` as we used to construct our `VectorDatabase()`\n",
        "2. We loop through every vector in our `VectorDatabase()` and use a distance measure to compare how related they are\n",
        "3. We return a list of the top `k` closest vectors, with their text representations\n",
        "\n",
        "There's some very heavy optimization that can be done at each of these steps - but let's just focus on the basic pattern in this notebook.\n",
        "\n",
        "> We are using [cosine similarity](https://www.engati.com/glossary/cosine-similarity) as a distance metric in this example - but there are many many distance metrics you could use - like [these](https://flavien-vidal.medium.com/similarity-distances-for-natural-language-processing-16f63cd5ba55)\n",
        "\n",
        "> We are using a rather inefficient way of calculating relative distance between the query vector and all other vectors - there are more advanced approaches that are much more efficient, like [ANN](https://towardsdatascience.com/comprehensive-guide-to-approximate-nearest-neighbors-algorithms-8b94f057d6b6)"
      ]
    },
    {
      "cell_type": "code",
      "execution_count": 25,
      "metadata": {
        "colab": {
          "base_uri": "https://localhost:8080/"
        },
        "id": "76d96uavR6yw",
        "outputId": "bbfccc31-20a2-41c7-c14d-46554a43ed2d"
      },
      "outputs": [
        {
          "data": {
            "text/plain": [
              "[('tings of the learned Matryoshka Representations .\\nAdaptive RetrievalShortlistingRe-ranking\\nAdaptive ClassificationTrainingInference\\n<latexit sha1_base64=\"eh9hk+peBkdsPY6v+r4rONmxYLY=\">AAAB7nicbVBNSwMxEJ2tX7V+VT16CRbBU9kVoR6LXjxWsB/QLiWbZtvQbBKSrFCW/ggvHhTx6u/x5r8x2+5BWx8MPN6bYWZepDgz1ve/vdLG5tb2Tnm3srd/cHhUPT7pGJlqQttEcql7ETaUM0HblllOe0pTnEScdqPpXe53n6g2TIpHO1M0TPBYsJgRbJ3UHUjFU1MZVmt+3V8ArZOgIDUo0BpWvwYjSdKECks4NqYf+MqGGdaWEU7nlUFqqMJkise076jACTVhtjh3ji6cMkKx1K6ERQv190SGE2NmSeQ6E2wnZtXLxf+8fmrjmzBjQqWWCrJcFKccWYny39GIaUosnzmCiWbuVkQmWGNiXUJ5CMHqy+ukc1UP/HrwcF1r3hZxlOEMzuESAmhAE+6hBW0gMIVneIU3T3kv3rv3sWwtecXMKfyB9/kDBrKPWQ==</latexit>\\n<latexit sha1_base64=\"szvlzTDYQEH5M/GSBtp0D9XaTiU=\">AAAB/HicbVDLSsNAFL2pr1pf0S7dDBahbkoiguKq6MaFiwr2AW0Ik8m0HTp5MDMRYqi/4saFIm79EHf+jZM2C209MHA4517umePFnEllWd9GaWV1bX2jvFnZ2t7Z3TP3DzoySgShbRLxSPQ8LClnIW0rpjjtxYLiwOO0602uc7/7QIVkUXiv0pg6AR6FbMgIVlpyzeogwGpMMEe39Uc3sy/96Ylr1qyGNQNaJnZBalCg5ZpfAz8iSUBDRTiWsm9bsXIyLBQjnE4rg0TSGJMJHtG+piEOqHSyWfgpOtaKj4aR0C9Ua',\n",
              "  np.float64(0.2588550104139087)),\n",
              " ('NZERligYnSjZV0Cfb8lxdJq1a1rap9d1auX+V1FOEQjqACNpxDHW6gAU0gkMIzvMKb8WS8GO/Gx2y0YOQ7+/AHxucPYdOUcQ==</latexit> <latexit sha1_base64=\"GlggPMD8z4lB+hiIvM4R0NcwGwo=\">AAAB/nicbVDLSsNAFL2pr1pfUXHlZrAIdVMTKSiuim5cuKhgH9CGMJlM26GTBzMToYaCv+LGhSJu/Q53/o2TNgttPTBwOOde7pnjxZxJZVnfRmFpeWV1rbhe2tjc2t4xd/daMkoEoU0S8Uh0PCwpZyFtKqY47cSC4sDjtO2NrjO//UCFZFF4r8YxdQI8CFmfEay05JoHvQCrIcEc3VYe3dS+9E9rkxPXLFtVawq0SOyclCFHwzW/en5EkoCGinAsZde2YuWkWChGOJ2UeomkMSYjPKBdTUMcUOmk0/gTdKwVH/UjoV+o0FT9vZHiQMpx4OnJLKyc9zLxP6+bqP6Fk7IwThQNyexQP+FIRSjrAvlMUKL4WBNMBNNZERligYnSjZV0Cfb8lxdJ66xqW1X7rlauX+V1FOEQjqACNpxDHW6gAU0gkMIzvMKb8WS8GO/Gx2y0YOQ7+/AHxucPZN+Ucw==</latexit> <latexit sha1_base64=\"tEtInXKd9mqmi/oFctu/VjSe+v0=\">AAAB/nicbVDLSsNAFL2pr1pfUXHlZrAIdVMTESyuim5cuKhgH9CGMJlM26GTBzMToYaCv+LGhSJu/Q53/o2TNgttPTBwOOde7pnjxZxJZVnfRmFpeWV1rbhe2tjc2t4xd/daMkoEoU0S8Uh0PCwpZyFtKqY47cSC4sDjtO2NrjO//UCFZFF4r8YxdQI8CFmfEay05JoHvQCrIcEc3VYe3dS+9E9rkxPXLFtVawq0SOyclCFHwzW/en5EkoCGinAsZde2YuWkWChGOJ2UeomkMSYjPKBdTUMcUOmk0/gTdKwVH/Uj',\n",
              "  np.float64(0.2412132145039991)),\n",
              " ('ZVnfRmFpeWV1rbhe2tjc2t4xd/daMkoEoU0S8Uh0PCwpZyFtKqY47cSC4sDjtO2NrjO//UCFZFF4r8YxdQI8CFmfEay05JoHvQCrIcEc3VYe3dS+9E9rkxPXLFtVawq0SOyclCFHwzW/en5EkoCGinAsZde2YuWkWChGOJ2UeomkMSYjPKBdTUMcUOmk0/gTdKwVH/UjoV+o0FT9vZHiQMpx4OnJLKyc9zLxP6+bqH7NSVkYJ4qGZHaon3CkIpR1gXwmKFF8rAkmgumsiAyxwETpxkq6BHv+y4ukdVa1rap9d16uX+V1FOEQjqACNlxAHW6gAU0gkMIzvMKb8WS8GO/Gx2y0YOQ7+/AHxucPaveUdw==</latexit> <latexit sha1_base64=\"dyCsZ/ny7rQzKcXztjElUtg2QPg=\">AAAB/3icbVDLSgMxFM3UV62vUcGNm2AR6qZORFRcFd24cFHBPqAdhkwmbUMzmSHJCHXswl9x40IRt/6GO//GTDsLrR4IHM65l3ty/JgzpR3nyyrMzS8sLhWXSyura+sb9uZWU0WJJLRBIh7Jto8V5UzQhmaa03YsKQ59Tlv+8DLzW3dUKhaJWz2KqRvivmA9RrA2kmfvdEOsBwRzeF2591J0Hhyik/GBZ5edqjMB/EtQTsogR92zP7tBRJKQCk04VqqDnFi7KZaaEU7HpW6iaIzJEPdpx1CBQ6rcdJJ/DPeNEsBeJM0TGk7UnxspDpUahb6ZzNKqWS8T//M6ie6duSkTcaKpINNDvYRDHcGsDBgwSYnmI0MwkcxkhWSAJSbaVFYyJaDZL/8lzaMqcqro5rhcu8jrKIJdsAcqAIFTUANXoA4agIAH8ARewKv1aD1bb9b7dLRg5Tvb4Besj2/eCZSw</latexit>\\n<latexit sha1_base64=\"OPHM4ACsGr0VI7qMpDgoN+t2ICI=\">AAAB9XicbVDLSgMxFL3xWeur6tJNsAh1U2',\n",
              "  np.float64(0.23620194305115608))]"
            ]
          },
          "execution_count": 25,
          "metadata": {},
          "output_type": "execute_result"
        }
      ],
      "source": [
        "vector_db.search_by_text(\"What is the Michael Eisner Memorial Weak Executive Problem?\", k=3)"
      ]
    },
    {
      "cell_type": "markdown",
      "metadata": {
        "id": "TehsfIiKR6yw"
      },
      "source": [
        "## Task 4: Prompts\n",
        "\n",
        "In the following section, we'll be looking at the role of prompts - and how they help us to guide our application in the right direction.\n",
        "\n",
        "In this notebook, we're going to rely on the idea of \"zero-shot in-context learning\".\n",
        "\n",
        "This is a lot of words to say: \"We will ask it to perform our desired task in the prompt, and provide no examples.\""
      ]
    },
    {
      "cell_type": "markdown",
      "metadata": {
        "id": "yXpA0UveR6yw"
      },
      "source": [
        "### XYZRolePrompt\n",
        "\n",
        "Before we do that, let's stop and think a bit about how OpenAI's chat models work.\n",
        "\n",
        "We know they have roles - as is indicated in the following API [documentation](https://platform.openai.com/docs/api-reference/chat/create#chat/create-messages)\n",
        "\n",
        "There are three roles, and they function as follows (taken directly from [OpenAI](https://platform.openai.com/docs/guides/gpt/chat-completions-api)):\n",
        "\n",
        "- `{\"role\" : \"system\"}` : The system message helps set the behavior of the assistant. For example, you can modify the personality of the assistant or provide specific instructions about how it should behave throughout the conversation. However note that the system message is optional and the model’s behavior without a system message is likely to be similar to using a generic message such as \"You are a helpful assistant.\"\n",
        "- `{\"role\" : \"user\"}` : The user messages provide requests or comments for the assistant to respond to.\n",
        "- `{\"role\" : \"assistant\"}` : Assistant messages store previous assistant responses, but can also be written by you to give examples of desired behavior.\n",
        "\n",
        "The main idea is this:\n",
        "\n",
        "1. You start with a system message that outlines how the LLM should respond, what kind of behaviours you can expect from it, and more\n",
        "2. Then, you can provide a few examples in the form of \"assistant\"/\"user\" pairs\n",
        "3. Then, you prompt the model with the true \"user\" message.\n",
        "\n",
        "In this example, we'll be forgoing the 2nd step for simplicities sake."
      ]
    },
    {
      "cell_type": "markdown",
      "metadata": {
        "id": "gdZ2KWKSR6yw"
      },
      "source": [
        "#### Utility Functions\n",
        "\n",
        "You'll notice that we're using some utility functions from the `aimakerspace` module - let's take a peek at these and see what they're doing!"
      ]
    },
    {
      "cell_type": "markdown",
      "metadata": {
        "id": "GFbeJDDsR6yw"
      },
      "source": [
        "##### XYZRolePrompt"
      ]
    },
    {
      "cell_type": "markdown",
      "metadata": {
        "id": "5mojJSE3R6yw"
      },
      "source": [
        "Here we have our `system`, `user`, and `assistant` role prompts.\n",
        "\n",
        "Let's take a peek at what they look like:\n",
        "\n",
        "```python\n",
        "class BasePrompt:\n",
        "    def __init__(self, prompt):\n",
        "        \"\"\"\n",
        "        Initializes the BasePrompt object with a prompt template.\n",
        "\n",
        "        :param prompt: A string that can contain placeholders within curly braces\n",
        "        \"\"\"\n",
        "        self.prompt = prompt\n",
        "        self._pattern = re.compile(r\"\\{([^}]+)\\}\")\n",
        "\n",
        "    def format_prompt(self, **kwargs):\n",
        "        \"\"\"\n",
        "        Formats the prompt string using the keyword arguments provided.\n",
        "\n",
        "        :param kwargs: The values to substitute into the prompt string\n",
        "        :return: The formatted prompt string\n",
        "        \"\"\"\n",
        "        matches = self._pattern.findall(self.prompt)\n",
        "        return self.prompt.format(**{match: kwargs.get(match, \"\") for match in matches})\n",
        "\n",
        "    def get_input_variables(self):\n",
        "        \"\"\"\n",
        "        Gets the list of input variable names from the prompt string.\n",
        "\n",
        "        :return: List of input variable names\n",
        "        \"\"\"\n",
        "        return self._pattern.findall(self.prompt)\n",
        "```\n",
        "\n",
        "Then we have our `RolePrompt` which laser focuses us on the role pattern found in most API endpoints for LLMs.\n",
        "\n",
        "```python\n",
        "class RolePrompt(BasePrompt):\n",
        "    def __init__(self, prompt, role: str):\n",
        "        \"\"\"\n",
        "        Initializes the RolePrompt object with a prompt template and a role.\n",
        "\n",
        "        :param prompt: A string that can contain placeholders within curly braces\n",
        "        :param role: The role for the message ('system', 'user', or 'assistant')\n",
        "        \"\"\"\n",
        "        super().__init__(prompt)\n",
        "        self.role = role\n",
        "\n",
        "    def create_message(self, **kwargs):\n",
        "        \"\"\"\n",
        "        Creates a message dictionary with a role and a formatted message.\n",
        "\n",
        "        :param kwargs: The values to substitute into the prompt string\n",
        "        :return: Dictionary containing the role and the formatted message\n",
        "        \"\"\"\n",
        "        return {\"role\": self.role, \"content\": self.format_prompt(**kwargs)}\n",
        "```\n",
        "\n",
        "We'll look at how the `SystemRolePrompt` is constructed to get a better idea of how that extension works:\n",
        "\n",
        "```python\n",
        "class SystemRolePrompt(RolePrompt):\n",
        "    def __init__(self, prompt: str):\n",
        "        super().__init__(prompt, \"system\")\n",
        "```\n",
        "\n",
        "That pattern is repeated for our `UserRolePrompt` and our `AssistantRolePrompt` as well."
      ]
    },
    {
      "cell_type": "markdown",
      "metadata": {
        "id": "D361R6sMR6yw"
      },
      "source": [
        "##### ChatOpenAI"
      ]
    },
    {
      "cell_type": "markdown",
      "metadata": {
        "id": "HJVQ2Pm8R6yw"
      },
      "source": [
        "Next we have our model, which is converted to a format analagous to libraries like LangChain and LlamaIndex.\n",
        "\n",
        "Let's take a peek at how that is constructed:\n",
        "\n",
        "```python\n",
        "class ChatOpenAI:\n",
        "    def __init__(self, model_name: str = \"gpt-4.1-mini\"):\n",
        "        self.model_name = model_name\n",
        "        self.openai_api_key = os.getenv(\"OPENAI_API_KEY\")\n",
        "        if self.openai_api_key is None:\n",
        "            raise ValueError(\"OPENAI_API_KEY is not set\")\n",
        "\n",
        "    def run(self, messages, text_only: bool = True):\n",
        "        if not isinstance(messages, list):\n",
        "            raise ValueError(\"messages must be a list\")\n",
        "\n",
        "        openai.api_key = self.openai_api_key\n",
        "        response = openai.ChatCompletion.create(\n",
        "            model=self.model_name, messages=messages\n",
        "        )\n",
        "\n",
        "        if text_only:\n",
        "            return response.choices[0].message.content\n",
        "\n",
        "        return response\n",
        "```"
      ]
    },
    {
      "cell_type": "markdown",
      "metadata": {
        "id": "qCU7FfhIR6yw"
      },
      "source": [
        "#### ❓ Question #3:\n",
        "\n",
        "When calling the OpenAI API - are there any ways we can achieve more reproducible outputs?\n",
        "\n",
        "> NOTE: Check out [this section](https://platform.openai.com/docs/guides/text-generation/) of the OpenAI documentation for the answer!"
      ]
    },
    {
      "cell_type": "markdown",
      "metadata": {},
      "source": [
        "##### ✅ Answer:\n",
        "There are some ways to make more reproducible outputs:\n",
        "-Prompt engineering:writing effective instructions for a model. Some tools and techniques to construnct prompts:\n",
        "Choosing models like gpt-5, gpt-5-mini,gpt--nano, reasoning models like o3 and GPT-5, respond better to different prompts. Giving instructions parameter along with message roles gives the model high level instructions on how it should behave while generating a response, including tone, goals, and examples of correct responses. for example:\n",
        "response = client.responses.create(\n",
        "    model=\"gpt-5\",\n",
        "    reasoning={\"effort\": \"low\"},\n",
        "    input=[\n",
        "        {\n",
        "            \"role\": \"developer\",\n",
        "            \"content\": \"Talk like a pirate.\"\n",
        "        },\n",
        "        {\n",
        "            \"role\": \"user\",\n",
        "            \"content\": \"Are semicolons optional in JavaScript?\"\n",
        "        }\n",
        "    ]\n",
        ")\n",
        "Three types of role describes how models give different levels of priority to messages: develope, user, assistant.\n",
        "The best way is to create reusabe prompts rather than hardcoded."
      ]
    },
    {
      "cell_type": "markdown",
      "metadata": {
        "id": "c5wcjMLCR6yw"
      },
      "source": [
        "### Creating and Prompting OpenAI's `gpt-4.1-mini`!\n",
        "\n",
        "Let's tie all these together and use it to prompt `gpt-4.1-mini`!"
      ]
    },
    {
      "cell_type": "code",
      "execution_count": 14,
      "metadata": {
        "id": "WIfpIot7R6yw"
      },
      "outputs": [],
      "source": [
        "from aimakerspace.openai_utils.prompts import (\n",
        "    UserRolePrompt,\n",
        "    SystemRolePrompt,\n",
        "    AssistantRolePrompt,\n",
        ")\n",
        "\n",
        "from aimakerspace.openai_utils.chatmodel import ChatOpenAI\n",
        "\n",
        "chat_openai = ChatOpenAI()\n",
        "user_prompt_template = \"{content}\"\n",
        "user_role_prompt = UserRolePrompt(user_prompt_template)\n",
        "system_prompt_template = (\n",
        "    \"You are an expert in {expertise}, you always answer in a kind way.\"\n",
        ")\n",
        "system_role_prompt = SystemRolePrompt(system_prompt_template)\n",
        "\n",
        "messages = [\n",
        "    system_role_prompt.create_message(expertise=\"Python\"),\n",
        "    user_role_prompt.create_message(\n",
        "        content=\"What is the best way to write a loop?\"\n",
        "    ),\n",
        "]\n",
        "\n",
        "response = chat_openai.run(messages)"
      ]
    },
    {
      "cell_type": "code",
      "execution_count": 15,
      "metadata": {
        "colab": {
          "base_uri": "https://localhost:8080/"
        },
        "id": "dHo7lssNR6yw",
        "outputId": "1d3823fa-bb6b-45f6-ddba-b41686388324"
      },
      "outputs": [
        {
          "name": "stdout",
          "output_type": "stream",
          "text": [
            "Hello! The \"best\" way to write a loop in Python depends on what you're trying to accomplish. Generally, Python offers a few clean and readable ways to write loops:\n",
            "\n",
            "1. **for loop** – often used to iterate over a sequence (like a list, tuple, string, or range).\n",
            "   ```python\n",
            "   for item in iterable:\n",
            "       # do something with item\n",
            "   ```\n",
            "\n",
            "2. **while loop** – useful when you want to repeat something as long as a condition holds.\n",
            "   ```python\n",
            "   while condition:\n",
            "       # do something\n",
            "   ```\n",
            "\n",
            "For example, if you want to loop over numbers from 0 to 4:\n",
            "```python\n",
            "for i in range(5):\n",
            "    print(i)\n",
            "```\n",
            "\n",
            "Or, a while loop that counts down:\n",
            "```python\n",
            "count = 5\n",
            "while count > 0:\n",
            "    print(count)\n",
            "    count -= 1\n",
            "```\n",
            "\n",
            "In general, using a `for` loop with iterables or `range` is preferred for readability and simplicity. If you have more specific needs or a particular scenario in mind, I’d be happy to help tailor the loop to that!\n"
          ]
        }
      ],
      "source": [
        "print(response)"
      ]
    },
    {
      "cell_type": "markdown",
      "metadata": {
        "id": "r2nxxhB2R6yy"
      },
      "source": [
        "## Task 5: Retrieval Augmented Generation\n",
        "\n",
        "Now we can create a RAG prompt - which will help our system behave in a way that makes sense!\n",
        "\n",
        "There is much you could do here, many tweaks and improvements to be made!"
      ]
    },
    {
      "cell_type": "code",
      "execution_count": 16,
      "metadata": {
        "id": "D1hamzGaR6yy"
      },
      "outputs": [],
      "source": [
        "RAG_SYSTEM_TEMPLATE = \"\"\"You are a knowledgeable assistant that answers questions based strictly on provided context.\n",
        "\n",
        "Instructions:\n",
        "- Only answer questions using information from the provided context\n",
        "- If the context doesn't contain relevant information, respond with \"I don't know\"\n",
        "- Be accurate and cite specific parts of the context when possible\n",
        "- Keep responses {response_style} and {response_length}\n",
        "- Only use the provided context. Do not use external knowledge.\n",
        "- Only provide answers when you are confident the context supports your response.\"\"\"\n",
        "\n",
        "RAG_USER_TEMPLATE = \"\"\"Context Information:\n",
        "{context}\n",
        "\n",
        "Number of relevant sources found: {context_count}\n",
        "{similarity_scores}\n",
        "\n",
        "Question: {user_query}\n",
        "\n",
        "Please provide your answer based solely on the context above.\"\"\"\n",
        "\n",
        "rag_system_prompt = SystemRolePrompt(\n",
        "    RAG_SYSTEM_TEMPLATE,\n",
        "    strict=True,\n",
        "    defaults={\n",
        "        \"response_style\": \"concise\",\n",
        "        \"response_length\": \"brief\"\n",
        "    }\n",
        ")\n",
        "\n",
        "rag_user_prompt = UserRolePrompt(\n",
        "    RAG_USER_TEMPLATE,\n",
        "    strict=True,\n",
        "    defaults={\n",
        "        \"context_count\": \"\",\n",
        "        \"similarity_scores\": \"\"\n",
        "    }\n",
        ")"
      ]
    },
    {
      "cell_type": "markdown",
      "metadata": {},
      "source": [
        "Now we can create our pipeline!"
      ]
    },
    {
      "cell_type": "code",
      "execution_count": 17,
      "metadata": {},
      "outputs": [],
      "source": [
        "class RetrievalAugmentedQAPipeline:\n",
        "    def __init__(self, llm: ChatOpenAI, vector_db_retriever: VectorDatabase, \n",
        "                 response_style: str = \"detailed\", include_scores: bool = False) -> None:\n",
        "        self.llm = llm\n",
        "        self.vector_db_retriever = vector_db_retriever\n",
        "        self.response_style = response_style\n",
        "        self.include_scores = include_scores\n",
        "\n",
        "    def run_pipeline(self, user_query: str, k: int = 4, **system_kwargs) -> dict:\n",
        "        # Retrieve relevant contexts\n",
        "        context_list = self.vector_db_retriever.search_by_text(user_query, k=k)\n",
        "        \n",
        "        context_prompt = \"\"\n",
        "        similarity_scores = []\n",
        "        \n",
        "        for i, (context, score) in enumerate(context_list, 1):\n",
        "            context_prompt += f\"[Source {i}]: {context}\\n\\n\"\n",
        "            similarity_scores.append(f\"Source {i}: {score:.3f}\")\n",
        "        \n",
        "        # Create system message with parameters\n",
        "        system_params = {\n",
        "            \"response_style\": self.response_style,\n",
        "            \"response_length\": system_kwargs.get(\"response_length\", \"detailed\")\n",
        "        }\n",
        "        \n",
        "        formatted_system_prompt = rag_system_prompt.create_message(**system_params)\n",
        "        \n",
        "        user_params = {\n",
        "            \"user_query\": user_query,\n",
        "            \"context\": context_prompt.strip(),\n",
        "            \"context_count\": len(context_list),\n",
        "            \"similarity_scores\": f\"Relevance scores: {', '.join(similarity_scores)}\" if self.include_scores else \"\"\n",
        "        }\n",
        "        \n",
        "        formatted_user_prompt = rag_user_prompt.create_message(**user_params)\n",
        "\n",
        "        return {\n",
        "            \"response\": self.llm.run([formatted_system_prompt, formatted_user_prompt]), \n",
        "            \"context\": context_list,\n",
        "            \"context_count\": len(context_list),\n",
        "            \"similarity_scores\": similarity_scores if self.include_scores else None,\n",
        "            \"prompts_used\": {\n",
        "                \"system\": formatted_system_prompt,\n",
        "                \"user\": formatted_user_prompt\n",
        "            }\n",
        "        }"
      ]
    },
    {
      "cell_type": "code",
      "execution_count": 18,
      "metadata": {},
      "outputs": [
        {
          "name": "stdout",
          "output_type": "stream",
          "text": [
            "Response: The \"Michael Eisner Memorial Weak Executive Problem\" refers to a situation where a CEO or startup founder hires a weak executive to run the function or specialty that originally brought them to their leadership role. This happens because the CEO has difficulty letting go of that function and wants to remain \"the man\" or the key figure in that area. As a result, they end up hiring someone weak on purpose in that executive role. The problem is named after Michael Eisner, the CEO of Disney who had been a brilliant TV network executive; when he acquired ABC, the network fell to fourth place, and his response was that if he had more time, he could turn it around himself. However, he did not have the extra time, illustrating the issue of a CEO trying to retain control over their former specialty instead of empowering a strong executive (\"Source 1\").\n",
            "\n",
            "Context Count: 3\n",
            "Similarity Scores: ['Source 1: 0.658', 'Source 2: 0.509', 'Source 3: 0.479']\n"
          ]
        }
      ],
      "source": [
        "rag_pipeline = RetrievalAugmentedQAPipeline(\n",
        "    vector_db_retriever=vector_db,\n",
        "    llm=chat_openai,\n",
        "    response_style=\"detailed\",\n",
        "    include_scores=True\n",
        ")\n",
        "\n",
        "result = rag_pipeline.run_pipeline(\n",
        "    \"What is the 'Michael Eisner Memorial Weak Executive Problem'?\",\n",
        "    k=3,\n",
        "    response_length=\"comprehensive\", \n",
        "    include_warnings=True,\n",
        "    confidence_required=True\n",
        ")\n",
        "\n",
        "print(f\"Response: {result['response']}\")\n",
        "print(f\"\\nContext Count: {result['context_count']}\")\n",
        "print(f\"Similarity Scores: {result['similarity_scores']}\")"
      ]
    },
    {
      "cell_type": "markdown",
      "metadata": {
        "id": "zZIJI19uR6yz"
      },
      "source": [
        "#### ❓ Question #4:\n",
        "\n",
        "What prompting strategies could you use to make the LLM have a more thoughtful, detailed response?\n",
        "\n",
        "What is that strategy called?\n",
        "\n",
        "> NOTE: You can look through our [OpenAI Responses API](https://colab.research.google.com/drive/14SCfRnp39N7aoOx8ZxadWb0hAqk4lQdL?usp=sharing) notebook for an answer to this question if you get stuck!"
      ]
    },
    {
      "cell_type": "markdown",
      "metadata": {},
      "source": [
        "##### ✅ Answer:\n",
        "The prompting strategies to make the LLM have a more thoughtful, detailed response is to adjust the reasoning effort parameter:reasoning={\"effort\": \"low\" | \"medium\" | \"high\"} – Controls how much computational effort the model puts into reasoning. low favors speed and economical token usage, and high favors more complete reasoning. The default value is medium, which is a balance between speed and reasoning accuracy. This is called Reasoning Control."
      ]
    },
    {
      "cell_type": "markdown",
      "metadata": {},
      "source": [
        "### 🏗️ Activity #1:\n",
        "\n",
        "Enhance your RAG application in some way! \n",
        "\n",
        "Suggestions are: \n",
        "\n",
        "- Allow it to work with PDF files\n",
        "- Implement a new distance metric\n",
        "- Add metadata support to the vector database\n",
        "- Use a different embedding model\n",
        "- Add the capability to ingest a YouTube link\n",
        "\n",
        "While these are suggestions, you should feel free to make whatever augmentations you desire! If you shared an idea during Session 1, think about features you might need to incorporate for your use case! \n",
        "\n",
        "When you're finished making the augments to your RAG application - vibe check it against the old one - see if you can \"feel the improvement\"!\n",
        "\n",
        "> NOTE: These additions might require you to work within the `aimakerspace` library - that's expected!\n",
        "\n",
        "> NOTE: If you're not sure where to start - ask Cursor (CMD/CTRL+L) to guide you through the changes!"
      ]
    },
    {
      "cell_type": "code",
      "execution_count": null,
      "metadata": {},
      "outputs": [
        {
          "name": "stdout",
          "output_type": "stream",
          "text": [
            "🔍 Testing Enhanced PDF Loader:\n",
            "========================================\n",
            "📊 Number of documents: 1\n",
            "\n",
            "🎯 Ready to use 1 document(s) with enhanced RAG!\n"
          ]
        }
      ],
      "source": [
        "from aimakerspace.text_utils import EnhancedTextFileLoader\n",
        "\n",
        "# Test the PDF loader with MRL.pdf\n",
        "print(\"🔍 Testing Enhanced PDF Loader:\")\n",
        "print(\"=\" * 40)\n",
        "\n",
        "try:\n",
        "    # Load the PDF using the enhanced loader\n",
        "    pdf_loader = EnhancedTextFileLoader(\"data/MRL.pdf\")\n",
        "    pdf_documents = pdf_loader.load_documents()\n",
        "    print(f\"📊 Number of documents: {len(pdf_documents)}\")\n",
        "    \n",
        "except Exception as e:\n",
        "    \n",
        "    print(\"📝 Using original text documents as fallback\")\n",
        "\n",
        "print(f\"\\n🎯 Ready to use {len(pdf_documents)} document(s) with enhanced RAG!\")"
      ]
    },
    {
      "cell_type": "code",
      "execution_count": null,
      "metadata": {},
      "outputs": [],
      "source": [
        "\n",
        "class SimpleEnhancedRAGPipeline(RetrievalAugmentedQAPipeline):\n",
        "    \"\"\"Simple enhancement to existing RAG pipeline - just adds distance metric choice\"\"\"\n",
        "    \n",
        "    def run_pipeline_with_metric(self, user_query: str, k: int = 4, distance_measure: str = 'cosine'):\n",
        "        \"\"\"Run pipeline with chosen distance metric\"\"\"\n",
        "        \n",
        "        # Use the enhanced search if available\n",
        "        if hasattr(self.vector_db_retriever, 'search_with_metric'):\n",
        "            context_list = self.vector_db_retriever.search_with_metric(user_query, k=k, distance_measure=distance_measure)\n",
        "        else:\n",
        "            # Fallback to regular search\n",
        "            context_list = self.vector_db_retriever.search_by_text(user_query, k=k)\n",
        "        \n",
        "        # Use existing pipeline logic\n",
        "        context_prompt = \"\"\n",
        "        similarity_scores = []\n",
        "        \n",
        "        for i, (context, score) in enumerate(context_list, 1):\n",
        "            context_prompt += f\"[Source {i}]: {context}\\n\\n\"\n",
        "            similarity_scores.append(f\"Source {i}: {score:.3f}\")\n",
        "        \n",
        "        # Enhanced system prompt with metric info\n",
        "        system_params = {\n",
        "            \"response_style\": self.response_style,\n",
        "            \"response_length\": \"detailed\"\n",
        "        }\n",
        "        \n",
        "        formatted_system_prompt = rag_system_prompt.create_message(**system_params)\n",
        "        \n",
        "        # Add metric info to user prompt\n",
        "        user_params = {\n",
        "            \"user_query\": user_query,\n",
        "            \"context\": context_prompt.strip(),\n",
        "            \"context_count\": len(context_list),\n",
        "            \"similarity_scores\": f\"Relevance scores ({distance_measure}): {', '.join(similarity_scores)}\" if self.include_scores else \"\"\n",
        "        }\n",
        "        \n",
        "        formatted_user_prompt = rag_user_prompt.create_message(**user_params)\n",
        "        \n",
        "        return {\n",
        "            \"response\": self.llm.run([formatted_system_prompt, formatted_user_prompt]),\n",
        "            \"context\": context_list,\n",
        "            \"context_count\": len(context_list),\n",
        "            \"similarity_scores\": similarity_scores,\n",
        "            \"distance_measure\": distance_measure\n",
        "        }\n",
        "\n"
      ]
    },
    {
      "cell_type": "code",
      "execution_count": 39,
      "metadata": {},
      "outputs": [
        {
          "name": "stdout",
          "output_type": "stream",
          "text": [
            "✅ Enhanced database built with 20 chunks\n",
            "📏 Available metrics: ['cosine', 'euclidean', 'manhattan']\n",
            "\n",
            "3. 📏 Testing Distance Metrics...\n",
            "✅ COSINE: 3 results, top score: 0.259\n",
            "✅ EUCLIDEAN: 3 results, top score: 0.451\n",
            "✅ MANHATTAN: 3 results, top score: 0.026\n",
            "\n",
            "4. 🤖 Testing Enhanced RAG...\n",
            "\n",
            "🔍 Testing COSINE:\n",
            "📝 Response: I don't know. The provided context does not contain any information about the Michael Eisner Memorial Weak Executive Problem....\n",
            "📊 Used cosine metric\n",
            "📈 Scores: ['Source 1: 0.259', 'Source 2: 0.241']\n",
            "\n",
            "🔍 Testing EUCLIDEAN:\n",
            "📝 Response: I don't know....\n",
            "📊 Used euclidean metric\n",
            "📈 Scores: ['Source 1: 0.451', 'Source 2: 0.448']\n"
          ]
        }
      ],
      "source": [
        "try:\n",
        "    text_splitter = CharacterTextSplitter()\n",
        "    split_documents = text_splitter.split_texts(pdf_documents)\n",
        "    \n",
        "    # Create the simple enhanced database\n",
        "    simple_enhanced_db = SimpleEnhancedVectorDatabase()\n",
        "    simple_enhanced_db = asyncio.run(simple_enhanced_db.abuild_from_list(split_documents[:20]))  # First 20 for demo\n",
        "    \n",
        "    print(f\"✅ Enhanced database built with {len(split_documents[:20])} chunks\")\n",
        "    print(f\"📏 Available metrics: {list(simple_enhanced_db.distance_metrics.keys())}\")\n",
        "    \n",
        "except Exception as e:\n",
        "    print(f\"❌ Using fallback: {e}\")\n",
        "    simple_enhanced_db = vector_db  \n",
        "\n",
        "# 3. Test different distance metrics\n",
        "print(\"\\n3. 📏 Testing Distance Metrics...\")\n",
        "test_query = \"What is the Michael Eisner Memorial Weak Executive Problem?\"\n",
        "\n",
        "for metric in ['cosine', 'euclidean', 'manhattan']:\n",
        "    try:\n",
        "        if hasattr(simple_enhanced_db, 'search_with_metric'):\n",
        "            results = simple_enhanced_db.search_with_metric(test_query, k=3, distance_measure=metric)\n",
        "            print(f\"✅ {metric.upper()}: {len(results)} results, top score: {results[0][1]:.3f}\")\n",
        "        else:\n",
        "            print(f\"⚠️ {metric}: using fallback search\")\n",
        "    except Exception as e:\n",
        "        print(f\"❌ {metric}: {e}\")\n",
        "\n",
        "# 4. Test enhanced RAG pipeline\n",
        "print(\"\\n4. 🤖 Testing Enhanced RAG...\")\n",
        "try:\n",
        "    # Create simple enhanced RAG using components\n",
        "    simple_enhanced_rag = SimpleEnhancedRAGPipeline(\n",
        "        llm=chat_openai,  # Your existing LLM\n",
        "        vector_db_retriever=simple_enhanced_db,\n",
        "        response_style=\"detailed\",\n",
        "        include_scores=True\n",
        "    )\n",
        "    \n",
        "    # Test with different metrics\n",
        "    for metric in ['cosine', 'euclidean']:\n",
        "        print(f\"\\n🔍 Testing {metric.upper()}:\")\n",
        "        \n",
        "        result = simple_enhanced_rag.run_pipeline_with_metric(\n",
        "            test_query, \n",
        "            k=3, \n",
        "            distance_measure=metric\n",
        "        )\n",
        "        \n",
        "        print(f\"📝 Response: {result['response'][:200]}...\")\n",
        "        print(f\"📊 Used {result['distance_measure']} metric\")\n",
        "        print(f\"📈 Scores: {result['similarity_scores'][:2]}\")\n",
        "        \n",
        "except Exception as e:\n",
        "    print(f\"❌ Enhanced RAG failed: {e}\")\n"
      ]
    },
    {
      "cell_type": "code",
      "execution_count": 40,
      "metadata": {},
      "outputs": [
        {
          "name": "stdout",
          "output_type": "stream",
          "text": [
            "🧪 Testing with PDF-appropriate queries:\n",
            "📄 PDF sample content:\n",
            "\n",
            "--- Page 1 ---\n",
            "Matryoshka Representation Learning\n",
            "Aditya Kusupati∗†⋄, Gantavya Bhatt∗†, Aniket Rege∗†,\n",
            "Matthew Wallingford†, Aditya Sinha⋄, Vivek Ramanujan†, William Howard-Snyder†,\n",
            "Kaifeng Chen⋄, Sham Kakade‡, Prateek Jain⋄and Ali Farhadi†\n",
            "†University of Washington,⋄Google Research,‡Harvard University\n",
            "{kusupati,ali}@cs.washington.edu ,prajain@google.com\n",
            "Abstract\n",
            "Learned representations are a central component in modern ML systems, serv-\n",
            "ing a multitude of downstream tasks. When training such r\n",
            "\n",
            "🔍 Testing with PDF-appropriate query...\n",
            "✅ COSINE: top score: 0.265\n",
            "✅ EUCLIDEAN: top score: 0.452\n",
            "✅ MANHATTAN: top score: 0.026\n"
          ]
        }
      ],
      "source": [
        "print(\"🧪 Testing with PDF-appropriate queries:\")\n",
        "\n",
        "if pdf_documents:\n",
        "    sample_text = pdf_documents[0][:500]\n",
        "    print(f\"📄 PDF sample content:\\n{sample_text}\\n\")\n",
        "    \n",
        "    pdf_query = \"What does this document discuss?\"  \n",
        "    \n",
        "    print(f\"🔍 Testing with PDF-appropriate query...\")\n",
        "    for metric in ['cosine', 'euclidean', 'manhattan']:\n",
        "        try:\n",
        "            results = enhanced_db.search_with_metric(pdf_query, k=3, distance_measure=metric)\n",
        "            print(f\"✅ {metric.upper()}: top score: {results[0][1]:.3f}\")\n",
        "        except Exception as e:\n",
        "            print(f\"❌ {metric}: {e}\")"
      ]
    },
    {
      "cell_type": "code",
      "execution_count": 41,
      "metadata": {},
      "outputs": [
        {
          "name": "stdout",
          "output_type": "stream",
          "text": [
            "🚀 Complete Enhanced RAG Test\n",
            "========================================\n",
            "✅ Using 1 PDF document(s)\n",
            "📄 Working with 1 document(s)\n",
            "📝 Sample content: \n",
            "--- Page 1 ---\n",
            "Matryoshka Representation Learning\n",
            "Aditya Kusupati∗†⋄, Gantavya Bhatt∗†, Aniket Rege∗†,\n",
            "Matthew Wallingford†, Aditya Sinha⋄, Vivek Ramanujan†, William Howard-Snyder†,\n",
            "Kaifeng Chen⋄, Sham Kakade‡, Prateek Jain⋄and Ali Farhadi†\n",
            "†University of Washington,⋄Google Research,‡Harvard Univer...\n",
            "\n",
            "🔄 Splitting documents...\n",
            "✅ Created 182 chunks\n",
            "📊 Using 15 chunks for demo\n",
            "\n",
            "🗃️ Creating enhanced vector database...\n",
            "✅ Enhanced database created with 15 vectors\n",
            "📏 Available metrics: ['cosine', 'euclidean', 'manhattan']\n",
            "\n",
            "📏 Testing All Distance Metrics...\n",
            "🔍 Query: 'What is this document about?'\n",
            " COSINE: 3 results, top score: 0.307\n",
            "   📝 Top result: l9x40IRt/6GO//GTDsLrR4IHM65l3ty/JgzpR3nyyrMzS8sLhWXSyura+sb9uZWU0WJJLRBIh7Jto8V5...\n",
            " EUCLIDEAN: 3 results, top score: 0.459\n",
            "   📝 Top result: l9x40IRt/6GO//GTDsLrR4IHM65l3ty/JgzpR3nyyrMzS8sLhWXSyura+sb9uZWU0WJJLRBIh7Jto8V5...\n",
            " MANHATTAN: 3 results, top score: 0.027\n",
            "   📝 Top result: l9x40IRt/6GO//GTDsLrR4IHM65l3ty/JgzpR3nyyrMzS8sLhWXSyura+sb9uZWU0WJJLRBIh7Jto8V5...\n",
            "\n",
            "📊 METRIC COMPARISON:\n",
            "------------------------------\n",
            "    COSINE: [np.float64(0.30736503746476107), np.float64(0.2956174497154405), np.float64(0.2872590153647814)]\n",
            " EUCLIDEAN: [0.4593530309420178, 0.4572653378847708, 0.455801921872849]\n",
            " MANHATTAN: [np.float64(0.026736186735949147), np.float64(0.026455664587681515), np.float64(0.02615870191471273)]\n",
            "\n",
            "🤖 Testing with RAG Pipeline...\n",
            "I don't know...\n",
            " Used 3 sources\n"
          ]
        }
      ],
      "source": [
        "# Complete Working Test - All in One Cell\n",
        "from aimakerspace.vectordatabase import SimpleEnhancedVectorDatabase\n",
        "from aimakerspace.text_utils import CharacterTextSplitter\n",
        "import asyncio\n",
        "import importlib\n",
        "import aimakerspace.vectordatabase\n",
        "\n",
        "importlib.reload(aimakerspace.vectordatabase)\n",
        "from aimakerspace.vectordatabase import SimpleEnhancedVectorDatabase\n",
        "\n",
        "print(\"🚀 Complete Enhanced RAG Test\")\n",
        "print(\"=\" * 40)\n",
        "\n",
        "# 1. Check if we have PDF documents\n",
        "try:\n",
        "    if 'pdf_documents' in globals() and pdf_documents:\n",
        "        print(f\"✅ Using {len(pdf_documents)} PDF document(s)\")\n",
        "        source_docs = pdf_documents\n",
        "    else:\n",
        "        print(\"⚠️ PDF documents not found, using fallback\")\n",
        "        # Fallback to original documents if available\n",
        "        if 'documents' in globals():\n",
        "            source_docs = documents\n",
        "        else:\n",
        "            source_docs = [\"This is a test document for demonstration purposes.\"]\n",
        "        \n",
        "    print(f\"📄 Working with {len(source_docs)} document(s)\")\n",
        "    \n",
        "    # Show a sample of what we're working with\n",
        "    if source_docs:\n",
        "        sample = source_docs[0][:300] + \"...\" if len(source_docs[0]) > 300 else source_docs[0]\n",
        "        print(f\"📝 Sample content: {sample}\")\n",
        "    \n",
        "except Exception as e:\n",
        "    print(f\"❌ Error accessing documents: {e}\")\n",
        "    source_docs = [\"This is a test document for demonstration purposes.\"]\n",
        "\n",
        "# 2. Split documents\n",
        "print(f\"\\n🔄 Splitting documents...\")\n",
        "try:\n",
        "    text_splitter = CharacterTextSplitter(chunk_size=800, chunk_overlap=100)\n",
        "    split_docs = text_splitter.split_texts(source_docs)\n",
        "    print(f\"✅ Created {len(split_docs)} chunks\")\n",
        "    \n",
        "    demo_chunks = split_docs[:15]\n",
        "    print(f\"📊 Using {len(demo_chunks)} chunks for demo\")\n",
        "    \n",
        "except Exception as e:\n",
        "    print(f\"❌ Error splitting documents: {e}\")\n",
        "    demo_chunks = [\"Sample chunk 1\", \"Sample chunk 2\", \"Sample chunk 3\"]\n",
        "\n",
        "# 3. Create enhanced vector database\n",
        "print(f\"\\n🗃️ Creating enhanced vector database...\")\n",
        "try:\n",
        "    enhanced_db = SimpleEnhancedVectorDatabase()\n",
        "    enhanced_db = asyncio.run(enhanced_db.abuild_from_list(demo_chunks))\n",
        "    \n",
        "    print(f\"✅ Enhanced database created with {len(enhanced_db.vectors)} vectors\")\n",
        "    print(f\"📏 Available metrics: {list(enhanced_db.distance_metrics.keys())}\")\n",
        "    \n",
        "except Exception as e:\n",
        "    print(f\"❌ Error creating enhanced database: {e}\")\n",
        "    enhanced_db = None\n",
        "\n",
        "# 4. Test all distance metrics\n",
        "if enhanced_db:\n",
        "    print(f\"\\n📏 Testing All Distance Metrics...\")\n",
        "    \n",
        "    # Create a query that might match your content better\n",
        "    test_queries = [\n",
        "        \"What is this document about?\",\n",
        "        \"Tell me about the main topic\",\n",
        "        \"What information is provided?\"\n",
        "    ]\n",
        "    \n",
        "    # Test with first query\n",
        "    test_query = test_queries[0]\n",
        "    print(f\"🔍 Query: '{test_query}'\")\n",
        "    \n",
        "    results_by_metric = {}\n",
        "    \n",
        "    for metric in ['cosine', 'euclidean', 'manhattan']:\n",
        "        try:\n",
        "            results = enhanced_db.search_with_metric(test_query, k=3, distance_measure=metric)\n",
        "            if results:\n",
        "                top_score = results[0][1]\n",
        "                results_by_metric[metric] = results\n",
        "                print(f\" {metric.upper()}: {len(results)} results, top score: {top_score:.3f}\")\n",
        "                \n",
        "                # Show top result snippet\n",
        "                top_text = results[0][0]\n",
        "                snippet = top_text[:80] + \"...\" if len(top_text) > 80 else top_text\n",
        "                print(f\"   📝 Top result: {snippet}\")\n",
        "            else:\n",
        "                print(f\" {metric.upper()}: No results\")\n",
        "                \n",
        "        except Exception as e:\n",
        "            print(f\" {metric.upper()}: {e}\")\n",
        "    \n",
        "    # 5. Compare metrics\n",
        "    if results_by_metric:\n",
        "        print(f\"\\n📊 METRIC COMPARISON:\")\n",
        "        print(\"-\" * 30)\n",
        "        for metric, results in results_by_metric.items():\n",
        "            scores = [score for _, score in results]\n",
        "            print(f\"{metric.upper():>10}: {scores}\")\n",
        "        \n",
        "    \n",
        "    # 6. Test with existing RAG pipeline if available\n",
        "    print(f\"\\n🤖 Testing with RAG Pipeline...\")\n",
        "    try:\n",
        "        if 'chat_openai' in globals() and 'rag_system_prompt' in globals():\n",
        "            # Create a simple RAG test\n",
        "            rag_pipeline = RetrievalAugmentedQAPipeline(\n",
        "                llm=chat_openai,\n",
        "                vector_db_retriever=enhanced_db,\n",
        "                response_style=\"detailed\",\n",
        "                include_scores=True\n",
        "            )\n",
        "            \n",
        "            # Test it\n",
        "            result = rag_pipeline.run_pipeline(test_query, k=3)\n",
        "            print(f\"{result['response'][:200]}...\")\n",
        "            print(f\" Used {result['context_count']} sources\")\n",
        "            \n",
        "        else:\n",
        "            print(\" RAG pipeline components not available\")\n",
        "            \n",
        "    except Exception as e:\n",
        "        print(f\"RAG pipeline test failed: {e}\")\n",
        "\n",
        "else:\n",
        "    print(\"Enhanced database not available for testing\")\n",
        "\n"
      ]
    }
  ],
  "metadata": {
    "colab": {
      "provenance": []
    },
    "kernelspec": {
      "display_name": ".venv",
      "language": "python",
      "name": "python3"
    },
    "language_info": {
      "codemirror_mode": {
        "name": "ipython",
        "version": 3
      },
      "file_extension": ".py",
      "mimetype": "text/x-python",
      "name": "python",
      "nbconvert_exporter": "python",
      "pygments_lexer": "ipython3",
      "version": "3.13.7"
    },
    "orig_nbformat": 4
  },
  "nbformat": 4,
  "nbformat_minor": 0
}
