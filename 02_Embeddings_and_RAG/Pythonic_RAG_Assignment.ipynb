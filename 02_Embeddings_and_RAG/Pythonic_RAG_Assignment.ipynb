{
  "cells": [
    {
      "cell_type": "markdown",
      "metadata": {
        "id": "lElF3o5PR6ys"
      },
      "source": [
        "# Your First RAG Application\n",
        "\n",
        "In this notebook, we'll walk you through each of the components that are involved in a simple RAG application.\n",
        "\n",
        "We won't be leveraging any fancy tools, just the OpenAI Python SDK, Numpy, and some classic Python.\n",
        "\n",
        "> NOTE: This was done with Python 3.12.3.\n",
        "\n",
        "> NOTE: There might be [compatibility issues](https://github.com/wandb/wandb/issues/7683) if you're on NVIDIA driver >552.44 As an interim solution - you can rollback your drivers to the 552.44."
      ]
    },
    {
      "cell_type": "markdown",
      "metadata": {
        "id": "5CtcL8P8R6yt"
      },
      "source": [
        "## Table of Contents:\n",
        "\n",
        "- Task 1: Imports and Utilities\n",
        "- Task 2: Documents\n",
        "- Task 3: Embeddings and Vectors\n",
        "- Task 4: Prompts\n",
        "- Task 5: Retrieval Augmented Generation\n",
        "  - 🚧 Activity #1: Augment RAG"
      ]
    },
    {
      "cell_type": "markdown",
      "metadata": {
        "id": "1Dz6GYilR6yt"
      },
      "source": [
        "Let's look at a rather complicated looking visual representation of a basic RAG application.\n",
        "\n",
        "<img src=\"https://i.imgur.com/vD8b016.png\" />"
      ]
    },
    {
      "cell_type": "markdown",
      "metadata": {
        "id": "PjmC0KFtR6yt"
      },
      "source": [
        "## Task 1: Imports and Utility\n",
        "\n",
        "We're just doing some imports and enabling `async` to work within the Jupyter environment here, nothing too crazy!"
      ]
    },
    {
      "cell_type": "code",
      "execution_count": 1,
      "metadata": {
        "id": "Z1dyrG4hR6yt"
      },
      "outputs": [],
      "source": [
        "from aimakerspace.text_utils import TextFileLoader, CharacterTextSplitter,EnhancedTextFileLoader\n",
        "from aimakerspace.vectordatabase import VectorDatabase, SimpleEnhancedVectorDatabase\n",
        "import asyncio"
      ]
    },
    {
      "cell_type": "code",
      "execution_count": 2,
      "metadata": {
        "id": "9OrFZRnER6yt"
      },
      "outputs": [],
      "source": [
        "import nest_asyncio\n",
        "nest_asyncio.apply()"
      ]
    },
    {
      "cell_type": "markdown",
      "metadata": {
        "id": "M0jGnpQsR6yu"
      },
      "source": [
        "## Task 2: Documents\n",
        "\n",
        "We'll be concerning ourselves with this part of the flow in the following section:\n",
        "\n",
        "<img src=\"https://i.imgur.com/jTm9gjk.png\" />"
      ]
    },
    {
      "cell_type": "markdown",
      "metadata": {
        "id": "-SFPWvRUR6yu"
      },
      "source": [
        "### Loading Source Documents\n",
        "\n",
        "So, first things first, we need some documents to work with.\n",
        "\n",
        "While we could work directly with the `.txt` files (or whatever file-types you wanted to extend this to) we can instead do some batch processing of those documents at the beginning in order to store them in a more machine compatible format.\n",
        "\n",
        "In this case, we're going to parse our text file into a single document in memory.\n",
        "\n",
        "Let's look at the relevant bits of the `TextFileLoader` class:\n",
        "\n",
        "```python\n",
        "def load_file(self):\n",
        "        with open(self.path, \"r\", encoding=self.encoding) as f:\n",
        "            self.documents.append(f.read())\n",
        "```\n",
        "\n",
        "We're simply loading the document using the built in `open` method, and storing that output in our `self.documents` list.\n",
        "\n",
        "> NOTE: We're using blogs from PMarca (Marc Andreessen) as our sample data. This data is largely irrelevant as we want to focus on the mechanisms of RAG, which includes out data's shape and quality - but not specifically what the contents of the data are. \n"
      ]
    },
    {
      "cell_type": "code",
      "execution_count": 3,
      "metadata": {
        "colab": {
          "base_uri": "https://localhost:8080/"
        },
        "id": "Ia2sUEuGR6yu",
        "outputId": "84937ecc-c35f-4c4a-a4ab-9da72625954c"
      },
      "outputs": [
        {
          "data": {
            "text/plain": [
              "1"
            ]
          },
          "execution_count": 3,
          "metadata": {},
          "output_type": "execute_result"
        }
      ],
      "source": [
        "text_loader = TextFileLoader(\"data/PMarcaBlogs.txt\")\n",
        "documents = text_loader.load_documents()\n",
        "len(documents)"
      ]
    },
    {
      "cell_type": "code",
      "execution_count": 4,
      "metadata": {
        "colab": {
          "base_uri": "https://localhost:8080/"
        },
        "id": "bV-tj5WFR6yu",
        "outputId": "674eb315-1ff3-4597-bcf5-38ece0a812ac"
      },
      "outputs": [
        {
          "name": "stdout",
          "output_type": "stream",
          "text": [
            "\n",
            "The Pmarca Blog Archives\n",
            "(select posts from 2007-2009)\n",
            "Marc Andreessen\n",
            "copyright: Andreessen Horow\n"
          ]
        }
      ],
      "source": [
        "print(documents[0][:100])"
      ]
    },
    {
      "cell_type": "markdown",
      "metadata": {
        "id": "nHlTvCzYR6yu"
      },
      "source": [
        "### Splitting Text Into Chunks\n",
        "\n",
        "As we can see, there is one massive document.\n",
        "\n",
        "We'll want to chunk the document into smaller parts so it's easier to pass the most relevant snippets to the LLM.\n",
        "\n",
        "There is no fixed way to split/chunk documents - and you'll need to rely on some intuition as well as knowing your data *very* well in order to build the most robust system.\n",
        "\n",
        "For this toy example, we'll just split blindly on length.\n",
        "\n",
        ">There's an opportunity to clear up some terminology here, for this course we will be stick to the following:\n",
        ">\n",
        ">- \"source documents\" : The `.txt`, `.pdf`, `.html`, ..., files that make up the files and information we start with in its raw format\n",
        ">- \"document(s)\" : single (or more) text object(s)\n",
        ">- \"corpus\" : the combination of all of our documents"
      ]
    },
    {
      "cell_type": "markdown",
      "metadata": {
        "id": "2G6Voc0jR6yv"
      },
      "source": [
        "As you can imagine (though it's not specifically true in this toy example) the idea of splitting documents is to break them into managable sized chunks that retain the most relevant local context."
      ]
    },
    {
      "cell_type": "code",
      "execution_count": 5,
      "metadata": {
        "colab": {
          "base_uri": "https://localhost:8080/"
        },
        "id": "UMC4tsEmR6yv",
        "outputId": "08689c0b-57cd-4040-942a-8193e997f5cb"
      },
      "outputs": [
        {
          "data": {
            "text/plain": [
              "373"
            ]
          },
          "execution_count": 5,
          "metadata": {},
          "output_type": "execute_result"
        }
      ],
      "source": [
        "text_splitter = CharacterTextSplitter()\n",
        "split_documents = text_splitter.split_texts(documents)\n",
        "len(split_documents)"
      ]
    },
    {
      "cell_type": "markdown",
      "metadata": {
        "id": "W2wKT0WLR6yv"
      },
      "source": [
        "Let's take a look at some of the documents we've managed to split."
      ]
    },
    {
      "cell_type": "code",
      "execution_count": 6,
      "metadata": {
        "colab": {
          "base_uri": "https://localhost:8080/"
        },
        "id": "vcYMwWJoR6yv",
        "outputId": "20d69876-feca-4826-b4be-32915276987a"
      },
      "outputs": [
        {
          "data": {
            "text/plain": [
              "['\\ufeff\\nThe Pmarca Blog Archives\\n(select posts from 2007-2009)\\nMarc Andreessen\\ncopyright: Andreessen Horowitz\\ncover design: Jessica Hagy\\nproduced using: Pressbooks\\nContents\\nTHE PMARCA GUIDE TO STARTUPS\\nPart 1: Why not to do a startup 2\\nPart 2: When the VCs say \"no\" 10\\nPart 3: \"But I don\\'t know any VCs!\" 18\\nPart 4: The only thing that matters 25\\nPart 5: The Moby Dick theory of big companies 33\\nPart 6: How much funding is too little? Too much? 41\\nPart 7: Why a startup\\'s initial business plan doesn\\'t\\nmatter that much\\n49\\nTHE PMARCA GUIDE TO HIRING\\nPart 8: Hiring, managing, promoting, and Dring\\nexecutives\\n54\\nPart 9: How to hire a professional CEO 68\\nHow to hire the best people you\\'ve ever worked\\nwith\\n69\\nTHE PMARCA GUIDE TO BIG COMPANIES\\nPart 1: Turnaround! 82\\nPart 2: Retaining great people 86\\nTHE PMARCA GUIDE TO CAREER, PRODUCTIVITY,\\nAND SOME OTHER THINGS\\nIntroduction 97\\nPart 1: Opportunity 99\\nPart 2: Skills and education 107\\nPart 3: Where to go and why 120\\nThe Pmarca Guide to Personal Productivi']"
            ]
          },
          "execution_count": 6,
          "metadata": {},
          "output_type": "execute_result"
        }
      ],
      "source": [
        "split_documents[0:1]"
      ]
    },
    {
      "cell_type": "markdown",
      "metadata": {
        "id": "HOU-RFP_R6yv"
      },
      "source": [
        "## Task 3: Embeddings and Vectors\n",
        "\n",
        "Next, we have to convert our corpus into a \"machine readable\" format as we explored in the Embedding Primer notebook.\n",
        "\n",
        "Today, we're going to talk about the actual process of creating, and then storing, these embeddings, and how we can leverage that to intelligently add context to our queries."
      ]
    },
    {
      "cell_type": "markdown",
      "metadata": {},
      "source": [
        "### OpenAI API Key\n",
        "\n",
        "In order to access OpenAI's APIs, we'll need to provide our OpenAI API Key!\n",
        "\n",
        "You can work through the folder \"OpenAI API Key Setup\" for more information on this process if you don't already have an API Key!"
      ]
    },
    {
      "cell_type": "code",
      "execution_count": 7,
      "metadata": {},
      "outputs": [],
      "source": [
        "import os\n",
        "import openai\n",
        "from getpass import getpass\n",
        "\n",
        "openai.api_key = getpass(\"OpenAI API Key: \")\n",
        "os.environ[\"OPENAI_API_KEY\"] = openai.api_key\n",
        "\n"
      ]
    },
    {
      "cell_type": "markdown",
      "metadata": {},
      "source": [
        "### Vector Database\n",
        "\n",
        "Let's set up our vector database to hold all our documents and their embeddings!"
      ]
    },
    {
      "cell_type": "markdown",
      "metadata": {
        "id": "kDQrfAR1R6yv"
      },
      "source": [
        "While this is all baked into 1 call - we can look at some of the code that powers this process to get a better understanding:\n",
        "\n",
        "Let's look at our `VectorDatabase().__init__()`:\n",
        "\n",
        "```python\n",
        "def __init__(self, embedding_model: EmbeddingModel = None):\n",
        "        self.vectors = defaultdict(np.array)\n",
        "        self.embedding_model = embedding_model or EmbeddingModel()\n",
        "```\n",
        "\n",
        "As you can see - our vectors are merely stored as a dictionary of `np.array` objects.\n",
        "\n",
        "Secondly, our `VectorDatabase()` has a default `EmbeddingModel()` which is a wrapper for OpenAI's `text-embedding-3-small` model.\n",
        "\n",
        "> **Quick Info About `text-embedding-3-small`**:\n",
        "> - It has a context window of **8191** tokens\n",
        "> - It returns vectors with dimension **1536**"
      ]
    },
    {
      "cell_type": "markdown",
      "metadata": {
        "id": "L273pRdeR6yv"
      },
      "source": [
        "#### ❓Question #1:\n",
        "\n",
        "The default embedding dimension of `text-embedding-3-small` is 1536, as noted above. \n",
        "\n",
        "1. Is there any way to modify this dimension?\n",
        "2. What technique does OpenAI use to achieve this?\n",
        "\n",
        "> NOTE: Check out this [API documentation](https://platform.openai.com/docs/api-reference/embeddings/create) for the answer to question #1.1, and [this documentation](https://platform.openai.com/docs/guides/embeddings/use-cases) for an answer to question #1.2!\n"
      ]
    },
    {
      "cell_type": "markdown",
      "metadata": {},
      "source": [
        "##### ✅ Answer:\n",
        "1.We can modify the dimension of the embedding ( without the embedding losing its concept-representing properties) by passing `dimensions` parameter (only supported in text-embedding-3 and later models). for example:\n",
        "\n",
        "client.embeddings.create(\n",
        "  model=\"text-embedding-ada-002\",\n",
        "  input=\"The food was delicious and the waiter...\",\n",
        "  encoding_format=\"float\"\n",
        "  dimensions=1024 \n",
        "). \n",
        "\n",
        "Also we can change the dimension after generating the embedding like:\n",
        "\n",
        "def normalize_l2(x):\n",
        "    x = np.array(x)\n",
        "    if x.ndim == 1:\n",
        "        norm = np.linalg.norm(x)\n",
        "        if norm == 0:\n",
        "            return x\n",
        "        return x / norm\n",
        "    else:\n",
        "        norm = np.linalg.norm(x, 2, axis=1, keepdims=True)\n",
        "        return np.where(norm == 0, x, x / norm)\n",
        "\n",
        "\n",
        "response = client.embeddings.create(\n",
        "    model=\"text-embedding-3-small\", input=\"Testing 123\", encoding_format=\"float\"\n",
        ")\n",
        "\n",
        "cut_dim = response.data[0].embedding[:256]\n",
        "norm_dim = normalize_l2(cut_dim)\n",
        "\n",
        "2.The technique that OpenAI use to achive this is:Matryoshka Representation Learning, which encodes information at\n",
        "different granularities and allows a single embedding to adapt to the computational constraints of downstream tasks."
      ]
    },
    {
      "cell_type": "markdown",
      "metadata": {
        "id": "w5FZY7K3R6yv"
      },
      "source": [
        "We can call the `async_get_embeddings` method of our `EmbeddingModel()` on a list of `str` and receive a list of `float` back!\n",
        "\n",
        "```python\n",
        "async def async_get_embeddings(self, list_of_text: List[str]) -> List[List[float]]:\n",
        "        return await aget_embeddings(\n",
        "            list_of_text=list_of_text, engine=self.embeddings_model_name\n",
        "        )\n",
        "```"
      ]
    },
    {
      "cell_type": "markdown",
      "metadata": {
        "id": "cSct6X0aR6yv"
      },
      "source": [
        "We cast those to `np.array` when we build our `VectorDatabase()`:\n",
        "\n",
        "```python\n",
        "async def abuild_from_list(self, list_of_text: List[str]) -> \"VectorDatabase\":\n",
        "        embeddings = await self.embedding_model.async_get_embeddings(list_of_text)\n",
        "        for text, embedding in zip(list_of_text, embeddings):\n",
        "            self.insert(text, np.array(embedding))\n",
        "        return self\n",
        "```\n",
        "\n",
        "And that's all we need to do!"
      ]
    },
    {
      "cell_type": "code",
      "execution_count": 8,
      "metadata": {
        "id": "O4KoLbVDR6yv"
      },
      "outputs": [],
      "source": [
        "vector_db = VectorDatabase()\n",
        "vector_db = asyncio.run(vector_db.abuild_from_list(split_documents))"
      ]
    },
    {
      "cell_type": "markdown",
      "metadata": {
        "id": "SSZwaGvpR6yv"
      },
      "source": [
        "#### ❓Question #2:\n",
        "\n",
        "What are the benefits of using an `async` approach to collecting our embeddings?\n",
        "\n",
        "> NOTE: Determining the core difference between `async` and `sync` will be useful! If you get stuck - ask ChatGPT!"
      ]
    },
    {
      "cell_type": "markdown",
      "metadata": {},
      "source": [
        "##### ✅ Answer:\n",
        "Each request to generate an embedding is executed one after another. Your code waits for the current request to finish before moving to the next one.When collecting embeddings, synchronous (sync) execution processes requests one by one, causing delays, while asynchronous (async) execution handles multiple requests concurrently, significantly improving speed and throughput, especially for I/O-bound tasks like fetching data or communicating with embedding models. Async is the optimal choice for embedding large datasets because it utilizes idle time and keeps tasks moving without blocking, whereas sync processing would lead to long wait times."
      ]
    },
    {
      "cell_type": "markdown",
      "metadata": {
        "id": "nRBdIt-xR6yw"
      },
      "source": [
        "So, to review what we've done so far in natural language:\n",
        "\n",
        "1. We load source documents\n",
        "2. We split those source documents into smaller chunks (documents)\n",
        "3. We send each of those documents to the `text-embedding-3-small` OpenAI API endpoint\n",
        "4. We store each of the text representations with the vector representations as keys/values in a dictionary"
      ]
    },
    {
      "cell_type": "markdown",
      "metadata": {
        "id": "4-vWANZyR6yw"
      },
      "source": [
        "### Semantic Similarity\n",
        "\n",
        "The next step is to be able to query our `VectorDatabase()` with a `str` and have it return to us vectors and text that is most relevant from our corpus.\n",
        "\n",
        "We're going to use the following process to achieve this in our toy example:\n",
        "\n",
        "1. We need to embed our query with the same `EmbeddingModel()` as we used to construct our `VectorDatabase()`\n",
        "2. We loop through every vector in our `VectorDatabase()` and use a distance measure to compare how related they are\n",
        "3. We return a list of the top `k` closest vectors, with their text representations\n",
        "\n",
        "There's some very heavy optimization that can be done at each of these steps - but let's just focus on the basic pattern in this notebook.\n",
        "\n",
        "> We are using [cosine similarity](https://www.engati.com/glossary/cosine-similarity) as a distance metric in this example - but there are many many distance metrics you could use - like [these](https://flavien-vidal.medium.com/similarity-distances-for-natural-language-processing-16f63cd5ba55)\n",
        "\n",
        "> We are using a rather inefficient way of calculating relative distance between the query vector and all other vectors - there are more advanced approaches that are much more efficient, like [ANN](https://towardsdatascience.com/comprehensive-guide-to-approximate-nearest-neighbors-algorithms-8b94f057d6b6)"
      ]
    },
    {
      "cell_type": "code",
      "execution_count": 9,
      "metadata": {
        "colab": {
          "base_uri": "https://localhost:8080/"
        },
        "id": "76d96uavR6yw",
        "outputId": "bbfccc31-20a2-41c7-c14d-46554a43ed2d"
      },
      "outputs": [
        {
          "data": {
            "text/plain": [
              "[('ordingly.\\nSeventh, when hiring the executive to run your former specialty, be\\ncareful you don’t hire someone weak on purpose.\\nThis sounds silly, but you wouldn’t believe how oaen it happens.\\nThe CEO who used to be a product manager who has a weak\\nproduct management executive. The CEO who used to be in\\nsales who has a weak sales executive. The CEO who used to be\\nin marketing who has a weak marketing executive.\\nI call this the “Michael Eisner Memorial Weak Executive Problem” — aaer the CEO of Disney who had previously been a brilliant TV network executive. When he bought ABC at Disney, it\\npromptly fell to fourth place. His response? “If I had an extra\\ntwo days a week, I could turn around ABC myself.” Well, guess\\nwhat, he didn’t have an extra two days a week.\\nA CEO — or a startup founder — oaen has a hard time letting\\ngo of the function that brought him to the party. The result: you\\nhire someone weak into the executive role for that function so\\nthat you can continue to be “the man” — cons',\n",
              "  np.float64(0.6538317104772133)),\n",
              " ('m. They have areas where they are truly deXcient in judgment or skill set. That’s just life. Almost nobody is brilliant\\nat everything. When hiring and when Hring executives, you\\nmust therefore focus on strength rather than lack of weakness. Everybody has severe weaknesses even if you can’t see\\nthem yet. When managing, it’s oaen useful to micromanage and\\nto provide remedial training around these weaknesses. Doing so\\nmay make the diWerence between an executive succeeding or\\nfailing.\\nFor example, you might have a brilliant engineering executive\\nwho generates excellent team loyalty, has terriXc product judgment and makes the trains run on time. This same executive\\nmay be very poor at relating to the other functions in the company. She may generate far more than her share of cross-functional conYicts, cut herself oW from critical information, and\\nsigniXcantly impede your ability to sell and market eWectively.\\nYour alternatives are:\\n(a) Macro-manage and give her an annual or quarterly object',\n",
              "  np.float64(0.5035116156743888)),\n",
              " ('ed?\\nIn reality — as opposed to Marc’s warped view of reality — it will\\nbe extremely helpful for Marc [if he were actually the CEO,\\nwhich he is not] to meet with the new head of engineering daily\\nwhen she comes on board and review all of her thinking and\\ndecisions. This level of micromanagement will accelerate her\\ntraining and improve her long-term eWectiveness. It will make\\nher seem smarter to the rest of the organization which will build\\ncredibility and conXdence while she comes up to speed. Micromanaging new executives is generally a good idea for a limited\\nperiod of time.\\nHowever, that is not the only time that it makes sense to micro66 The Pmarca Blog Archives\\nmanage executives. It turns out that just about every executive\\nin the world has a few things that are seriously wrong with\\nthem. They have areas where they are truly deXcient in judgment or skill set. That’s just life. Almost nobody is brilliant\\nat everything. When hiring and when Hring executives, you\\nmust therefore focus o',\n",
              "  np.float64(0.48137258537070876))]"
            ]
          },
          "execution_count": 9,
          "metadata": {},
          "output_type": "execute_result"
        }
      ],
      "source": [
        "vector_db.search_by_text(\"What is the Michael Eisner Memorial Weak Executive Problem?\", k=3)"
      ]
    },
    {
      "cell_type": "markdown",
      "metadata": {
        "id": "TehsfIiKR6yw"
      },
      "source": [
        "## Task 4: Prompts\n",
        "\n",
        "In the following section, we'll be looking at the role of prompts - and how they help us to guide our application in the right direction.\n",
        "\n",
        "In this notebook, we're going to rely on the idea of \"zero-shot in-context learning\".\n",
        "\n",
        "This is a lot of words to say: \"We will ask it to perform our desired task in the prompt, and provide no examples.\""
      ]
    },
    {
      "cell_type": "markdown",
      "metadata": {
        "id": "yXpA0UveR6yw"
      },
      "source": [
        "### XYZRolePrompt\n",
        "\n",
        "Before we do that, let's stop and think a bit about how OpenAI's chat models work.\n",
        "\n",
        "We know they have roles - as is indicated in the following API [documentation](https://platform.openai.com/docs/api-reference/chat/create#chat/create-messages)\n",
        "\n",
        "There are three roles, and they function as follows (taken directly from [OpenAI](https://platform.openai.com/docs/guides/gpt/chat-completions-api)):\n",
        "\n",
        "- `{\"role\" : \"system\"}` : The system message helps set the behavior of the assistant. For example, you can modify the personality of the assistant or provide specific instructions about how it should behave throughout the conversation. However note that the system message is optional and the model’s behavior without a system message is likely to be similar to using a generic message such as \"You are a helpful assistant.\"\n",
        "- `{\"role\" : \"user\"}` : The user messages provide requests or comments for the assistant to respond to.\n",
        "- `{\"role\" : \"assistant\"}` : Assistant messages store previous assistant responses, but can also be written by you to give examples of desired behavior.\n",
        "\n",
        "The main idea is this:\n",
        "\n",
        "1. You start with a system message that outlines how the LLM should respond, what kind of behaviours you can expect from it, and more\n",
        "2. Then, you can provide a few examples in the form of \"assistant\"/\"user\" pairs\n",
        "3. Then, you prompt the model with the true \"user\" message.\n",
        "\n",
        "In this example, we'll be forgoing the 2nd step for simplicities sake."
      ]
    },
    {
      "cell_type": "markdown",
      "metadata": {
        "id": "gdZ2KWKSR6yw"
      },
      "source": [
        "#### Utility Functions\n",
        "\n",
        "You'll notice that we're using some utility functions from the `aimakerspace` module - let's take a peek at these and see what they're doing!"
      ]
    },
    {
      "cell_type": "markdown",
      "metadata": {
        "id": "GFbeJDDsR6yw"
      },
      "source": [
        "##### XYZRolePrompt"
      ]
    },
    {
      "cell_type": "markdown",
      "metadata": {
        "id": "5mojJSE3R6yw"
      },
      "source": [
        "Here we have our `system`, `user`, and `assistant` role prompts.\n",
        "\n",
        "Let's take a peek at what they look like:\n",
        "\n",
        "```python\n",
        "class BasePrompt:\n",
        "    def __init__(self, prompt):\n",
        "        \"\"\"\n",
        "        Initializes the BasePrompt object with a prompt template.\n",
        "\n",
        "        :param prompt: A string that can contain placeholders within curly braces\n",
        "        \"\"\"\n",
        "        self.prompt = prompt\n",
        "        self._pattern = re.compile(r\"\\{([^}]+)\\}\")\n",
        "\n",
        "    def format_prompt(self, **kwargs):\n",
        "        \"\"\"\n",
        "        Formats the prompt string using the keyword arguments provided.\n",
        "\n",
        "        :param kwargs: The values to substitute into the prompt string\n",
        "        :return: The formatted prompt string\n",
        "        \"\"\"\n",
        "        matches = self._pattern.findall(self.prompt)\n",
        "        return self.prompt.format(**{match: kwargs.get(match, \"\") for match in matches})\n",
        "\n",
        "    def get_input_variables(self):\n",
        "        \"\"\"\n",
        "        Gets the list of input variable names from the prompt string.\n",
        "\n",
        "        :return: List of input variable names\n",
        "        \"\"\"\n",
        "        return self._pattern.findall(self.prompt)\n",
        "```\n",
        "\n",
        "Then we have our `RolePrompt` which laser focuses us on the role pattern found in most API endpoints for LLMs.\n",
        "\n",
        "```python\n",
        "class RolePrompt(BasePrompt):\n",
        "    def __init__(self, prompt, role: str):\n",
        "        \"\"\"\n",
        "        Initializes the RolePrompt object with a prompt template and a role.\n",
        "\n",
        "        :param prompt: A string that can contain placeholders within curly braces\n",
        "        :param role: The role for the message ('system', 'user', or 'assistant')\n",
        "        \"\"\"\n",
        "        super().__init__(prompt)\n",
        "        self.role = role\n",
        "\n",
        "    def create_message(self, **kwargs):\n",
        "        \"\"\"\n",
        "        Creates a message dictionary with a role and a formatted message.\n",
        "\n",
        "        :param kwargs: The values to substitute into the prompt string\n",
        "        :return: Dictionary containing the role and the formatted message\n",
        "        \"\"\"\n",
        "        return {\"role\": self.role, \"content\": self.format_prompt(**kwargs)}\n",
        "```\n",
        "\n",
        "We'll look at how the `SystemRolePrompt` is constructed to get a better idea of how that extension works:\n",
        "\n",
        "```python\n",
        "class SystemRolePrompt(RolePrompt):\n",
        "    def __init__(self, prompt: str):\n",
        "        super().__init__(prompt, \"system\")\n",
        "```\n",
        "\n",
        "That pattern is repeated for our `UserRolePrompt` and our `AssistantRolePrompt` as well."
      ]
    },
    {
      "cell_type": "markdown",
      "metadata": {
        "id": "D361R6sMR6yw"
      },
      "source": [
        "##### ChatOpenAI"
      ]
    },
    {
      "cell_type": "markdown",
      "metadata": {
        "id": "HJVQ2Pm8R6yw"
      },
      "source": [
        "Next we have our model, which is converted to a format analagous to libraries like LangChain and LlamaIndex.\n",
        "\n",
        "Let's take a peek at how that is constructed:\n",
        "\n",
        "```python\n",
        "class ChatOpenAI:\n",
        "    def __init__(self, model_name: str = \"gpt-4.1-mini\"):\n",
        "        self.model_name = model_name\n",
        "        self.openai_api_key = os.getenv(\"OPENAI_API_KEY\")\n",
        "        if self.openai_api_key is None:\n",
        "            raise ValueError(\"OPENAI_API_KEY is not set\")\n",
        "\n",
        "    def run(self, messages, text_only: bool = True):\n",
        "        if not isinstance(messages, list):\n",
        "            raise ValueError(\"messages must be a list\")\n",
        "\n",
        "        openai.api_key = self.openai_api_key\n",
        "        response = openai.ChatCompletion.create(\n",
        "            model=self.model_name, messages=messages\n",
        "        )\n",
        "\n",
        "        if text_only:\n",
        "            return response.choices[0].message.content\n",
        "\n",
        "        return response\n",
        "```"
      ]
    },
    {
      "cell_type": "markdown",
      "metadata": {
        "id": "qCU7FfhIR6yw"
      },
      "source": [
        "#### ❓ Question #3:\n",
        "\n",
        "When calling the OpenAI API - are there any ways we can achieve more reproducible outputs?\n",
        "\n",
        "> NOTE: Check out [this section](https://platform.openai.com/docs/guides/text-generation/) of the OpenAI documentation for the answer!"
      ]
    },
    {
      "cell_type": "markdown",
      "metadata": {},
      "source": [
        "##### ✅ Answer:\n",
        "There are some ways to make more reproducible outputs:\n",
        "-Prompt engineering:writing effective instructions for a model. Some tools and techniques to construnct prompts:\n",
        "Choosing models like gpt-5, gpt-5-mini,gpt--nano, reasoning models like o3 and GPT-5, respond better to different prompts. Giving instructions parameter along with message roles gives the model high level instructions on how it should behave while generating a response, including tone, goals, and examples of correct responses. for example:\n",
        "response = client.responses.create(\n",
        "    model=\"gpt-5\",\n",
        "    reasoning={\"effort\": \"low\"},\n",
        "    input=[\n",
        "        {\n",
        "            \"role\": \"developer\",\n",
        "            \"content\": \"Talk like a pirate.\"\n",
        "        },\n",
        "        {\n",
        "            \"role\": \"user\",\n",
        "            \"content\": \"Are semicolons optional in JavaScript?\"\n",
        "        }\n",
        "    ]\n",
        ")\n",
        "Three types of role describes how models give different levels of priority to messages: develope, user, assistant.\n",
        "The best way is to create reusabe prompts rather than hardcoded."
      ]
    },
    {
      "cell_type": "markdown",
      "metadata": {
        "id": "c5wcjMLCR6yw"
      },
      "source": [
        "### Creating and Prompting OpenAI's `gpt-4.1-mini`!\n",
        "\n",
        "Let's tie all these together and use it to prompt `gpt-4.1-mini`!"
      ]
    },
    {
      "cell_type": "code",
      "execution_count": 10,
      "metadata": {
        "id": "WIfpIot7R6yw"
      },
      "outputs": [],
      "source": [
        "from aimakerspace.openai_utils.prompts import (\n",
        "    UserRolePrompt,\n",
        "    SystemRolePrompt,\n",
        "    AssistantRolePrompt,\n",
        ")\n",
        "\n",
        "from aimakerspace.openai_utils.chatmodel import ChatOpenAI\n",
        "\n",
        "chat_openai = ChatOpenAI()\n",
        "user_prompt_template = \"{content}\"\n",
        "user_role_prompt = UserRolePrompt(user_prompt_template)\n",
        "system_prompt_template = (\n",
        "    \"You are an expert in {expertise}, you always answer in a kind way.\"\n",
        ")\n",
        "system_role_prompt = SystemRolePrompt(system_prompt_template)\n",
        "\n",
        "messages = [\n",
        "    system_role_prompt.create_message(expertise=\"Python\"),\n",
        "    user_role_prompt.create_message(\n",
        "        content=\"What is the best way to write a loop?\"\n",
        "    ),\n",
        "]\n",
        "\n",
        "response = chat_openai.run(messages)"
      ]
    },
    {
      "cell_type": "code",
      "execution_count": 11,
      "metadata": {
        "colab": {
          "base_uri": "https://localhost:8080/"
        },
        "id": "dHo7lssNR6yw",
        "outputId": "1d3823fa-bb6b-45f6-ddba-b41686388324"
      },
      "outputs": [
        {
          "name": "stdout",
          "output_type": "stream",
          "text": [
            "Hello! The best way to write a loop in Python depends on what you're trying to achieve, but generally, using a `for` loop is considered clear and Pythonic when iterating over a sequence (like a list, tuple, or string).\n",
            "\n",
            "Here's a simple example using a `for` loop:\n",
            "\n",
            "```python\n",
            "fruits = ['apple', 'banana', 'cherry']\n",
            "for fruit in fruits:\n",
            "    print(fruit)\n",
            "```\n",
            "\n",
            "This loops over each item in the list `fruits` and prints it.\n",
            "\n",
            "If you want to repeat an action a specific number of times, `range()` with a `for` loop is very handy:\n",
            "\n",
            "```python\n",
            "for i in range(5):\n",
            "    print(f\"Iteration {i}\")\n",
            "```\n",
            "\n",
            "This will print the iteration number from 0 to 4.\n",
            "\n",
            "If you have a condition where you need to loop until something is met, a `while` loop works well:\n",
            "\n",
            "```python\n",
            "count = 0\n",
            "while count < 5:\n",
            "    print(count)\n",
            "    count += 1\n",
            "```\n",
            "\n",
            "Feel free to share your specific use case if you'd like more tailored advice!\n"
          ]
        }
      ],
      "source": [
        "print(response)"
      ]
    },
    {
      "cell_type": "markdown",
      "metadata": {
        "id": "r2nxxhB2R6yy"
      },
      "source": [
        "## Task 5: Retrieval Augmented Generation\n",
        "\n",
        "Now we can create a RAG prompt - which will help our system behave in a way that makes sense!\n",
        "\n",
        "There is much you could do here, many tweaks and improvements to be made!"
      ]
    },
    {
      "cell_type": "code",
      "execution_count": 13,
      "metadata": {
        "id": "D1hamzGaR6yy"
      },
      "outputs": [],
      "source": [
        "RAG_SYSTEM_TEMPLATE = \"\"\"You are a knowledgeable assistant that answers questions based strictly on provided context.\n",
        "\n",
        "Instructions:\n",
        "- Only answer questions using information from the provided context\n",
        "- If the context doesn't contain relevant information, respond with \"I don't know\"\n",
        "- Be accurate and cite specific parts of the context when possible\n",
        "- Keep responses {response_style} and {response_length}\n",
        "- Only use the provided context. Do not use external knowledge.\n",
        "- Only provide answers when you are confident the context supports your response.\"\"\"\n",
        "\n",
        "RAG_USER_TEMPLATE = \"\"\"Context Information:\n",
        "{context}\n",
        "\n",
        "Number of relevant sources found: {context_count}\n",
        "{similarity_scores}\n",
        "\n",
        "Question: {user_query}\n",
        "\n",
        "Please provide your answer based solely on the context above.\"\"\"\n",
        "\n",
        "rag_system_prompt = SystemRolePrompt(\n",
        "    RAG_SYSTEM_TEMPLATE,\n",
        "    strict=True,\n",
        "    defaults={\n",
        "        \"response_style\": \"concise\",\n",
        "        \"response_length\": \"brief\"\n",
        "    }\n",
        ")\n",
        "\n",
        "rag_user_prompt = UserRolePrompt(\n",
        "    RAG_USER_TEMPLATE,\n",
        "    strict=True,\n",
        "    defaults={\n",
        "        \"context_count\": \"\",\n",
        "        \"similarity_scores\": \"\"\n",
        "    }\n",
        ")"
      ]
    },
    {
      "cell_type": "markdown",
      "metadata": {},
      "source": [
        "Now we can create our pipeline!"
      ]
    },
    {
      "cell_type": "code",
      "execution_count": 14,
      "metadata": {},
      "outputs": [],
      "source": [
        "class RetrievalAugmentedQAPipeline:\n",
        "    def __init__(self, llm: ChatOpenAI, vector_db_retriever: VectorDatabase, \n",
        "                 response_style: str = \"detailed\", include_scores: bool = False) -> None:\n",
        "        self.llm = llm\n",
        "        self.vector_db_retriever = vector_db_retriever\n",
        "        self.response_style = response_style\n",
        "        self.include_scores = include_scores\n",
        "\n",
        "    def run_pipeline(self, user_query: str, k: int = 4, **system_kwargs) -> dict:\n",
        "        # Retrieve relevant contexts\n",
        "        context_list = self.vector_db_retriever.search_by_text(user_query, k=k)\n",
        "        \n",
        "        context_prompt = \"\"\n",
        "        similarity_scores = []\n",
        "        \n",
        "        for i, (context, score) in enumerate(context_list, 1):\n",
        "            context_prompt += f\"[Source {i}]: {context}\\n\\n\"\n",
        "            similarity_scores.append(f\"Source {i}: {score:.3f}\")\n",
        "        \n",
        "        # Create system message with parameters\n",
        "        system_params = {\n",
        "            \"response_style\": self.response_style,\n",
        "            \"response_length\": system_kwargs.get(\"response_length\", \"detailed\")\n",
        "        }\n",
        "        \n",
        "        formatted_system_prompt = rag_system_prompt.create_message(**system_params)\n",
        "        \n",
        "        user_params = {\n",
        "            \"user_query\": user_query,\n",
        "            \"context\": context_prompt.strip(),\n",
        "            \"context_count\": len(context_list),\n",
        "            \"similarity_scores\": f\"Relevance scores: {', '.join(similarity_scores)}\" if self.include_scores else \"\"\n",
        "        }\n",
        "        \n",
        "        formatted_user_prompt = rag_user_prompt.create_message(**user_params)\n",
        "\n",
        "        return {\n",
        "            \"response\": self.llm.run([formatted_system_prompt, formatted_user_prompt]), \n",
        "            \"context\": context_list,\n",
        "            \"context_count\": len(context_list),\n",
        "            \"similarity_scores\": similarity_scores if self.include_scores else None,\n",
        "            \"prompts_used\": {\n",
        "                \"system\": formatted_system_prompt,\n",
        "                \"user\": formatted_user_prompt\n",
        "            }\n",
        "        }"
      ]
    },
    {
      "cell_type": "code",
      "execution_count": 15,
      "metadata": {},
      "outputs": [
        {
          "name": "stdout",
          "output_type": "stream",
          "text": [
            "Response: The \"Michael Eisner Memorial Weak Executive Problem\" refers to a situation where a CEO or startup founder, who previously specialized in a particular function (such as product management, sales, or marketing), hires someone weak to lead that same function after they move on. This often happens because the CEO has a hard time letting go of the function that brought them success and wants to remain \"the man\" in that area. The problem is named after Michael Eisner, the former CEO of Disney, who had been a brilliant TV network executive but, after buying ABC at Disney, saw ABC fall to fourth place. Eisner's response was that if he had two extra days a week, he could have turned ABC around himself, but he did not have that time. This exemplifies how CEOs sometimes intentionally hire weak executives to maintain control over their former specialty, to the detriment of the company. (Source 1)\n",
            "\n",
            "Context Count: 3\n",
            "Similarity Scores: ['Source 1: 0.658', 'Source 2: 0.509', 'Source 3: 0.479']\n"
          ]
        }
      ],
      "source": [
        "rag_pipeline = RetrievalAugmentedQAPipeline(\n",
        "    vector_db_retriever=vector_db,\n",
        "    llm=chat_openai,\n",
        "    response_style=\"detailed\",\n",
        "    include_scores=True\n",
        ")\n",
        "\n",
        "result = rag_pipeline.run_pipeline(\n",
        "    \"What is the 'Michael Eisner Memorial Weak Executive Problem'?\",\n",
        "    k=3,\n",
        "    response_length=\"comprehensive\", \n",
        "    include_warnings=True,\n",
        "    confidence_required=True\n",
        ")\n",
        "\n",
        "print(f\"Response: {result['response']}\")\n",
        "print(f\"\\nContext Count: {result['context_count']}\")\n",
        "print(f\"Similarity Scores: {result['similarity_scores']}\")"
      ]
    },
    {
      "cell_type": "markdown",
      "metadata": {
        "id": "zZIJI19uR6yz"
      },
      "source": [
        "#### ❓ Question #4:\n",
        "\n",
        "What prompting strategies could you use to make the LLM have a more thoughtful, detailed response?\n",
        "\n",
        "What is that strategy called?\n",
        "\n",
        "> NOTE: You can look through our [OpenAI Responses API](https://colab.research.google.com/drive/14SCfRnp39N7aoOx8ZxadWb0hAqk4lQdL?usp=sharing) notebook for an answer to this question if you get stuck!"
      ]
    },
    {
      "cell_type": "markdown",
      "metadata": {},
      "source": [
        "##### ✅ Answer:\n",
        "The prompting strategies to make the LLM have a more thoughtful, detailed response is to adjust the reasoning effort parameter:reasoning={\"effort\": \"low\" | \"medium\" | \"high\"} – Controls how much computational effort the model puts into reasoning. low favors speed and economical token usage, and high favors more complete reasoning. The default value is medium, which is a balance between speed and reasoning accuracy. This is called Reasoning Control."
      ]
    },
    {
      "cell_type": "markdown",
      "metadata": {},
      "source": [
        "### 🏗️ Activity #1:\n",
        "\n",
        "Enhance your RAG application in some way! \n",
        "\n",
        "Suggestions are: \n",
        "\n",
        "- Allow it to work with PDF files\n",
        "- Implement a new distance metric\n",
        "- Add metadata support to the vector database\n",
        "- Use a different embedding model\n",
        "- Add the capability to ingest a YouTube link\n",
        "\n",
        "While these are suggestions, you should feel free to make whatever augmentations you desire! If you shared an idea during Session 1, think about features you might need to incorporate for your use case! \n",
        "\n",
        "When you're finished making the augments to your RAG application - vibe check it against the old one - see if you can \"feel the improvement\"!\n",
        "\n",
        "> NOTE: These additions might require you to work within the `aimakerspace` library - that's expected!\n",
        "\n",
        "> NOTE: If you're not sure where to start - ask Cursor (CMD/CTRL+L) to guide you through the changes!"
      ]
    },
    {
      "cell_type": "code",
      "execution_count": 39,
      "metadata": {},
      "outputs": [
        {
          "name": "stdout",
          "output_type": "stream",
          "text": [
            "🔍 Testing Enhanced PDF Loader:\n",
            "========================================\n",
            "📊 Number of documents: 1\n",
            "\n",
            "🎯 Ready to use 1 document(s) with enhanced RAG!\n"
          ]
        }
      ],
      "source": [
        "from aimakerspace.text_utils import EnhancedTextFileLoader\n",
        "\n",
        "# Test the PDF loader with MRL.pdf\n",
        "print(\"🔍 Testing Enhanced PDF Loader:\")\n",
        "print(\"=\" * 40)\n",
        "\n",
        "try:\n",
        "    # Load the PDF using the enhanced loader\n",
        "    pdf_loader = EnhancedTextFileLoader(\"data/MRL.pdf\")\n",
        "    pdf_documents = pdf_loader.load_documents()\n",
        "    print(f\"📊 Number of documents: {len(pdf_documents)}\")\n",
        "    \n",
        "except Exception as e:\n",
        "    \n",
        "    print(\"📝 Using original text documents as fallback\")\n",
        "\n",
        "print(f\"\\n🎯 Ready to use {len(pdf_documents)} document(s) with enhanced RAG!\")"
      ]
    },
    {
      "cell_type": "code",
      "execution_count": 38,
      "metadata": {},
      "outputs": [],
      "source": [
        "\n",
        "class SimpleEnhancedRAGPipeline(RetrievalAugmentedQAPipeline):\n",
        "    \"\"\"Simple enhancement to existing RAG pipeline - just adds distance metric choice\"\"\"\n",
        "    \n",
        "    def run_pipeline_with_metric(self, user_query: str, k: int = 4, distance_measure: str = 'cosine'):\n",
        "        \"\"\"Run pipeline with chosen distance metric\"\"\"\n",
        "        \n",
        "        # Use the enhanced search if available\n",
        "        if hasattr(self.vector_db_retriever, 'search_with_metric'):\n",
        "            context_list = self.vector_db_retriever.search_with_metric(user_query, k=k, distance_measure=distance_measure)\n",
        "        else:\n",
        "            # Fallback to regular search\n",
        "            context_list = self.vector_db_retriever.search_by_text(user_query, k=k)\n",
        "        \n",
        "        # Use existing pipeline logic\n",
        "        context_prompt = \"\"\n",
        "        similarity_scores = []\n",
        "        \n",
        "        for i, (context, score) in enumerate(context_list, 1):\n",
        "            context_prompt += f\"[Source {i}]: {context}\\n\\n\"\n",
        "            similarity_scores.append(f\"Source {i}: {score:.3f}\")\n",
        "        \n",
        "        # Enhanced system prompt with metric info\n",
        "        system_params = {\n",
        "            \"response_style\": self.response_style,\n",
        "            \"response_length\": \"detailed\"\n",
        "        }\n",
        "        \n",
        "        formatted_system_prompt = rag_system_prompt.create_message(**system_params)\n",
        "        \n",
        "        # Add metric info to user prompt\n",
        "        user_params = {\n",
        "            \"user_query\": user_query,\n",
        "            \"context\": context_prompt.strip(),\n",
        "            \"context_count\": len(context_list),\n",
        "            \"similarity_scores\": f\"Relevance scores ({distance_measure}): {', '.join(similarity_scores)}\" if self.include_scores else \"\"\n",
        "        }\n",
        "        \n",
        "        formatted_user_prompt = rag_user_prompt.create_message(**user_params)\n",
        "        \n",
        "        return {\n",
        "            \"response\": self.llm.run([formatted_system_prompt, formatted_user_prompt]),\n",
        "            \"context\": context_list,\n",
        "            \"context_count\": len(context_list),\n",
        "            \"similarity_scores\": similarity_scores,\n",
        "            \"distance_measure\": distance_measure\n",
        "        }\n",
        "\n"
      ]
    },
    {
      "cell_type": "code",
      "execution_count": 36,
      "metadata": {},
      "outputs": [
        {
          "name": "stdout",
          "output_type": "stream",
          "text": [
            "✅ Using cleaned PDF documents\n",
            "✅ Enhanced database built with 20 chunks\n",
            "📏 Available metrics: ['cosine', 'euclidean', 'manhattan']\n",
            "\n",
            "3. 📏 Testing Distance Metrics...\n",
            "✅ COSINE: 3 results, top score: 0.787\n",
            "✅ EUCLIDEAN: 3 results, top score: 0.605\n",
            "✅ MANHATTAN: 3 results, top score: 0.047\n",
            "\n",
            "4. 🤖 Testing Enhanced RAG...\n",
            "\n",
            "🔍 Testing: What is Matryoshka Representation Learning?\n",
            "📝 COSINE: Matryoshka Representation Learning (MRL) is a method for learning flexible, adaptable representations that encode information at different levels of g...\n",
            "📈 Top score: Source 1: 0.787\n",
            "📝 EUCLIDEAN: Matryoshka Representation Learning (MRL) is a method for learning flexible and adaptable representations in machine learning systems. MRL encodes info...\n",
            "📈 Top score: Source 1: 0.605\n",
            "\n",
            "🔍 Testing: Who are the authors of this paper?\n",
            "📝 COSINE: The authors of the paper \"Matryoshka Representation Learning\" are Aditya Kusupati, Gantavya Bhatt, Aniket Rege, Matthew Wallingford, Aditya Sinhao, Vi...\n",
            "📈 Top score: Source 1: 0.290\n",
            "📝 EUCLIDEAN: The authors of the paper \"Matryoshka Representation Learning\" are Aditya Kusupati*, Gantavya Bhatt*, Aniket Rege*, Matthew Wallingford, Aditya Sinha, ...\n",
            "📈 Top score: Source 1: 0.456\n"
          ]
        }
      ],
      "source": [
        "try:\n",
        "    # Use the CLEANED documents and database instead of the raw PDF\n",
        "    text_splitter = CharacterTextSplitter()\n",
        "    \n",
        "    # IMPORTANT: Use cleaned documents, not raw pdf_documents\n",
        "    if 'cleaned_docs' in locals():\n",
        "        split_documents = text_splitter.split_texts(cleaned_docs)\n",
        "        print(\"✅ Using cleaned PDF documents\")\n",
        "    else:\n",
        "        split_documents = text_splitter.split_texts(pdf_documents)\n",
        "        print(\"⚠️ Using raw PDF documents (may have encoding issues)\")\n",
        "    \n",
        "    # Create enhanced database with cleaned data\n",
        "    simple_enhanced_db = SimpleEnhancedVectorDatabase()\n",
        "    simple_enhanced_db = asyncio.run(simple_enhanced_db.abuild_from_list(split_documents[:20]))\n",
        "    \n",
        "    print(f\"✅ Enhanced database built with {len(split_documents[:20])} chunks\")\n",
        "    print(f\"📏 Available metrics: {list(simple_enhanced_db.distance_metrics.keys())}\")\n",
        "    \n",
        "except Exception as e:\n",
        "    print(f\"❌ Using fallback: {e}\")\n",
        "    simple_enhanced_db = vector_db  \n",
        "\n",
        "# 3. Test with PDF-appropriate queries (not PMarca blog queries)\n",
        "print(\"\\n3. 📏 Testing Distance Metrics...\")\n",
        "test_query = \"What is Matryoshka Representation Learning?\"  # Changed to PDF-appropriate query\n",
        "\n",
        "for metric in ['cosine', 'euclidean', 'manhattan']:\n",
        "    try:\n",
        "        if hasattr(simple_enhanced_db, 'search_with_metric'):\n",
        "            results = simple_enhanced_db.search_with_metric(test_query, k=3, distance_measure=metric)\n",
        "            print(f\"✅ {metric.upper()}: {len(results)} results, top score: {results[0][1]:.3f}\")\n",
        "        else:\n",
        "            print(f\"⚠️ {metric}: using fallback search\")\n",
        "    except Exception as e:\n",
        "        print(f\"❌ {metric}: {e}\")\n",
        "\n",
        "# 4. Test enhanced RAG pipeline with PDF query\n",
        "print(\"\\n4. 🤖 Testing Enhanced RAG...\")\n",
        "try:\n",
        "    simple_enhanced_rag = SimpleEnhancedRAGPipeline(\n",
        "        llm=chat_openai,\n",
        "        vector_db_retriever=simple_enhanced_db,\n",
        "        response_style=\"detailed\",\n",
        "        include_scores=True\n",
        "    )\n",
        "    \n",
        "    # Test with PDF-appropriate queries\n",
        "    pdf_queries = [\n",
        "        \"What is Matryoshka Representation Learning?\",\n",
        "        \"Who are the authors of this paper?\"\n",
        "    ]\n",
        "    \n",
        "    for query in pdf_queries:\n",
        "        print(f\"\\n🔍 Testing: {query}\")\n",
        "        for metric in ['cosine', 'euclidean']:\n",
        "            result = simple_enhanced_rag.run_pipeline_with_metric(\n",
        "                query, \n",
        "                k=3, \n",
        "                distance_measure=metric\n",
        "            )\n",
        "            \n",
        "            print(f\"📝 {metric.upper()}: {result['response'][:150]}...\")\n",
        "            print(f\"📈 Top score: {result['similarity_scores'][0] if result['similarity_scores'] else 'N/A'}\")\n",
        "        \n",
        "except Exception as e:\n",
        "    print(f\"❌ Enhanced RAG failed: {e}\")"
      ]
    },
    {
      "cell_type": "code",
      "execution_count": 37,
      "metadata": {},
      "outputs": [
        {
          "name": "stdout",
          "output_type": "stream",
          "text": [
            "🧪 Testing with PDF-appropriate queries:\n",
            "📄 PDF sample content:\n",
            "\n",
            "--- Page 1 ---\n",
            "Matryoshka Representation Learning\n",
            "Aditya Kusupati∗†⋄, Gantavya Bhatt∗†, Aniket Rege∗†,\n",
            "Matthew Wallingford†, Aditya Sinha⋄, Vivek Ramanujan†, William Howard-Snyder†,\n",
            "Kaifeng Chen⋄, Sham Kakade‡, Prateek Jain⋄and Ali Farhadi†\n",
            "†University of Washington,⋄Google Research,‡Harvard University\n",
            "{kusupati,ali}@cs.washington.edu ,prajain@google.com\n",
            "Abstract\n",
            "Learned representations are a central component in modern ML systems, serv-\n",
            "ing a multitude of downstream tasks. When training such r\n",
            "\n",
            "🔍 Testing with PDF-appropriate query...\n",
            "✅ COSINE: top score: 0.262\n",
            "✅ EUCLIDEAN: top score: 0.451\n",
            "✅ MANHATTAN: top score: 0.026\n"
          ]
        }
      ],
      "source": [
        "print(\"🧪 Testing with PDF-appropriate queries:\")\n",
        "\n",
        "if pdf_documents:\n",
        "    sample_text = pdf_documents[0][:500]\n",
        "    print(f\"📄 PDF sample content:\\n{sample_text}\\n\")\n",
        "    \n",
        "    pdf_query = \"What does this document discuss?\"  \n",
        "    \n",
        "    print(f\"🔍 Testing with PDF-appropriate query...\")\n",
        "    for metric in ['cosine', 'euclidean', 'manhattan']:\n",
        "        try:\n",
        "            results = enhanced_db.search_with_metric(pdf_query, k=3, distance_measure=metric)\n",
        "            print(f\"✅ {metric.upper()}: top score: {results[0][1]:.3f}\")\n",
        "        except Exception as e:\n",
        "            print(f\"❌ {metric}: {e}\")"
      ]
    },
    {
      "cell_type": "code",
      "execution_count": 33,
      "metadata": {},
      "outputs": [
        {
          "name": "stdout",
          "output_type": "stream",
          "text": [
            "🔍 SIMPLE DIAGNOSTIC\n",
            "==============================\n",
            "Original text: This is a test about Matryoshka learning.\n",
            "Repr: 'This is a test about Matryoshka learning.'\n",
            "Stored key: This is a test about Matryoshka learning.\n",
            "Keys match: True\n",
            "Key repr: 'This is a test about Matryoshka learning.'\n",
            "Search result: This is a test about Matryoshka learning.\n",
            "Result repr: 'This is a test about Matryoshka learning.'\n"
          ]
        }
      ],
      "source": [
        "# SIMPLE DIAGNOSTIC TEST\n",
        "print(\"🔍 SIMPLE DIAGNOSTIC\")\n",
        "print(\"=\" * 30)\n",
        "\n",
        "# Test 1: Check if it's a display issue\n",
        "simple_text = \"This is a test about Matryoshka learning.\"\n",
        "print(f\"Original text: {simple_text}\")\n",
        "print(f\"Repr: {repr(simple_text)}\")\n",
        "\n",
        "# Test 2: Check vector database with simple text\n",
        "try:\n",
        "    from aimakerspace.vectordatabase import SimpleEnhancedVectorDatabase\n",
        "    import asyncio\n",
        "    \n",
        "    simple_db = SimpleEnhancedVectorDatabase()\n",
        "    simple_db = asyncio.run(simple_db.abuild_from_list([simple_text]))\n",
        "    \n",
        "    stored_keys = list(simple_db.vectors.keys())\n",
        "    if stored_keys:\n",
        "        first_key = stored_keys[0]\n",
        "        print(f\"Stored key: {first_key}\")\n",
        "        print(f\"Keys match: {first_key == simple_text}\")\n",
        "        print(f\"Key repr: {repr(first_key)}\")\n",
        "    \n",
        "    # Test search\n",
        "    results = simple_db.search_with_metric(\"test\", k=1)\n",
        "    if results:\n",
        "        result_text, score = results[0]\n",
        "        print(f\"Search result: {result_text}\")\n",
        "        print(f\"Result repr: {repr(result_text)}\")\n",
        "        \n",
        "except Exception as e:\n",
        "    print(f\"Error: {e}\")"
      ]
    },
    {
      "cell_type": "code",
      "execution_count": 40,
      "metadata": {},
      "outputs": [
        {
          "name": "stdout",
          "output_type": "stream",
          "text": [
            "🔧 TARGETED PDF TEXT FIX\n",
            "========================================\n",
            "📝 Original sample: \n",
            "--- Page 1 ---\n",
            "Matryoshka Representation Learning\n",
            "Aditya Kusupati∗†⋄, Gantavya Bhatt∗†, Aniket Rege...\n",
            "🧹 Cleaned sample: \n",
            "--- Page 1 ---\n",
            "Matryoshka Representation Learning\n",
            "Aditya Kusupati*+o, Gantavya Bhatt*+, Aniket Rege...\n",
            "✅ Created 283 clean chunks\n",
            "🗃️ Building database with clean text...\n",
            "✅ Clean database built with 5 vectors\n",
            "🔍 Search results:\n",
            "  1. Score: 0.799 | Readable: True\n",
            "      \n",
            "--- Page 1 ---\n",
            "Matryoshka Representation Learning\n",
            "Aditya Kusupati*+o, Gantavya Bhatt*+, Aniket Rege*+,\n",
            "Matthew Wallingford+, Aditya Sinhao, Vivek Ram...\n",
            "  2. Score: 0.669 | Readable: True\n",
            "       multitude of downstream tasks. When training such representations, it\n",
            "is often the case that computational and statistical constraints for each down-...\n",
            "  3. Score: 0.656 | Readable: True\n",
            "      ntribution is\n",
            "Matryoshka Representation Learning (MRL ) which encodes information at\n",
            "different granularities and allows a single embedding to adapt to...\n",
            "\n",
            "🤖 Testing RAG with clean database...\n",
            "📝 RAG Response: Matryoshka Representation Learning (MRL) is a method that encodes information at different granularities, allowing a single embedding to adapt to the computational constraints of various downstream tasks. It addresses the challenge where fixed-capacity learned representations can be either over- or ...\n"
          ]
        }
      ],
      "source": [
        "import re\n",
        "\n",
        "print(\"🔧 TARGETED PDF TEXT FIX\")\n",
        "print(\"=\" * 40)\n",
        "\n",
        "try:\n",
        "    from aimakerspace.text_utils import EnhancedTextFileLoader, CharacterTextSplitter\n",
        "    from aimakerspace.vectordatabase import SimpleEnhancedVectorDatabase\n",
        "    import asyncio\n",
        "    \n",
        "    # Load PDF\n",
        "    pdf_loader = EnhancedTextFileLoader(\"data/MRL.pdf\")\n",
        "    pdf_docs = pdf_loader.load_documents()\n",
        "    \n",
        "    # CLEAN the PDF text to remove problematic characters\n",
        "    def clean_text(text):\n",
        "        # Replace problematic Unicode characters\n",
        "        replacements = {\n",
        "            '∗': '*',\n",
        "            '†': '+',\n",
        "            '⋄': 'o',\n",
        "            '‡': '++',\n",
        "            '\\ufffd': '',  # replacement character\n",
        "            '\\x00': '',   # null bytes\n",
        "        }\n",
        "        \n",
        "        cleaned = text\n",
        "        for old, new in replacements.items():\n",
        "            cleaned = cleaned.replace(old, new)\n",
        "        \n",
        "        # Remove any remaining non-printable characters except newlines and spaces\n",
        "        cleaned = ''.join(c for c in cleaned if c.isprintable() or c in '\\n\\r\\t ')\n",
        "        \n",
        "        return cleaned\n",
        "    \n",
        "    # Clean all documents\n",
        "    cleaned_docs = [clean_text(doc) for doc in pdf_docs]\n",
        "    \n",
        "    print(f\"📝 Original sample: {pdf_docs[0][:100]}...\")\n",
        "    print(f\"🧹 Cleaned sample: {cleaned_docs[0][:100]}...\")\n",
        "    \n",
        "    # Split cleaned text\n",
        "    splitter = CharacterTextSplitter(chunk_size=500, chunk_overlap=50)\n",
        "    clean_chunks = splitter.split_texts(cleaned_docs)\n",
        "    \n",
        "    print(f\"✅ Created {len(clean_chunks)} clean chunks\")\n",
        "    \n",
        "    # Test with first 5 clean chunks\n",
        "    test_chunks = clean_chunks[:5]\n",
        "    \n",
        "    # Build database\n",
        "    print(\"🗃️ Building database with clean text...\")\n",
        "    clean_db = SimpleEnhancedVectorDatabase()\n",
        "    clean_db = asyncio.run(clean_db.abuild_from_list(test_chunks))\n",
        "    \n",
        "    print(f\"✅ Clean database built with {len(clean_db.vectors)} vectors\")\n",
        "    \n",
        "    # Test search\n",
        "    query = \"What is Matryoshka representation learning?\"\n",
        "    results = clean_db.search_with_metric(query, k=3, distance_measure='cosine')\n",
        "    \n",
        "    print(f\"🔍 Search results:\")\n",
        "    for i, (text, score) in enumerate(results):\n",
        "        # Check readability\n",
        "        is_readable = all(ord(c) < 128 or c.isspace() for c in text[:50])\n",
        "        print(f\"  {i+1}. Score: {score:.3f} | Readable: {is_readable}\")\n",
        "        \n",
        "        if is_readable:\n",
        "            preview = text[:150] + \"...\" if len(text) > 150 else text\n",
        "            print(f\"      {preview}\")\n",
        "        else:\n",
        "            print(f\"      STILL CORRUPTED: {repr(text[:50])}\")\n",
        "    \n",
        "    # Test RAG with clean database\n",
        "    print(f\"\\n🤖 Testing RAG with clean database...\")\n",
        "    rag_pipeline = RetrievalAugmentedQAPipeline(\n",
        "        llm=chat_openai,\n",
        "        vector_db_retriever=clean_db,\n",
        "        response_style=\"detailed\",\n",
        "        include_scores=True\n",
        "    )\n",
        "    \n",
        "    result = rag_pipeline.run_pipeline(query, k=3)\n",
        "    print(f\"📝 RAG Response: {result['response'][:300]}...\")\n",
        "    \n",
        "except Exception as e:\n",
        "    print(f\"❌ Error: {e}\")\n",
        "    import traceback\n",
        "    traceback.print_exc()"
      ]
    },
    {
      "cell_type": "code",
      "execution_count": null,
      "metadata": {},
      "outputs": [
        {
          "name": "stdout",
          "output_type": "stream",
          "text": [
            "🚀 FINAL WORKING RAG PIPELINE\n",
            "========================================\n",
            "\n",
            "🔍 Query: What is Matryoshka Representation Learning?\n",
            "--------------------------------------------------\n",
            "\n",
            "COSINE: Matryoshka Representation Learning (MRL) is a method that encodes information at different granularities, allowing a single embedding to adapt to the computational constraints of various downstream ta...\n",
            "Top score: Source 1: 0.797\n",
            "\n",
            "EUCLIDEAN: Matryoshka Representation Learning (MRL) is a method for encoding information at different granularities within a single embedding, allowing it to adapt to the varying computational constraints of dow...\n",
            "Top score: Source 1: 0.611\n",
            "\n",
            "🔍 Query: Who are the authors of this research?\n",
            "--------------------------------------------------\n",
            "\n",
            "COSINE: The authors of the research \"Matryoshka Representation Learning\" are Aditya Kusupati, Gantavya Bhatt, Aniket Rege, Matthew Wallingford, Aditya Sinhao, Vivek Ramanujan, William Howard-Snyder, Kaifeng C...\n",
            "Top score: Source 1: 0.258\n",
            "\n",
            "EUCLIDEAN: The authors of the research \"Matryoshka Representation Learning\" are Aditya Kusupati, Gantavya Bhatt, Aniket Rege, Matthew Wallingford, Aditya Sinha, Vivek Ramanujan, William Howard-Snyder, Kaifeng Ch...\n",
            "Top score: Source 1: 0.451\n",
            "\n",
            "🔍 Query: What problem does this paper solve?\n",
            "--------------------------------------------------\n",
            "\n",
            "COSINE: The paper addresses the problem of designing flexible learned representations that can adapt to multiple downstream tasks with varying computational resources. Typically, fixed-capacity representation...\n",
            "Top score: Source 1: 0.278\n",
            "\n",
            "EUCLIDEAN: The paper addresses the problem of designing flexible learned representations that can adapt to multiple downstream tasks with varying computational resources. Traditional fixed-capacity representatio...\n",
            "Top score: Source 1: 0.454\n"
          ]
        }
      ],
      "source": [
        "class CleanEnhancedRAGPipeline(RetrievalAugmentedQAPipeline):\n",
        "    \"\"\"Enhanced RAG pipeline with text cleaning and multiple distance metrics\"\"\"\n",
        "    \n",
        "    @staticmethod\n",
        "    def clean_text(text):\n",
        "        \"\"\"Clean text to remove problematic Unicode characters\"\"\"\n",
        "        replacements = {\n",
        "            '∗': '*', '†': '+', '⋄': 'o', '‡': '++',\n",
        "            '\\ufffd': '', '\\x00': ''\n",
        "        }\n",
        "        \n",
        "        cleaned = text\n",
        "        for old, new in replacements.items():\n",
        "            cleaned = cleaned.replace(old, new)\n",
        "        \n",
        "        # Remove non-printable characters except whitespace\n",
        "        cleaned = ''.join(c for c in cleaned if c.isprintable() or c in '\\n\\r\\t ')\n",
        "        return cleaned\n",
        "    \n",
        "    def __init__(self, llm, vector_db_retriever, response_style=\"detailed\", include_scores=False):\n",
        "        super().__init__(llm, vector_db_retriever, response_style, include_scores)\n",
        "    \n",
        "    def run_pipeline_with_metric(self, user_query: str, k: int = 4, distance_measure: str = 'cosine'):\n",
        "        \"\"\"Run pipeline with chosen distance metric\"\"\"\n",
        "        \n",
        "        # Use enhanced search if available\n",
        "        if hasattr(self.vector_db_retriever, 'search_with_metric'):\n",
        "            context_list = self.vector_db_retriever.search_with_metric(user_query, k=k, distance_measure=distance_measure)\n",
        "        else:\n",
        "            context_list = self.vector_db_retriever.search_by_text(user_query, k=k)\n",
        "        \n",
        "        # Build context prompt\n",
        "        context_prompt = \"\"\n",
        "        similarity_scores = []\n",
        "        \n",
        "        for i, (context, score) in enumerate(context_list, 1):\n",
        "            context_prompt += f\"[Source {i}]: {context}\\n\\n\"\n",
        "            similarity_scores.append(f\"Source {i}: {score:.3f}\")\n",
        "        \n",
        "        # Create prompts\n",
        "        system_params = {\n",
        "            \"response_style\": self.response_style,\n",
        "            \"response_length\": \"detailed\"\n",
        "        }\n",
        "        \n",
        "        formatted_system_prompt = rag_system_prompt.create_message(**system_params)\n",
        "        \n",
        "        user_params = {\n",
        "            \"user_query\": user_query,\n",
        "            \"context\": context_prompt.strip(),\n",
        "            \"context_count\": len(context_list),\n",
        "            \"similarity_scores\": f\"Relevance scores ({distance_measure}): {', '.join(similarity_scores)}\" if self.include_scores else \"\"\n",
        "        }\n",
        "        \n",
        "        formatted_user_prompt = rag_user_prompt.create_message(**user_params)\n",
        "        \n",
        "        return {\n",
        "            \"response\": self.llm.run([formatted_system_prompt, formatted_user_prompt]),\n",
        "            \"context\": context_list,\n",
        "            \"context_count\": len(context_list),\n",
        "            \"similarity_scores\": similarity_scores,\n",
        "            \"distance_measure\": distance_measure\n",
        "        }\n",
        "\n",
        "# Create the final working pipeline\n",
        "print(\"🚀 FINAL WORKING RAG PIPELINE\")\n",
        "print(\"=\" * 40)\n",
        "\n",
        "# Use the clean database we created\n",
        "final_rag = CleanEnhancedRAGPipeline(\n",
        "    llm=chat_openai,\n",
        "    vector_db_retriever=clean_db,  # Use the cleaned database\n",
        "    response_style=\"detailed\",\n",
        "    include_scores=True\n",
        ")\n",
        "\n",
        "# Test with different queries and metrics\n",
        "test_queries = [\n",
        "    \"What is Matryoshka Representation Learning?\",\n",
        "    \"Who are the authors of this research?\",\n",
        "    \"What problem does this paper solve?\"\n",
        "]\n",
        "\n",
        "for query in test_queries:\n",
        "    print(f\"\\n🔍 Query: {query}\")\n",
        "    print(\"-\" * 50)\n",
        "    \n",
        "    for metric in ['cosine', 'euclidean']:\n",
        "        try:\n",
        "            result = final_rag.run_pipeline_with_metric(query, k=3, distance_measure=metric)\n",
        "            print(f\"\\n{metric.upper()}: {result['response'][:200]}...\")\n",
        "            print(f\"Top score: {result['similarity_scores'][0] if result['similarity_scores'] else 'N/A'}\")\n",
        "        except Exception as e:\n",
        "            print(f\"{metric.upper()}: Error - {e}\")"
      ]
    }
  ],
  "metadata": {
    "colab": {
      "provenance": []
    },
    "kernelspec": {
      "display_name": ".venv",
      "language": "python",
      "name": "python3"
    },
    "language_info": {
      "codemirror_mode": {
        "name": "ipython",
        "version": 3
      },
      "file_extension": ".py",
      "mimetype": "text/x-python",
      "name": "python",
      "nbconvert_exporter": "python",
      "pygments_lexer": "ipython3",
      "version": "3.13.7"
    },
    "orig_nbformat": 4
  },
  "nbformat": 4,
  "nbformat_minor": 0
}
