{
 "cells": [
  {
   "cell_type": "markdown",
   "metadata": {
    "id": "KxpWDFG11o3G"
   },
   "source": [
    "# Multi-Agent Workflows + RAG - LangGraph\n",
    "\n",
    "Today we'll be looking at an example of a Multi-Agent workflow that's powered by LangGraph, LCEL, and more!\n",
    "\n",
    "We're going to be, more specifically, looking at a \"heirarchical agent teams\" from the [AutoGen: Enabling Next-Gen LLM\n",
    "Applications via Multi-Agent Conversation](https://arxiv.org/pdf/2308.08155) paper.\n",
    "\n",
    "This will be the final \"graph\" of our system:\n",
    "\n",
    "![image](https://i.imgur.com/r5LMMCt.png)\n",
    "\n",
    "It's important to keep in mind that the actual implementation will be constructed of 3 separate graphs, the final one having 2 graphs as nodes! LangGraph is a heckuva tool!\n",
    "\n"
   ]
  },
  {
   "cell_type": "markdown",
   "metadata": {
    "id": "TyzoBrWoYeOZ"
   },
   "source": [
    "# 🤝 BREAKOUT ROOM #1"
   ]
  },
  {
   "cell_type": "markdown",
   "metadata": {
    "id": "mx3oaVoX5cA2"
   },
   "source": [
    "## Dependencies"
   ]
  },
  {
   "cell_type": "markdown",
   "metadata": {
    "id": "Zpv2MWqu5vS9"
   },
   "source": [
    "Since we'll be relying on OpenAI's suite of models to power our agents today, we'll want to provide our OpenAI API Key.\n",
    "\n",
    "We're also going to be using the Tavily search tool - so we'll want to provide that API key as well!\n",
    "\n",
    "Instruction for how to obtain the Tavily API key can be found:\n",
    "\n",
    "1. [Tavily API Key](https://app.tavily.com/sign-in)\n",
    "\n"
   ]
  },
  {
   "cell_type": "code",
   "execution_count": 241,
   "metadata": {
    "colab": {
     "base_uri": "https://localhost:8080/"
    },
    "id": "h30OjkLfeR2Y",
    "outputId": "f75bb26e-b89d-4611-c29b-f339b3e868af"
   },
   "outputs": [],
   "source": [
    "import os\n",
    "import getpass\n",
    "\n",
    "os.environ[\"OPENAI_API_KEY\"] = getpass.getpass(\"OpenAI API Key:\")\n",
    "os.environ[\"TAVILY_API_KEY\"] = getpass.getpass(\"TAVILY_API_KEY\")"
   ]
  },
  {
   "cell_type": "code",
   "execution_count": 242,
   "metadata": {},
   "outputs": [],
   "source": [
    "import nest_asyncio\n",
    "nest_asyncio.apply()"
   ]
  },
  {
   "cell_type": "code",
   "execution_count": 243,
   "metadata": {},
   "outputs": [],
   "source": [
    "from uuid import uuid4\n",
    "\n",
    "os.environ[\"LANGCHAIN_TRACING_V2\"] = \"true\"\n",
    "os.environ[\"LANGCHAIN_PROJECT\"] = \"multi-agent-supergraph\"\n",
    "os.environ[\"LANGCHAIN_API_KEY\"] = getpass.getpass(\"LangSmith API Key: \")\n"
   ]
  },
  {
   "cell_type": "markdown",
   "metadata": {
    "id": "M_LD7rwT6PbO"
   },
   "source": [
    "## Task 1: Simple LangGraph RAG\n",
    "\n",
    "Now that we have our dependencies set-up - let's create a simple RAG graph that works over our AI Usage Data from previous sessions.\n",
    "\n",
    "> NOTE: While this particular example is very straight forward - you can \"plug in\" any complexity of chain you desire as a node in a LangGraph."
   ]
  },
  {
   "cell_type": "markdown",
   "metadata": {
    "id": "JY7T5kxJ6jGn"
   },
   "source": [
    "### Retrieval\n",
    "\n",
    "The 'R' in 'RAG' - this is, at this point, fairly straightforward!"
   ]
  },
  {
   "cell_type": "markdown",
   "metadata": {
    "id": "DGuPxSCk7Ztz"
   },
   "source": [
    "#### Data Collection and Processing\n",
    "\n",
    "A classic first step, at this point, let's grab our desired document!"
   ]
  },
  {
   "cell_type": "code",
   "execution_count": 244,
   "metadata": {
    "id": "LfuoEYRCln3H"
   },
   "outputs": [],
   "source": [
    "from langchain_community.document_loaders import DirectoryLoader\n",
    "from langchain_community.document_loaders import PyMuPDFLoader\n",
    "\n",
    "directory_loader = DirectoryLoader(\"data\", glob=\"**/*.pdf\", loader_cls=PyMuPDFLoader)\n",
    "\n",
    "how_people_use_ai_documents = directory_loader.load()"
   ]
  },
  {
   "cell_type": "markdown",
   "metadata": {
    "id": "r_t_F1zG6vXa"
   },
   "source": [
    "Now we can chunk it down to size!"
   ]
  },
  {
   "cell_type": "code",
   "execution_count": 245,
   "metadata": {
    "id": "5R7A_z8CgL79"
   },
   "outputs": [],
   "source": [
    "import tiktoken\n",
    "from langchain.text_splitter import RecursiveCharacterTextSplitter\n",
    "\n",
    "def tiktoken_len(text):\n",
    "    tokens = tiktoken.encoding_for_model(\"gpt-4o\").encode(\n",
    "        text,\n",
    "    )\n",
    "    return len(tokens)\n",
    "\n",
    "text_splitter = RecursiveCharacterTextSplitter(\n",
    "    chunk_size = 750,\n",
    "    chunk_overlap = 0,\n",
    "    length_function = tiktoken_len,\n",
    ")\n",
    "\n",
    "how_people_use_ai_chunks = text_splitter.split_documents(how_people_use_ai_documents)"
   ]
  },
  {
   "cell_type": "markdown",
   "metadata": {
    "id": "lGE-VuMc7AKv"
   },
   "source": [
    "Now we've successfully split our single PDF into..."
   ]
  },
  {
   "cell_type": "code",
   "execution_count": 246,
   "metadata": {
    "colab": {
     "base_uri": "https://localhost:8080/"
    },
    "id": "pgYBHsdWmLvW",
    "outputId": "aa9a830e-f7db-4bb3-f542-c0614cb01aca"
   },
   "outputs": [
    {
     "data": {
      "text/plain": [
       "71"
      ]
     },
     "execution_count": 246,
     "metadata": {},
     "output_type": "execute_result"
    }
   ],
   "source": [
    "len(how_people_use_ai_chunks)"
   ]
  },
  {
   "cell_type": "markdown",
   "metadata": {
    "id": "cGWs7KTd7QPS"
   },
   "source": [
    "#### Embedding Model and Vector Store\n",
    "\n",
    "Now that we have our chunked document - lets create a vector store, which will first require us to create an embedding model to get the vector representations of our text!\n",
    "\n",
    "We'll use OpenAI's [`text-embedding-3-small`](https://platform.openai.com/docs/guides/embeddings/embedding-models) model - as it's cheap, and performant."
   ]
  },
  {
   "cell_type": "code",
   "execution_count": 247,
   "metadata": {
    "id": "xLIWMMZCmfrj"
   },
   "outputs": [],
   "source": [
    "from langchain_openai.embeddings import OpenAIEmbeddings\n",
    "\n",
    "embedding_model = OpenAIEmbeddings(model=\"text-embedding-3-small\")"
   ]
  },
  {
   "cell_type": "markdown",
   "metadata": {
    "id": "lTEi7Ww573sc"
   },
   "source": [
    "Now we can create our QDrant backed vector store!"
   ]
  },
  {
   "cell_type": "code",
   "execution_count": 248,
   "metadata": {
    "id": "Xct51f8omVAU"
   },
   "outputs": [],
   "source": [
    "from langchain_community.vectorstores import Qdrant\n",
    "\n",
    "qdrant_vectorstore = Qdrant.from_documents(\n",
    "    documents=how_people_use_ai_chunks,\n",
    "    embedding=embedding_model,\n",
    "    location=\":memory:\" \n",
    ")"
   ]
  },
  {
   "cell_type": "markdown",
   "metadata": {
    "id": "wzGq6o4s79Ar"
   },
   "source": [
    "Let's make sure we can access it as a retriever."
   ]
  },
  {
   "cell_type": "code",
   "execution_count": 249,
   "metadata": {
    "id": "OTnQZbWymi4K"
   },
   "outputs": [],
   "source": [
    "qdrant_retriever = qdrant_vectorstore.as_retriever()"
   ]
  },
  {
   "cell_type": "markdown",
   "metadata": {
    "id": "aU8qSrMS7_D7"
   },
   "source": [
    "### Augmented\n",
    "\n",
    "Now that we have our retrieval process set-up, we need to set up our \"augmentation\" process - AKA a prompt template."
   ]
  },
  {
   "cell_type": "code",
   "execution_count": 250,
   "metadata": {
    "id": "lezTN0zCmk46"
   },
   "outputs": [],
   "source": [
    "from langchain_core.prompts import ChatPromptTemplate\n",
    "\n",
    "HUMAN_TEMPLATE = \"\"\"\n",
    "#CONTEXT:\n",
    "{context}\n",
    "\n",
    "QUERY:\n",
    "{query}\n",
    "\n",
    "Use the provide context to answer the provided user query.\n",
    "Use the provided context to answer the query.\n",
    "If the query is irrelevant with local data, then use the other tools.\n",
    "Always start your answer with a refferal to your source of your response. \n",
    "If you do not know the answer, or it's not contained in the provided context respond with \"I don't know\"\n",
    "\n",
    "\"\"\"\n",
    "\n",
    "chat_prompt = ChatPromptTemplate.from_messages([\n",
    "    (\"human\", HUMAN_TEMPLATE)\n",
    "])"
   ]
  },
  {
   "cell_type": "markdown",
   "metadata": {
    "id": "Y9fa63nM7IKK"
   },
   "source": [
    "### Generation\n",
    "\n",
    "Last, but certainly not least, let's put the 'G' in 'RAG' by adding our generator - in this case, we can rely on OpenAI's [`gpt-4o-mini`](https://platform.openai.com/docs/models/gpt-4o-mini) model!"
   ]
  },
  {
   "cell_type": "code",
   "execution_count": 251,
   "metadata": {
    "id": "AwEi29-Jo3a8"
   },
   "outputs": [],
   "source": [
    "from langchain_openai import ChatOpenAI\n",
    "\n",
    "generator_llm = ChatOpenAI(model=\"gpt-4.1-nano\", temperature=0)"
   ]
  },
  {
   "cell_type": "markdown",
   "metadata": {
    "id": "qO-ZC0T98XJJ"
   },
   "source": [
    "### RAG - Retrieval Augmented Generation\n",
    "\n",
    "All that's left to do is combine our R, A, and G into a single graph - and we're off!"
   ]
  },
  {
   "cell_type": "code",
   "execution_count": 278,
   "metadata": {
    "id": "nlOJrPm_oT3S"
   },
   "outputs": [],
   "source": [
    "from langgraph.graph import START, StateGraph\n",
    "from typing_extensions import List, TypedDict\n",
    "from langchain_core.documents import Document\n",
    "from langchain_core.output_parsers import StrOutputParser\n",
    "\n",
    "class State(TypedDict):\n",
    "  question: str\n",
    "  context: List[Document]\n",
    "  response: str\n",
    "\n",
    "def retrieve(state: State):\n",
    "  retrieved_docs = qdrant_retriever.invoke(state[\"question\"])\n",
    "  return {\"context\" : retrieved_docs}\n",
    "\n",
    "def generate(state: State):\n",
    "  generator_chain = chat_prompt | generator_llm | StrOutputParser()\n",
    "  response = generator_chain.invoke({\"query\" : state[\"question\"], \"context\" : state[\"context\"]})\n",
    "  return {\"response\" : response}\n",
    "\n",
    "rag_graph = StateGraph(State).add_sequence([retrieve, generate])\n",
    "rag_graph.add_edge(START, \"retrieve\")\n",
    "compiled_rag_graph = rag_graph.compile()"
   ]
  },
  {
   "cell_type": "markdown",
   "metadata": {
    "id": "qiWrbXpu8ggz"
   },
   "source": [
    "Let's test this out and make sure it works."
   ]
  },
  {
   "cell_type": "code",
   "execution_count": 253,
   "metadata": {
    "colab": {
     "base_uri": "https://localhost:8080/",
     "height": 122
    },
    "id": "gJhFlW32pBPe",
    "outputId": "7aee04b6-608f-4639-adca-66225d4d3002"
   },
   "outputs": [
    {
     "data": {
      "text/plain": [
       "{'question': 'How does the average person use AI?',\n",
       " 'context': [Document(metadata={'producer': 'macOS Version 15.4.1 (Build 24E263) Quartz PDFContext, AppendMode 1.1', 'creator': 'LaTeX with hyperref', 'creationdate': '2025-09-12T20:05:32+00:00', 'source': 'data\\\\howpeopleuseai.pdf', 'file_path': 'data\\\\howpeopleuseai.pdf', 'total_pages': 64, 'format': 'PDF 1.6', 'title': 'How People Use ChatGPT', 'author': '', 'subject': '', 'keywords': '', 'moddate': '2025-09-15T10:32:36-04:00', 'trapped': '', 'modDate': \"D:20250915103236-04'00'\", 'creationDate': 'D:20250912200532Z', 'page': 17, '_id': '3ed820bcf5c8404fbeb7887bf4b06865', '_collection_name': '4d0ebb43a57a420887238318776e8f81'}, page_content='suggests that most user Writing conversations with ChatGPT are requests to modify user inputs\\nrather than to create something new. Education is a major use case for ChatGPT. 10.2% of all user\\nmessages and 36% of Practical Guidance messages are requests for Tutoring or Teaching. Another\\nlarge share - 8.5% in total and 30% of Practical Guidance - is general how-to advice on a variety\\nof topics. Technical Help includes Computer Programming (4.2% of messages), Mathematical Calcu-\\nlations (3%), and Data Analysis (0.4%). Looking at the topic of Self-Expression, only 2.4% of all\\nChatGPT messages are about Relationships and Personal Reflection (1.9%) or Games and Role Play\\n(0.4%).\\nWhile users can seek information and advice from traditional web search engines as well as from\\nChatGPT, the ability to produce writing, software code, spreadsheets, and other digital products\\ndistinguishes generative AI from existing technologies.\\nChatGPT is also more flexible than web\\nsearch even for traditional applications like Seeking Information and Practical Guidance, because\\nusers receive customized responses (e.g., tailored workout plans, new product ideas, ideas for fantasy\\nfootball team names) that represent newly generated content or novel modification of user-provided\\ncontent and follow-up requests.\\nFigure 9: Breakdown of granular conversation topic shares within the coarse mapping defined in Table 3. The\\nunderlying classifier prompt is available in Appendix A. Each bin reports a percentage of the total population.\\nShares are calculated from a sample of approximately 1.1 million sampled conversations from May 15, 2024\\nthrough June 26, 2025. Observations are reweighted to reflect total message volumes on a given day. Sampling\\ndetails available in Section 3.\\n5.3\\nUser Intent\\nExisting studies of the economic impacts of generative AI focus almost exclusively on the potential\\nfor AI to perform workplace tasks, either augmenting or automating human labor (e.g. Eloundou et\\nal. (2025), Handa et al. (2025), Tomlinson et al. (2025)). However, generative AI is a highly flexible\\n16'),\n",
       "  Document(metadata={'producer': 'macOS Version 15.4.1 (Build 24E263) Quartz PDFContext, AppendMode 1.1', 'creator': 'LaTeX with hyperref', 'creationdate': '2025-09-12T20:05:32+00:00', 'source': 'data\\\\howpeopleuseai.pdf', 'file_path': 'data\\\\howpeopleuseai.pdf', 'total_pages': 64, 'format': 'PDF 1.6', 'title': 'How People Use ChatGPT', 'author': '', 'subject': '', 'keywords': '', 'moddate': '2025-09-15T10:32:36-04:00', 'trapped': '', 'modDate': \"D:20250915103236-04'00'\", 'creationDate': 'D:20250912200532Z', 'page': 4, '_id': 'e2802638749f4ece8f36547cca327a43', '_collection_name': '4d0ebb43a57a420887238318776e8f81'}, page_content='to Games and Role Play. In contrast, Zao-Sanders (2025) estimates that Therapy/Companionship is\\nthe most prevalent use case for generative AI.9\\nWe also document several important facts about demographic variation in ChatGPT usage. First,\\nwe show evidence that the gender gap in ChatGPT usage has likely narrowed considerably over time,\\nand may have closed completely. In the few months after ChatGPT was released about 80% of active\\nusers had typically masculine first names.10 However, that number declined to 48% as of June 2025,\\nwith active users slightly more likely to have typically feminine first names. Second, we find that\\nnearly half of all messages sent by adults were sent by users under the age of 26, although age gaps\\nhave narrowed somewhat in recent months. Third, we find that ChatGPT usage has grown relatively\\nfaster in low- and middle-income countries over the last year. Fourth, we find that educated users and\\nusers in highly-paid professional occupations are substantially more likely to use ChatGPT for work.\\nWe introduce a new taxonomy to classify messages according to the kind of output the user is\\nseeking, using a simple rubric that we call Asking, Doing, or Expressing.11\\nAsking is when the\\nuser is seeking information or clarification to inform a decision, corresponding to problem-solving\\nmodels of knowledge work (e.g., Garicano (2000); Garicano and Rossi-Hansberg (2006); Carnehl and\\nSchneider (2025); Ide and Talamas (2025)). Doing is when the user wants to produce some output\\nor perform a particular task, corresponding to classic task-based models of work (e.g., Autor et al.\\n(2003)). Expressing is when the user is expressing views or feelings but not seeking any information or\\naction. We estimate that about 49% of messages are Asking, 40% are Doing, and 11% are Expressing.\\nHowever, as of July 2025 about 56% of work-related messages are classified as Doing (e.g., performing\\njob tasks), and nearly three-quarters of those are Writing tasks. The relative frequency of writing-\\nrelated conversations is notable for two reasons. First, writing is a task that is common to nearly all\\nwhite-collar jobs, and good written communication skills are among the top “soft” skills demanded by\\nemployers (National Association of Colleges and Employers, 2024). Second, one distinctive feature of\\ngenerative AI, relative to other information technologies, is its ability to produce long-form outputs\\nsuch as writing and software code.\\nWe also map message content to work activities using the Occupational Information Network\\n(O*NET), a survey of job characteristics supported by the U.S. Department of Labor. We find that\\nabout 81% of work-related messages are associated with two broad work activities: 1) obtaining,\\ndocumenting, and interpreting information; and 2) making decisions, giving advice, solving problems,\\nand thinking creatively. Additionally, we find that the work activities associated with ChatGPT usage\\nare highly similar across very different kinds of occupations. For example, the work activities Getting\\nInformation and Making Decisions and Solving Problems are in the top five of message frequency in\\nnearly all occupations, ranging from management and business to STEM to administrative and sales\\noccupations.\\nOverall, we find that information-seeking and decision support are the most common ChatGPT\\nuse cases in most jobs. This is consistent with the fact that almost half of all ChatGPT usage is'),\n",
       "  Document(metadata={'producer': 'macOS Version 15.4.1 (Build 24E263) Quartz PDFContext, AppendMode 1.1', 'creator': 'LaTeX with hyperref', 'creationdate': '2025-09-12T20:05:32+00:00', 'source': 'data\\\\howpeopleuseai.pdf', 'file_path': 'data\\\\howpeopleuseai.pdf', 'total_pages': 64, 'format': 'PDF 1.6', 'title': 'How People Use ChatGPT', 'author': '', 'subject': '', 'keywords': '', 'moddate': '2025-09-15T10:32:36-04:00', 'trapped': '', 'modDate': \"D:20250915103236-04'00'\", 'creationDate': 'D:20250912200532Z', 'page': 43, '_id': 'b8ec6280cf634db7b0ad5a80f557aadd', '_collection_name': '4d0ebb43a57a420887238318776e8f81'}, page_content='A.3\\nConversation Topic\\n-----\\nYou are an internal tool that classifies a message from a user to an AI chatbot,\\nbased on the context of the previous messages before it.\\n,→\\nBased on the last user message of this conversation transcript and taking into\\naccount the examples further below as guidance, please select the capability\\nthe user is clearly interested in, or `other` if it is clear but not in the\\nlist below, or `unclear` if it is hard to tell what the user even wants:\\n,→\\n,→\\n,→\\n- **edit_or_critique_provided_text**: Improving or modifying text provided by the\\nuser.\\n,→\\n- **argument_or_summary_generation**: Creating arguments or summaries on topics not\\nprovided in detail by the user.\\n,→\\n- **personal_writing_or_communication**: Assisting with personal messages, emails,\\nor social media posts.\\n,→\\n- **write_fiction**: Crafting poems, stories, or fictional content.\\n- **how_to_advice**: Providing step-by-step instructions or guidance on how to\\nperform tasks or learn new skills.\\n,→\\n- **creative_ideation**: Generating ideas or suggestions for creative projects or\\nactivities.\\n,→\\n- **tutoring_or_teaching**: Explaining concepts, teaching subjects, or helping the\\nuser understand educational material.\\n,→\\n- **translation**: Translating text from one language to another.\\n- **mathematical_calculation**: Solving math problems, performing calculations, or\\nworking with numerical data.\\n,→\\n- **computer_programming**: Writing code, debugging, explaining programming\\nconcepts, or discussing programming languages and tools.\\n,→\\n- **purchasable_products**: Inquiries about products or services available for\\npurchase.\\n,→\\n42'),\n",
       "  Document(metadata={'producer': 'macOS Version 15.4.1 (Build 24E263) Quartz PDFContext, AppendMode 1.1', 'creator': 'LaTeX with hyperref', 'creationdate': '2025-09-12T20:05:32+00:00', 'source': 'data\\\\howpeopleuseai.pdf', 'file_path': 'data\\\\howpeopleuseai.pdf', 'total_pages': 64, 'format': 'PDF 1.6', 'title': 'How People Use ChatGPT', 'author': '', 'subject': '', 'keywords': '', 'moddate': '2025-09-15T10:32:36-04:00', 'trapped': '', 'modDate': \"D:20250915103236-04'00'\", 'creationDate': 'D:20250912200532Z', 'page': 41, '_id': 'ade7fa8660894462b850c8e3e62568bd', '_collection_name': '4d0ebb43a57a420887238318776e8f81'}, page_content='Vaswani, Ashish, Noam Shazeer, Niki Parmar, Jakob Uszkoreit, Llion Jones, Aidan N.\\nGomez, Lukasz Kaiser, and Illia Polosukhin, “Attention Is All You Need,” in I. Guyon,\\nU. Von Luxburg, S. Bengio, H. Wallach, R. Fergus, S. Vishwanathan, and R. Garnett, eds., Ad-\\nvances in Neural Information Processing Systems, Vol. 30 of 31st Conference on Neural Information\\nProcessing Systems (NIPS) Curran Associates, Inc. Long Beach, CA, USA 2017.\\nWest, Jevin D., Jennifer Jacquet, Molly M. King, Shelley J. Correll, and Carl T.\\nBergstrom, “The Role of Gender in Scholarly Authorship,” PLoS ONE, 2013, 8 (7), e66212.\\nWiggers, Kyle, “ChatGPT Isn’t the Only Chatbot That’s Gaining Users,” TechCrunch, 2025. Ac-\\ncessed: 2025-09-10.\\nZao-Sanders, Marc, “How People Are Really Using Gen AI in 2025,” Harvard Business Review\\nApril 2025. https://hbr.org/2025/04/how-people-are-really-using-gen-ai-in-2025.\\nZhao, Wenting, Xiang Ren, Jack Hessel, Claire Cardie, Yejin Choi, and Yuntian Deng,\\n“WildChat: 1M ChatGPT Interaction Logs in the Wild,” 2024.\\n40')],\n",
       " 'response': 'According to the provided context from the document \"How People Use ChatGPT,\" the average person primarily uses AI for tasks such as seeking information, practical guidance, and content creation. Education is a major use case, with many users requesting tutoring or teaching assistance (36% of Practical Guidance messages). Users also frequently ask for how-to advice on various topics (30%), and a significant portion of interactions involve generating writing, software code, spreadsheets, or other digital products. \\n\\nAdditionally, the data indicates that users engage with AI for self-expression, including relationships, personal reflection, games, and role play, though these are less common compared to informational and task-oriented uses. The AI\\'s ability to produce customized responses and long-form outputs makes it particularly useful for problem-solving, decision support, and creative tasks across different occupations and demographics.\\n\\nThis information is based on a sample of approximately 1.1 million conversations analyzed between May 2024 and June 2025.'}"
      ]
     },
     "execution_count": 253,
     "metadata": {},
     "output_type": "execute_result"
    }
   ],
   "source": [
    "compiled_rag_graph.invoke({\"question\" : \"How does the average person use AI?\"})"
   ]
  },
  {
   "cell_type": "markdown",
   "metadata": {
    "id": "gReMizYk8qd-"
   },
   "source": [
    "### RAG Limitation\n",
    "\n",
    "Notice how we're hard-coding our data, while this is simply meant to be an illustrative example - you could easily extend this to work with any provied paper or document in order to have a more dynamic system.\n",
    "\n",
    "For now, we'll stick with this single hard-coded example in order to keep complexity down in an already very long notebook!"
   ]
  },
  {
   "cell_type": "markdown",
   "metadata": {
    "id": "oxkbuir-H5rE"
   },
   "source": [
    "##### 🏗️ Activity #1 (Bonus Marks)\n",
    "\n",
    "Allow the system to dynamically fetch Arxiv papers instead of hard coding them.\n",
    "\n",
    "> HINT: Tuesday's assignment will be very useful here."
   ]
  },
  {
   "cell_type": "markdown",
   "metadata": {},
   "source": [
    "### Simple Agentic RAG - The model decides which tool to call and when to stop; tool results live in messages.\n",
    "## the LLM is the controller\n",
    "## Flexible, can handle messier queries, but more complex/costly."
   ]
  },
  {
   "cell_type": "code",
   "execution_count": 279,
   "metadata": {},
   "outputs": [],
   "source": [
    "from langchain_community.retrievers import ArxivRetriever\n",
    "from langchain_core.tools import tool\n",
    "\n",
    "# Create an Arxiv retriever\n",
    "arxiv_retriever = ArxivRetriever(load_max_docs=10)\n",
    "\n",
    "@tool\n",
    "def local_tool(query: str):\n",
    "    \"\"\"Search local vectorstore for AI usage examples.\"\"\"\n",
    "    return qdrant_retriever.invoke(query)\n",
    "\n",
    "@tool\n",
    "def arxiv_tool(query: str):\n",
    "    \"\"\"Search Arxiv for academic papers.\"\"\"\n",
    "    return arxiv_retriever.invoke(query)"
   ]
  },
  {
   "cell_type": "code",
   "execution_count": 280,
   "metadata": {},
   "outputs": [],
   "source": [
    "from langgraph.prebuilt import ToolNode\n",
    "from langgraph.graph import StateGraph, END,START\n",
    "from typing_extensions import TypedDict, Annotated\n",
    "from langgraph.graph.message import add_messages\n",
    "from langchain_core.messages import BaseMessage,SystemMessage\n",
    "\n",
    "from langchain_core.documents import Document\n",
    "\n",
    "class State(TypedDict):\n",
    "    question: str\n",
    "    context: list[Document]\n",
    "    response: str\n",
    "    messages: Annotated[list[BaseMessage], add_messages]\n",
    "tool_node = ToolNode([local_tool,arxiv_tool])\n",
    " \n",
    "generator_llm = ChatOpenAI(model=\"gpt-4.1-nano\")\n",
    "\n",
    "llm_with_tools=generator_llm.bind_tools([local_tool,arxiv_tool])\n",
    "\n",
    "def call_model(agent_state: State):\n",
    "    resp = llm_with_tools.invoke([SystemMessage(content=HUMAN_TEMPLATE)]+agent_state[\"messages\"])\n",
    "    \n",
    "    return {\"messages\": [resp]}\n",
    "\n",
    "def should_continue(agent_state: State):\n",
    "    last = agent_state[\"messages\"][-1]\n",
    "    return \"tools\" if getattr(last, \"tool_calls\", None) else \"end\"\n",
    "\n",
    "conditional_graph=StateGraph(State)\n",
    "\n",
    "conditional_graph.add_node(\"assistant\", call_model)\n",
    "conditional_graph.add_node('tools',tool_node)\n",
    "conditional_graph.add_conditional_edges(\"assistant\", should_continue, {\"tools\": \"tools\", \"end\": END})\n",
    "conditional_graph.add_edge(\"tools\", \"assistant\")\n",
    "conditional_graph.set_entry_point('assistant')\n",
    "compiled_graph = conditional_graph.compile()"
   ]
  },
  {
   "cell_type": "code",
   "execution_count": 281,
   "metadata": {},
   "outputs": [
    {
     "data": {
      "image/png": "[encoded data removed]",
      "text/plain": [
       "<langgraph.graph.state.CompiledStateGraph object at 0x00000215F80C57B0>"
      ]
     },
     "execution_count": 281,
     "metadata": {},
     "output_type": "execute_result"
    }
   ],
   "source": [
    "compiled_graph"
   ]
  },
  {
   "cell_type": "code",
   "execution_count": 72,
   "metadata": {},
   "outputs": [
    {
     "name": "stdout",
     "output_type": "stream",
     "text": [
      "According to the information from the document \"How People Use ChatGPT,\" technical professionals are utilizing AI, particularly generative AI like ChatGPT, to enhance their work in several ways. They primarily use AI for decision support, which is especially valuable in knowledge-intensive tasks. AI helps improve productivity by assisting in tasks such as generating writing, software code, spreadsheets, and other digital products. \n",
      "\n",
      "Most user interactions with ChatGPT involve requests to modify inputs rather than creating entirely new content. Education is a major application, with users seeking tutoring, teaching, and practical guidance across various topics. Technical help users often request coding assistance, mathematical calculations, and data analysis.\n",
      "\n",
      "Furthermore, generative AI provides customized responses that are tailored to specific needs, making it more flexible than traditional web search engines. It allows for novel modifications of user-provided content and supports follow-up requests, which can lead to more efficient decision-making and problem-solving. Overall, AI tools like ChatGPT serve as co-workers or co-pilots, augmenting human capabilities and increasing productivity in a range of professional tasks.\n",
      "The concept of Matryoshka Representation Learning has been explored in several recent papers. According to a paper published on arXiv in June 2024 titled \"Matryoshka Representation Learning for Recommendation\" by Riwei Lai et al., it introduces a novel approach to representation learning where user and item vectors are restructured into Matryoshka representations. These representations consist of incrementally dimensional and overlapping vector spaces that explicitly capture hierarchical preferences and features. The method involves constructing training triplets at different levels and a specialized negative sampling mechanism to ensure effective learning of the hierarchical structure. The approach has demonstrated substantial improvements over state-of-the-art methods across various datasets.\n",
      "\n",
      "Additionally, there are related works that discuss the use of hierarchical or layered autoencoders (like Matryoshka Sparse Autoencoders) to interpret neural network concepts at various abstraction levels, which aligns with the idea of nested or layered representations.\n",
      "\n",
      "If you're interested in detailed methodologies or specific applications, I can help analyze those papers further.\n"
     ]
    }
   ],
   "source": [
    "from langchain_core.messages import HumanMessage\n",
    "\n",
    "from langchain_core.messages import HumanMessage\n",
    "\n",
    "qs = [\n",
    "    \"How are technical professionals using AI to improve their work?\",        \n",
    "    \"What do you know about Matryoshka Representation Learning.\"         \n",
    "]\n",
    "\n",
    "for q in qs:\n",
    "    state = {\"messages\": [HumanMessage(content=q)]}\n",
    "    result = compiled_graph.invoke(state)\n",
    "    print(result[\"messages\"][-1].content)"
   ]
  },
  {
   "cell_type": "markdown",
   "metadata": {},
   "source": [
    "Create the graph using Arxiv - as we can see bellow the output of \"How does the average person use AI?\" is empty because the tool that model in this cell uses is not the local retriever.\n",
    "For implementation of the rest graphs the last running cell was above (the hybrid searching between these two tools). So this we are gonna use in rest notebook."
   ]
  },
  {
   "cell_type": "markdown",
   "metadata": {},
   "source": [
    "### Deterministic RAG (workflow)-  built it with the Graph API, but it could be simpler with the Functional API (plain chain)\n",
    "\n",
    "## The LLM doesn’t “decide” actions; it just writes the final answer.\n",
    "## Predictable, cheaper, easier to test."
   ]
  },
  {
   "cell_type": "code",
   "execution_count": 257,
   "metadata": {},
   "outputs": [],
   "source": [
    "from langchain_community.retrievers import ArxivRetriever\n",
    "\n",
    "def retrieve_from_arxiv(state: State):\n",
    "    retrieved_docs = arxiv_retriever.invoke(state[\"question\"])\n",
    "    return {\"context\": retrieved_docs}\n",
    "\n",
    "rag_graph = StateGraph(State).add_node(\"retrieve_local\", retrieve)\n",
    "rag_graph.add_node(\"retrieve_arxiv\", retrieve_from_arxiv)\n",
    "rag_graph.add_node(\"generate\", generate)\n",
    "\n",
    "\n",
    "rag_graph.add_edge(START, \"retrieve_local\")\n",
    "rag_graph.add_edge('retrieve_local', 'retrieve_arxiv')\n",
    "rag_graph.add_edge(\"retrieve_arxiv\", \"generate\")\n",
    "compiled_rag_graph = rag_graph.compile()\n",
    "\n"
   ]
  },
  {
   "cell_type": "code",
   "execution_count": 258,
   "metadata": {},
   "outputs": [
    {
     "data": {
      "text/plain": [
       "{'question': 'Matryoshka Representation Learning?',\n",
       " 'context': [Document(metadata={'Entry ID': 'http://arxiv.org/abs/2406.07432v1', 'Published': datetime.date(2024, 6, 11), 'Title': 'Matryoshka Representation Learning for Recommendation', 'Authors': 'Riwei Lai, Li Chen, Weixin Chen, Rui Chen'}, page_content='Representation learning is essential for deep-neural-network-based\\nrecommender systems to capture user preferences and item features within\\nfixed-dimensional user and item vectors. Unlike existing representation\\nlearning methods that either treat each user preference and item feature\\nuniformly or categorize them into discrete clusters, we argue that in the real\\nworld, user preferences and item features are naturally expressed and organized\\nin a hierarchical manner, leading to a new direction for representation\\nlearning. In this paper, we introduce a novel matryoshka representation\\nlearning method for recommendation (MRL4Rec), by which we restructure user and\\nitem vectors into matryoshka representations with incrementally dimensional and\\noverlapping vector spaces to explicitly represent user preferences and item\\nfeatures at different hierarchical levels. We theoretically establish that\\nconstructing training triplets specific to each level is pivotal in\\nguaranteeing accurate matryoshka representation learning. Subsequently, we\\npropose the matryoshka negative sampling mechanism to construct training\\ntriplets, which further ensures the effectiveness of the matryoshka\\nrepresentation learning in capturing hierarchical user preferences and item\\nfeatures. The experiments demonstrate that MRL4Rec can consistently and\\nsubstantially outperform a number of state-of-the-art competitors on several\\nreal-life datasets. Our code is publicly available at\\nhttps://github.com/Riwei-HEU/MRL.'),\n",
       "  Document(metadata={'Entry ID': 'http://arxiv.org/abs/2506.17512v1', 'Published': datetime.date(2025, 6, 20), 'Title': 'Semantic-Aware Parsing for Security Logs', 'Authors': 'Julien Piet, Vivian Fang, Rishi Khare, Vern Paxson, Raluca Ada Popa, David Wagner'}, page_content=\"Security analysts struggle to quickly and efficiently query and correlate log\\ndata due to the heterogeneity and lack of structure in real-world logs.\\nExisting AI-based parsers focus on learning syntactic log templates but lack\\nthe semantic interpretation needed for querying. Directly querying large\\nlanguage models on raw logs is impractical at scale and vulnerable to prompt\\ninjection attacks.\\n  In this paper, we introduce Matryoshka, the first end-to-end system\\nleveraging LLMs to automatically generate semantically-aware structured log\\nparsers. Matryoshka combines a novel syntactic parser-employing precise regular\\nexpressions rather than wildcards-with a completely new semantic parsing layer\\nthat clusters variables and maps them into a queryable, contextually meaningful\\nschema. This approach provides analysts with queryable and semantically rich\\ndata representations, facilitating rapid and precise log querying without the\\ntraditional burden of manual parser construction. Additionally, Matryoshka can\\nmap the newly created fields to recognized attributes within the Open\\nCybersecurity Schema Framework (OCSF), enabling interoperability.\\n  We evaluate Matryoshka on a newly curated real-world log benchmark,\\nintroducing novel metrics to assess how consistently fields are named and\\nmapped across logs. Matryoshka's syntactic parser outperforms prior works, and\\nthe semantic layer achieves an F1 score of 0.95 on realistic security queries.\\nAlthough mapping fields to the extensive OCSF taxonomy remains challenging,\\nMatryoshka significantly reduces manual effort by automatically extracting and\\norganizing valuable fields, moving us closer to fully automated, AI-driven log\\nanalytics.\"),\n",
       "  Document(metadata={'Entry ID': 'http://arxiv.org/abs/2411.17299v1', 'Published': datetime.date(2024, 11, 26), 'Title': '2D Matryoshka Training for Information Retrieval', 'Authors': 'Shuai Wang, Shengyao Zhuang, Bevan Koopman, Guido Zuccon'}, page_content='2D Matryoshka Training is an advanced embedding representation training\\napproach designed to train an encoder model simultaneously across various\\nlayer-dimension setups. This method has demonstrated higher effectiveness in\\nSemantic Text Similarity (STS) tasks over traditional training approaches when\\nusing sub-layers for embeddings. Despite its success, discrepancies exist\\nbetween two published implementations, leading to varied comparative results\\nwith baseline models. In this reproducibility study, we implement and evaluate\\nboth versions of 2D Matryoshka Training on STS tasks and extend our analysis to\\nretrieval tasks. Our findings indicate that while both versions achieve higher\\neffectiveness than traditional Matryoshka training on sub-dimensions, and\\ntraditional full-sized model training approaches, they do not outperform models\\ntrained separately on specific sub-layer and sub-dimension setups. Moreover,\\nthese results generalize well to retrieval tasks, both in supervised (MSMARCO)\\nand zero-shot (BEIR) settings. Further explorations of different loss\\ncomputations reveals more suitable implementations for retrieval tasks, such as\\nincorporating full-dimension loss and training on a broader range of target\\ndimensions. Conversely, some intuitive approaches, such as fixing document\\nencoders to full model outputs, do not yield improvements. Our reproduction\\ncode is available at https://github.com/ielab/2DMSE-Reproduce.')],\n",
       " 'response': 'Based on the provided context, the \"Matryoshka Representation Learning\" is a novel approach introduced in the paper titled \"Matryoshka Representation Learning for Recommendation\" by Riwei Lai, Li Chen, Weixin Chen, and Rui Chen. This method restructures user and item vectors into hierarchical, incrementally dimensional, and overlapping vector spaces, called matryoshka representations, to explicitly capture hierarchical user preferences and item features. The approach emphasizes constructing specialized training triplets and employing a matryoshka negative sampling mechanism to ensure effective learning of these hierarchical representations. The experiments indicate that this method can outperform state-of-the-art competitors in recommendation tasks.',\n",
       " 'messages': []}"
      ]
     },
     "execution_count": 258,
     "metadata": {},
     "output_type": "execute_result"
    }
   ],
   "source": [
    "compiled_rag_graph.invoke({\"question\": \"Matryoshka Representation Learning?\"})\n"
   ]
  },
  {
   "cell_type": "code",
   "execution_count": 19,
   "metadata": {},
   "outputs": [
    {
     "data": {
      "text/plain": [
       "{'question': 'How does the average person use AI?',\n",
       " 'context': [Document(metadata={'Entry ID': 'http://arxiv.org/abs/2501.04273v1', 'Published': datetime.date(2025, 1, 8), 'Title': 'Frenet-Serret-Based Trajectory Prediction', 'Authors': 'Shashank Verma, Dennis S. Bernstein'}, page_content='Trajectory prediction is a crucial element of guidance, navigation, and\\ncontrol systems. This paper presents two novel trajectory-prediction methods\\nbased on real-time position measurements and adaptive input and state\\nestimation (AISE). The first method, called AISE/va, uses position measurements\\nto estimate the target velocity and acceleration. The second method, called\\nAISE/FS, models the target trajectory as a 3D curve using the Frenet-Serret\\nformulas, which require estimates of velocity, acceleration, and jerk. To\\nestimate velocity, acceleration, and jerk in real time, AISE computes first,\\nsecond, and third derivatives of the position measurements. AISE does not rely\\non assumptions about the target maneuver, measurement noise, or disturbances.\\nFor trajectory prediction, both methods use measurements of the target position\\nand estimates of its derivatives to extrapolate from the current position. The\\nperformance of AISE/va and AISE/FS is compared numerically with the\\n$\\\\alpha$-$\\\\beta$-$\\\\gamma$ filter, which shows that AISE/FS provides more\\naccurate trajectory prediction than AISE/va and traditional methods, especially\\nfor complex target maneuvers.'),\n",
       "  Document(metadata={'Entry ID': 'http://arxiv.org/abs/2407.05621v2', 'Published': datetime.date(2024, 7, 9), 'Title': 'EA4RCA:Efficient AIE accelerator design framework for Regular Communication-Avoiding Algorithm', 'Authors': 'W. B. Zhang, Y. Q. Liu, T. H. Zang, Z. S. Bao'}, page_content='With the introduction of the Adaptive Intelligence Engine (AIE), the Versal\\nAdaptive Compute Acceleration Platform (Versal ACAP) has garnered great\\nattention. However, the current focus of Vitis Libraries and limited research\\nhas mainly been on how to invoke AIE modules, without delving into a thorough\\ndiscussion on effectively utilizing AIE in its typical use cases. As a result,\\nthe widespread adoption of Versal ACAP has been restricted. The Communication\\nAvoidance (CA) algorithm is considered a typical application within the AIE\\narchitecture. Nevertheless, the effective utilization of AIE in CA applications\\nremains an area that requires further exploration. We propose a top-down\\ncustomized design framework, EA4RCA(Efficient AIE accelerator design framework\\nfor regular Communication-Avoid Algorithm), specifically tailored for CA\\nalgorithms with regular communication patterns, and equipped with AIE Graph\\nCode Generator software to accelerate the AIE design process. The primary\\nobjective of this framework is to maximize the performance of AIE while\\nincorporating high-speed data streaming services. Experiments show that for the\\nRCA algorithm Filter2D and Matrix Multiple (MM) with lower communication\\nrequirements and the RCA algorithm FFT with higher communication requirements,\\nthe accelerators implemented by the RA4RCA framework achieve the highest\\nthroughput improvements of 22.19x, 1.05x and 3.88x compared with the current\\nhighest performance acceleration scheme (SOTA), and the highest energy\\nefficiency improvements of 6.11x, 1.30x and 7.00x.'),\n",
       "  Document(metadata={'Entry ID': 'http://arxiv.org/abs/2506.19655v1', 'Published': datetime.date(2025, 6, 24), 'Title': \"How trust networks shape students' opinions about the proficiency of artificially intelligent assistants\", 'Authors': 'Yutong Bu, Andrew Melatos, Robin Evans'}, page_content=\"The rising use of educational tools controlled by artificial intelligence\\n(AI) has provoked a debate about their proficiency. While intrinsic\\nproficiency, especially in tasks such as grading, has been measured and studied\\nextensively, perceived proficiency remains underexplored. Here it is shown\\nthrough Monte Carlo multi-agent simulations that trust networks among students\\ninfluence their perceptions of the proficiency of an AI tool. A probabilistic\\nopinion dynamics model is constructed, in which every student's perceptions are\\ndescribed by a probability density function (PDF), which is updated at every\\ntime step through independent, personal observations and peer pressure shaped\\nby trust relationships. It is found that students infer correctly the AI tool's\\nproficiency $\\\\theta_{\\\\rm AI}$ in allies-only networks (i.e.\\\\ high trust\\nnetworks). AI-avoiders reach asymptotic learning faster than AI-users, and the\\nasymptotic learning time for AI-users decreases as their number increases.\\nHowever, asymptotic learning is disrupted even by a single partisan, who is\\nstubbornly incorrect in their belief $\\\\theta_{\\\\rm p} \\\\neq \\\\theta_{\\\\rm AI}$,\\nmaking other students' beliefs vacillate indefinitely between $\\\\theta_{\\\\rm p}$\\nand $\\\\theta_{\\\\rm AI}$. In opponents-only (low trust) networks, all students\\nreach asymptotic learning, but only a minority infer $\\\\theta_{\\\\rm AI}$\\ncorrectly. AI-users have a small advantage over AI-avoiders in reaching the\\nright conclusion. In mixed networks, students may exhibit turbulent\\nnonconvergence and intermittency, or achieve asymptotic learning, depending on\\nthe relationships between partisans and AI-users. The educational implications\\nof the results are discussed briefly in the context of designing robust usage\\npolicies for AI tools, with an emphasis on the unintended and inequitable\\nconsequences which arise sometimes from counterintuitive network effects.\")],\n",
       " 'response': \"Based on the provided context, the specific ways the average person uses AI are not explicitly described. Instead, the documents focus on technical methods for trajectory prediction, accelerator design frameworks, and the influence of trust networks on perceptions of AI proficiency. One of the documents does discuss perceptions of AI competence in educational settings, highlighting that trust and peer relationships affect how individuals perceive AI tools, but it does not detail typical everyday uses. Therefore, the precise information about how the average person uses AI is not contained within this data.\\n\\nI don't know.\",\n",
       " 'messages': []}"
      ]
     },
     "execution_count": 19,
     "metadata": {},
     "output_type": "execute_result"
    }
   ],
   "source": [
    "compiled_rag_graph.invoke({\"question\" : \"How does the average person use AI?\"})"
   ]
  },
  {
   "cell_type": "markdown",
   "metadata": {
    "id": "7U6a_pqQ9uWf"
   },
   "source": [
    "## Task 2: Helper Functions for Agent Graphs\n",
    "\n",
    "We'll be using a number of agents, nodes, and supervisors in the rest of the notebook - and so it will help to have a collection of useful helper functions that we can leverage to make our lives easier going forward.\n",
    "\n",
    "Let's start with the most simple one!"
   ]
  },
  {
   "cell_type": "markdown",
   "metadata": {
    "id": "IDUnpEEl-L_F"
   },
   "source": [
    "#### Import Wall\n",
    "\n",
    "Here's a wall of imports we'll be needing going forward!"
   ]
  },
  {
   "cell_type": "code",
   "execution_count": 259,
   "metadata": {
    "id": "TbzoL3Q3-SG1"
   },
   "outputs": [],
   "source": [
    "from typing import Any, Callable, List, Optional, TypedDict, Union\n",
    "\n",
    "from langchain.agents import AgentExecutor, create_openai_functions_agent\n",
    "from langchain.output_parsers.openai_functions import JsonOutputFunctionsParser\n",
    "from langchain_core.prompts import ChatPromptTemplate, MessagesPlaceholder\n",
    "from langchain_core.messages import AIMessage, BaseMessage, HumanMessage\n",
    "from langchain_core.runnables import Runnable\n",
    "from langchain_core.tools import BaseTool\n",
    "from langchain_openai import ChatOpenAI\n",
    "\n",
    "from langgraph.graph import END, StateGraph"
   ]
  },
  {
   "cell_type": "markdown",
   "metadata": {
    "id": "qb6Z3EEz-Asi"
   },
   "source": [
    "### Agent Node Helper\n",
    "\n",
    "Since we're going to be wrapping each of our agents into a node - it will help to have an easy way to create the node!"
   ]
  },
  {
   "cell_type": "code",
   "execution_count": 260,
   "metadata": {
    "id": "5IF7KWfS-JKd"
   },
   "outputs": [],
   "source": [
    "def agent_node(state, agent, name):\n",
    "    result = agent.invoke(state)\n",
    "    return {\"messages\": [HumanMessage(content=result[\"output\"], name=name)]}"
   ]
  },
  {
   "cell_type": "markdown",
   "metadata": {
    "id": "fwND2teK-WHm"
   },
   "source": [
    "### Agent Creation Helper Function\n",
    "\n",
    "Since we know we'll need to create agents to populate our agent nodes, let's use a helper function for that as well!\n",
    "\n",
    "Notice a few things:\n",
    "\n",
    "1. We have a standard suffix to append to our system messages for each agent to handle the tool calling and boilerplate prompting.\n",
    "2. Each agent has its our scratchpad.\n",
    "3. We're relying on OpenAI's function-calling API for tool selection\n",
    "4. Each agent is its own executor."
   ]
  },
  {
   "cell_type": "code",
   "execution_count": 261,
   "metadata": {
    "id": "NxLyHJt5-eUx"
   },
   "outputs": [],
   "source": [
    "def create_agent(\n",
    "    llm: ChatOpenAI,\n",
    "    tools: list,\n",
    "    system_prompt: str,\n",
    ") -> str:\n",
    "    \"\"\"Create a function-calling agent and add it to the graph.\"\"\"\n",
    "    system_prompt += (\"\\nWork autonomously according to your specialty, using the tools available to you.\"\n",
    "    \" Do not ask for clarification.\"\n",
    "    \" Your other team members (and other teams) will collaborate with you with their own specialties.\"\n",
    "    \" You are chosen for a reason!\")\n",
    "    prompt = ChatPromptTemplate.from_messages(\n",
    "        [\n",
    "            (\n",
    "                \"system\",\n",
    "                system_prompt,\n",
    "            ),\n",
    "            MessagesPlaceholder(variable_name=\"messages\"),\n",
    "            MessagesPlaceholder(variable_name=\"agent_scratchpad\"),\n",
    "        ]\n",
    "    )\n",
    "    agent = create_openai_functions_agent(llm, tools, prompt)\n",
    "    executor = AgentExecutor(agent=agent, tools=tools)\n",
    "    return executor"
   ]
  },
  {
   "cell_type": "markdown",
   "metadata": {
    "id": "S6kmlR9d-1K5"
   },
   "source": [
    "### Supervisor Helper Function\n",
    "\n",
    "Finally, we need a \"supervisor\" that decides and routes tasks to specific agents.\n",
    "\n",
    "Since each \"team\" will have a collection of potential agents - this \"supervisor\" will act as an \"intelligent\" router to make sure that the right agent is selected for the right task.\n",
    "\n",
    "Notice that, at the end of the day, this \"supervisor\" is simply directing who acts next - or if the state is considered \"done\"."
   ]
  },
  {
   "cell_type": "code",
   "execution_count": 262,
   "metadata": {
    "id": "S2MXA83mrYE2"
   },
   "outputs": [],
   "source": [
    "def create_team_supervisor(llm: ChatOpenAI, system_prompt, members) -> str:\n",
    "    \"\"\"An LLM-based router.\"\"\"\n",
    "    options = [\"FINISH\"] + members\n",
    "    function_def = {\n",
    "        \"name\": \"route\",\n",
    "        \"description\": \"Select the next role.\",\n",
    "        \"parameters\": {\n",
    "            \"title\": \"routeSchema\",\n",
    "            \"type\": \"object\",\n",
    "            \"properties\": {\n",
    "                \"next\": {\n",
    "                    \"title\": \"Next\",\n",
    "                    \"anyOf\": [\n",
    "                        {\"enum\": options},\n",
    "                    ],\n",
    "                },\n",
    "            },\n",
    "            \"required\": [\"next\"],\n",
    "        },\n",
    "    }\n",
    "    prompt = ChatPromptTemplate.from_messages(\n",
    "        [\n",
    "            (\"system\", system_prompt),\n",
    "            MessagesPlaceholder(variable_name=\"messages\"),\n",
    "            (\n",
    "                \"system\",\n",
    "                \"Given the conversation above, who should act next?\"\n",
    "                \" Or should we FINISH? Select one of: {options}\",\n",
    "            ),\n",
    "        ]\n",
    "    ).partial(options=str(options), team_members=\", \".join(members))\n",
    "    return (\n",
    "        prompt\n",
    "        | llm.bind_functions(functions=[function_def], function_call=\"route\")\n",
    "        | JsonOutputFunctionsParser()\n",
    "    )"
   ]
  },
  {
   "cell_type": "markdown",
   "metadata": {
    "id": "jd0zfyq48jKb"
   },
   "source": [
    "## Task 3: Research Team - A LangGraph for Researching AI Usage Policy\n",
    "\n",
    "Now that we have our RAG chain set-up and some awesome helper functions, we want to create a LangGraph related to researching a specific topic, in this case: How People Use AI!\n",
    "\n",
    "We're going to start by equipping our Research Team with a few tools:\n",
    "\n",
    "1. Tavily Search - aka \"Google\", for the most up to date information possible.\n",
    "2. Our RAG chain - specific and high quality information about our topic.\n",
    "\n",
    "Let's create those tools now!"
   ]
  },
  {
   "cell_type": "markdown",
   "metadata": {
    "id": "VNsVTZrH_alw"
   },
   "source": [
    "### Tool Creation\n",
    "\n",
    "As you can see below, some tools already come pre-packaged ready to use!"
   ]
  },
  {
   "cell_type": "code",
   "execution_count": 263,
   "metadata": {
    "id": "ce7FKTZDgAWG"
   },
   "outputs": [],
   "source": [
    "from langchain_community.tools.tavily_search import TavilySearchResults\n",
    "\n",
    "tavily_tool = TavilySearchResults(max_results=5)"
   ]
  },
  {
   "cell_type": "markdown",
   "metadata": {
    "id": "NIR7cbTL9agM"
   },
   "source": [
    "Creating a custom tool, however, is very straightforward.\n",
    "\n",
    "> NOTE: You *must* include a docstring, as that is what the LLM will consider when deciding when to use this tool."
   ]
  },
  {
   "cell_type": "code",
   "execution_count": 264,
   "metadata": {
    "id": "sSwO2L_UqFhm"
   },
   "outputs": [],
   "source": [
    "from typing import Annotated, List, Tuple, Union\n",
    "from langchain_core.tools import tool\n",
    "\n",
    "@tool\n",
    "def retrieve_information(\n",
    "    query: Annotated[str, \"query to ask the retrieve information tool\"]\n",
    "    ):\n",
    "  \"\"\"Use Retrieval Augmented Generation to retrieve information about how people use AI\"\"\"\n",
    "  return compiled_rag_graph.invoke({\"question\" : query})"
   ]
  },
  {
   "cell_type": "markdown",
   "metadata": {
    "id": "nxsMnqjpBTCj"
   },
   "source": [
    "> NOTE: We could just as easily use the LCEL chain directly, since nodes can be LCEL objects - but creating a tool helps explain the tool creation process at the same time."
   ]
  },
  {
   "cell_type": "markdown",
   "metadata": {
    "id": "oDHCajO4_gB2"
   },
   "source": [
    "### Research Team State\n",
    "\n",
    "Since we're using LangGraph - we're going to need state!\n",
    "\n",
    "Let's look at how we've created our state below."
   ]
  },
  {
   "cell_type": "code",
   "execution_count": 266,
   "metadata": {
    "id": "mXminK9d_1fa"
   },
   "outputs": [],
   "source": [
    "import functools\n",
    "import operator\n",
    "\n",
    "from langchain_core.messages import AIMessage, BaseMessage, HumanMessage\n",
    "from langchain_openai.chat_models import ChatOpenAI\n",
    "import functools\n",
    "\n",
    "class ResearchTeamState(TypedDict):\n",
    "    messages: Annotated[List[BaseMessage], operator.add]\n",
    "    team_members: List[str]\n",
    "    next: str"
   ]
  },
  {
   "cell_type": "markdown",
   "metadata": {
    "id": "fvPM5msq_18C"
   },
   "source": [
    "Notice how we've used `messages`, `team_members`, and `next`.\n",
    "\n",
    "These states will help us understand:\n",
    "\n",
    "1. What we've done so far (`messages`)\n",
    "2. Which team members we have access to (`team_members`)\n",
    "3. Which team member is up next! (`next`)"
   ]
  },
  {
   "cell_type": "markdown",
   "metadata": {
    "id": "Mu7B_6qHAFjK"
   },
   "source": [
    "### Research Team LLM\n",
    "\n",
    "We'll be using `gpt-4o-mini` today. This LLM is going to be doing a lot of reasoning - but we also want to keep our costs down, so we'll use a lightweight; but powerful, model!"
   ]
  },
  {
   "cell_type": "code",
   "execution_count": 267,
   "metadata": {
    "id": "dTNqrip8AcKR"
   },
   "outputs": [],
   "source": [
    "research_llm = ChatOpenAI(model=\"gpt-4o-mini\")\n"
   ]
  },
  {
   "cell_type": "markdown",
   "metadata": {
    "id": "pfb_VCNKIy9w"
   },
   "source": [
    "##### ❓ Question #1:\n",
    "\n",
    "1. Why is a \"powerful\" LLM important for this use-case?\n",
    "\n",
    "2. What tasks must our Agent perform that make it such that the LLM's reasoning capability is a potential limiter?\n",
    "\n",
    "##### ✅ Answers:\n",
    "\n",
    "1.1 A powerful LLM is important because it has to understand nuanced queriies and decide which specialized agent should act next. If the LLM is weak, it may misroute or misunderstand the query.\n",
    "\n",
    "1.2 YOUR ANSWER HERE\n",
    "\n",
    "The agent must interpret intent, pick the right tool, and know when to stop — tasks that require reasoning, so a weaker LLM could fail."
   ]
  },
  {
   "cell_type": "markdown",
   "metadata": {
    "id": "ZR_1LuMKAekf"
   },
   "source": [
    "### Research Team Agents & Nodes\n",
    "\n",
    "Now we can use our helper functions to create our agent nodes, with their related tools.\n",
    "\n",
    "Let's start with our search agent node."
   ]
  },
  {
   "cell_type": "markdown",
   "metadata": {
    "id": "uzx6wuPoAlPq"
   },
   "source": [
    "#### Research Team: Search Agent\n",
    "\n",
    "We're going to give our agent access to the Tavily tool, power it with our GPT-4o Mini model, and then create its node - and name it `Search`."
   ]
  },
  {
   "cell_type": "code",
   "execution_count": 268,
   "metadata": {
    "id": "FIlLPxj7Atpj"
   },
   "outputs": [],
   "source": [
    "search_agent = create_agent(\n",
    "    research_llm,\n",
    "    [tavily_tool],\n",
    "    (\n",
    "        \"You can browse the live web. You MUST handle any requests for real-world places, \"\n",
    "        \"businesses, addresses, opening hours, and 'latest' info. Always cite source URLs.\"\n",
    "    ),)\n",
    "search_node = functools.partial(agent_node, agent=search_agent, name=\"Search\")"
   ]
  },
  {
   "cell_type": "markdown",
   "metadata": {
    "id": "emLtesudA9Dd"
   },
   "source": [
    "#### Research Team: RAG Agent Node\n",
    "\n",
    "Now we can wrap our LCEL RAG pipeline in an agent node as well, using the LCEL RAG pipeline as the tool, as created above."
   ]
  },
  {
   "cell_type": "code",
   "execution_count": 269,
   "metadata": {
    "id": "z-nnAG9XA_p7"
   },
   "outputs": [],
   "source": [
    "research_agent = create_agent(\n",
    "    research_llm,\n",
    "    [retrieve_information],\n",
    "  (\n",
    "        \"You ONLY answer from the local curated dataset about how people use AI. \"\n",
    "        \"If the user asks for anything outside this dataset (e.g., venues, bars, addresses, hours, latest web info), \"\n",
    "        \"reply exactly: 'DEFER: needs web search'. Do NOT answer those yourself.\"\n",
    "    ),\n",
    "    )\n",
    "research_node = functools.partial(agent_node, agent=research_agent, name=\"HowPeopleUseAIRetriever\")"
   ]
  },
  {
   "cell_type": "code",
   "execution_count": 270,
   "metadata": {},
   "outputs": [],
   "source": [
    "search_arxiv_agent = create_agent(research_llm, \n",
    "[arxiv_tool],\n",
    "  (\n",
    "        \"You ONLY search arXiv and cite arXiv links. \"\n",
    "        \"If asked for venues, bars, addresses, opening hours, or any general web info, \"\n",
    "        \"reply exactly: 'DEFER: needs web search'.\"\n",
    "    ), )\n",
    "\n",
    "arxiv_node=functools.partial(agent_node, agent=search_arxiv_agent, name='ArxivSearch')"
   ]
  },
  {
   "cell_type": "markdown",
   "metadata": {
    "id": "dA5z6T1CBeSc"
   },
   "source": [
    "### Research Team Supervisor Agent\n",
    "\n",
    "Notice that we're not yet creating our supervisor *node*, simply the agent here.\n",
    "\n",
    "Also notice how we need to provide a few extra pieces of information - including which tools we're using.\n",
    "\n",
    "> NOTE: It's important to use the *exact* tool name, as that is how the LLM will reference the tool. Also, it's important that your tool name is all a single alphanumeric string!\n",
    "\n"
   ]
  },
  {
   "cell_type": "code",
   "execution_count": 271,
   "metadata": {
    "id": "J0g8CQMBrtFs"
   },
   "outputs": [],
   "source": [
    "research_supervisor_agent = create_team_supervisor(\n",
    "    research_llm,\n",
    "    (\"You are a supervisor tasked with managing a conversation between the\"\n",
    "    \" following workers:  Search, HowPeopleUseAIRetriever, ArxivSearch. Given the following user request,\"\n",
    "    \" determine the subject to be researched and respond with the worker to act next. Each worker will perform a\"\n",
    "    \" task and respond with their results and status. \"\n",
    "    \" You should never ask your team to do anything beyond research. They are not required to write content or posts.\"\n",
    "    \" You should only pass tasks to workers that are specifically research focused.\"\n",
    "    \"Use Arxiv tool only for academic papers.\"\n",
    "    \"Use Tavily for queries different than academic researching.\"\n",
    "    \"Use search only for how people use ai\"\n",
    "    \"• Do not FINISH while any part of the request remains unanswered.\\n\"\n",
    "    \"Return the next worker to run. When all parts are covered, FINISH.\"\n",
    "    \" When finished, respond with FINISH.\"),\n",
    "    [\"Search\", \"HowPeopleUseAIRetriever\",\"ArxivSearch\"],\n",
    ")"
   ]
  },
  {
   "cell_type": "markdown",
   "metadata": {
    "id": "qohn0DcgB_U1"
   },
   "source": [
    "### Research Team Graph Creation\n",
    "\n",
    "Now that we have our research team agent nodes created, and our supervisor agent - let's finally construct our graph!\n",
    "\n",
    "We'll start by creating our base graph from our state, and then adding the nodes/agent we've created as nodes on our LangGraph."
   ]
  },
  {
   "cell_type": "code",
   "execution_count": 272,
   "metadata": {
    "id": "p0s2GAgJCN8G"
   },
   "outputs": [
    {
     "data": {
      "text/plain": [
       "<langgraph.graph.state.StateGraph at 0x215f8be4470>"
      ]
     },
     "execution_count": 272,
     "metadata": {},
     "output_type": "execute_result"
    }
   ],
   "source": [
    "research_graph = StateGraph(ResearchTeamState)\n",
    "\n",
    "research_graph.add_node(\"Search\", search_node)\n",
    "research_graph.add_node(\"HowPeopleUseAIRetriever\", research_node)\n",
    "research_graph.add_node(\"ResearchSupervisor\", research_supervisor_agent)\n",
    "research_graph.add_node('ArxivSearch',arxiv_node)"
   ]
  },
  {
   "cell_type": "markdown",
   "metadata": {
    "id": "33qixRGNCaAX"
   },
   "source": [
    "Now we can define our edges - include our conditional edge from our supervisor to our agent nodes.\n",
    "\n",
    "Notice how we're always routing our agent nodes back to our supervisor!"
   ]
  },
  {
   "cell_type": "code",
   "execution_count": 273,
   "metadata": {
    "id": "yYSJIhijsGyg"
   },
   "outputs": [
    {
     "data": {
      "text/plain": [
       "<langgraph.graph.state.StateGraph at 0x215f8be4470>"
      ]
     },
     "execution_count": 273,
     "metadata": {},
     "output_type": "execute_result"
    }
   ],
   "source": [
    "research_graph.add_edge(\"Search\", \"ResearchSupervisor\") \n",
    "research_graph.add_edge(\"HowPeopleUseAIRetriever\", \"ResearchSupervisor\")\n",
    "research_graph.add_edge('ArxivSearch',\"ResearchSupervisor\")\n",
    "research_graph.add_conditional_edges(\n",
    "    \"ResearchSupervisor\",\n",
    "    lambda x: x[\"next\"],\n",
    "    {\"Search\": \"Search\", \"HowPeopleUseAIRetriever\": \"HowPeopleUseAIRetriever\", \"ArxivSearch\":\"ArxivSearch\", \"FINISH\": END},\n",
    ")\n",
    "research_graph.set_entry_point(\"ResearchSupervisor\")"
   ]
  },
  {
   "cell_type": "markdown",
   "metadata": {
    "id": "hgGcuZzkCj1-"
   },
   "source": [
    "Now we can set our supervisor node as the entry point, and compile our graph!"
   ]
  },
  {
   "cell_type": "code",
   "execution_count": 274,
   "metadata": {
    "id": "1l-1I2Z3CnPX"
   },
   "outputs": [],
   "source": [
    "compiled_research_graph = research_graph.compile()"
   ]
  },
  {
   "cell_type": "markdown",
   "metadata": {
    "id": "GDwQpYTSEY13"
   },
   "source": [
    "#### Display Graph"
   ]
  },
  {
   "cell_type": "code",
   "execution_count": 275,
   "metadata": {},
   "outputs": [
    {
     "data": {
      "image/png": "[encoded data removed]",
      "text/plain": [
       "<langgraph.graph.state.CompiledStateGraph object at 0x00000215F80C6250>"
      ]
     },
     "execution_count": 275,
     "metadata": {},
     "output_type": "execute_result"
    }
   ],
   "source": [
    "compiled_research_graph"
   ]
  },
  {
   "cell_type": "markdown",
   "metadata": {
    "id": "bfRvA2QfCqFL"
   },
   "source": [
    "The next part is key - since we need to \"wrap\" our LangGraph in order for it to be compatible in the following steps - let's create an LCEL chain out of it!\n",
    "\n",
    "This allows us to \"broadcast\" messages down to our Research Team LangGraph!"
   ]
  },
  {
   "cell_type": "code",
   "execution_count": 276,
   "metadata": {
    "id": "1G7hmEINCx3i"
   },
   "outputs": [],
   "source": [
    "def enter_research_chain(message: str):\n",
    "    results = {\n",
    "        \"messages\": [HumanMessage(content=message)],\n",
    "    }\n",
    "    return results\n",
    "\n",
    "research_chain = enter_research_chain | compiled_research_graph"
   ]
  },
  {
   "cell_type": "markdown",
   "metadata": {
    "id": "EGdoCdXWC7Pi"
   },
   "source": [
    "Now, finally, we can take it for a spin!"
   ]
  },
  {
   "cell_type": "code",
   "execution_count": 282,
   "metadata": {
    "colab": {
     "base_uri": "https://localhost:8080/"
    },
    "id": "xIDpFIg2sRUl",
    "outputId": "bb3803d4-5b32-4b0a-c8a1-1a1917425812"
   },
   "outputs": [
    {
     "name": "stdout",
     "output_type": "stream",
     "text": [
      "{'ResearchSupervisor': {'next': 'HowPeopleUseAIRetriever'}}\n",
      "---\n",
      "{'HowPeopleUseAIRetriever': {'messages': [HumanMessage(content='Based on the sourced document \"How People Use ChatGPT,\" here\\'s a summary of how people use AI:\\n\\n- **Common Use Cases**:\\n  - **Education**: 10.2% of messages involve tutoring or teaching; 8.5% are for general how-to advice.\\n  - **Technical Help**: Includes 4.2% for computer programming, 3% for mathematical calculations, and 0.4% for data analysis.\\n  - **Self-Expression**: Topics like relationships and personal reflection make up 2.4% of messages.\\n  \\n- **User Engagement Characteristics**:\\n  - A significant portion of interactions focuses on modifying user inputs rather than generating new content.\\n  - AI excels in producing writing, software code, spreadsheets, and offering customized responses, making it distinct from traditional web searches.\\n\\n- **Demographics**:\\n  - The gender gap in AI usage has narrowed, with 48% of active users having typically feminine first names as of June 2025.\\n  - Nearly half of all user engagement is from individuals under 26, indicating a youth-driven trend.\\n\\n- **Workplace Impact**: \\n  - About 81% of work-related interactions are associated with tasks like obtaining information, making decisions, and problem-solving.\\n  - A large focus on writing tasks reflects the technology\\'s integration into workplace productivity.\\n\\nOverall, AI is utilized for both practical and personal purposes, enhancing productivity, creativity, and communication across varied demographics and occupations.\\n\\n**Source**: \"How People Use ChatGPT\" (pages 17, 4, 38, 41). \\n\\nDEFER: needs web search.', additional_kwargs={}, response_metadata={}, name='HowPeopleUseAIRetriever')]}}\n",
      "---\n",
      "{'ResearchSupervisor': {'next': 'ArxivSearch'}}\n",
      "---\n",
      "{'ArxivSearch': {'messages': [HumanMessage(content='Here is a recent paper on AI for math:\\n\\n- **Title**: In between myth and reality: AI for math -- a case study in category theory\\n- **Author**: Răzvan Diaconescu\\n- **Published**: April 17, 2025\\n- **Abstract**: The paper discusses an experiment evaluating the performance of contemporary AI systems in solving math problems and explores how these systems can assist mathematical research. It also provides suggestions for improvements to the AI developers.\\n- **arXiv link**: [arXiv:2504.13360v1](http://arxiv.org/abs/2504.13360v1)', additional_kwargs={}, response_metadata={}, name='ArxivSearch')]}}\n",
      "---\n",
      "{'ResearchSupervisor': {'next': 'Search'}}\n",
      "---\n",
      "{'Search': {'messages': [HumanMessage(content='### Summary of AI Usage\\n\\nHere\\'s a summary of how people are using AI based on the document \"How People Use ChatGPT\":\\n\\n- **Use Cases**:\\n  - **Education**: 10.2% tutoring, 8.5% general advice.\\n  - **Technical Aid**: 4.2% programming, 3% math calculations, 0.4% data analysis.\\n  - **Self-Expression**: 2.4% covering personal topics.\\n\\n- **Engagement**:\\n  - Users often modify inputs instead of generating entirely new content.\\n  - AI is adept at producing diverse outputs—writing, coding, and personalized responses.\\n\\n- **Demographics**:\\n  - Gender gap narrows: 48% of active users are women or have feminine names.\\n  - Significant engagement from individuals under 26 years old.\\n\\n- **Workplace Impact**:\\n  - 81% of interactions are work-related, focusing on information retrieval, decision-making, and problem-solving.\\n\\n### Recent Paper on AI for Math\\n\\n- **Title**: In between myth and reality: AI for math -- a case study in category theory\\n- **Author**: Răzvan Diaconescu\\n- **Published**: April 17, 2025\\n- **Abstract**: An experiment assessing contemporary AI systems\\' performance in solving math problems, offering insights for enhancing AI in mathematical research.\\n- **arXiv link**: [arXiv:2504.13360v1](http://arxiv.org/abs/2504.13360v1).\\n\\n### Recommended Bars in Los Angeles\\n\\n1. **Thunderbolt**\\n   - **Address**: Echo Park, Los Angeles, CA\\n   - **Hours**: Varies; typically open in the evenings.\\n   - **Description**: Award-winning cocktail bar known for its innovative drinks and sustainable practices.\\n   - **Source**: [Time Out](https://www.timeout.com/los-angeles/bars/best-bars-in-los-angeles)\\n\\n2. **The Roger Room**\\n   - **Address**: La Cienega, Los Angeles, CA\\n   - **Hours**: Evening hours; specific times vary.\\n   - **Description**: A chic cocktail bar offering a refined drinking experience.\\n   - **Source**: [Time Out](https://www.timeout.com/los-angeles/bars/best-bars-in-los-angeles)\\n\\n3. **The Wolves**\\n   - **Address**: 519 South Spring Street, Los Angeles, CA 90013\\n   - **Hours**: Evening hours; general hours should be checked.\\n   - **Description**: Parisian salon-style cocktail bar with creative drinks.\\n   - **Source**: [Eater LA](https://la.eater.com/maps/best-cocktail-bars-los-angeles)\\n\\nThese bars are well-reviewed and known for their unique atmospheres and quality drinks.', additional_kwargs={}, response_metadata={}, name='Search')]}}\n",
      "---\n",
      "{'ResearchSupervisor': {'next': 'FINISH'}}\n",
      "---\n"
     ]
    }
   ],
   "source": [
    "for s in research_chain.stream(\n",
    "    \"“First, from your curated/local dataset on how people use AI, give a short summary with numbers. Next, from arXiv, find a recent paper (2024–2025) on AI for math and provide the arXiv link. Lastly, from the open web, list three good bars in Los Angeles (name, address, hours, source links).”\", {\"recursion_limit\": 100}\n",
    "):\n",
    "    if \"__end__\" not in s:\n",
    "        print(s)\n",
    "        print(\"---\")"
   ]
  },
  {
   "cell_type": "markdown",
   "metadata": {
    "id": "DHAgsbwIIhwj"
   },
   "source": [
    "##### 🏗️ Activity #2:\n",
    "\n",
    "Using whatever drawing application you wish - please label the flow above on a diagram of your graph."
   ]
  },
  {
   "cell_type": "code",
   "execution_count": 41,
   "metadata": {},
   "outputs": [
    {
     "name": "stdout",
     "output_type": "stream",
     "text": [
      "                                         +-----------+                                         \n",
      "                                         | __start__ |                                         \n",
      "                                         +-----------+                                         \n",
      "                                                *                                              \n",
      "                                                *                                              \n",
      "                                                *                                              \n",
      "                                    +--------------------+                                     \n",
      "                                    | ResearchSupervisor |                                     \n",
      "                               *****+--------------------+.......                              \n",
      "                         ******            *            ....     .......                       \n",
      "                  *******                **                 ...         .......                \n",
      "              ****                      *                      ..              ....            \n",
      "+-------------+          +-------------------------+          +--------+          +---------+  \n",
      "| ArxivSearch |          | HowPeopleUseAIRetriever |          | Search |          | __end__ |  \n",
      "+-------------+          +-------------------------+          +--------+          +---------+  \n"
     ]
    },
    {
     "data": {
      "text/plain": [
       "None"
      ]
     },
     "metadata": {},
     "output_type": "display_data"
    }
   ],
   "source": [
    "display(compiled_research_graph.get_graph().print_ascii())"
   ]
  },
  {
   "cell_type": "markdown",
   "metadata": {
    "id": "eH70eHGlJbq4"
   },
   "source": [
    "##### ❓ Question #2:\n",
    "\n",
    "How could you make sure your Agent uses specific tools that you wish it to use? Are there any ways to concretely set a flow through tools?\n",
    "##### ✅ Answer:\n",
    "\n",
    "Improving the prompts of each agent (like i already did)\n",
    "Adding conditional_edges in the graph\n"
   ]
  },
  {
   "cell_type": "markdown",
   "metadata": {
    "id": "iktcBorGXmAW"
   },
   "source": [
    "# 🤝 BREAKOUT ROOM #2"
   ]
  },
  {
   "cell_type": "markdown",
   "metadata": {
    "id": "ejsHCZZ2EmwM"
   },
   "source": [
    "## Task 4: Document Writing Team - A LangGraph for Planning, Writing, and Editing a Formal Research Resport.\n",
    "\n",
    "Let's run it all back, this time specifically creating tools, agent nodes, and a graph for Planning, Writing, and Editing a Formal Research Resport!"
   ]
  },
  {
   "cell_type": "markdown",
   "metadata": {},
   "source": [
    "#### Previous Cohort Use Case Data\n",
    "\n",
    "Let's add a retriever for [previous cohort use-case data](./data/AIE7_Projects_with_Domains.csv) here!\n",
    "\n",
    "This will allow our response writing team reference previous responses!"
   ]
  },
  {
   "cell_type": "code",
   "execution_count": 283,
   "metadata": {},
   "outputs": [
    {
     "data": {
      "text/plain": [
       "Document(metadata={'source': 'data/AIE7_Projects_with_Domains.csv', 'row': 0}, page_content='Project Domain: Customer Support / Helpdesk\\nSecondary Domain (if any): Productivity Assistants')"
      ]
     },
     "execution_count": 283,
     "metadata": {},
     "output_type": "execute_result"
    }
   ],
   "source": [
    "from langchain_community.document_loaders import CSVLoader\n",
    "\n",
    "previous_cohort_loader = CSVLoader(\"data/AIE7_Projects_with_Domains.csv\", content_columns=[\"Project Domain\", \"Secondary Domain (if any)\"])\n",
    "previous_cohort = previous_cohort_loader.load()\n",
    "previous_cohort[0]"
   ]
  },
  {
   "cell_type": "code",
   "execution_count": 284,
   "metadata": {},
   "outputs": [],
   "source": [
    "qdrant_previous_cohort_vectorstore = Qdrant.from_documents(\n",
    "    documents=previous_cohort,\n",
    "    embedding=embedding_model,\n",
    "    location=\":memory:\"\n",
    ")"
   ]
  },
  {
   "cell_type": "code",
   "execution_count": 285,
   "metadata": {},
   "outputs": [],
   "source": [
    "qdrant_previous_cohort_retriever = qdrant_previous_cohort_vectorstore.as_retriever()"
   ]
  },
  {
   "cell_type": "markdown",
   "metadata": {
    "id": "4awQtZ-oFUN-"
   },
   "source": [
    "### Tool Creation\n",
    "\n",
    "Let's create some tools that will help us understand, open, work with, and edit documents to our liking!"
   ]
  },
  {
   "cell_type": "code",
   "execution_count": 286,
   "metadata": {
    "id": "ptXilgparOkq"
   },
   "outputs": [],
   "source": [
    "from pathlib import Path\n",
    "from tempfile import TemporaryDirectory\n",
    "from typing import Dict, Optional\n",
    "from typing_extensions import TypedDict\n",
    "import uuid\n",
    "import io\n",
    "import sys\n",
    "import os\n",
    "\n",
    "if os.name == \"nt\":\n",
    "    try:\n",
    "        sys.stdout.reconfigure(encoding=\"utf-8\")\n",
    "        sys.stderr.reconfigure(encoding=\"utf-8\")\n",
    "    except Exception:\n",
    "        pass  # older Pythons may not have reconfigure\n",
    "\n",
    "os.makedirs('./content/data', exist_ok=True)\n",
    "\n",
    "def create_random_subdirectory():\n",
    "    random_id = str(uuid.uuid4())[:8]  # Use first 8 characters of a UUID\n",
    "    subdirectory_path = os.path.join('./content/data', random_id)\n",
    "    os.makedirs(subdirectory_path, exist_ok=True)\n",
    "    return subdirectory_path\n",
    "\n",
    "WORKING_DIRECTORY = Path(create_random_subdirectory())\n",
    "\n",
    "@tool\n",
    "def create_outline(\n",
    "    points: Annotated[List[str], \"List of main points or sections.\"],\n",
    "    file_name: Annotated[str, \"File path to save the outline.\"],\n",
    ") -> Annotated[str, \"Path of the saved outline file.\"]:\n",
    "    \"\"\"Create and save an outline.\"\"\"\n",
    "    with (WORKING_DIRECTORY / file_name).open(\"w\", encoding=\"utf-8\", newline=\"\\n\") as file:\n",
    "        for i, point in enumerate(points):\n",
    "            file.write(f\"{i + 1}. {point}\\n\")\n",
    "    return f\"Outline saved to {file_name}\"\n",
    "\n",
    "\n",
    "@tool\n",
    "def read_document(\n",
    "    file_name: Annotated[str, \"File path to save the document.\"],\n",
    "    start: Annotated[Optional[int], \"The start line. Default is 0\"] = None,\n",
    "    end: Annotated[Optional[int], \"The end line. Default is None\"] = None,\n",
    ") -> str:\n",
    "    \"\"\"Read the specified document.\"\"\"\n",
    "    with (WORKING_DIRECTORY / file_name).open(\"r\", encoding=\"utf-8\") as file:\n",
    "        lines = file.readlines()\n",
    "    if start is not None:\n",
    "        start = 0\n",
    "    return \"\\n\".join(lines[start:end])\n",
    "\n",
    "@tool\n",
    "def write_document(\n",
    "    content: Annotated[str, \"Text content to be written into the document.\"],\n",
    "    file_name: Annotated[str, \"File path to save the document.\"],\n",
    ") -> Annotated[str, \"Path of the saved document file.\"]:\n",
    "    \"\"\"Create and save a text document.\"\"\"\n",
    "    with (WORKING_DIRECTORY / file_name).open(\"w\", encoding=\"utf-8\", newline=\"\\n\") as file:\n",
    "        file.write(content)\n",
    "    return f\"Document saved to {file_name}\"\n",
    "\n",
    "### Previous Cohort Use Case Data\n",
    "@tool \n",
    "def reference_previous_responses(\n",
    "    query: Annotated[str, \"The query to search for in the previous responses.\"],\n",
    ") -> Annotated[str, \"The previous responses that match the query.\"]:\n",
    "    \"\"\"Search for previous responses that match the query.\"\"\"\n",
    "    return qdrant_previous_cohort_retriever.invoke(query)\n",
    "\n",
    "\n",
    "@tool\n",
    "def edit_document(\n",
    "    file_name: Annotated[str, \"Path of the document to be edited.\"],\n",
    "    inserts: Annotated[\n",
    "        Dict[int, str],\n",
    "        \"Dictionary where key is the line number (1-indexed) and value is the text to be inserted at that line.\",\n",
    "    ] = {},\n",
    ") -> Annotated[str, \"Path of the edited document file.\"]:\n",
    "    \"\"\"Edit a document by inserting text at specific line numbers.\"\"\"\n",
    "\n",
    "    with (WORKING_DIRECTORY / file_name).open(\"r\", encoding=\"utf-8\") as file:\n",
    "        lines = file.readlines()\n",
    "\n",
    "    sorted_inserts = sorted(inserts.items())\n",
    "\n",
    "    for line_number, text in sorted_inserts:\n",
    "        if 1 <= line_number <= len(lines) + 1:\n",
    "            lines.insert(line_number - 1, text + \"\\n\")\n",
    "        else:\n",
    "            return f\"Error: Line number {line_number} is out of range.\"\n",
    "\n",
    "    with (WORKING_DIRECTORY / file_name).open(\"w\", encoding=\"utf-8\", newline=\"\\n\") as file:\n",
    "        file.writelines(lines)\n",
    "\n",
    "    return f\"Document edited and saved to {file_name}\""
   ]
  },
  {
   "cell_type": "markdown",
   "metadata": {
    "id": "n8yH1IAYK7nL"
   },
   "source": [
    "##### 🏗️ Activity #3:\n",
    "\n",
    "Describe, briefly, what each of these tools is doing in your own words.\n",
    "\n",
    "create_outline: Creates a list that will be included in a text file with automatic numbering and defines the filename.\n",
    "read_document:Read the file from start every time (since reset the start value to zero every time it's opened )\n",
    "write_document: Opens the file with the given file_name and write the content that is passed as argument\n",
    "reference_previous_responses: takes the query, passes it to qdrant_previous_cohort_retriever  (through its invoke method) which searches the database and returns the most relevant documents that match the query\n",
    "edit_document: Reads file lines into a list, goes through inserts in order by line number and iserts each new text at the right place. At the end it saves the file."
   ]
  },
  {
   "cell_type": "markdown",
   "metadata": {
    "id": "__Jw_XBIFwwa"
   },
   "source": [
    "### Document Writing State\n",
    "\n",
    "Just like with our Research Team state - we want to keep track of a few things, however this time - we also want to keep track of which files we've created - so let's add that here!"
   ]
  },
  {
   "cell_type": "code",
   "execution_count": 287,
   "metadata": {
    "id": "DoU2YwJRu7wD"
   },
   "outputs": [],
   "source": [
    "import operator\n",
    "from pathlib import Path\n",
    "\n",
    "class DocWritingState(TypedDict):\n",
    "    messages: Annotated[List[BaseMessage], operator.add]\n",
    "    team_members: str\n",
    "    next: str\n",
    "    current_files: str"
   ]
  },
  {
   "cell_type": "markdown",
   "metadata": {
    "id": "4p1kQShmGHCh"
   },
   "source": [
    "### Document Writing Prelude Function\n",
    "\n",
    "Since we have a working directory - we want to be clear about what our current working directory looks like - this helper function will allow us to do that cleanly!"
   ]
  },
  {
   "cell_type": "code",
   "execution_count": 288,
   "metadata": {
    "id": "G79mUggQGLVq"
   },
   "outputs": [],
   "source": [
    "def prelude(state):\n",
    "    written_files = []\n",
    "    if not WORKING_DIRECTORY.exists():\n",
    "        WORKING_DIRECTORY.mkdir()\n",
    "    try:\n",
    "        written_files = [\n",
    "            f.relative_to(WORKING_DIRECTORY) for f in WORKING_DIRECTORY.rglob(\"*\")\n",
    "        ]\n",
    "    except:\n",
    "        pass\n",
    "    if not written_files:\n",
    "        return {**state, \"current_files\": \"No files written.\"}\n",
    "    return {\n",
    "        **state,\n",
    "        \"current_files\": \"\\nBelow are files your team has written to the directory:\\n\"\n",
    "        + \"\\n\".join([f\" - {f}\" for f in written_files]),\n",
    "    }"
   ]
  },
  {
   "cell_type": "markdown",
   "metadata": {
    "id": "wbSre9agT9Gb"
   },
   "source": [
    "### Document Writing Node Creation\n",
    "\n"
   ]
  },
  {
   "cell_type": "code",
   "execution_count": 224,
   "metadata": {},
   "outputs": [],
   "source": [
    "authoring_llm = ChatOpenAI(model=\"gpt-4o-mini\")\n"
   ]
  },
  {
   "cell_type": "code",
   "execution_count": 289,
   "metadata": {
    "id": "v7oso327T_wa"
   },
   "outputs": [],
   "source": [
    "doc_writer_agent = create_agent(\n",
    "    authoring_llm,\n",
    "    [write_document, edit_document, read_document],\n",
    "    (\"You are an expert writing customer assistance responses.\\n\"\n",
    "    \"Below are files currently in your directory:\\n{current_files}\"),\n",
    ")\n",
    "context_aware_doc_writer_agent = prelude | doc_writer_agent\n",
    "doc_writing_node = functools.partial(\n",
    "    agent_node, agent=context_aware_doc_writer_agent, name=\"DocWriter\"\n",
    ")\n",
    "\n",
    "note_taking_agent = create_agent(\n",
    "    authoring_llm,\n",
    "    [create_outline, read_document, reference_previous_responses],\n",
    "    (\"You are an expert senior researcher tasked with writing a customer assistance outline and\"\n",
    "    \" taking notes to craft a customer assistance response.\\n{current_files}\"),\n",
    ")\n",
    "context_aware_note_taking_agent = prelude | note_taking_agent\n",
    "note_taking_node = functools.partial(\n",
    "    agent_node, agent=context_aware_note_taking_agent, name=\"NoteTaker\"\n",
    ")\n",
    "\n",
    "copy_editor_agent = create_agent(\n",
    "    authoring_llm,\n",
    "    [write_document, edit_document, read_document],\n",
    "    (\"You are an expert copy editor who focuses on fixing grammar, spelling, and tone issues\\n\"\n",
    "    \"Below are files currently in your directory:\\n{current_files}\"),\n",
    ")\n",
    "context_aware_copy_editor_agent = prelude | copy_editor_agent\n",
    "copy_editing_node = functools.partial(\n",
    "    agent_node, agent=context_aware_copy_editor_agent, name=\"CopyEditor\"\n",
    ")\n",
    "\n",
    "social_media_agent = create_agent(\n",
    "    authoring_llm,\n",
    "    [write_document],\n",
    "    'You are responsible for posting paper in social media\\nBelow are files currently in your directory:\\n{current_files}'\n",
    ")\n",
    "\n",
    "context_aware_social_media_agent = prelude | social_media_agent\n",
    "social_media_node = functools.partial(agent_node,context_aware_social_media_agent,name='SocialMediaCreator')\n",
    "\n",
    "authoring_supervisor_agent = create_team_supervisor(\n",
    "    authoring_llm,\n",
    "    (\"You are a supervisor tasked with managing a conversation between the\"\n",
    "    \" following workers: {team_members}. You should always verify the technical\"\n",
    "    \" contents after any edits are made. \"\n",
    "    \"Given the following user request,\"\n",
    "    \" respond with the worker to act next. Each worker will perform a\"\n",
    "    \" task and respond with their results and status. When each team is finished,\"\n",
    "    \" you must respond with FINISH.\"),\n",
    "    [\"DocWriter\", \"NoteTaker\", \"CopyEditor\"],\n",
    ")"
   ]
  },
  {
   "cell_type": "markdown",
   "metadata": {
    "id": "AUiNMpJBGXN0"
   },
   "source": [
    "### Document Writing Team LangGraph Construction\n",
    "\n",
    "This part is almost exactly the same (with a few extra nodes) as our Research Team LangGraph construction - so we'll leave it as one block!"
   ]
  },
  {
   "cell_type": "code",
   "execution_count": 226,
   "metadata": {
    "id": "Q6n8A1ytxVTv"
   },
   "outputs": [
    {
     "data": {
      "text/plain": [
       "<langgraph.graph.state.StateGraph at 0x215f5543800>"
      ]
     },
     "execution_count": 226,
     "metadata": {},
     "output_type": "execute_result"
    }
   ],
   "source": [
    "authoring_graph = StateGraph(DocWritingState)\n",
    "authoring_graph.add_node(\"DocWriter\", doc_writing_node)\n",
    "authoring_graph.add_node(\"NoteTaker\", note_taking_node)\n",
    "authoring_graph.add_node(\"CopyEditor\", copy_editing_node)\n",
    "authoring_graph.add_node(\"AuthoringSupervisor\", authoring_supervisor_agent)\n",
    "\n",
    "authoring_graph.add_edge(\"DocWriter\", \"AuthoringSupervisor\")\n",
    "authoring_graph.add_edge(\"NoteTaker\", \"AuthoringSupervisor\")\n",
    "authoring_graph.add_edge(\"CopyEditor\", \"AuthoringSupervisor\")\n",
    "\n",
    "authoring_graph.add_conditional_edges(\n",
    "    \"AuthoringSupervisor\",\n",
    "    lambda x: x[\"next\"],\n",
    "    {\n",
    "        \"DocWriter\": \"DocWriter\",\n",
    "        \"NoteTaker\": \"NoteTaker\",\n",
    "        \"CopyEditor\" : \"CopyEditor\",\n",
    "        \"FINISH\": END,\n",
    "    },\n",
    ")\n",
    "\n",
    "authoring_graph.set_entry_point(\"AuthoringSupervisor\")"
   ]
  },
  {
   "cell_type": "code",
   "execution_count": 290,
   "metadata": {},
   "outputs": [],
   "source": [
    "compiled_authoring_graph = authoring_graph.compile()"
   ]
  },
  {
   "cell_type": "markdown",
   "metadata": {
    "id": "Zx-EKGkHKUBO"
   },
   "source": [
    "#### Display Graph"
   ]
  },
  {
   "cell_type": "code",
   "execution_count": 291,
   "metadata": {},
   "outputs": [
    {
     "data": {
      "image/png": "[encoded data removed]",
      "text/plain": [
       "<langgraph.graph.state.CompiledStateGraph object at 0x00000215F80C5F20>"
      ]
     },
     "execution_count": 291,
     "metadata": {},
     "output_type": "execute_result"
    }
   ],
   "source": [
    "compiled_authoring_graph"
   ]
  },
  {
   "cell_type": "markdown",
   "metadata": {
    "id": "yB_rOw1hGpwd"
   },
   "source": [
    "Just as before - we'll need to create an \"interface\" between the level above, and our graph."
   ]
  },
  {
   "cell_type": "code",
   "execution_count": 292,
   "metadata": {
    "id": "G-RbbCKoG_nt"
   },
   "outputs": [],
   "source": [
    "def enter_authoring_chain(message: str, members: List[str]):\n",
    "    results = {\n",
    "        \"messages\": [HumanMessage(content=message)],\n",
    "        \"team_members\": \", \".join(members),\n",
    "    }\n",
    "    return results\n",
    "\n",
    "authoring_chain = (\n",
    "    functools.partial(enter_authoring_chain, members=authoring_graph.nodes)\n",
    "    | compiled_authoring_graph\n",
    ")"
   ]
  },
  {
   "cell_type": "markdown",
   "metadata": {
    "id": "GgyhpTrRNgQd"
   },
   "source": [
    "Now we can test this out!\n",
    "\n",
    "> NOTE: It is possible you may see an error here - rerun the cell to clear."
   ]
  },
  {
   "cell_type": "code",
   "execution_count": 114,
   "metadata": {
    "colab": {
     "base_uri": "https://localhost:8080/"
    },
    "id": "IWUxv4XDx3kg",
    "outputId": "62ee7d3d-31ba-4348-b852-7fd96f6875ff"
   },
   "outputs": [
    {
     "name": "stdout",
     "output_type": "stream",
     "text": [
      "{'AuthoringSupervisor': {'next': 'DocWriter'}}\n",
      "---\n",
      "{'DocWriter': {'messages': [HumanMessage(content='The most common use cases and domains for data analysis typically include:\\n\\n1. **Retail and E-commerce:**\\n   - Customer behavior analysis\\n   - Inventory management\\n   - Sales forecasting\\n   - Targeted marketing campaigns\\n\\n2. **Finance and Banking:**\\n   - Fraud detection\\n   - Risk assessment\\n   - Customer segmentation\\n   - Credit scoring\\n\\n3. **Healthcare:**\\n   - Patient data management\\n   - Predictive analytics for disease outbreaks\\n   - Drug discovery and development\\n   - Personalized medicine\\n\\n4. **Telecommunications:**\\n   - Customer churn prediction\\n   - Network optimization\\n   - Service quality analysis\\n   - Billing and revenue assurance\\n\\n5. **Manufacturing:**\\n   - Predictive maintenance\\n   - Quality control\\n   - Supply chain optimization\\n   - Production forecasting\\n\\n6. **Education:**\\n   - Learning analytics\\n   - Student performance prediction\\n   - Curriculum effectiveness evaluation\\n   - Resource allocation\\n\\n7. **Transportation and Logistics:**\\n   - Route optimization\\n   - Demand forecasting\\n   - Fleet management\\n   - Supply chain analytics\\n\\n8. **Marketing:**\\n   - A/B testing\\n   - Social media analysis\\n   - Customer lifetime value prediction\\n   - Brand sentiment analysis\\n\\n9. **Energy Sector:**\\n   - Consumption forecasting\\n   - Smart grid management\\n   - Renewable energy optimization\\n   - Pricing strategy analysis\\n\\n10. **Sports and Entertainment:**\\n    - Player performance analytics\\n    - Fan engagement strategies\\n    - Event ticket sales analysis\\n    - Sports betting insights\\n\\nThese domains leverage data analysis to drive business decisions, enhance operational efficiency, and improve customer experiences.', additional_kwargs={}, response_metadata={}, name='DocWriter')]}}\n",
      "---\n",
      "{'AuthoringSupervisor': {'next': 'NoteTaker'}}\n",
      "---\n",
      "{'NoteTaker': {'messages': [HumanMessage(content='I have created and saved an outline detailing the most common use cases and domains for data analysis. The main points include:\\n\\n1. Retail and E-commerce\\n2. Finance and Banking\\n3. Healthcare\\n4. Telecommunications\\n5. Manufacturing\\n6. Education\\n7. Transportation and Logistics\\n8. Marketing\\n9. Energy Sector\\n10. Sports and Entertainment\\n\\nThe outline is saved in the file named **common_use_cases_domains_outline.md**.', additional_kwargs={}, response_metadata={}, name='NoteTaker')]}}\n",
      "---\n",
      "{'AuthoringSupervisor': {'next': 'CopyEditor'}}\n",
      "---\n",
      "{'CopyEditor': {'messages': [HumanMessage(content='I have reviewed and edited the document detailing the most common use cases and domains for data analysis. The changes have been implemented, and the document is saved as **common_use_cases_domains_outline.md**.', additional_kwargs={}, response_metadata={}, name='CopyEditor')]}}\n",
      "---\n",
      "{'AuthoringSupervisor': {'next': 'FINISH'}}\n",
      "---\n"
     ]
    }
   ],
   "source": [
    "for s in authoring_chain.stream(\n",
    "    \"What are the most common use-cases in this data. What are the most common domains?\",\n",
    "    {\"recursion_limit\": 100},\n",
    "):\n",
    "    if \"__end__\" not in s:\n",
    "        print(s)\n",
    "        print(\"---\")"
   ]
  },
  {
   "cell_type": "markdown",
   "metadata": {
    "id": "zpW2R9SUHGUq"
   },
   "source": [
    "## Task 5: Meta-Supervisor and Full Graph\n",
    "\n",
    "Finally, now that we have our two LangGraph agents (some of which are already multi-agent), we can build a supervisor that sits above all of them!\n",
    "\n",
    "The final process, surprisingly, is quite straight forward!\n",
    "\n",
    "Let's jump in!\n",
    "\n",
    "First off - we'll need to create our supervisor agent node."
   ]
  },
  {
   "cell_type": "code",
   "execution_count": 293,
   "metadata": {
    "id": "wkpxeUf9ygKp"
   },
   "outputs": [],
   "source": [
    "from langchain_core.messages import AIMessage, BaseMessage, HumanMessage\n",
    "from langchain_openai.chat_models import ChatOpenAI\n",
    "\n",
    "super_llm = ChatOpenAI(model=\"gpt-4o-mini\", temperature=0)\n",
    "\n",
    "super_supervisor_agent = create_team_supervisor(\n",
    "    super_llm,\n",
    "    \"You are a supervisor tasked with managing a conversation between the\"\n",
    "    \" following teams: {team_members}. Given the following user request,\"\n",
    "    \" respond with the worker to act next. Each worker will perform a\"\n",
    "    \" task and respond with their results and status. When all workers are finished,\"\n",
    "    \" you must respond with FINISH.\",\n",
    "    [\"Research team\", \"Response team\"],\n",
    ")"
   ]
  },
  {
   "cell_type": "markdown",
   "metadata": {
    "id": "hUvOh_xWIKig"
   },
   "source": [
    "We'll also create our new state - as well as some methods to help us navigate the new state and the subgraphs.\n",
    "\n",
    "> NOTE: We only pass the most recent message from the parent graph to the subgraph, and we only extract the most recent message from the subgraph to include in the state of the parent graph."
   ]
  },
  {
   "cell_type": "code",
   "execution_count": 294,
   "metadata": {
    "id": "O7HJ8MF0yh_i"
   },
   "outputs": [],
   "source": [
    "class State(TypedDict):\n",
    "    messages: Annotated[List[BaseMessage], operator.add]\n",
    "    next: str\n",
    "\n",
    "def get_last_message(state: State) -> str:\n",
    "    return state[\"messages\"][-1].content\n",
    "\n",
    "def join_graph(response: dict):\n",
    "    return {\"messages\": [response[\"messages\"][-1]]}"
   ]
  },
  {
   "cell_type": "markdown",
   "metadata": {
    "id": "B5RHao1sIanG"
   },
   "source": [
    "Next, we'll create our base graph.\n",
    "\n",
    "Notice how each node we're adding is *AN ENTIRE LANGGRAPH AGENT* (wrapped into an LCEL chain with our helper functions above)."
   ]
  },
  {
   "cell_type": "code",
   "execution_count": 295,
   "metadata": {
    "id": "PfCWABCMIaFy"
   },
   "outputs": [
    {
     "data": {
      "text/plain": [
       "<langgraph.graph.state.StateGraph at 0x215f5542990>"
      ]
     },
     "execution_count": 295,
     "metadata": {},
     "output_type": "execute_result"
    }
   ],
   "source": [
    "super_graph = StateGraph(State)\n",
    "\n",
    "super_graph.add_node(\"Research team\", get_last_message | research_chain | join_graph)\n",
    "super_graph.add_node(\"Response team\", get_last_message | authoring_chain | join_graph)\n",
    "super_graph.add_node(\"SuperSupervisor\", super_supervisor_agent)"
   ]
  },
  {
   "cell_type": "markdown",
   "metadata": {
    "id": "dpwpUXMtI62E"
   },
   "source": [
    "Next, we'll create our edges!\n",
    "\n",
    "This process is completely idenctical to what we've seen before - just addressing the LangGraph subgraph nodes instead of individual nodes."
   ]
  },
  {
   "cell_type": "code",
   "execution_count": 296,
   "metadata": {
    "id": "tLtjRuUYI-fx"
   },
   "outputs": [
    {
     "data": {
      "text/plain": [
       "<langgraph.graph.state.StateGraph at 0x215f5542990>"
      ]
     },
     "execution_count": 296,
     "metadata": {},
     "output_type": "execute_result"
    }
   ],
   "source": [
    "super_graph.add_edge(\"Research team\", \"SuperSupervisor\")\n",
    "super_graph.add_edge(\"Response team\", \"SuperSupervisor\")\n",
    "super_graph.add_conditional_edges(\n",
    "    \"SuperSupervisor\",\n",
    "    lambda x: x[\"next\"],\n",
    "    {\n",
    "        \"Response team\": \"Response team\",\n",
    "        \"Research team\": \"Research team\",\n",
    "        \"FINISH\": END,\n",
    "    },\n",
    ")\n",
    "super_graph.set_entry_point(\"SuperSupervisor\")"
   ]
  },
  {
   "cell_type": "code",
   "execution_count": 297,
   "metadata": {},
   "outputs": [
    {
     "data": {
      "image/png": "[encoded data removed]",
      "text/plain": [
       "<langgraph.graph.state.CompiledStateGraph object at 0x00000215F80C6140>"
      ]
     },
     "execution_count": 297,
     "metadata": {},
     "output_type": "execute_result"
    }
   ],
   "source": [
    "compiled_super_graph = super_graph.compile()\n",
    "compiled_super_graph"
   ]
  },
  {
   "cell_type": "markdown",
   "metadata": {
    "id": "K1KMfFqgJKw8"
   },
   "source": [
    "That's it!\n",
    "\n",
    "Now we can finally use our full agent!"
   ]
  },
  {
   "cell_type": "code",
   "execution_count": 119,
   "metadata": {
    "colab": {
     "base_uri": "https://localhost:8080/"
    },
    "id": "3M6wUDR-yk8s",
    "outputId": "056fe89e-5a81-4852-f0cb-35367da8cef0"
   },
   "outputs": [
    {
     "name": "stdout",
     "output_type": "stream",
     "text": [
      "{'SuperSupervisor': {'next': 'Research team'}}\n",
      "---\n",
      "{'Research team': {'messages': [HumanMessage(content=\"Here are several academic papers from 2025 that discuss aspects of context engineering and its impact on LLMs:\\n\\n1. **Title**: [LLMs' Reshaping of People, Processes, Products, and Society in Software Development: A Comprehensive Exploration with Early Adopters](http://arxiv.org/abs/2503.05012v1)\\n   - **Authors**: Benyamin Tabarsi et al.\\n   - **Published**: March 6, 2025\\n   - **Summary**: This paper explores how large language models (LLMs) are applied in real-world software development contexts. It discusses the importance of providing clear, well-defined problem statements to achieve effective outcomes when using LLMs, highlighting the role of context in optimizing AI interactions for software engineering.\\n\\n2. **Title**: [Evaluating Large Language Models for Real-World Engineering Tasks](http://arxiv.org/abs/2505.13484v1)\\n   - **Authors**: Rene Heesch et al.\\n   - **Published**: May 12, 2025\\n   - **Summary**: This study introduces a curated database of engineering scenarios to evaluate the performance of LLMs on complex engineering tasks. It addresses the significance of context sensitivity in engineering logic and how LLMs perform under specific contextual parameters.\\n\\n3. **Title**: [A Survey of Large Language Model Agents for Question Answering](http://arxiv.org/abs/2503.19213v1)\\n   - **Authors**: Murong Yue\\n   - **Published**: March 24, 2025\\n   - **Summary**: This paper surveys LLM-based agents for question answering and discusses the advantages of using LLMs as core reasoning engines. It emphasizes the design of LLM agents in various stages, including the contextual understanding of queries, which is critical for enhancing AI's performance.\\n\\nThese papers illustrate the ongoing research and developments in context engineering within the LLM space, providing insights into how this practice is influencing AI usage across different sectors.\", additional_kwargs={}, response_metadata={}, name='ArxivSearch')]}}\n",
      "---\n",
      "{'SuperSupervisor': {'next': 'Response team'}}\n",
      "---\n",
      "{'Response team': {'messages': [HumanMessage(content='I have reviewed and edited both the \"context_engineering_papers_2025.txt\" and \"context_engineering_outline_2025.txt\" documents for grammar, spelling, and tone. They are now polished and ready for use. If you need further assistance or have other requests, feel free to ask!', additional_kwargs={}, response_metadata={}, name='CopyEditor')]}}\n",
      "---\n",
      "{'SuperSupervisor': {'next': 'Response team'}}\n",
      "---\n",
      "{'Response team': {'messages': [HumanMessage(content='Both documents, \"context_engineering_papers_2025.txt\" and \"context_engineering_outline_2025.txt,\" have been successfully edited for grammar, spelling, and tone. They are now polished and ready for use. If you have any further requests, feel free to let me know!', additional_kwargs={}, response_metadata={}, name='CopyEditor')]}}\n",
      "---\n",
      "{'SuperSupervisor': {'next': 'FINISH'}}\n",
      "---\n"
     ]
    }
   ],
   "source": [
    "WORKING_DIRECTORY = Path(create_random_subdirectory())\n",
    "\n",
    "for s in compiled_super_graph.stream(\n",
    "    {\n",
    "        \"messages\": [\n",
    "            HumanMessage(\n",
    "                content=\"Write a report on the rise of context engineering in the LLM Space in 2025, and how it's impacting how people are using AI.\"\n",
    "            )\n",
    "        ],\n",
    "    },\n",
    "    {\"recursion_limit\": 30},\n",
    "):\n",
    "    if \"__end__\" not in s:\n",
    "        print(s)\n",
    "        print(\"---\")"
   ]
  },
  {
   "cell_type": "markdown",
   "metadata": {},
   "source": [
    "Graph to produce a social media post about a given Machine Learning paper"
   ]
  },
  {
   "cell_type": "code",
   "execution_count": 298,
   "metadata": {},
   "outputs": [],
   "source": [
    "from typing import Annotated\n",
    "from langchain_core.tools import tool\n",
    "\n",
    "PLATFORM_STYLES = {\n",
    "    \"twitter\": {\n",
    "        \"max_chars\": 280,\n",
    "        \"voice\": \"concise, punchy, first-person optional\",\n",
    "        \"format\": \"1-2 sentences + 1 hashtag + 1 link; optional emoji\",\n",
    "        \"hashtags\": 1,\n",
    "        \"emojis_max\": 2,\n",
    "    },\n",
    "    \"linkedin\": {\n",
    "        \"max_chars\": 1300,\n",
    "        \"voice\": \"professional, value-forward, no hype\",\n",
    "        \"format\": \"hook + 2-3 bullets + 1 takeaway + link\",\n",
    "        \"hashtags\": 3,\n",
    "        \"emojis_max\": 0,\n",
    "    },\n",
    "    \"reddit\": {\n",
    "        \"max_chars\": 40000,\n",
    "        \"voice\": \"neutral, discussion-inviting\",\n",
    "        \"format\": \"short paragraph + 1-2 bullet points + link; no hashtags\",\n",
    "        \"hashtags\": 0,\n",
    "        \"emojis_max\": 0,\n",
    "    },\n",
    "}\n",
    "\n",
    "@tool\n",
    "def style_guide_tool(\n",
    "    platform: Annotated[str, \"One of: twitter, linkedin, reddit\"]\n",
    ") -> dict:\n",
    "    \"\"\"Return style constraints for a social platform.\"\"\"\n",
    "    key = platform.lower().strip()\n",
    "    return PLATFORM_STYLES.get(key, PLATFORM_STYLES[\"twitter\"])\n"
   ]
  },
  {
   "cell_type": "markdown",
   "metadata": {},
   "source": [
    "Create Verification agents\n",
    "Two agents + an internal supervisor:\n",
    "\n",
    "FactChecker – reads the draft, spot-checks claims against arXiv / the web, and writes a short “facts_report.txt” (or edits the draft if it finds a clear error).\n",
    "\n",
    "StyleChecker – enforces platform style using style_guide_tool and edits the draft to comply (length, tone, hashtags)."
   ]
  },
  {
   "cell_type": "code",
   "execution_count": 299,
   "metadata": {},
   "outputs": [],
   "source": [
    "import functools\n",
    "from langchain_openai import ChatOpenAI\n",
    "from langchain_core.prompts import ChatPromptTemplate, MessagesPlaceholder\n",
    "\n",
    "verifier_llm = ChatOpenAI(model=\"gpt-4o-mini\", temperature=0)\n",
    "\n",
    "fact_checker_agent = create_agent(\n",
    "    verifier_llm,\n",
    "    tools=[arxiv_tool, tavily_tool, write_document, edit_document],\n",
    "    system_prompt=(\n",
    "        \"You are a rigorous fact-checker.\\n\"\n",
    "        \"- First use read to get the current draft if it exists but if not then create one.\\n\"\n",
    "        \"- Verify any factual claims (paper title, authors, date, results) using arXiv/web.\\n\"\n",
    "        \"- If you find a clear factual error, fix it in the draft .\\n\"\n",
    "        \"- Write a 'facts_report.txt' summarizing your findings.\\n\"\n",
    "        \"- Be precise. Cite arXiv IDs or URLs in your report.\"\n",
    "    ),\n",
    ")\n",
    "fact_checker_node = functools.partial(\n",
    "    agent_node, agent=fact_checker_agent, name=\"FactChecker\"\n",
    ")\n",
    "\n",
    "style_checker_agent = create_agent(\n",
    "    verifier_llm,\n",
    "    tools=[read_document, style_guide_tool, edit_document, write_document],\n",
    "    system_prompt=(\n",
    "        \"You are a style gatekeeper.\\n\"\n",
    "        \"- Enforce platform-specific style from style_guide_tool(platform).\\n\"\n",
    "        \"- Check tone, length, hashtags, emojis, and structure.\\n\"\n",
    "        \"- If violations exist, edit the draft in place.\\n\"\n",
    "        \"- Write a brief 'style_report.txt' summarizing fixes applied.\"\n",
    "    ),\n",
    ")\n",
    "style_checker_node = functools.partial(\n",
    "    agent_node, agent=style_checker_agent, name=\"StyleChecker\"\n",
    ")\n",
    "\n",
    "verification_supervisor = create_team_supervisor(\n",
    "    verifier_llm,\n",
    "    (\n",
    "        \"You supervise fact & style verification for a social post.\\n\"\n",
    "        \"- First run FactChecker to confirm claims.\\n\"\n",
    "        \"- Then run StyleChecker to enforce platform style.\\n\"\n",
    "        \"- If either reports unresolved issues, run them again at most once.\\n\"\n",
    "        \"- FINISH only when the draft is accurate AND meets platform style.\"\n",
    "    ),\n",
    "    [\"FactChecker\", \"StyleChecker\",\"SocialMediaCreator\"],\n",
    ")\n"
   ]
  },
  {
   "cell_type": "markdown",
   "metadata": {},
   "source": [
    "Build the Verification graph"
   ]
  },
  {
   "cell_type": "code",
   "execution_count": 300,
   "metadata": {},
   "outputs": [],
   "source": [
    "from langgraph.graph import StateGraph, END\n",
    "\n",
    "class VerificationState(TypedDict):\n",
    "    messages: Annotated[List[BaseMessage], operator.add]\n",
    "    next: str\n",
    "\n",
    "verification_graph = StateGraph(VerificationState)\n",
    "\n",
    "verification_graph.add_node(\"FactChecker\", fact_checker_node)\n",
    "verification_graph.add_node(\"StyleChecker\", style_checker_node)\n",
    "verification_graph.add_node(\"SocialMediaCreator\", social_media_node)\n",
    "\n",
    "verification_graph.add_node(\"VerificationSupervisor\", verification_supervisor)\n",
    "\n",
    "verification_graph.add_edge(\"FactChecker\", \"VerificationSupervisor\")\n",
    "verification_graph.add_edge(\"StyleChecker\", \"VerificationSupervisor\")\n",
    "verification_graph.add_edge(\"SocialMediaCreator\", \"VerificationSupervisor\")\n",
    "\n",
    "verification_graph.add_conditional_edges(\n",
    "    \"VerificationSupervisor\",\n",
    "    lambda s: s[\"next\"],\n",
    "    {\n",
    "        \"FactChecker\": \"FactChecker\",\n",
    "        \"StyleChecker\": \"StyleChecker\",\n",
    "        \"SocialMediaCreator\":\"SocialMediaCreator\",\n",
    "        \"FINISH\": END,\n",
    "    },\n",
    ")\n",
    "\n",
    "verification_graph.set_entry_point(\"VerificationSupervisor\")\n",
    "compiled_verification_graph = verification_graph.compile()\n",
    "\n"
   ]
  },
  {
   "cell_type": "code",
   "execution_count": 301,
   "metadata": {},
   "outputs": [],
   "source": [
    "from langgraph.graph import StateGraph, END\n",
    "from typing_extensions import TypedDict, Annotated\n",
    "import operator\n",
    "from langchain_core.messages import BaseMessage, HumanMessage\n",
    "from langchain_openai import ChatOpenAI\n",
    "from langchain_core.runnables import RunnableLambda  # Add this import\n",
    "\n",
    "# Define super_llm\n",
    "super_llm = ChatOpenAI(model=\"gpt-4o-mini\")\n",
    "\n",
    "# 1) Supervisor that emits exactly these options:\n",
    "supervisor = create_team_supervisor(\n",
    "    super_llm,\n",
    "    (\n",
    "        \"You orchestrate three teams: Research, Authoring, Verification.\\n\"\n",
    "        \"- First run Research if needed to gather facts.\\n\"\n",
    "        \"- Then Authoring to draft/revise the post using the file tools.\\n\"\n",
    "        \"- Then Verification (FactChecker -> StyleChecker) to ensure accuracy + style.\\n\"\n",
    "        \"- If issues remain, route back to Authoring or Verification.\\n\"\n",
    "        \"- FINISH only when the post is accurate, style-compliant, and saved.\"\n",
    "    ),\n",
    "    [\"Research\", \"Authoring\", \"Verification\"],\n",
    ")\n",
    "\n",
    "class SuperState(TypedDict):\n",
    "    messages: Annotated[list[BaseMessage], operator.add]\n",
    "    next: str\n",
    "\n",
    "def get_last_message(state: SuperState) -> str:\n",
    "    return state[\"messages\"][-1].content\n",
    "\n",
    "def join_graph(response: dict):\n",
    "    return {\"messages\": [response[\"messages\"][-1]]}\n",
    "\n",
    "def enter_verification_chain(message: str):\n",
    "    return {\"messages\": [HumanMessage(content=message)]}\n",
    "\n",
    "super_graph = StateGraph(SuperState)\n",
    "\n",
    "super_graph.add_node(\"Research\", get_last_message | research_chain | join_graph)\n",
    "super_graph.add_node(\"Authoring\", get_last_message | authoring_chain | join_graph)\n",
    "super_graph.add_node(\n",
    "    \"Verification\",\n",
    "    RunnableLambda(get_last_message)\n",
    "    | RunnableLambda(enter_verification_chain)\n",
    "    | compiled_verification_graph\n",
    "    | RunnableLambda(join_graph)\n",
    ")\n",
    "super_graph.add_node(\"Supervisor\", supervisor)\n",
    "\n",
    "super_graph.add_edge(\"Research\", \"Supervisor\")\n",
    "super_graph.add_edge(\"Authoring\", \"Supervisor\")\n",
    "super_graph.add_edge(\"Verification\", \"Supervisor\")\n",
    "\n",
    "super_graph.add_conditional_edges(\n",
    "    \"Supervisor\",\n",
    "    lambda s: s[\"next\"],\n",
    "    {\n",
    "        \"Research\": \"Research\",\n",
    "        \"Authoring\": \"Authoring\",\n",
    "        \"Verification\": \"Verification\",\n",
    "        \"FINISH\": END,\n",
    "    },\n",
    ")\n",
    "\n",
    "super_graph.set_entry_point(\"Supervisor\")\n",
    "compiled_super_graph = super_graph.compile()\n"
   ]
  },
  {
   "cell_type": "code",
   "execution_count": 302,
   "metadata": {},
   "outputs": [
    {
     "data": {
      "image/png": "[encoded data removed]",
      "text/plain": [
       "<langgraph.graph.state.CompiledStateGraph object at 0x00000215F80C6F10>"
      ]
     },
     "execution_count": 302,
     "metadata": {},
     "output_type": "execute_result"
    }
   ],
   "source": [
    "compiled_super_graph"
   ]
  },
  {
   "cell_type": "code",
   "execution_count": 303,
   "metadata": {},
   "outputs": [
    {
     "name": "stdout",
     "output_type": "stream",
     "text": [
      "{'Supervisor': {'next': 'Research'}}\n",
      "---\n",
      "{'Research': {'messages': [HumanMessage(content='🚀 Exciting new paper alert! 📚 \"Mathematics and Machine Creativity: A Survey on Bridging Mathematics with AI\" looks at AI\\'s transformative role in math research! 🤖💡 Discover how AI\\'s \\'inherent creativity\\' can inspire innovative methodologies in mathematics. Let’s merge these fields! 🔗 Read more: [arXiv link](https://arxiv.org/abs/2412.16543) #AI #Mathematics #MachineLearning #Research', additional_kwargs={}, response_metadata={}, name='Search')]}}\n",
      "---\n",
      "{'Supervisor': {'next': 'Verification'}}\n",
      "---\n",
      "{'Verification': {'messages': [HumanMessage(content=\"The draft has been edited to comply with Twitter's style guidelines. Here’s a summary of the changes made:\\n\\n- Reduced length to fit Twitter's character limit.\\n- Adjusted structure to match the 1-2 sentences + 1 hashtag + 1 link format.\\n- Limited emojis to 2 as per guidelines.\\n- Ensured a concise and punchy tone throughout the message.\\n\\nYou can find the updated draft in **current_draft.txt** and the style report in **style_report.txt**.\", additional_kwargs={}, response_metadata={}, name='StyleChecker')]}}\n",
      "---\n",
      "{'Supervisor': {'next': 'Verification'}}\n",
      "---\n",
      "{'Verification': {'messages': [HumanMessage(content=\"The draft has been successfully edited to comply with Twitter's style guidelines. Here’s a summary of the changes made:\\n\\n- Reduced length to fit Twitter's character limit.\\n- Adjusted structure to match the 1-2 sentences + 1 hashtag + 1 link format.\\n- Limited emojis to 2 as per guidelines.\\n- Ensured a concise and punchy tone throughout the message.\\n\\nYou can find the updated draft in **current_draft.txt** and the style report in **style_report.txt**.\", additional_kwargs={}, response_metadata={}, name='StyleChecker')]}}\n",
      "---\n",
      "{'Supervisor': {'next': 'FINISH'}}\n",
      "---\n"
     ]
    }
   ],
   "source": [
    "from langchain_core.messages import HumanMessage\n",
    "import os\n",
    "import sys\n",
    "\n",
    "\n",
    "msg = (\n",
    "  \"Platform: Twitter. Paper: https://arxiv.org/abs/2412.16543. \"\n",
    "  \"Create a short social post, then verify facts and Twitter style.\"\n",
    ")\n",
    "for s in compiled_super_graph.stream({\"messages\": [HumanMessage(content=msg)]},\n",
    "                                     {\"recursion_limit\": 40}):\n",
    "    if \"__end__\" not in s:\n",
    "        try:\n",
    "            print(s)\n",
    "        except UnicodeEncodeError:\n",
    "            # Fallback: encode problematic characters\n",
    "            print(str(s).encode('ascii', 'ignore').decode('ascii'))\n",
    "        print(\"---\")"
   ]
  },
  {
   "cell_type": "code",
   "execution_count": 178,
   "metadata": {},
   "outputs": [],
   "source": [
    "from langchain_core.messages import HumanMessage\n",
    "\n",
    "def build_prompt(inputs: dict) -> str:\n",
    "    platform = inputs.get(\"platform\", \"Twitter\")\n",
    "    paper = inputs[\"paper\"]\n",
    "    task = inputs.get(\"task\",\n",
    "        \"Create a short social post, then verify facts and platform style.\")\n",
    "\n",
    "    hard_rules = (\n",
    "        \"- Include the paper's exact title and year from the link.\\n\"\n",
    "        \"- Do not invent facts; if unknown, say \\\"I don't know\\\".\\n\"\n",
    "        \"- Obey {platform} style (length, tone, structure).\\n\"\n",
    "        \"- End the post with: Source: Arxiv\"\n",
    "    )\n",
    "\n",
    "    return (\n",
    "        f\"Platform: {platform}. Paper: {paper}.\\n\"\n",
    "        f\"{task}\\n\"\n",
    "        f\"Follow ALL rules:\\n{hard_rules}\\n\"\n",
    "        \"If any rule cannot be satisfied, state why, then provide the best compliant post.\"\n",
    "    )\n",
    "    \n",
    "\n",
    "def agent_chain_with_formatting(inputs: dict) -> dict:\n",
    "    prompt = build_prompt(inputs)\n",
    "    result = compiled_super_graph.invoke(\n",
    "        {\"messages\": [HumanMessage(content=prompt)]},\n",
    "        {\"recursion_limit\": 40},\n",
    "    )\n",
    "    return {\"answer\": result[\"messages\"][-1].content}\n"
   ]
  },
  {
   "cell_type": "code",
   "execution_count": 172,
   "metadata": {},
   "outputs": [],
   "source": [
    "from openevals.llm import create_llm_as_judge\n",
    "\n",
    "CORRECTNESS_NO_REF_PROMPT = \"\"\"\n",
    "You are an impartial grader. Decide if ANSWER satisfies the TASK in INPUTS.\n",
    "Requirements for 1.0:\n",
    "- Uses facts from the paper link in INPUTS; no fabrication.\n",
    "- Includes the paper's exact title and year.\n",
    "- Obeys platform style constraints in INPUTS (length/tone/structure).\n",
    "- Ends with 'Source: Arxiv' if specified.\n",
    "\n",
    "Return only JSON:\n",
    "{{\"score\": number in [0,1], \"reasoning\": \"brief reason\"}}\n",
    "\n",
    "INPUTS:\n",
    "{inputs}\n",
    "\n",
    "ANSWER:\n",
    "{outputs}\n",
    "\"\"\"\n",
    "\n",
    "correctness_evaluator = create_llm_as_judge(\n",
    "    prompt=CORRECTNESS_NO_REF_PROMPT,\n",
    "    model=\"openai:o3-mini\",\n",
    "    feedback_key=\"correctness\",\n",
    ")\n",
    "\n",
    "HELPFULNESS_PROMPT = \"\"\"\n",
    "You are an impartial grader.\n",
    "Is the ANSWER helpful for the user's task in INPUTS?\n",
    "Helpful = directly addresses the task, follows constraints, is clear and concise.\n",
    "\n",
    "Return only JSON:\n",
    "{{\"score\": number in [0,1], \"reasoning\": \"brief reason\"}}\n",
    "\n",
    "INPUTS:\n",
    "{inputs}\n",
    "\n",
    "ANSWER:\n",
    "{outputs}\n",
    "\"\"\"\n",
    "\n",
    "helpfulness_evaluator = create_llm_as_judge(\n",
    "    prompt=HELPFULNESS_PROMPT,\n",
    "    model=\"openai:o3-mini\",\n",
    "    feedback_key=\"helpfulness\",\n",
    ")"
   ]
  },
  {
   "cell_type": "code",
   "execution_count": 179,
   "metadata": {},
   "outputs": [],
   "source": [
    "from langsmith import Client\n",
    "from langsmith.utils import LangSmithNotFoundError\n",
    "\n",
    "client = Client()\n",
    "DATASET_NAME = \"supergraph-mini-eval\"\n",
    "\n",
    "try:\n",
    "    dataset = client.read_dataset(dataset_name=DATASET_NAME)\n",
    "except LangSmithNotFoundError:\n",
    "    dataset = client.create_dataset(dataset_name=DATASET_NAME,\n",
    "                                    description=\"Mini eval for supergraph\")\n",
    "\n",
    "examples = [\n",
    "    {\n",
    "        \"inputs\": {\n",
    "            \"platform\": \"Twitter\",\n",
    "            \"paper\": \"https://arxiv.org/abs/2412.16543\",\n",
    "            \"task\": \"Create a short social post, then verify facts and Twitter style.\"\n",
    "        },\n",
    "        \"outputs\": {\n",
    "            \"answer\": \"Twitter: 1–2 sentences; include exact title + year; neutral tone; end with 'Source: Arxiv'.\"\n",
    "        }\n",
    "    },\n",
    "    {\n",
    "        \"inputs\": {\n",
    "            \"platform\": \"LinkedIn\",\n",
    "            \"paper\": \"https://arxiv.org/abs/2303.08774\",\n",
    "            \"task\": \"Write a professional 3-bullet summary and enforce LinkedIn style.\"\n",
    "        },\n",
    "        \"outputs\": {\n",
    "            \"answer\": \"LinkedIn: 3 concise bullets; professional tone; include exact title + year; no emojis/hashtags.\"\n",
    "        }\n",
    "    },\n",
    "]\n",
    "\n",
    "for ex in examples:\n",
    "    client.create_example(\n",
    "        dataset_id=dataset.id,\n",
    "        inputs=ex[\"inputs\"],\n",
    "        outputs=ex[\"outputs\"], \n",
    "    )\n"
   ]
  },
  {
   "cell_type": "code",
   "execution_count": 180,
   "metadata": {},
   "outputs": [
    {
     "name": "stdout",
     "output_type": "stream",
     "text": [
      "View the evaluation results for experiment: 'supergraph, judge-only-a15e396d' at:\n",
      "https://smith.langchain.com/o/8b8098c0-2dae-45d0-b8d7-292915a4d198/datasets/10835294-ffda-45dc-ae05-59ca0f69f631/compare?selectedSessions=51582644-387f-4aa3-97d9-f0b7b110bd3d\n",
      "\n",
      "\n"
     ]
    },
    {
     "data": {
      "application/vnd.jupyter.widget-view+json": {
       "model_id": "2b8a17c384574b9299f5f342f1b9c102",
       "version_major": 2,
       "version_minor": 0
      },
      "text/plain": [
       "0it [00:00, ?it/s]"
      ]
     },
     "metadata": {},
     "output_type": "display_data"
    },
    {
     "name": "stdout",
     "output_type": "stream",
     "text": [
      "View results at: None\n"
     ]
    }
   ],
   "source": [
    "results = client.evaluate(\n",
    "    agent_chain_with_formatting,       \n",
    "    data=DATASET_NAME,                  \n",
    "    evaluators=[correctness_evaluator, helpfulness_evaluator],\n",
    "    experiment_prefix=\"supergraph, judge-only\",\n",
    "    description=\"Correctness + helpfulness via LLM judge.\",\n",
    "    max_concurrency=4,\n",
    ")\n",
    "\n",
    "print(f\"View results at: {getattr(results, 'url', None) or getattr(results, 'comparison_url', None)}\")\n"
   ]
  },
  {
   "cell_type": "markdown",
   "metadata": {
    "id": "PuZAvSlJJpPP"
   },
   "source": [
    "## SAMPLE POST!"
   ]
  },
  {
   "cell_type": "markdown",
   "metadata": {
    "id": "lOEMCrXTJaxW"
   },
   "source": [
    "### Report on the Rise of Context Engineering in the LLM Space in 2025\n",
    "\n",
    "#### Introduction\n",
    "As we move further into 2025, the landscape of artificial intelligence continues to evolve, particularly in the domain of large language models (LLMs). One significant trend emerging is \"context engineering,\" which has begun to outpace the earlier focus on prompt engineering. This report explores how context engineering is reshaping the dynamics of AI usage, enhancing the capabilities of LLMs to perform complex tasks, and ultimately influencing the way users interact with AI technologies.\n",
    "\n",
    "#### The Emergence of Context Engineering\n",
    "In previous years, prompt engineering involved crafting inputs to guide LLMs to generate desired outputs. However, by 2025, the limitations of traditional prompt engineering have become evident, especially as applications require more dynamic interactions and multi-turn dialogues. Context engineering has emerged as a new paradigm, prioritizing the construction of strategies and systems that enable LLMs to access and utilize extensive contextual information effectively.\n",
    "\n",
    "Modern LLMs, such as GPT-4 Turbo and Claude 3, now boast context windows that can handle up to 1 million tokens. This substantial increase allows these models to grasp more extensive content, such as books or lengthy documents, fundamentally changing what they can achieve in real-world applications.\n",
    "\n",
    "#### Key Developments in Context Engineering\n",
    "1. **Dynamic Knowledge Management**: The shift towards context engineering facilitates more sophisticated knowledge management within AI systems. These systems now use persistent memory and adaptive reasoning, enabling them to maintain context across interactions. For example, agent-based LLMs can now engage in workflows requiring multiple exchanges, which is vital for complex applications requiring follow-ups and extended dialogues.\n",
    "\n",
    "2. **Improved Context Lengths**: Advances in transformer architectures have led to the possibility of extending native context lengths dramatically. As a result, LLMs can process larger datasets directly, enhancing their capacity to deliver accurate and relevant outputs without extensive re-prompting.\n",
    "\n",
    "3. **Context Compression and Retrieval**: Techniques such as context compression, where information is stored externally or synthesized to maximize relevance, are gaining traction. Methods identified in recent studies highlight the importance of integrating efficient retrieval systems and summarization techniques to make the most of the available context.\n",
    "\n",
    "4. **The Rise of Multi-Agent Systems**: In 2025, LLM applications are increasingly shifting towards multi-agent architectures, where different AI agents work collaboratively, leveraging various tools and pieces of information to improve output accuracy and reduce operational inefficiencies.\n",
    "\n",
    "#### Impact on AI Usage\n",
    "The implications of context engineering are far-reaching and transformative for users and organizations:\n",
    "\n",
    "- **Enhanced Accuracy**: Enterprises adopting context engineering report accuracy rates of 90-95%, a significant improvement over the 65-75% typically associated with earlier methods. This rise in performance is generating more trust in AI systems across various sectors.\n",
    "\n",
    "- **Faster Deployment and Cost Efficiency**: Organizations employing structured context engineering have demonstrated a 3x increase in the speed of bringing AI solutions to production and a 40% reduction in operational costs compared to traditional prompt-based methodologies.\n",
    "\n",
    "- **Adaptability and Scalability**: Context-engineered systems are inherently more adaptable, allowing businesses to scale AI applications rapidly in response to evolving needs without overhauling the underlying architecture.\n",
    "\n",
    "- **Augmentation of Human Intelligence**: As context engineering allows AI systems to interact in more meaningful ways, they are increasingly positioned as partners in decision-making processes, rather than mere tools. This evolution enhances the collaborative potential between humans and AI.\n",
    "\n",
    "#### Conclusion\n",
    "The rise of context engineering marks a critical turning point in the development and application of LLMs. As AI systems become increasingly capable of managing and utilizing complex contextual information, they are set to enhance user experiences, improve efficiency, and drive new innovations across industries. Organizations that embrace this trend will likely lead the charge into a future where AI is not just a tool for automation but a collaborative partner in problem-solving and creativity."
   ]
  }
 ],
 "metadata": {
  "colab": {
   "provenance": []
  },
  "kernelspec": {
   "display_name": ".venv",
   "language": "python",
   "name": "python3"
  },
  "language_info": {
   "codemirror_mode": {
    "name": "ipython",
    "version": 3
   },
   "file_extension": ".py",
   "mimetype": "text/x-python",
   "name": "python",
   "nbconvert_exporter": "python",
   "pygments_lexer": "ipython3",
   "version": "3.13.7"
  }
 },
 "nbformat": 4,
 "nbformat_minor": 0
}
