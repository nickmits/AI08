{
 "cells": [
  {
   "cell_type": "code",
   "execution_count": 10,
   "id": "4a68dea7",
   "metadata": {},
   "outputs": [],
   "source": [
    "import os\n",
    "from getpass import getpass\n",
    "os.environ[\"OPENAI_API_KEY\"] = getpass(\"Please enter your OpenAI API key!\")"
   ]
  },
  {
   "cell_type": "code",
   "execution_count": 11,
   "id": "db28e5d7",
   "metadata": {},
   "outputs": [],
   "source": [
    "from langchain_community.document_loaders import PyMuPDFLoader\n",
    "\n",
    "# Load only the meditation research PDF\n",
    "loader = PyMuPDFLoader(\"data/MeditationResearchacomprehensivereview.pdf\")\n",
    "docs = loader.load()\n"
   ]
  },
  {
   "cell_type": "code",
   "execution_count": 13,
   "id": "5ac10f5e",
   "metadata": {},
   "outputs": [
    {
     "data": {
      "application/vnd.jupyter.widget-view+json": {
       "model_id": "592c5476d8b3488e918c13c175ea49ca",
       "version_major": 2,
       "version_minor": 0
      },
      "text/plain": [
       "Applying HeadlinesExtractor:   0%|          | 0/7 [00:00<?, ?it/s]"
      ]
     },
     "metadata": {},
     "output_type": "display_data"
    },
    {
     "data": {
      "application/vnd.jupyter.widget-view+json": {
       "model_id": "c16eb20130244a8a8126438fcfa4b418",
       "version_major": 2,
       "version_minor": 0
      },
      "text/plain": [
       "Applying HeadlineSplitter:   0%|          | 0/8 [00:00<?, ?it/s]"
      ]
     },
     "metadata": {},
     "output_type": "display_data"
    },
    {
     "name": "stderr",
     "output_type": "stream",
     "text": [
      "unable to apply transformation: 'headlines' property not found in this node\n"
     ]
    },
    {
     "data": {
      "application/vnd.jupyter.widget-view+json": {
       "model_id": "230185526ce6403d903e6f143cb52346",
       "version_major": 2,
       "version_minor": 0
      },
      "text/plain": [
       "Applying SummaryExtractor:   0%|          | 0/10 [00:00<?, ?it/s]"
      ]
     },
     "metadata": {},
     "output_type": "display_data"
    },
    {
     "name": "stderr",
     "output_type": "stream",
     "text": [
      "Property 'summary' already exists in node '39b640'. Skipping!\n",
      "Property 'summary' already exists in node '227ab5'. Skipping!\n",
      "Property 'summary' already exists in node '53b1bd'. Skipping!\n"
     ]
    },
    {
     "data": {
      "application/vnd.jupyter.widget-view+json": {
       "model_id": "154003c936a745c88ba999c15a9a06c3",
       "version_major": 2,
       "version_minor": 0
      },
      "text/plain": [
       "Applying CustomNodeFilter:   0%|          | 0/8 [00:00<?, ?it/s]"
      ]
     },
     "metadata": {},
     "output_type": "display_data"
    },
    {
     "data": {
      "application/vnd.jupyter.widget-view+json": {
       "model_id": "1cd91f5ed8f24e9eb54fda71e32c2c69",
       "version_major": 2,
       "version_minor": 0
      },
      "text/plain": [
       "Applying [EmbeddingExtractor, ThemesExtractor, NERExtractor]:   0%|          | 0/24 [00:00<?, ?it/s]"
      ]
     },
     "metadata": {},
     "output_type": "display_data"
    },
    {
     "name": "stderr",
     "output_type": "stream",
     "text": [
      "Property 'summary_embedding' already exists in node '53b1bd'. Skipping!\n",
      "Property 'summary_embedding' already exists in node '39b640'. Skipping!\n",
      "Property 'summary_embedding' already exists in node '227ab5'. Skipping!\n"
     ]
    },
    {
     "data": {
      "application/vnd.jupyter.widget-view+json": {
       "model_id": "e6e93531de7d4dde9a869db856694076",
       "version_major": 2,
       "version_minor": 0
      },
      "text/plain": [
       "Applying [CosineSimilarityBuilder, OverlapScoreBuilder]:   0%|          | 0/2 [00:00<?, ?it/s]"
      ]
     },
     "metadata": {},
     "output_type": "display_data"
    },
    {
     "data": {
      "application/vnd.jupyter.widget-view+json": {
       "model_id": "b3c3cd10edb74f60946a1456184a0305",
       "version_major": 2,
       "version_minor": 0
      },
      "text/plain": [
       "Generating personas:   0%|          | 0/3 [00:00<?, ?it/s]"
      ]
     },
     "metadata": {},
     "output_type": "display_data"
    },
    {
     "data": {
      "application/vnd.jupyter.widget-view+json": {
       "model_id": "08d7ddf31e4b4cc3a6541b1ce29540c1",
       "version_major": 2,
       "version_minor": 0
      },
      "text/plain": [
       "Generating Scenarios:   0%|          | 0/3 [00:00<?, ?it/s]"
      ]
     },
     "metadata": {},
     "output_type": "display_data"
    },
    {
     "data": {
      "application/vnd.jupyter.widget-view+json": {
       "model_id": "16c0c823f3ef4dadae97bd96f523c815",
       "version_major": 2,
       "version_minor": 0
      },
      "text/plain": [
       "Generating Samples:   0%|          | 0/12 [00:00<?, ?it/s]"
      ]
     },
     "metadata": {},
     "output_type": "display_data"
    }
   ],
   "source": [
    "# Generate Synthetic Test Data with RAGAS\n",
    "from ragas.llms import LangchainLLMWrapper\n",
    "from ragas.embeddings import LangchainEmbeddingsWrapper\n",
    "from ragas.testset import TestsetGenerator\n",
    "from langchain_openai import ChatOpenAI, OpenAIEmbeddings\n",
    "\n",
    "# Setup generators\n",
    "generator_llm = LangchainLLMWrapper(ChatOpenAI(model=\"gpt-4o-mini\"))\n",
    "generator_embeddings = LangchainEmbeddingsWrapper(OpenAIEmbeddings())\n",
    "\n",
    "# Generate test dataset\n",
    "generator = TestsetGenerator(llm=generator_llm, embedding_model=generator_embeddings)\n",
    "dataset = generator.generate_with_langchain_docs(docs, testset_size=10)"
   ]
  },
  {
   "cell_type": "code",
   "execution_count": 14,
   "id": "c4edd6f8",
   "metadata": {},
   "outputs": [
    {
     "data": {
      "text/html": [
       "<div>\n",
       "<style scoped>\n",
       "    .dataframe tbody tr th:only-of-type {\n",
       "        vertical-align: middle;\n",
       "    }\n",
       "\n",
       "    .dataframe tbody tr th {\n",
       "        vertical-align: top;\n",
       "    }\n",
       "\n",
       "    .dataframe thead th {\n",
       "        text-align: right;\n",
       "    }\n",
       "</style>\n",
       "<table border=\"1\" class=\"dataframe\">\n",
       "  <thead>\n",
       "    <tr style=\"text-align: right;\">\n",
       "      <th></th>\n",
       "      <th>user_input</th>\n",
       "      <th>reference_contexts</th>\n",
       "      <th>reference</th>\n",
       "      <th>synthesizer_name</th>\n",
       "    </tr>\n",
       "  </thead>\n",
       "  <tbody>\n",
       "    <tr>\n",
       "      <th>0</th>\n",
       "      <td>What role does India play in the research of m...</td>\n",
       "      <td>[S Rajaraman et al Int. Journal of Engineering...</td>\n",
       "      <td>India is highlighted as a significant location...</td>\n",
       "      <td>single_hop_specifc_query_synthesizer</td>\n",
       "    </tr>\n",
       "    <tr>\n",
       "      <th>1</th>\n",
       "      <td>How does meditation affect the Autonomous Nerv...</td>\n",
       "      <td>[Meditation techniques I. INTRODUCTION Meditat...</td>\n",
       "      <td>Meditation involves a complicated form of rela...</td>\n",
       "      <td>single_hop_specifc_query_synthesizer</td>\n",
       "    </tr>\n",
       "    <tr>\n",
       "      <th>2</th>\n",
       "      <td>Wht are the benfits of Buddist meditaton techn...</td>\n",
       "      <td>[S Rajaraman et al Int. Journal of Engineering...</td>\n",
       "      <td>Buddhist meditation techniques, such as Zen Me...</td>\n",
       "      <td>single_hop_specifc_query_synthesizer</td>\n",
       "    </tr>\n",
       "    <tr>\n",
       "      <th>3</th>\n",
       "      <td>Can you elaborate on the contributions of Leon...</td>\n",
       "      <td>[METHODOLOGY Opher Caspi et al. [13] suggested...</td>\n",
       "      <td>Leonaite A. Vainoras performed an analysis of ...</td>\n",
       "      <td>single_hop_specifc_query_synthesizer</td>\n",
       "    </tr>\n",
       "    <tr>\n",
       "      <th>4</th>\n",
       "      <td>What are the physiological benefits of Mindful...</td>\n",
       "      <td>[&lt;1-hop&gt;\\n\\nS Rajaraman et al Int. Journal of ...</td>\n",
       "      <td>Mindfulness Meditation is noted for its effect...</td>\n",
       "      <td>multi_hop_abstract_query_synthesizer</td>\n",
       "    </tr>\n",
       "    <tr>\n",
       "      <th>5</th>\n",
       "      <td>What are the physiological effects of meditati...</td>\n",
       "      <td>[&lt;1-hop&gt;\\n\\nS Rajaraman et al Int. Journal of ...</td>\n",
       "      <td>Research by S Rajaraman et al. indicates that ...</td>\n",
       "      <td>multi_hop_abstract_query_synthesizer</td>\n",
       "    </tr>\n",
       "    <tr>\n",
       "      <th>6</th>\n",
       "      <td>What are the effects of meditation techniques ...</td>\n",
       "      <td>[&lt;1-hop&gt;\\n\\nS Rajaraman et al Int. Journal of ...</td>\n",
       "      <td>Meditation techniques have been shown to provi...</td>\n",
       "      <td>multi_hop_abstract_query_synthesizer</td>\n",
       "    </tr>\n",
       "    <tr>\n",
       "      <th>7</th>\n",
       "      <td>How do meditation techniques contribute to car...</td>\n",
       "      <td>[&lt;1-hop&gt;\\n\\nS Rajaraman et al Int. Journal of ...</td>\n",
       "      <td>Meditation techniques have been shown to provi...</td>\n",
       "      <td>multi_hop_abstract_query_synthesizer</td>\n",
       "    </tr>\n",
       "    <tr>\n",
       "      <th>8</th>\n",
       "      <td>What were the findings of Atefeh Goshvarpour e...</td>\n",
       "      <td>[&lt;1-hop&gt;\\n\\nMETHODOLOGY Opher Caspi et al. [13...</td>\n",
       "      <td>Atefeh Goshvarpour et al. analyzed the lagged ...</td>\n",
       "      <td>multi_hop_specific_query_synthesizer</td>\n",
       "    </tr>\n",
       "    <tr>\n",
       "      <th>9</th>\n",
       "      <td>What were the findings of Damodar Prasad Goswa...</td>\n",
       "      <td>[&lt;1-hop&gt;\\n\\nMETHODOLOGY Opher Caspi et al. [13...</td>\n",
       "      <td>Damodar Prasad Goswami et al. analyzed heart r...</td>\n",
       "      <td>multi_hop_specific_query_synthesizer</td>\n",
       "    </tr>\n",
       "    <tr>\n",
       "      <th>10</th>\n",
       "      <td>What were the findings of Damodar Prasad Goswa...</td>\n",
       "      <td>[&lt;1-hop&gt;\\n\\nMETHODOLOGY Opher Caspi et al. [13...</td>\n",
       "      <td>Damodar Prasad Goswami et al. analyzed heart r...</td>\n",
       "      <td>multi_hop_specific_query_synthesizer</td>\n",
       "    </tr>\n",
       "    <tr>\n",
       "      <th>11</th>\n",
       "      <td>What were the findings of Leonaite A. Vainoras...</td>\n",
       "      <td>[&lt;1-hop&gt;\\n\\nMETHODOLOGY Opher Caspi et al. [13...</td>\n",
       "      <td>Leonaite. A. Vainoras found significant change...</td>\n",
       "      <td>multi_hop_specific_query_synthesizer</td>\n",
       "    </tr>\n",
       "  </tbody>\n",
       "</table>\n",
       "</div>"
      ],
      "text/plain": [
       "                                           user_input  \\\n",
       "0   What role does India play in the research of m...   \n",
       "1   How does meditation affect the Autonomous Nerv...   \n",
       "2   Wht are the benfits of Buddist meditaton techn...   \n",
       "3   Can you elaborate on the contributions of Leon...   \n",
       "4   What are the physiological benefits of Mindful...   \n",
       "5   What are the physiological effects of meditati...   \n",
       "6   What are the effects of meditation techniques ...   \n",
       "7   How do meditation techniques contribute to car...   \n",
       "8   What were the findings of Atefeh Goshvarpour e...   \n",
       "9   What were the findings of Damodar Prasad Goswa...   \n",
       "10  What were the findings of Damodar Prasad Goswa...   \n",
       "11  What were the findings of Leonaite A. Vainoras...   \n",
       "\n",
       "                                   reference_contexts  \\\n",
       "0   [S Rajaraman et al Int. Journal of Engineering...   \n",
       "1   [Meditation techniques I. INTRODUCTION Meditat...   \n",
       "2   [S Rajaraman et al Int. Journal of Engineering...   \n",
       "3   [METHODOLOGY Opher Caspi et al. [13] suggested...   \n",
       "4   [<1-hop>\\n\\nS Rajaraman et al Int. Journal of ...   \n",
       "5   [<1-hop>\\n\\nS Rajaraman et al Int. Journal of ...   \n",
       "6   [<1-hop>\\n\\nS Rajaraman et al Int. Journal of ...   \n",
       "7   [<1-hop>\\n\\nS Rajaraman et al Int. Journal of ...   \n",
       "8   [<1-hop>\\n\\nMETHODOLOGY Opher Caspi et al. [13...   \n",
       "9   [<1-hop>\\n\\nMETHODOLOGY Opher Caspi et al. [13...   \n",
       "10  [<1-hop>\\n\\nMETHODOLOGY Opher Caspi et al. [13...   \n",
       "11  [<1-hop>\\n\\nMETHODOLOGY Opher Caspi et al. [13...   \n",
       "\n",
       "                                            reference  \\\n",
       "0   India is highlighted as a significant location...   \n",
       "1   Meditation involves a complicated form of rela...   \n",
       "2   Buddhist meditation techniques, such as Zen Me...   \n",
       "3   Leonaite A. Vainoras performed an analysis of ...   \n",
       "4   Mindfulness Meditation is noted for its effect...   \n",
       "5   Research by S Rajaraman et al. indicates that ...   \n",
       "6   Meditation techniques have been shown to provi...   \n",
       "7   Meditation techniques have been shown to provi...   \n",
       "8   Atefeh Goshvarpour et al. analyzed the lagged ...   \n",
       "9   Damodar Prasad Goswami et al. analyzed heart r...   \n",
       "10  Damodar Prasad Goswami et al. analyzed heart r...   \n",
       "11  Leonaite. A. Vainoras found significant change...   \n",
       "\n",
       "                        synthesizer_name  \n",
       "0   single_hop_specifc_query_synthesizer  \n",
       "1   single_hop_specifc_query_synthesizer  \n",
       "2   single_hop_specifc_query_synthesizer  \n",
       "3   single_hop_specifc_query_synthesizer  \n",
       "4   multi_hop_abstract_query_synthesizer  \n",
       "5   multi_hop_abstract_query_synthesizer  \n",
       "6   multi_hop_abstract_query_synthesizer  \n",
       "7   multi_hop_abstract_query_synthesizer  \n",
       "8   multi_hop_specific_query_synthesizer  \n",
       "9   multi_hop_specific_query_synthesizer  \n",
       "10  multi_hop_specific_query_synthesizer  \n",
       "11  multi_hop_specific_query_synthesizer  "
      ]
     },
     "execution_count": 14,
     "metadata": {},
     "output_type": "execute_result"
    }
   ],
   "source": [
    "dataset.to_pandas()"
   ]
  },
  {
   "cell_type": "markdown",
   "id": "a64f65fa",
   "metadata": {},
   "source": [
    " ### Baseline RAG with Traditional Chunking"
   ]
  },
  {
   "cell_type": "code",
   "execution_count": 15,
   "id": "e9c73b75",
   "metadata": {},
   "outputs": [],
   "source": [
    "from langchain.text_splitter import RecursiveCharacterTextSplitter\n",
    "from langchain_openai import OpenAIEmbeddings\n",
    "from langchain_qdrant import QdrantVectorStore\n",
    "from qdrant_client import QdrantClient\n",
    "from qdrant_client.models import Distance, VectorParams\n",
    "from langchain.prompts import ChatPromptTemplate\n",
    "from langchain_openai import ChatOpenAI\n",
    "from langgraph.graph import StateGraph, END\n",
    "from typing import TypedDict, List\n",
    "from langchain_core.documents import Document\n",
    "\n",
    "# Traditional chunking\n",
    "text_splitter = RecursiveCharacterTextSplitter(chunk_size=1000, chunk_overlap=200)\n",
    "traditional_docs = text_splitter.split_documents(docs)\n",
    "\n",
    "# Vector store setup\n",
    "embeddings = OpenAIEmbeddings(model=\"text-embedding-3-small\")\n",
    "client = QdrantClient(\":memory:\")\n",
    "client.create_collection(\n",
    "    collection_name=\"traditional_chunks\",\n",
    "    vectors_config=VectorParams(size=1536, distance=Distance.COSINE),\n",
    ")\n",
    "vector_store = QdrantVectorStore(\n",
    "    client=client,\n",
    "    collection_name=\"traditional_chunks\",\n",
    "    embedding=embeddings,\n",
    ")\n",
    "_ = vector_store.add_documents(documents=traditional_docs)\n",
    "\n",
    "# Naive retriever\n",
    "naive_retriever = vector_store.as_retriever(search_kwargs={\"k\": 3})\n",
    "\n",
    "# RAG components\n",
    "RAG_PROMPT = \"\"\"You are a helpful assistant who answers questions based on provided context. You must only use the provided context, and cannot use your own knowledge.\n",
    "\n",
    "### Question\n",
    "{question}\n",
    "\n",
    "### Context\n",
    "{context}\"\"\"\n",
    "\n",
    "rag_prompt = ChatPromptTemplate.from_template(RAG_PROMPT)\n",
    "llm = ChatOpenAI(model=\"gpt-4o-mini\")\n",
    "\n",
    "# LangGraph state\n",
    "class RAGState(TypedDict):\n",
    "    question: str\n",
    "    context: List[Document]\n",
    "    response: str\n",
    "\n",
    "# Nodes\n",
    "def retrieve_traditional(state: RAGState) -> RAGState:\n",
    "    retrieved_docs = naive_retriever.invoke(state[\"question\"])\n",
    "    return {\"context\": retrieved_docs}\n",
    "\n",
    "def generate(state: RAGState) -> RAGState:\n",
    "    docs_content = \"\\n\\n\".join(doc.page_content for doc in state[\"context\"])\n",
    "    messages = rag_prompt.format_messages(question=state[\"question\"], context=docs_content)\n",
    "    response = llm.invoke(messages)\n",
    "    return {\"response\": response.content}\n",
    "\n",
    "# Build graph\n",
    "workflow = StateGraph(RAGState)\n",
    "workflow.add_node(\"retrieve\", retrieve_traditional)\n",
    "workflow.add_node(\"generate\", generate)\n",
    "workflow.set_entry_point(\"retrieve\")\n",
    "workflow.add_edge(\"retrieve\", \"generate\")\n",
    "workflow.add_edge(\"generate\", END)\n",
    "\n",
    "traditional_graph = workflow.compile()"
   ]
  },
  {
   "cell_type": "code",
   "execution_count": 18,
   "id": "fd078652",
   "metadata": {},
   "outputs": [],
   "source": [
    "response = traditional_graph.invoke({\"question\" : \"Who wrote the paper?\"})"
   ]
  },
  {
   "cell_type": "code",
   "execution_count": 19,
   "id": "648fede2",
   "metadata": {},
   "outputs": [
    {
     "data": {
      "text/plain": [
       "'The paper \"Meditation Research: A Comprehensive Review\" was written by Sivaramakrishnan Rajaraman.'"
      ]
     },
     "execution_count": 19,
     "metadata": {},
     "output_type": "execute_result"
    }
   ],
   "source": [
    "response['response']"
   ]
  },
  {
   "cell_type": "markdown",
   "id": "a061bc8f",
   "metadata": {},
   "source": [
    "###  Semantic Chunking RAG"
   ]
  },
  {
   "cell_type": "code",
   "execution_count": null,
   "id": "207fd86a",
   "metadata": {},
   "outputs": [],
   "source": [
    "from langchain_experimental.text_splitter import SemanticChunker\n",
    "\n",
    "semantic_chunker = SemanticChunker(\n",
    "    embeddings,\n",
    "    breakpoint_threshold_type=\"interquartile\",\n",
    "    breakpoint_threshold_amount=95.0,\n",
    "    min_chunk_size=50\n",
    ")\n",
    "\n",
    "semantic_docs = semantic_chunker.create_documents([doc.page_content for doc in docs])\n",
    "\n",
    "semantic_documents = []\n",
    "for i, doc in enumerate(semantic_docs):\n",
    "    semantic_documents.append(Document(\n",
    "        page_content=doc.page_content,\n",
    "        metadata={\"chunk_index\": i, \"chunking_method\": \"semantic\"}\n",
    "    ))\n",
    "\n",
    "client_semantic = QdrantClient(\":memory:\")\n",
    "client_semantic.create_collection(\n",
    "    collection_name=\"semantic_chunks\",\n",
    "    vectors_config=VectorParams(size=1536, distance=Distance.COSINE),\n",
    ")\n",
    "semantic_vector_store = QdrantVectorStore(\n",
    "    client=client_semantic,\n",
    "    collection_name=\"semantic_chunks\",\n",
    "    embedding=embeddings,\n",
    ")\n",
    "_ = semantic_vector_store.add_documents(documents=semantic_documents)\n",
    "\n",
    "semantic_retriever = semantic_vector_store.as_retriever(search_kwargs={\"k\": 3})\n",
    "\n",
    "def retrieve_semantic(state: RAGState) -> RAGState:\n",
    "    retrieved_docs = semantic_retriever.invoke(state[\"question\"])\n",
    "    return {\"context\": retrieved_docs}\n",
    "\n",
    "semantic_workflow = StateGraph(RAGState)\n",
    "semantic_workflow.add_node(\"retrieve\", retrieve_semantic)\n",
    "semantic_workflow.add_node(\"generate\", generate)\n",
    "semantic_workflow.set_entry_point(\"retrieve\")\n",
    "semantic_workflow.add_edge(\"retrieve\", \"generate\")\n",
    "semantic_workflow.add_edge(\"generate\", END)\n",
    "\n",
    "semantic_graph = semantic_workflow.compile()"
   ]
  },
  {
   "cell_type": "markdown",
   "id": "c2e95f25",
   "metadata": {},
   "source": [
    "#### Running the queries from SDG in both chucking methods "
   ]
  },
  {
   "cell_type": "code",
   "execution_count": 21,
   "id": "1442756c",
   "metadata": {},
   "outputs": [],
   "source": [
    "# Run traditional RAG\n",
    "traditional_results = []\n",
    "for test_row in dataset:\n",
    "    response = traditional_graph.invoke({\"question\": test_row.eval_sample.user_input})\n",
    "    test_row.eval_sample.response = response[\"response\"]\n",
    "    test_row.eval_sample.retrieved_contexts = [context.page_content for context in response[\"context\"]]\n",
    "    traditional_results.append(test_row)\n",
    "\n",
    "# Run semantic RAG\n",
    "semantic_results = []\n",
    "for test_row in dataset:\n",
    "    response = semantic_graph.invoke({\"question\": test_row.eval_sample.user_input})\n",
    "    test_row.eval_sample.response = response[\"response\"]\n",
    "    test_row.eval_sample.retrieved_contexts = [context.page_content for context in response[\"context\"]]\n",
    "    semantic_results.append(test_row)"
   ]
  },
  {
   "cell_type": "markdown",
   "id": "c1aa4f21",
   "metadata": {},
   "source": [
    "##### Evaluation of Rag System with text splitter chunking"
   ]
  },
  {
   "cell_type": "code",
   "execution_count": 22,
   "id": "a3beda10",
   "metadata": {},
   "outputs": [
    {
     "data": {
      "application/vnd.jupyter.widget-view+json": {
       "model_id": "cb6487a3927a4debaabb2e46e076dd06",
       "version_major": 2,
       "version_minor": 0
      },
      "text/plain": [
       "Evaluating:   0%|          | 0/60 [00:00<?, ?it/s]"
      ]
     },
     "metadata": {},
     "output_type": "display_data"
    },
    {
     "data": {
      "text/plain": [
       "{'faithfulness': 0.7587, 'answer_relevancy': 0.9655, 'context_precision': 0.9444, 'context_recall': 0.6194, 'answer_correctness': 0.6720}"
      ]
     },
     "execution_count": 22,
     "metadata": {},
     "output_type": "execute_result"
    }
   ],
   "source": [
    "from ragas import EvaluationDataset, evaluate\n",
    "from ragas.metrics import Faithfulness, AnswerRelevancy, ContextPrecision, ContextRecall, AnswerCorrectness\n",
    "\n",
    "# Prepare evaluation dataset for traditional RAG\n",
    "traditional_eval_dataset = EvaluationDataset.from_pandas(dataset.to_pandas())\n",
    "\n",
    "# Evaluate traditional RAG\n",
    "traditional_evaluation = evaluate(\n",
    "    dataset=traditional_eval_dataset,\n",
    "    metrics=[\n",
    "        Faithfulness(),\n",
    "        AnswerRelevancy(), \n",
    "        ContextPrecision(),\n",
    "        ContextRecall(),\n",
    "        AnswerCorrectness()\n",
    "    ],\n",
    "    llm=generator_llm\n",
    ")\n",
    "\n",
    "traditional_evaluation"
   ]
  },
  {
   "cell_type": "markdown",
   "id": "ad2102ce",
   "metadata": {},
   "source": [
    "##### Semantic evaluation"
   ]
  },
  {
   "cell_type": "code",
   "execution_count": 23,
   "id": "7d2d191d",
   "metadata": {},
   "outputs": [
    {
     "data": {
      "application/vnd.jupyter.widget-view+json": {
       "model_id": "2a74bcb53454430e95191d3737a07415",
       "version_major": 2,
       "version_minor": 0
      },
      "text/plain": [
       "Evaluating:   0%|          | 0/60 [00:00<?, ?it/s]"
      ]
     },
     "metadata": {},
     "output_type": "display_data"
    },
    {
     "data": {
      "text/plain": [
       "{'faithfulness': 0.7306, 'answer_relevancy': 0.9665, 'context_precision': 0.9444, 'context_recall': 0.5847, 'answer_correctness': 0.6622}"
      ]
     },
     "execution_count": 23,
     "metadata": {},
     "output_type": "execute_result"
    }
   ],
   "source": [
    "semantic_eval_dataset = EvaluationDataset.from_pandas(dataset.to_pandas())\n",
    "\n",
    "# Evaluate semantic RAG\n",
    "semantic_evaluation = evaluate(\n",
    "    dataset=semantic_eval_dataset,\n",
    "    metrics=[\n",
    "        Faithfulness(),\n",
    "        AnswerRelevancy(),\n",
    "        ContextPrecision(), \n",
    "        ContextRecall(),\n",
    "        AnswerCorrectness()\n",
    "    ],\n",
    "    llm=generator_llm\n",
    ")\n",
    "semantic_evaluation"
   ]
  },
  {
   "cell_type": "markdown",
   "id": "fb428dcb",
   "metadata": {},
   "source": [
    "#### Evaluation Results Comparison\n",
    "\n",
    "| Metric | Text Splitter Evaluation | Semantic Evaluation | Difference | Change |\n",
    "|--------|------------------|-------------------|------------|---------|\n",
    "| **Faithfulness** | 0.7587 | 0.7306 | -0.0281 | -3.7% |\n",
    "| **Answer Relevancy** | 0.9655 | 0.9665 | +0.0010 | +0.1% |\n",
    "| **Context Precision** | 0.9444 | 0.9444 | 0.0000 | 0.0% |\n",
    "| **Context Recall** | 0.6194 | 0.5847 | -0.0347 | -5.6% |\n",
    "| **Answer Correctness** | 0.6720 | 0.6622 | -0.0098 | -1.5% |"
   ]
  },
  {
   "cell_type": "markdown",
   "id": "7e590c1c",
   "metadata": {},
   "source": [
    "### Analysis of Differences\n",
    "\n",
    "- The second evaluation shows a degradation in most metrics compared to the first\n",
    "- Only Answer Relevancy improved slightly (+0.1%)\n",
    "- Context Precision remained exactly the same (0.9444)\n",
    "\n",
    "##### **Key Performance Declines**\n",
    "**Context Recall (-5.6%)**:                                                                                     This is the largest decrease, indicating that the system is now retrieving less relevant information from the knowledge base. This suggests the retrieval mechanism may have become less effective at finding pertinent context.\n",
    "\n",
    "**Faithfulness (-3.7%)**:The second evaluation shows the system is less faithful to the retrieved context, meaning it's either:\n",
    "- Hallucinating more information not present in the context\n",
    "- Misinterpreting the retrieved information\n",
    "- Adding unsupported claims\n",
    "\n",
    "**Answer Correctness (-1.5%)**: A modest decline, likely correlated with the faithfulness drop, as incorrect information affects overall answer quality."
   ]
  }
 ],
 "metadata": {
  "kernelspec": {
   "display_name": ".venv",
   "language": "python",
   "name": "python3"
  },
  "language_info": {
   "codemirror_mode": {
    "name": "ipython",
    "version": 3
   },
   "file_extension": ".py",
   "mimetype": "text/x-python",
   "name": "python",
   "nbconvert_exporter": "python",
   "pygments_lexer": "ipython3",
   "version": "3.13.0"
  }
 },
 "nbformat": 4,
 "nbformat_minor": 5
}
